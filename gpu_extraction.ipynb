{
 "cells": [
  {
   "cell_type": "code",
   "execution_count": 11,
   "metadata": {},
   "outputs": [],
   "source": [
    "import numpy as np\n",
    "import pandas as pd\n",
    "import cudf as cd\n",
    "from tqdm.auto import tqdm\n",
    "import os\n",
    "import csv"
   ]
  },
  {
   "cell_type": "code",
   "execution_count": 12,
   "metadata": {},
   "outputs": [],
   "source": [
    "rlist = []\n",
    "records = os.path.normpath('mit-bih-dataframes/subject_list.csv')\n",
    "with open(records) as rfile:\n",
    "    recordreader = csv.reader(rfile, delimiter=' ', quotechar='|')\n",
    "    for row in recordreader:\n",
    "        rlist.append(row[0])"
   ]
  },
  {
   "cell_type": "code",
   "execution_count": 13,
   "metadata": {},
   "outputs": [
    {
     "data": {
      "application/vnd.jupyter.widget-view+json": {
       "model_id": "bedceb753f634588ac8201a5fb2eefec",
       "version_major": 2,
       "version_minor": 0
      },
      "text/plain": [
       "  0%|          | 0/23 [00:00<?, ?it/s]"
      ]
     },
     "metadata": {},
     "output_type": "display_data"
    }
   ],
   "source": [
    "rr_int_dfs = {}\n",
    "for record in tqdm(rlist): \n",
    "    rr_int_dfs[record] = cd.read_parquet(os.path.normpath('mit-bih-rr-intervals/'+record+'.parquet'))"
   ]
  },
  {
   "cell_type": "code",
   "execution_count": 14,
   "metadata": {},
   "outputs": [],
   "source": [
    "def find_proportions(groups, window_size):\n",
    "    series_list = []\n",
    "\n",
    "    for i in range(window_size):\n",
    "        row = groups[['rr_int', 'rmean']].nth(i).to_pandas()\n",
    "        conditions = [\n",
    "            row['rr_int'] <= 0.85*row['rmean'],\n",
    "            (row['rr_int'] > 0.85*row['rmean']) & (row['rr_int'] < 1.15*row['rmean']),\n",
    "            row['rr_int'] >= 1.15*row['rmean']\n",
    "        ]\n",
    "        choices = [\n",
    "            'short',\n",
    "            'regular',\n",
    "            'long'\n",
    "        ]\n",
    "        row['int_type'] = np.select(conditions, choices)\n",
    "        series_list.append(row)\n",
    "    \n",
    "    transition_matrix = pd.DataFrame(data={\n",
    "                                            'StoS': np.zeros(len(series_list[0])), \n",
    "                                            'StoR': np.zeros(len(series_list[0])), \n",
    "                                            'StoL': np.zeros(len(series_list[0])), \n",
    "                                            'RtoS': np.zeros(len(series_list[0])), \n",
    "                                            'RtoR': np.zeros(len(series_list[0])), \n",
    "                                            'RtoL': np.zeros(len(series_list[0])), \n",
    "                                            'LtoS': np.zeros(len(series_list[0])), \n",
    "                                            'LtoR': np.zeros(len(series_list[0])), \n",
    "                                            'LtoL': np.zeros(len(series_list[0]))})\n",
    "\n",
    "    for i in range(len(series_list)-1):\n",
    "        temp_matrix = pd.DataFrame()\n",
    "        conditions = [\n",
    "            (series_list[i]['int_type']=='short') & (series_list[i+1]['int_type']=='short'),\n",
    "            (series_list[i]['int_type']=='short') & (series_list[i+1]['int_type']=='regular'),\n",
    "            (series_list[i]['int_type']=='short') & (series_list[i+1]['int_type']=='long'),\n",
    "            (series_list[i]['int_type']=='regular') & (series_list[i+1]['int_type']=='short'),\n",
    "            (series_list[i]['int_type']=='regular') & (series_list[i+1]['int_type']=='regular'),\n",
    "            (series_list[i]['int_type']=='regular') & (series_list[i+1]['int_type']=='long'),\n",
    "            (series_list[i]['int_type']=='long') & (series_list[i+1]['int_type']=='short'),\n",
    "            (series_list[i]['int_type']=='long') & (series_list[i+1]['int_type']=='regular'),\n",
    "            (series_list[i]['int_type']=='long') & (series_list[i+1]['int_type']=='long')\n",
    "        ]\n",
    "        choices = [\n",
    "            'StoS',\n",
    "            'StoR',\n",
    "            'StoL',\n",
    "            'RtoS',\n",
    "            'RtoR',\n",
    "            'RtoL',\n",
    "            'LtoS',\n",
    "            'LtoR',\n",
    "            'LtoL'\n",
    "        ]\n",
    "        transition_types = pd.Series(data=np.select(conditions, choices, default=cd.NA))\n",
    "        temp_matrix['StoS'] = np.where(transition_types=='StoS', 1, 0)\n",
    "        temp_matrix['StoR'] = np.where(transition_types=='StoR', 1, 0)\n",
    "        temp_matrix['StoL'] = np.where(transition_types=='StoL', 1, 0)\n",
    "        temp_matrix['RtoS'] = np.where(transition_types=='RtoS', 1, 0)\n",
    "        temp_matrix['RtoR'] = np.where(transition_types=='RtoR', 1, 0)\n",
    "        temp_matrix['RtoL'] = np.where(transition_types=='RtoL', 1, 0)\n",
    "        temp_matrix['LtoS'] = np.where(transition_types=='LtoS', 1, 0)\n",
    "        temp_matrix['LtoR'] = np.where(transition_types=='LtoR', 1, 0)\n",
    "        temp_matrix['LtoL'] = np.where(transition_types=='LtoL', 1, 0)\n",
    "        transition_matrix = transition_matrix.add(temp_matrix)\n",
    "\n",
    "    count = len(series_list) - 1\n",
    "    \n",
    "    return cd.from_pandas(transition_matrix / count)"
   ]
  },
  {
   "cell_type": "code",
   "execution_count": 15,
   "metadata": {},
   "outputs": [],
   "source": [
    "def feature_calc(rr_int_df, window_size=4):\n",
    "    rr_int_df.drop(rr_int_df.tail(len(rr_int_df) % window_size).index, inplace=True)\n",
    "    subsets = rr_int_df.groupby(rr_int_df.index // window_size, sort=True)\n",
    "\n",
    "    feature_df = cd.DataFrame(data={'rhythm': subsets['rhythm'].nth(0)})\n",
    "\n",
    "    feature_df['std'] = subsets['rr_int'].agg('std')\n",
    "    feature_df['cov'] = feature_df['std'] / subsets['rr_int'].agg('mean')\n",
    "    feature_df['range'] = subsets['rr_int'].agg('max') - subsets['rr_int'].agg('min')\n",
    "    feature_df['rrInt_var'] = subsets['rr_int'].agg('var')\n",
    "    feature_df['rmean_var'] = subsets['rmean'].agg('var')\n",
    "    feature_df['rmssd'] = np.sqrt(subsets['sqr_diff'].agg('sum') / subsets['sqr_diff'].agg('count'))\n",
    "    feature_df['mad'] = subsets['diff'].agg('median')\n",
    "    feature_df['iqr'] = subsets['rr_int'].quantile(0.75) - subsets['rr_int'].quantile(0.25)\n",
    "\n",
    "    feature_df = cd.concat([feature_df, find_proportions(subsets, window_size)], axis='columns')\n",
    "\n",
    "    return feature_df"
   ]
  },
  {
   "cell_type": "code",
   "execution_count": 16,
   "metadata": {},
   "outputs": [
    {
     "data": {
      "application/vnd.jupyter.widget-view+json": {
       "model_id": "d64bc549e6364a54850737a99f01d683",
       "version_major": 2,
       "version_minor": 0
      },
      "text/plain": [
       "  0%|          | 0/23 [00:00<?, ?it/s]"
      ]
     },
     "metadata": {},
     "output_type": "display_data"
    }
   ],
   "source": [
    "feature_dfs = {}\n",
    "for record in tqdm(rlist):\n",
    "    feature_dfs[record] = feature_calc(rr_int_dfs[record])"
   ]
  },
  {
   "cell_type": "code",
   "execution_count": 21,
   "metadata": {},
   "outputs": [
    {
     "name": "stdout",
     "output_type": "stream",
     "text": [
      "  rhythm        std       cov  range    rrInt_var   rmean_var      rmssd  \\\n",
      "0      N  40.124805  0.240268   87.0  1610.000000  148.049377  53.726158   \n",
      "1      N  46.050697  0.270886   95.0  2120.666667   76.937511  65.779936   \n",
      "2      N  13.375973  0.061854   32.0   178.916667   53.581830  44.606614   \n",
      "3      N  40.713429  0.237743   72.0  1657.583333  183.300318  34.608525   \n",
      "4      N  16.214705  0.138884   37.0   262.916667  145.014391  24.545875   \n",
      "\n",
      "    mad    iqr      StoS      StoR  StoL      RtoS      RtoR      RtoL  LtoS  \\\n",
      "0  43.5  31.50  0.000000  0.000000   0.0  0.000000  0.333333  0.333333   0.0   \n",
      "1  46.0  24.50  0.000000  0.000000   0.0  0.000000  0.333333  0.333333   0.0   \n",
      "2  18.5  11.75  0.000000  0.000000   0.0  0.000000  0.666667  0.000000   0.0   \n",
      "3   3.5  69.75  0.333333  0.000000   0.0  0.333333  0.333333  0.000000   0.0   \n",
      "4  19.5  15.25  0.333333  0.333333   0.0  0.000000  0.333333  0.000000   0.0   \n",
      "\n",
      "       LtoR  LtoL  \n",
      "0  0.333333   0.0  \n",
      "1  0.333333   0.0  \n",
      "2  0.333333   0.0  \n",
      "3  0.000000   0.0  \n",
      "4  0.000000   0.0  \n"
     ]
    }
   ],
   "source": [
    "print(feature_dfs['04015'].head())"
   ]
  }
 ],
 "metadata": {
  "kernelspec": {
   "display_name": "afib",
   "language": "python",
   "name": "python3"
  },
  "language_info": {
   "codemirror_mode": {
    "name": "ipython",
    "version": 3
   },
   "file_extension": ".py",
   "mimetype": "text/x-python",
   "name": "python",
   "nbconvert_exporter": "python",
   "pygments_lexer": "ipython3",
   "version": "3.9.15"
  },
  "orig_nbformat": 4,
  "vscode": {
   "interpreter": {
    "hash": "ada57d62bdba33f60f3d98aec0dc1db90359aaf5574901473d57c7ef0e255730"
   }
  }
 },
 "nbformat": 4,
 "nbformat_minor": 2
}
