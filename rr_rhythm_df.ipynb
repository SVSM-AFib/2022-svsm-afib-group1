{
 "cells": [
  {
   "cell_type": "code",
   "execution_count": 1,
   "metadata": {},
   "outputs": [],
   "source": [
    "import numpy as np\n",
    "from matplotlib import pyplot as plt\n",
    "from sklearn import preprocessing\n",
    "import wfdb\n",
    "import copy as cp\n",
    "import scipy.signal as signal\n",
    "from scipy import stats\n",
    "from sklearn import preprocessing\n",
    "from tqdm import tqdm\n",
    "import os\n",
    "import re\n",
    "import pandas as pd\n",
    "import pickle\n",
    "import csv"
   ]
  },
  {
   "cell_type": "code",
   "execution_count": 2,
   "metadata": {},
   "outputs": [],
   "source": [
    "rlist = []\n",
    "records = os.path.normpath('mit-bih-dataframes/subject_list.csv')\n",
    "with open(records) as rfile: #Then we open the file \n",
    "                             #The 'with' command only opens the file while we are in it. Automatically closes the file when we're not    \n",
    "    recordreader = csv.reader(rfile, delimiter=' ', quotechar='|')\n",
    "    for row in recordreader:\n",
    "        rlist.append(row[0])"
   ]
  },
  {
   "cell_type": "code",
   "execution_count": 3,
   "metadata": {},
   "outputs": [
    {
     "name": "stderr",
     "output_type": "stream",
     "text": [
      "100%|███████████████████████████████████████████| 23/23 [01:05<00:00,  2.86s/it]\n"
     ]
    }
   ],
   "source": [
    "subject_dataframes = []\n",
    "for x in tqdm(rlist):\n",
    "    subject_dataframes.append(pd.read_csv(os.path.normpath('mit-bih-dataframes/'+x+'.csv'), index_col=0))"
   ]
  },
  {
   "cell_type": "code",
   "execution_count": 4,
   "metadata": {},
   "outputs": [
    {
     "name": "stderr",
     "output_type": "stream",
     "text": [
      "100%|███████████████████████████████████████████| 23/23 [00:00<00:00, 80.41it/s]"
     ]
    },
    {
     "name": "stdout",
     "output_type": "stream",
     "text": [
      "   rpeaks\n",
      "0    61.0\n",
      "1   200.0\n",
      "2   358.0\n",
      "3   584.0\n",
      "4   729.0\n"
     ]
    },
    {
     "name": "stderr",
     "output_type": "stream",
     "text": [
      "\n"
     ]
    }
   ],
   "source": [
    "subject_rpeaks = []\n",
    "for x in tqdm(rlist):\n",
    "    subject_rpeaks.append(pd.read_csv(os.path.normpath('mit-bih-extracted/'+x+'_rpeaks.csv'), names=['rpeaks']))\n",
    "\n",
    "print(subject_rpeaks[0].head())"
   ]
  },
  {
   "cell_type": "code",
   "execution_count": 5,
   "metadata": {},
   "outputs": [
    {
     "name": "stderr",
     "output_type": "stream",
     "text": [
      "100%|██████████████████████████████████████████| 23/23 [00:00<00:00, 281.27it/s]\n"
     ]
    }
   ],
   "source": [
    "subject_rr_rhythms = []\n",
    "for x in tqdm(rlist):\n",
    "    df = pd.read_csv(os.path.normpath('mit-bih-extracted/'+x+'_rr_ints.csv'), names=['rr_int'])\n",
    "    df[\"rr_int_seconds\"] = df[\"rr_int\"] / 250 # 250 samples per second\n",
    "    subject_rr_rhythms.append(df)"
   ]
  },
  {
   "cell_type": "code",
   "execution_count": 6,
   "metadata": {},
   "outputs": [
    {
     "name": "stderr",
     "output_type": "stream",
     "text": [
      "100%|███████████████████████████████████████████| 23/23 [00:11<00:00,  2.02it/s]\n"
     ]
    },
    {
     "data": {
      "text/html": [
       "<div>\n",
       "<style scoped>\n",
       "    .dataframe tbody tr th:only-of-type {\n",
       "        vertical-align: middle;\n",
       "    }\n",
       "\n",
       "    .dataframe tbody tr th {\n",
       "        vertical-align: top;\n",
       "    }\n",
       "\n",
       "    .dataframe thead th {\n",
       "        text-align: right;\n",
       "    }\n",
       "</style>\n",
       "<table border=\"1\" class=\"dataframe\">\n",
       "  <thead>\n",
       "    <tr style=\"text-align: right;\">\n",
       "      <th></th>\n",
       "      <th>rr_int</th>\n",
       "      <th>rr_int_seconds</th>\n",
       "      <th>rhythms</th>\n",
       "    </tr>\n",
       "  </thead>\n",
       "  <tbody>\n",
       "    <tr>\n",
       "      <th>0</th>\n",
       "      <td>139</td>\n",
       "      <td>0.556</td>\n",
       "      <td>N</td>\n",
       "    </tr>\n",
       "    <tr>\n",
       "      <th>1</th>\n",
       "      <td>158</td>\n",
       "      <td>0.632</td>\n",
       "      <td>N</td>\n",
       "    </tr>\n",
       "    <tr>\n",
       "      <th>2</th>\n",
       "      <td>226</td>\n",
       "      <td>0.904</td>\n",
       "      <td>N</td>\n",
       "    </tr>\n",
       "    <tr>\n",
       "      <th>3</th>\n",
       "      <td>145</td>\n",
       "      <td>0.580</td>\n",
       "      <td>N</td>\n",
       "    </tr>\n",
       "    <tr>\n",
       "      <th>4</th>\n",
       "      <td>144</td>\n",
       "      <td>0.576</td>\n",
       "      <td>N</td>\n",
       "    </tr>\n",
       "  </tbody>\n",
       "</table>\n",
       "</div>"
      ],
      "text/plain": [
       "   rr_int  rr_int_seconds rhythms\n",
       "0     139           0.556       N\n",
       "1     158           0.632       N\n",
       "2     226           0.904       N\n",
       "3     145           0.580       N\n",
       "4     144           0.576       N"
      ]
     },
     "execution_count": 6,
     "metadata": {},
     "output_type": "execute_result"
    }
   ],
   "source": [
    "rhythms = []\n",
    "for x in tqdm(range(len(subject_rpeaks))):\n",
    "    rhythms = []\n",
    "    for row in subject_rpeaks[x]['rpeaks']:\n",
    "        if subject_dataframes[x]['AFIB'][row]:\n",
    "            rhythms.append('A')\n",
    "        elif subject_dataframes[x]['Normal'][row]:\n",
    "            rhythms.append('N')\n",
    "        elif subject_dataframes[x]['Other'][row]:\n",
    "            rhythms.append('O')\n",
    "    subject_rr_rhythms[x][\"rhythms\"] = rhythms[1:]\n",
    "\n",
    "subject_rr_rhythms[0].head()"
   ]
  },
  {
   "cell_type": "code",
   "execution_count": 7,
   "metadata": {},
   "outputs": [
    {
     "name": "stderr",
     "output_type": "stream",
     "text": [
      "100%|███████████████████████████████████████████| 23/23 [00:02<00:00, 11.33it/s]\n"
     ]
    }
   ],
   "source": [
    "for x in tqdm(range(len(subject_rr_rhythms))):\n",
    "    subject_rr_rhythms[x].to_csv(os.path.normpath('mit-bih-extracted/'+rlist[x]+'_rr_rhythms.csv'))"
   ]
  }
 ],
 "metadata": {
  "kernelspec": {
   "display_name": "Python 3 (ipykernel)",
   "language": "python",
   "name": "python3"
  },
  "language_info": {
   "codemirror_mode": {
    "name": "ipython",
    "version": 3
   },
   "file_extension": ".py",
   "mimetype": "text/x-python",
   "name": "python",
   "nbconvert_exporter": "python",
   "pygments_lexer": "ipython3",
   "version": "3.9.12"
  }
 },
 "nbformat": 4,
 "nbformat_minor": 2
}
