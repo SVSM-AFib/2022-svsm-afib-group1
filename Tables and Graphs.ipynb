{
 "cells": [
  {
   "cell_type": "code",
   "execution_count": 1,
   "id": "8e74fea5",
   "metadata": {},
   "outputs": [],
   "source": [
    "import pandas as pd\n",
    "import numpy as np\n",
    "import matplotlib.pyplot as plt\n",
    "%matplotlib inline\n",
    "plt.rcParams['figure.dpi'] = 70 #display 70 dpi in Jupyter Notebook, may consider100 dpi \n",
    "plt.rcParams['savefig.dpi'] = 300 #define 300 dpi for saving figures"
   ]
  },
  {
   "cell_type": "code",
   "execution_count": 2,
   "id": "4ef7b26e",
   "metadata": {},
   "outputs": [],
   "source": [
    "results = pd.read_csv('results.csv')"
   ]
  },
  {
   "cell_type": "code",
   "execution_count": 4,
   "id": "9f4bc10a",
   "metadata": {},
   "outputs": [
    {
     "data": {
      "text/html": [
       "<div>\n",
       "<style scoped>\n",
       "    .dataframe tbody tr th:only-of-type {\n",
       "        vertical-align: middle;\n",
       "    }\n",
       "\n",
       "    .dataframe tbody tr th {\n",
       "        vertical-align: top;\n",
       "    }\n",
       "\n",
       "    .dataframe thead th {\n",
       "        text-align: right;\n",
       "    }\n",
       "</style>\n",
       "<table border=\"1\" class=\"dataframe\">\n",
       "  <thead>\n",
       "    <tr style=\"text-align: right;\">\n",
       "      <th></th>\n",
       "      <th>Classification Method</th>\n",
       "      <th>Avg Accuracy</th>\n",
       "      <th>Std of Accuracy</th>\n",
       "      <th>sensitivity</th>\n",
       "      <th>specificity</th>\n",
       "      <th>precision</th>\n",
       "      <th>f1_score</th>\n",
       "      <th>Run Time (seconds)</th>\n",
       "    </tr>\n",
       "  </thead>\n",
       "  <tbody>\n",
       "    <tr>\n",
       "      <th>0</th>\n",
       "      <td>Bagging</td>\n",
       "      <td>0.932393</td>\n",
       "      <td>0.083126</td>\n",
       "      <td>0.923009</td>\n",
       "      <td>0.928678</td>\n",
       "      <td>0.914166</td>\n",
       "      <td>0.918566</td>\n",
       "      <td>6263.099753</td>\n",
       "    </tr>\n",
       "    <tr>\n",
       "      <th>1</th>\n",
       "      <td>Logistic Regression</td>\n",
       "      <td>0.903878</td>\n",
       "      <td>0.119538</td>\n",
       "      <td>0.900239</td>\n",
       "      <td>0.893094</td>\n",
       "      <td>0.873899</td>\n",
       "      <td>0.886873</td>\n",
       "      <td>135.563693</td>\n",
       "    </tr>\n",
       "    <tr>\n",
       "      <th>2</th>\n",
       "      <td>LDA</td>\n",
       "      <td>0.911542</td>\n",
       "      <td>0.113315</td>\n",
       "      <td>0.890176</td>\n",
       "      <td>0.914837</td>\n",
       "      <td>0.895858</td>\n",
       "      <td>0.893008</td>\n",
       "      <td>27.879638</td>\n",
       "    </tr>\n",
       "    <tr>\n",
       "      <th>3</th>\n",
       "      <td>QDA</td>\n",
       "      <td>0.700156</td>\n",
       "      <td>0.261882</td>\n",
       "      <td>0.476096</td>\n",
       "      <td>0.876279</td>\n",
       "      <td>0.760016</td>\n",
       "      <td>0.585449</td>\n",
       "      <td>7.823183</td>\n",
       "    </tr>\n",
       "    <tr>\n",
       "      <th>4</th>\n",
       "      <td>KNN (k = 3)</td>\n",
       "      <td>0.872296</td>\n",
       "      <td>0.124264</td>\n",
       "      <td>0.875709</td>\n",
       "      <td>0.856792</td>\n",
       "      <td>0.834230</td>\n",
       "      <td>0.854466</td>\n",
       "      <td>500.353784</td>\n",
       "    </tr>\n",
       "    <tr>\n",
       "      <th>5</th>\n",
       "      <td>KNN (k = 5)</td>\n",
       "      <td>0.873255</td>\n",
       "      <td>0.129634</td>\n",
       "      <td>0.885452</td>\n",
       "      <td>0.851038</td>\n",
       "      <td>0.830275</td>\n",
       "      <td>0.856976</td>\n",
       "      <td>532.053210</td>\n",
       "    </tr>\n",
       "    <tr>\n",
       "      <th>6</th>\n",
       "      <td>KNN (k = 10)</td>\n",
       "      <td>0.871308</td>\n",
       "      <td>0.135097</td>\n",
       "      <td>0.902778</td>\n",
       "      <td>0.834446</td>\n",
       "      <td>0.817776</td>\n",
       "      <td>0.858177</td>\n",
       "      <td>497.390001</td>\n",
       "    </tr>\n",
       "    <tr>\n",
       "      <th>7</th>\n",
       "      <td>Decision Tree</td>\n",
       "      <td>0.913431</td>\n",
       "      <td>0.113674</td>\n",
       "      <td>0.916324</td>\n",
       "      <td>0.895612</td>\n",
       "      <td>0.878406</td>\n",
       "      <td>0.896965</td>\n",
       "      <td>37.593733</td>\n",
       "    </tr>\n",
       "    <tr>\n",
       "      <th>8</th>\n",
       "      <td>Random Forest</td>\n",
       "      <td>0.934940</td>\n",
       "      <td>0.086889</td>\n",
       "      <td>0.923044</td>\n",
       "      <td>0.932925</td>\n",
       "      <td>0.918866</td>\n",
       "      <td>0.920950</td>\n",
       "      <td>1386.257194</td>\n",
       "    </tr>\n",
       "    <tr>\n",
       "      <th>9</th>\n",
       "      <td>SVM</td>\n",
       "      <td>0.851968</td>\n",
       "      <td>0.238390</td>\n",
       "      <td>0.853600</td>\n",
       "      <td>0.844030</td>\n",
       "      <td>0.818315</td>\n",
       "      <td>0.835585</td>\n",
       "      <td>634.703542</td>\n",
       "    </tr>\n",
       "    <tr>\n",
       "      <th>10</th>\n",
       "      <td>Gradient Boost</td>\n",
       "      <td>0.937814</td>\n",
       "      <td>0.078162</td>\n",
       "      <td>0.929268</td>\n",
       "      <td>0.934198</td>\n",
       "      <td>0.920775</td>\n",
       "      <td>0.925002</td>\n",
       "      <td>10554.111150</td>\n",
       "    </tr>\n",
       "    <tr>\n",
       "      <th>11</th>\n",
       "      <td>AdaBoost</td>\n",
       "      <td>0.920705</td>\n",
       "      <td>0.115514</td>\n",
       "      <td>0.910962</td>\n",
       "      <td>0.913496</td>\n",
       "      <td>0.896551</td>\n",
       "      <td>0.903699</td>\n",
       "      <td>4543.305761</td>\n",
       "    </tr>\n",
       "  </tbody>\n",
       "</table>\n",
       "</div>"
      ],
      "text/plain": [
       "   Classification Method  Avg Accuracy  Std of Accuracy  sensitivity  \\\n",
       "0                Bagging      0.932393         0.083126     0.923009   \n",
       "1    Logistic Regression      0.903878         0.119538     0.900239   \n",
       "2                    LDA      0.911542         0.113315     0.890176   \n",
       "3                    QDA      0.700156         0.261882     0.476096   \n",
       "4            KNN (k = 3)      0.872296         0.124264     0.875709   \n",
       "5            KNN (k = 5)      0.873255         0.129634     0.885452   \n",
       "6           KNN (k = 10)      0.871308         0.135097     0.902778   \n",
       "7          Decision Tree      0.913431         0.113674     0.916324   \n",
       "8          Random Forest      0.934940         0.086889     0.923044   \n",
       "9                    SVM      0.851968         0.238390     0.853600   \n",
       "10        Gradient Boost      0.937814         0.078162     0.929268   \n",
       "11              AdaBoost      0.920705         0.115514     0.910962   \n",
       "\n",
       "    specificity  precision  f1_score  Run Time (seconds)  \n",
       "0      0.928678   0.914166  0.918566         6263.099753  \n",
       "1      0.893094   0.873899  0.886873          135.563693  \n",
       "2      0.914837   0.895858  0.893008           27.879638  \n",
       "3      0.876279   0.760016  0.585449            7.823183  \n",
       "4      0.856792   0.834230  0.854466          500.353784  \n",
       "5      0.851038   0.830275  0.856976          532.053210  \n",
       "6      0.834446   0.817776  0.858177          497.390001  \n",
       "7      0.895612   0.878406  0.896965           37.593733  \n",
       "8      0.932925   0.918866  0.920950         1386.257194  \n",
       "9      0.844030   0.818315  0.835585          634.703542  \n",
       "10     0.934198   0.920775  0.925002        10554.111150  \n",
       "11     0.913496   0.896551  0.903699         4543.305761  "
      ]
     },
     "execution_count": 4,
     "metadata": {},
     "output_type": "execute_result"
    }
   ],
   "source": [
    "results.head(12)"
   ]
  },
  {
   "cell_type": "code",
   "execution_count": 28,
   "id": "6c3f580d",
   "metadata": {},
   "outputs": [
    {
     "data": {
      "image/png": "[encoded data removed]",
      "text/plain": [
       "<Figure size 1750x700 with 1 Axes>"
      ]
     },
     "metadata": {
      "needs_background": "light"
     },
     "output_type": "display_data"
    }
   ],
   "source": [
    "labels = results['Classification Method']\n",
    "accuracy = results['Avg Accuracy']\n",
    "f1_score = results['f1_score']\n",
    "precision = results['precision']\n",
    "specificity = results['specificity']\n",
    "sensitivity = results['sensitivity']\n",
    "\n",
    "plt.rcParams[\"figure.figsize\"] = [25, 10]\n",
    "plt.rcParams['axes.linewidth'] = 2\n",
    "\n",
    "x = np.arange(len(labels))  # the label locations\n",
    "width = 0.15  # the width of the bars\n",
    "\n",
    "fig, ax = plt.subplots()\n",
    "rects1 = ax.bar(x - 21*width/10, accuracy, width, label='Accuracy')\n",
    "rects2 = ax.bar(x - 11*width/10, precision, width, label='Precision')\n",
    "rects3= ax.bar(x - width/10, specificity, width, label='Specificity')\n",
    "rects4 = ax.bar(x + 9*width/10, sensitivity, width, label='Sensitivity')\n",
    "rects5 = ax.bar(x + 19*width/10, f1_score, width, label='F1 Score')\n",
    "\n",
    "\n",
    "\n",
    "# Add some text for labels, title and custom x-axis tick labels, etc.\n",
    "ax.set_xlabel('Classification', fontsize = 30, color = 'black',  font = 'DejaVu Sans')\n",
    "ax.set_title('A Side by Side Comparison of Different Models', fontsize = 35, color = 'black', font = 'DejaVu Sans')\n",
    "ax.set_xticks(x)# set the current tick locations.\n",
    "ax.set_xticklabels(labels) # set the current tick labels of the x-axis.\n",
    "leg = ax.legend(loc='center', bbox_to_anchor=(0.5, 0.96), shadow=False, ncol=5, fontsize = 20)\n",
    "plt.yticks(fontsize=22, color = 'black', font = 'DejaVu Sans' )\n",
    "plt.xticks(fontsize = 16, color = 'black', font = 'DejaVu Sans')\n",
    "plt.ylim(bottom = 0.4)\n",
    "\n",
    "\n",
    "fig.tight_layout() \n",
    "plt.rc('font',family='DejaVu Sans')\n",
    "\n",
    "plt.show()"
   ]
  },
  {
   "cell_type": "code",
   "execution_count": null,
   "id": "08ba40a3",
   "metadata": {},
   "outputs": [],
   "source": [
    "labels = results['Classification Method']\n",
    "run_time = results['Run Time (seconds)']\n",
    "\n",
    "plt.rcParams[\"figure.figsize\"] = [25, 10]\n",
    "plt.rcParams['axes.linewidth'] = 2\n",
    "\n",
    "x = np.arange(len(labels))  # the label locations\n",
    "width = 0.5  # the width of the bars\n",
    "\n",
    "fig, ax = plt.subplots()\n",
    "rects1 = ax.bar(x, run_time, width, label='Run Time', color = 'maroon')\n",
    "\n",
    "\n",
    "\n",
    "# Add some text for labels, title and custom x-axis tick labels, etc.\n",
    "ax.set_xlabel('Classification', fontsize = 30, font = \"Bell MT\", fontweight = 'bold', color = 'black')\n",
    "ax.set_ylabel('Run Time(seconds)', fontsize = 30, font = \"Bell MT\",fontweight = 'bold', color = 'black')\n",
    "ax.set_title('Comparisons in Run Time by Model', fontsize = 35, font = \"Georgia\", fontweight = 'bold', color = 'black')\n",
    "ax.set_xticks(x)# set the current tick locations.\n",
    "ax.set_xticklabels(labels) # set the current tick labels of the x-axis.\n",
    "plt.yticks(fontsize=24, font = \"Times New Roman\", color = 'black')\n",
    "plt.xticks(fontsize = 24, font = \"Times New Roman\", color = 'black')\n",
    "fig.tight_layout() \n",
    "plt.rc('font',family='Cambria')\n",
    "\n",
    "plt.show()"
   ]
  },
  {
   "cell_type": "code",
   "execution_count": null,
   "id": "4c40b94c",
   "metadata": {},
   "outputs": [],
   "source": [
    "labels = results['Classification Method']\n",
    "sd = results['Std of Accuracy']\n",
    "\n",
    "plt.rcParams[\"figure.figsize\"] = [25, 10]\n",
    "plt.rcParams['axes.linewidth'] = 2\n",
    "\n",
    "x = np.arange(len(labels))  # the label locations\n",
    "width = 0.5  # the width of the bars\n",
    "\n",
    "fig, ax = plt.subplots()\n",
    "rects1 = ax.bar(x, sd, width, label='Standard Deviation', color = 'purple')\n",
    "\n",
    "\n",
    "\n",
    "# Add some text for labels, title and custom x-axis tick labels, etc.\n",
    "ax.set_xlabel('Classification', fontsize = 30, font = \"Bell MT\", fontweight = 'bold', color = 'black')\n",
    "ax.set_ylabel('Standard Deviation', fontsize = 30, font = \"Bell MT\",fontweight = 'bold', color = 'black')\n",
    "ax.set_title('Comparisons in Standard Deviation by Model', fontsize = 35, font = \"Georgia\", fontweight = 'bold', color = 'black')\n",
    "ax.set_xticks(x)# set the current tick locations.\n",
    "ax.set_xticklabels(labels) # set the current tick labels of the x-axis.\n",
    "plt.yticks(fontsize=24, font = \"Times New Roman\", color = 'black')\n",
    "plt.xticks(fontsize = 24, font = \"Times New Roman\", color = 'black')\n",
    "fig.tight_layout() \n",
    "plt.rc('font',family='Cambria')\n",
    "\n",
    "plt.show()"
   ]
  },
  {
   "cell_type": "code",
   "execution_count": null,
   "id": "cb588d2d",
   "metadata": {},
   "outputs": [],
   "source": [
    "results.head(11)"
   ]
  },
  {
   "cell_type": "code",
   "execution_count": null,
   "id": "0b2152d3",
   "metadata": {},
   "outputs": [],
   "source": [
    "from tabulate import tabulate"
   ]
  },
  {
   "cell_type": "code",
   "execution_count": null,
   "id": "b489d05a",
   "metadata": {},
   "outputs": [],
   "source": [
    "table = [['Classification Method', 'Avg Accuracy', 'Std of Accuracy', 'sensitivity', 'specificity', 'precision', 'f1_score', 'Run Time (seconds)'], results.iloc[0], results.iloc[1], results.iloc[2], results.iloc[3], results.iloc[4], results.iloc[5], results.iloc[6], results.iloc[7], results.iloc[8], results.iloc[9]]"
   ]
  },
  {
   "cell_type": "code",
   "execution_count": null,
   "id": "48221caf",
   "metadata": {},
   "outputs": [],
   "source": [
    "print(tabulate(table))"
   ]
  },
  {
   "cell_type": "code",
   "execution_count": null,
   "id": "4ff86836",
   "metadata": {},
   "outputs": [],
   "source": [
    "print(tabulate(table, headers='firstrow'))"
   ]
  },
  {
   "cell_type": "code",
   "execution_count": null,
   "id": "f4587181",
   "metadata": {},
   "outputs": [],
   "source": [
    "print(tabulate(table, headers='firstrow', tablefmt='grid'))"
   ]
  },
  {
   "cell_type": "code",
   "execution_count": null,
   "id": "46a05ec6",
   "metadata": {},
   "outputs": [],
   "source": [
    "print(tabulate(table, headers='firstrow', tablefmt='fancy_grid'))"
   ]
  },
  {
   "cell_type": "code",
   "execution_count": null,
   "id": "c8182de0",
   "metadata": {},
   "outputs": [],
   "source": [
    "print(tabulate(table, headers='firstrow', tablefmt='fancy_grid', showindex=range(1,11)))"
   ]
  },
  {
   "cell_type": "code",
   "execution_count": null,
   "id": "fa607f9a",
   "metadata": {},
   "outputs": [],
   "source": [
    "loc = 'center'"
   ]
  },
  {
   "cell_type": "code",
   "execution_count": null,
   "id": "5d2095d3",
   "metadata": {},
   "outputs": [],
   "source": [
    "ans = tabulate(table, headers='firstrow', tablefmt='fancy_grid', showindex=range(1,11))"
   ]
  },
  {
   "cell_type": "code",
   "execution_count": null,
   "id": "1707a834",
   "metadata": {},
   "outputs": [],
   "source": [
    "print(ans)"
   ]
  },
  {
   "cell_type": "code",
   "execution_count": null,
   "id": "633ddead",
   "metadata": {},
   "outputs": [],
   "source": []
  },
  {
   "cell_type": "code",
   "execution_count": null,
   "id": "db03b141",
   "metadata": {},
   "outputs": [],
   "source": []
  }
 ],
 "metadata": {
  "kernelspec": {
   "display_name": "Python 3 (ipykernel)",
   "language": "python",
   "name": "python3"
  },
  "language_info": {
   "codemirror_mode": {
    "name": "ipython",
    "version": 3
   },
   "file_extension": ".py",
   "mimetype": "text/x-python",
   "name": "python",
   "nbconvert_exporter": "python",
   "pygments_lexer": "ipython3",
   "version": "3.9.12"
  }
 },
 "nbformat": 4,
 "nbformat_minor": 5
}
