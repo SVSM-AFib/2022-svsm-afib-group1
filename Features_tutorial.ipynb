{
  "cells": [
    {
      "cell_type": "code",
      "execution_count": 1,
      "id": "333613f8",
      "metadata": {
        "id": "333613f8"
      },
      "outputs": [],
      "source": [
        "import numpy as np\n",
        "from matplotlib import pyplot as plt\n",
        "from sklearn import preprocessing\n",
        "import wfdb\n",
        "import copy as cp\n",
        "import scipy.signal as signal\n",
        "import pickle\n",
        "from sklearn import preprocessing\n",
        "from tqdm import tqdm\n",
        "import os\n",
        "import re\n",
        "import pandas as pd\n",
        "import csv"
      ]
    },
    {
      "cell_type": "code",
      "execution_count": 2,
      "id": "9bc2c7f9",
      "metadata": {
        "id": "9bc2c7f9"
      },
      "outputs": [],
      "source": [
        "record_list = [] # Initialize the array that will hold the list of our records\n",
        "\n",
        "records = os.path.normpath('mit-bih-dataframes/subject_list.csv') # Get our record list like we did in the initial extraction\n",
        "with open(records) as rfile:# Load our records into the array\n",
        "    for record in rfile:\n",
        "        record = record[0:-1] # The -1 removes the newline (\"\\n\") character from the string\n",
        "        record_list.append(record)"
      ]
    },
    {
      "cell_type": "code",
      "execution_count": 5,
      "id": "3b94e2d8",
      "metadata": {
        "id": "3b94e2d8",
        "outputId": "77927bf6-13a6-4d75-9f7a-931cda86d642"
      },
      "outputs": [
        {
          "name": "stderr",
          "output_type": "stream",
          "text": [
            "100%|██████████████████████████████████████████| 23/23 [00:00<00:00, 242.18it/s]\n"
          ]
        }
      ],
      "source": [
        "subject_dataframes = {}\n",
        "\n",
        "for x in tqdm(record_list):\n",
        "    subject_dataframes[x] = pd.read_csv('mit-bih-subsets/' + x + '_subset_list.csv', index_col=0)"
      ]
    },
    {
      "cell_type": "code",
      "execution_count": 6,
      "id": "f07543e6",
      "metadata": {
        "id": "f07543e6",
        "outputId": "f1e81f4a-66c9-466d-fa6c-b69d90e3581e"
      },
      "outputs": [
        {
          "name": "stdout",
          "output_type": "stream",
          "text": [
            "            subsetID rhythmLabel\n",
            "0        04015-0.csv           N\n",
            "1        04015-1.csv           N\n",
            "2        04015-2.csv           N\n",
            "3        04015-3.csv           N\n",
            "4        04015-4.csv           N\n",
            "...              ...         ...\n",
            "1708  04015-1708.csv           N\n",
            "1709  04015-1709.csv           N\n",
            "1710  04015-1710.csv           N\n",
            "1711  04015-1711.csv           N\n",
            "1712  04015-1712.csv           N\n",
            "\n",
            "[1713 rows x 2 columns]\n"
          ]
        }
      ],
      "source": [
        "print(subject_dataframes['04015'])"
      ]
    },
    {
      "cell_type": "code",
      "execution_count": 10,
      "id": "71b169e2",
      "metadata": {
        "id": "71b169e2"
      },
      "outputs": [],
      "source": [
        "rrs = []\n",
        "for idx, subj in enumerate(record_list):\n",
        "    rr_ints.append(pd.read_csv(os.path.normpath('mit-bih-extracted/'+x+'_rr_rhythms.csv'), index_col=0))"
      ]
    },
    {
      "cell_type": "code",
      "execution_count": null,
      "id": "cad26f6c",
      "metadata": {
        "id": "cad26f6c",
        "outputId": "04dc38ba-961f-44bd-aafc-281a1245581d"
      },
      "outputs": [
        {
          "name": "stderr",
          "output_type": "stream",
          "text": [
            "23it [00:00, 37.89it/s]\n"
          ]
        }
      ],
      "source": [
        "#this removes outliers so copy-paste your own code here\n",
        "#the comment is how I removed outliers\n",
        "outlier_list=[]\n",
        "rrs=[]\n",
        "# for idx, subj in tqdm(enumerate(rr_ints)):\n",
        "#     outlier = [[],[]] # I want to store the index and the outlier\n",
        "#     for idx2, rr in enumerate(subj):\n",
        "#         if rr > 500:\n",
        "#             outlier[0].append(rr) # add the rr int to our list\n",
        "#             outlier[1].append(idx2) # Add its index to our list\n",
        "#     subj = np.delete(subj, outlier[1]) # Remove all found outliers from our subject \n",
        "#     rrs.append(subj) # Add it to our new rr interval list\n",
        "#     outlier_list.append(outlier)"
      ]
    },
    {
      "cell_type": "code",
      "execution_count": 38,
      "id": "8cd53573",
      "metadata": {
        "id": "8cd53573",
        "outputId": "141329ab-eeba-463e-c84a-c42e730d5bc5"
      },
      "outputs": [
        {
          "name": "stderr",
          "output_type": "stream",
          "text": [
            "100%|███████████████████████████████████████████| 23/23 [01:15<00:00,  3.28s/it]IOPub data rate exceeded.\n",
            "The notebook server will temporarily stop sending output\n",
            "to the client in order to avoid crashing it.\n",
            "To change this limit, set the config variable\n",
            "`--NotebookApp.iopub_data_rate_limit`.\n",
            "\n",
            "Current values:\n",
            "NotebookApp.iopub_data_rate_limit=1000000.0 (bytes/sec)\n",
            "NotebookApp.rate_limit_window=3.0 (secs)\n",
            "\n",
            "\n"
          ]
        }
      ],
      "source": [
        "#creates empty dictionary for subsets\n",
        "subset_list = {}\n",
        "\n",
        "for x in tqdm(record_list):\n",
        "    subset_list[x] = []\n",
        "    subset_df = pd.read_csv(os.path.normpath('mit-bih-subsets/'+x+'_subset_list.csv'), index_col=0)\n",
        "    for idx, subsetID in subset_df['subsetID'].items():\n",
        "        subset = pd.read_csv(os.path.normpath('mit-bih-subsets/'+str(x)+'/'+str(subsetID)), index_col=0)\n",
        "        subset_list[x].append(subset['rr_int'].tolist())\n",
        "\n",
        "print(subset_list)"
      ]
    },
    {
      "cell_type": "code",
      "execution_count": 40,
      "id": "dc9dcc44",
      "metadata": {
        "id": "dc9dcc44"
      },
      "outputs": [
        {
          "data": {
            "text/plain": [
              "[139,\n",
              " 158,\n",
              " 226,\n",
              " 145,\n",
              " 144,\n",
              " 239,\n",
              " 148,\n",
              " 149,\n",
              " 234,\n",
              " 212,\n",
              " 217,\n",
              " 202,\n",
              " 207,\n",
              " 206,\n",
              " 137,\n",
              " 135,\n",
              " 131,\n",
              " 125,\n",
              " 117,\n",
              " 220,\n",
              " 224,\n",
              " 134,\n",
              " 146,\n",
              " 249,\n",
              " 139]"
            ]
          },
          "execution_count": 40,
          "metadata": {},
          "output_type": "execute_result"
        }
      ],
      "source": [
        "subset_list['04015'][0]"
      ]
    },
    {
      "cell_type": "code",
      "execution_count": 41,
      "id": "239f0783",
      "metadata": {
        "id": "239f0783",
        "outputId": "840df7b7-8a32-4256-e0ea-973d663943f6"
      },
      "outputs": [
        {
          "name": "stderr",
          "output_type": "stream",
          "text": [
            "23it [00:00, 30.39it/s]\n"
          ]
        }
      ],
      "source": [
        "#Classifying transitions between RR-Ints as short, medium, or long using running mean\n",
        "int_types = []\n",
        "\n",
        "for idx, subject in tqdm(enumerate(record_list)):\n",
        "    #list of types of rr_ints for each subject\n",
        "    subject_types = []\n",
        "    for i, subset in enumerate(subset_list[subject]):\n",
        "        subset_types = []\n",
        "        for j, rr_ints in enumerate(subset):\n",
        "            if j==0:\n",
        "                runningmean = rr_ints\n",
        "            runningmean = 0.75*runningmean + 0.25*rr_ints\n",
        "            if rr_ints < 0.85*runningmean: \n",
        "                #if rr_ints is less than 85% of runningmean\n",
        "                #label subject type as short\n",
        "                subset_types.append('short')\n",
        "            elif rr_ints > 1.15*runningmean: \n",
        "                #if rr_ints is greater than 115% of runningmean\n",
        "                #label subject type as long\n",
        "                subset_types.append('long')\n",
        "            else:\n",
        "                #label subject type as regular\n",
        "                subset_types.append('regular')\n",
        "        subject_types.append(subset_types)\n",
        "    int_types.append(subject_types)"
      ]
    },
    {
      "cell_type": "code",
      "execution_count": 46,
      "id": "5ca13c92",
      "metadata": {},
      "outputs": [
        {
          "data": {
            "text/plain": [
              "['regular',\n",
              " 'regular',\n",
              " 'long',\n",
              " 'regular',\n",
              " 'regular',\n",
              " 'long',\n",
              " 'regular',\n",
              " 'regular',\n",
              " 'long',\n",
              " 'regular',\n",
              " 'regular',\n",
              " 'regular',\n",
              " 'regular',\n",
              " 'regular',\n",
              " 'short',\n",
              " 'short',\n",
              " 'short',\n",
              " 'short',\n",
              " 'short',\n",
              " 'long',\n",
              " 'long',\n",
              " 'short',\n",
              " 'regular',\n",
              " 'long',\n",
              " 'short']"
            ]
          },
          "execution_count": 46,
          "metadata": {},
          "output_type": "execute_result"
        }
      ],
      "source": [
        "int_types[0][0]"
      ]
    },
    {
      "cell_type": "code",
      "execution_count": 43,
      "id": "26a92ce5",
      "metadata": {
        "id": "26a92ce5"
      },
      "outputs": [],
      "source": [
        "#Classifying transitions between RR-Ints as short, medium, or long using running mean\n",
        "transitions_list=[]\n",
        "\n",
        "for idx, subject in enumerate(int_types): \n",
        "    subject_transitions = []\n",
        "    for j, subset in enumerate(subject):\n",
        "        StoS, StoR, StoL, RtoS, RtoR, RtoL, LtoS, LtoR, LtoL = [0]*9\n",
        "        count = 0\n",
        "        for i, rr_int in enumerate(subset):\n",
        "            if i<len(subset)-1:\n",
        "                count += 1\n",
        "                if subset[i]=='short' and subset[i+1]=='short':\n",
        "                  StoS+=1\n",
        "                elif subset[i]=='short' and subset[i+1]=='regular':\n",
        "                  StoR+=1\n",
        "                elif subset[i]=='short' and subset[i+1]=='long':\n",
        "                  StoL+=1\n",
        "                elif subset[i]=='regular' and subset[i+1]=='short':\n",
        "                  RtoS+=1\n",
        "                elif subset[i]=='regular' and subset[i+1]=='regular':\n",
        "                  RtoR+=1\n",
        "                elif subset[i]=='regular' and subset[i+1]=='long':\n",
        "                  RtoL+=1\n",
        "                elif subset[i]=='long' and subset[i+1]=='short':\n",
        "                  LtoS+=1\n",
        "                elif subset[i]=='long' and subset[i+1]=='regular':\n",
        "                  LtoR+=1\n",
        "                elif subset[i]=='long' and subset[i+1]=='long':\n",
        "                  LtoL+=1\n",
        "        subject_transitions.append([StoS/count, StoR/count, StoL/count, RtoS/count, RtoR/count, RtoL/count, LtoS/count, LtoR/count, LtoL/count])\n",
        "    transitions_list.append(subject_transitions)"
      ]
    },
    {
      "cell_type": "code",
      "execution_count": 44,
      "id": "3db82ace",
      "metadata": {
        "id": "3db82ace",
        "outputId": "71de77ba-9b34-40d2-c74b-bacf240ff521"
      },
      "outputs": [
        {
          "name": "stdout",
          "output_type": "stream",
          "text": [
            "[0.16666666666666666, 0.041666666666666664, 0.041666666666666664, 0.041666666666666664, 0.2916666666666667, 0.16666666666666666, 0.08333333333333333, 0.125, 0.041666666666666664]\n"
          ]
        }
      ],
      "source": [
        "print(transitions_list[0][0])"
      ]
    },
    {
      "cell_type": "code",
      "execution_count": 47,
      "id": "774a3384",
      "metadata": {
        "id": "774a3384"
      },
      "outputs": [],
      "source": [
        "#Standard deviation\n",
        "Std_list = []\n",
        "for i, subject in enumerate(record_list):\n",
        "    Standard_devs = []\n",
        "    for j, subset in enumerate(subset_list[subject]):\n",
        "        standard_dev = np.std(subset)\n",
        "        Standard_devs.append(standard_dev)\n",
        "    Std_list.append(Standard_devs)"
      ]
    },
    {
      "cell_type": "code",
      "execution_count": 48,
      "id": "87c77994",
      "metadata": {
        "id": "87c77994"
      },
      "outputs": [],
      "source": [
        "#Coefficient of variance(std/mean)\n",
        "#same formatting as std but divide by mean to obtain CoefOfVar\n",
        "CoV_list = []\n",
        "for i, subject in enumerate(record_list):\n",
        "    Coefficient_vars = []\n",
        "    for j, subset in enumerate(subset_list[subject]):\n",
        "        coefficient_var = np.std(subset)/np.mean(subset)\n",
        "        Coefficient_vars.append(coefficient_var)\n",
        "    CoV_list.append(Coefficient_vars)"
      ]
    },
    {
      "cell_type": "code",
      "execution_count": 49,
      "id": "1836ac84",
      "metadata": {
        "id": "1836ac84"
      },
      "outputs": [],
      "source": [
        "#Range\n",
        "#same formatting as std but range is maximum of subset minus minimum of subset\n",
        "Range_list = []\n",
        "for i, subject in enumerate(record_list):\n",
        "    Ranges = []\n",
        "    for j, subset in enumerate(subset_list[subject]):\n",
        "        range = np.max(subset)-np.min(subset)\n",
        "        Ranges.append(range)\n",
        "    Range_list.append(Ranges)"
      ]
    },
    {
      "cell_type": "code",
      "execution_count": 50,
      "id": "60e59f9f",
      "metadata": {
        "id": "60e59f9f",
        "outputId": "3c92f932-6d94-4a42-9919-9ddb6dea8780"
      },
      "outputs": [
        {
          "name": "stderr",
          "output_type": "stream",
          "text": [
            "23it [00:00, 146.04it/s]\n"
          ]
        }
      ],
      "source": [
        "dfdic = {}\n",
        "for idx, subj in tqdm(enumerate(record_list)):\n",
        "    dfdic[subj] = pd.DataFrame(\n",
        "        data = np.transpose(np.array([\n",
        "                                    [x[0] for x in transitions_list[idx]],\n",
        "                                    [x[1] for x in transitions_list[idx]],\n",
        "                                    [x[2] for x in transitions_list[idx]],\n",
        "                                    [x[3] for x in transitions_list[idx]],\n",
        "                                    [x[4] for x in transitions_list[idx]],\n",
        "                                    [x[5] for x in transitions_list[idx]],\n",
        "                                    [x[6] for x in transitions_list[idx]],\n",
        "                                    [x[7] for x in transitions_list[idx]],\n",
        "                                    [x[8] for x in transitions_list[idx]],\n",
        "                                    Std_list[idx],\n",
        "                                    CoV_list[idx],\n",
        "                                    Range_list[idx],\n",
        "                                    ])\n",
        "                           ),\n",
        "        columns = ['StoS', 'StoR', 'StoL', 'RtoS', 'RtoR', 'RtoL', 'LtoS', 'LtoR', 'LtoL', 'STD', 'CoefVar', 'Range']\n",
        "    )\n"
      ]
    },
    {
      "cell_type": "code",
      "execution_count": 51,
      "id": "513187b6",
      "metadata": {
        "id": "513187b6"
      },
      "outputs": [],
      "source": [
        "for idx, x in enumerate(record_list):\n",
        "    dfdic[x] = pd.concat([subject_dataframes[x], dfdic[x]], axis=1)"
      ]
    },
    {
      "cell_type": "code",
      "execution_count": 53,
      "id": "f4084a9a",
      "metadata": {
        "id": "f4084a9a",
        "outputId": "0c818689-53cc-4730-f740-28f2ec9c1877"
      },
      "outputs": [
        {
          "data": {
            "text/html": [
              "<div>\n",
              "<style scoped>\n",
              "    .dataframe tbody tr th:only-of-type {\n",
              "        vertical-align: middle;\n",
              "    }\n",
              "\n",
              "    .dataframe tbody tr th {\n",
              "        vertical-align: top;\n",
              "    }\n",
              "\n",
              "    .dataframe thead th {\n",
              "        text-align: right;\n",
              "    }\n",
              "</style>\n",
              "<table border=\"1\" class=\"dataframe\">\n",
              "  <thead>\n",
              "    <tr style=\"text-align: right;\">\n",
              "      <th></th>\n",
              "      <th>subsetID</th>\n",
              "      <th>rhythmLabel</th>\n",
              "      <th>StoS</th>\n",
              "      <th>StoR</th>\n",
              "      <th>StoL</th>\n",
              "      <th>RtoS</th>\n",
              "      <th>RtoR</th>\n",
              "      <th>RtoL</th>\n",
              "      <th>LtoS</th>\n",
              "      <th>LtoR</th>\n",
              "      <th>LtoL</th>\n",
              "      <th>STD</th>\n",
              "      <th>CoefVar</th>\n",
              "      <th>Range</th>\n",
              "    </tr>\n",
              "  </thead>\n",
              "  <tbody>\n",
              "    <tr>\n",
              "      <th>0</th>\n",
              "      <td>04015-0.csv</td>\n",
              "      <td>N</td>\n",
              "      <td>0.166667</td>\n",
              "      <td>0.041667</td>\n",
              "      <td>0.041667</td>\n",
              "      <td>0.041667</td>\n",
              "      <td>0.291667</td>\n",
              "      <td>0.166667</td>\n",
              "      <td>0.083333</td>\n",
              "      <td>0.125000</td>\n",
              "      <td>0.041667</td>\n",
              "      <td>42.632119</td>\n",
              "      <td>0.243167</td>\n",
              "      <td>132.0</td>\n",
              "    </tr>\n",
              "    <tr>\n",
              "      <th>1</th>\n",
              "      <td>04015-1.csv</td>\n",
              "      <td>N</td>\n",
              "      <td>0.166667</td>\n",
              "      <td>0.041667</td>\n",
              "      <td>0.083333</td>\n",
              "      <td>0.083333</td>\n",
              "      <td>0.333333</td>\n",
              "      <td>0.083333</td>\n",
              "      <td>0.041667</td>\n",
              "      <td>0.083333</td>\n",
              "      <td>0.083333</td>\n",
              "      <td>52.165797</td>\n",
              "      <td>0.293660</td>\n",
              "      <td>172.0</td>\n",
              "    </tr>\n",
              "    <tr>\n",
              "      <th>2</th>\n",
              "      <td>04015-2.csv</td>\n",
              "      <td>N</td>\n",
              "      <td>0.000000</td>\n",
              "      <td>0.041667</td>\n",
              "      <td>0.000000</td>\n",
              "      <td>0.000000</td>\n",
              "      <td>0.666667</td>\n",
              "      <td>0.125000</td>\n",
              "      <td>0.041667</td>\n",
              "      <td>0.083333</td>\n",
              "      <td>0.041667</td>\n",
              "      <td>29.324393</td>\n",
              "      <td>0.149158</td>\n",
              "      <td>102.0</td>\n",
              "    </tr>\n",
              "    <tr>\n",
              "      <th>3</th>\n",
              "      <td>04015-3.csv</td>\n",
              "      <td>N</td>\n",
              "      <td>0.250000</td>\n",
              "      <td>0.083333</td>\n",
              "      <td>0.083333</td>\n",
              "      <td>0.041667</td>\n",
              "      <td>0.166667</td>\n",
              "      <td>0.125000</td>\n",
              "      <td>0.166667</td>\n",
              "      <td>0.041667</td>\n",
              "      <td>0.041667</td>\n",
              "      <td>43.730081</td>\n",
              "      <td>0.263117</td>\n",
              "      <td>126.0</td>\n",
              "    </tr>\n",
              "    <tr>\n",
              "      <th>4</th>\n",
              "      <td>04015-4.csv</td>\n",
              "      <td>N</td>\n",
              "      <td>0.125000</td>\n",
              "      <td>0.208333</td>\n",
              "      <td>0.000000</td>\n",
              "      <td>0.083333</td>\n",
              "      <td>0.166667</td>\n",
              "      <td>0.208333</td>\n",
              "      <td>0.166667</td>\n",
              "      <td>0.041667</td>\n",
              "      <td>0.000000</td>\n",
              "      <td>44.593704</td>\n",
              "      <td>0.249071</td>\n",
              "      <td>125.0</td>\n",
              "    </tr>\n",
              "    <tr>\n",
              "      <th>5</th>\n",
              "      <td>04015-5.csv</td>\n",
              "      <td>N</td>\n",
              "      <td>0.083333</td>\n",
              "      <td>0.083333</td>\n",
              "      <td>0.083333</td>\n",
              "      <td>0.041667</td>\n",
              "      <td>0.125000</td>\n",
              "      <td>0.208333</td>\n",
              "      <td>0.166667</td>\n",
              "      <td>0.125000</td>\n",
              "      <td>0.083333</td>\n",
              "      <td>55.357688</td>\n",
              "      <td>0.316474</td>\n",
              "      <td>181.0</td>\n",
              "    </tr>\n",
              "    <tr>\n",
              "      <th>6</th>\n",
              "      <td>04015-6.csv</td>\n",
              "      <td>N</td>\n",
              "      <td>0.083333</td>\n",
              "      <td>0.166667</td>\n",
              "      <td>0.083333</td>\n",
              "      <td>0.083333</td>\n",
              "      <td>0.083333</td>\n",
              "      <td>0.208333</td>\n",
              "      <td>0.208333</td>\n",
              "      <td>0.083333</td>\n",
              "      <td>0.000000</td>\n",
              "      <td>41.390820</td>\n",
              "      <td>0.227923</td>\n",
              "      <td>108.0</td>\n",
              "    </tr>\n",
              "    <tr>\n",
              "      <th>7</th>\n",
              "      <td>04015-7.csv</td>\n",
              "      <td>N</td>\n",
              "      <td>0.125000</td>\n",
              "      <td>0.208333</td>\n",
              "      <td>0.041667</td>\n",
              "      <td>0.166667</td>\n",
              "      <td>0.041667</td>\n",
              "      <td>0.166667</td>\n",
              "      <td>0.125000</td>\n",
              "      <td>0.083333</td>\n",
              "      <td>0.041667</td>\n",
              "      <td>51.075849</td>\n",
              "      <td>0.293135</td>\n",
              "      <td>172.0</td>\n",
              "    </tr>\n",
              "    <tr>\n",
              "      <th>8</th>\n",
              "      <td>04015-8.csv</td>\n",
              "      <td>N</td>\n",
              "      <td>0.041667</td>\n",
              "      <td>0.250000</td>\n",
              "      <td>0.041667</td>\n",
              "      <td>0.125000</td>\n",
              "      <td>0.041667</td>\n",
              "      <td>0.208333</td>\n",
              "      <td>0.166667</td>\n",
              "      <td>0.083333</td>\n",
              "      <td>0.041667</td>\n",
              "      <td>54.959680</td>\n",
              "      <td>0.320353</td>\n",
              "      <td>175.0</td>\n",
              "    </tr>\n",
              "    <tr>\n",
              "      <th>9</th>\n",
              "      <td>04015-9.csv</td>\n",
              "      <td>N</td>\n",
              "      <td>0.166667</td>\n",
              "      <td>0.041667</td>\n",
              "      <td>0.041667</td>\n",
              "      <td>0.083333</td>\n",
              "      <td>0.583333</td>\n",
              "      <td>0.041667</td>\n",
              "      <td>0.000000</td>\n",
              "      <td>0.041667</td>\n",
              "      <td>0.000000</td>\n",
              "      <td>35.555568</td>\n",
              "      <td>0.255722</td>\n",
              "      <td>114.0</td>\n",
              "    </tr>\n",
              "  </tbody>\n",
              "</table>\n",
              "</div>"
            ],
            "text/plain": [
              "      subsetID rhythmLabel      StoS      StoR      StoL      RtoS      RtoR  \\\n",
              "0  04015-0.csv           N  0.166667  0.041667  0.041667  0.041667  0.291667   \n",
              "1  04015-1.csv           N  0.166667  0.041667  0.083333  0.083333  0.333333   \n",
              "2  04015-2.csv           N  0.000000  0.041667  0.000000  0.000000  0.666667   \n",
              "3  04015-3.csv           N  0.250000  0.083333  0.083333  0.041667  0.166667   \n",
              "4  04015-4.csv           N  0.125000  0.208333  0.000000  0.083333  0.166667   \n",
              "5  04015-5.csv           N  0.083333  0.083333  0.083333  0.041667  0.125000   \n",
              "6  04015-6.csv           N  0.083333  0.166667  0.083333  0.083333  0.083333   \n",
              "7  04015-7.csv           N  0.125000  0.208333  0.041667  0.166667  0.041667   \n",
              "8  04015-8.csv           N  0.041667  0.250000  0.041667  0.125000  0.041667   \n",
              "9  04015-9.csv           N  0.166667  0.041667  0.041667  0.083333  0.583333   \n",
              "\n",
              "       RtoL      LtoS      LtoR      LtoL        STD   CoefVar  Range  \n",
              "0  0.166667  0.083333  0.125000  0.041667  42.632119  0.243167  132.0  \n",
              "1  0.083333  0.041667  0.083333  0.083333  52.165797  0.293660  172.0  \n",
              "2  0.125000  0.041667  0.083333  0.041667  29.324393  0.149158  102.0  \n",
              "3  0.125000  0.166667  0.041667  0.041667  43.730081  0.263117  126.0  \n",
              "4  0.208333  0.166667  0.041667  0.000000  44.593704  0.249071  125.0  \n",
              "5  0.208333  0.166667  0.125000  0.083333  55.357688  0.316474  181.0  \n",
              "6  0.208333  0.208333  0.083333  0.000000  41.390820  0.227923  108.0  \n",
              "7  0.166667  0.125000  0.083333  0.041667  51.075849  0.293135  172.0  \n",
              "8  0.208333  0.166667  0.083333  0.041667  54.959680  0.320353  175.0  \n",
              "9  0.041667  0.000000  0.041667  0.000000  35.555568  0.255722  114.0  "
            ]
          },
          "execution_count": 53,
          "metadata": {},
          "output_type": "execute_result"
        }
      ],
      "source": [
        "dfdic['04015'].head(10)"
      ]
    },
    {
      "cell_type": "code",
      "execution_count": 55,
      "id": "10676407",
      "metadata": {
        "id": "10676407"
      },
      "outputs": [],
      "source": [
        "reload_flag = False\n",
        "for idx, x in enumerate(record_list):\n",
        "    if not os.path.exists('mit-bih-features/'+x+ '.csv') or reload_flag:\n",
        "        dfdic[x].to_csv('mit-bih-features/'+x+'.csv') "
      ]
    }
  ],
  "metadata": {
    "colab": {
      "name": "Features_tutorial.ipynb",
      "provenance": []
    },
    "kernelspec": {
      "display_name": "Python 3 (ipykernel)",
      "language": "python",
      "name": "python3"
    },
    "language_info": {
      "codemirror_mode": {
        "name": "ipython",
        "version": 3
      },
      "file_extension": ".py",
      "mimetype": "text/x-python",
      "name": "python",
      "nbconvert_exporter": "python",
      "pygments_lexer": "ipython3",
      "version": "3.9.12"
    }
  },
  "nbformat": 4,
  "nbformat_minor": 5
}
