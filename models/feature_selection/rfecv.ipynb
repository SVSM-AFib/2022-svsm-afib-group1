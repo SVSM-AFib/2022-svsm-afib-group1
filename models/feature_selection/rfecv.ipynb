{
 "cells": [
  {
   "cell_type": "code",
   "execution_count": 1,
   "metadata": {},
   "outputs": [],
   "source": [
    "from matplotlib import pyplot as plt\n",
    "from tqdm import tqdm\n",
    "import os\n",
    "from pathlib import Path, PurePath\n",
    "import csv\n",
    "import pandas as pd\n",
    "import numpy as np\n",
    "\n",
    "import timeit\n",
    "\n",
    "import matplotlib_inline.backend_inline\n",
    "matplotlib_inline.backend_inline.set_matplotlib_formats(\"retina\")\n",
    "\n",
    "from sklearn.model_selection import LeaveOneGroupOut\n",
    "from sklearn.model_selection import StratifiedKFold\n",
    "\n",
    "from sklearn.feature_selection import RFECV\n",
    "from sklearn.linear_model import LogisticRegression\n",
    "\n",
    "from sklearn.metrics import confusion_matrix\n",
    "from sklearn.metrics import classification_report\n",
    "from sklearn.metrics import accuracy_score\n",
    "from sklearn.metrics import roc_auc_score\n",
    "from sklearn.metrics import roc_curve, auc\n",
    "from sklearn.inspection import permutation_importance\n",
    "\n",
    "import catboost as cb\n",
    "from catboost import CatBoostClassifier\n",
    "\n",
    "import xgboost as xgb\n",
    "from xgboost import XGBClassifier\n",
    "\n",
    "import lightgbm"
   ]
  },
  {
   "cell_type": "code",
   "execution_count": 2,
   "metadata": {},
   "outputs": [],
   "source": [
    "rlist = []\n",
    "records = PurePath(Path(os.getcwd()).parents[1], Path('mit-bih-dataframes/subject_list.csv'))\n",
    "with open(records) as rfile:\n",
    "    recordreader = csv.reader(rfile, delimiter=' ', quotechar='|')\n",
    "    for row in recordreader:\n",
    "        rlist.append(row[0])"
   ]
  },
  {
   "cell_type": "code",
   "execution_count": 3,
   "metadata": {},
   "outputs": [],
   "source": [
    "performance_dict = {\n",
    "    \"Model name\": [],\n",
    "    \"Avg Accuracy\": [],\n",
    "    \"Std Accuracy\": [],\n",
    "    \"Sensitivity\": [],\n",
    "    \"Specificity\": [],\n",
    "    \"Precision\": [],\n",
    "    \"F1 score\": [],\n",
    "    \"Run time\": [],\n",
    "    \"TPS\": []\n",
    "}\n",
    "\n",
    "moving_accuracy = {}"
   ]
  },
  {
   "cell_type": "code",
   "execution_count": 4,
   "metadata": {},
   "outputs": [
    {
     "name": "stderr",
     "output_type": "stream",
     "text": [
      "100%|██████████| 23/23 [00:00<00:00, 261.71it/s]\n"
     ]
    }
   ],
   "source": [
    "feature_dfs = {}\n",
    "for record in tqdm(rlist):\n",
    "    feature_dfs[record] = pd.read_parquet(PurePath(Path(os.getcwd()).parents[1], Path('mit-bih-time-features/' + record+ '.parquet')))\n",
    "\n",
    "combined_features = pd.concat([feature_dfs[key][1:] for key in feature_dfs])"
   ]
  },
  {
   "cell_type": "code",
   "execution_count": 5,
   "metadata": {},
   "outputs": [
    {
     "name": "stdout",
     "output_type": "stream",
     "text": [
      "[(array([  7315,   7316,   7317, ..., 187554, 187555, 187556]), array([   0,    1,    2, ..., 7312, 7313, 7314])), (array([     0,      1,      2, ..., 187554, 187555, 187556]), array([ 7315,  7316,  7317, ..., 17613, 17614, 17615])), (array([     0,      1,      2, ..., 187554, 187555, 187556]), array([17616, 17617, 17618, ..., 24243, 24244, 24245])), (array([     0,      1,      2, ..., 187554, 187555, 187556]), array([24246, 24247, 24248, ..., 31367, 31368, 31369])), (array([     0,      1,      2, ..., 187554, 187555, 187556]), array([31370, 31371, 31372, ..., 39328, 39329, 39330])), (array([     0,      1,      2, ..., 187554, 187555, 187556]), array([39331, 39332, 39333, ..., 49603, 49604, 49605])), (array([     0,      1,      2, ..., 187554, 187555, 187556]), array([49606, 49607, 49608, ..., 58525, 58526, 58527])), (array([     0,      1,      2, ..., 187554, 187555, 187556]), array([58528, 58529, 58530, ..., 64634, 64635, 64636])), (array([     0,      1,      2, ..., 187554, 187555, 187556]), array([64637, 64638, 64639, ..., 72929, 72930, 72931])), (array([     0,      1,      2, ..., 187554, 187555, 187556]), array([72932, 72933, 72934, ..., 80498, 80499, 80500])), (array([     0,      1,      2, ..., 187554, 187555, 187556]), array([80501, 80502, 80503, ..., 89669, 89670, 89671])), (array([     0,      1,      2, ..., 187554, 187555, 187556]), array([89672, 89673, 89674, ..., 95456, 95457, 95458])), (array([     0,      1,      2, ..., 187554, 187555, 187556]), array([ 95459,  95460,  95461, ..., 104636, 104637, 104638])), (array([     0,      1,      2, ..., 187554, 187555, 187556]), array([104639, 104640, 104641, ..., 111162, 111163, 111164])), (array([     0,      1,      2, ..., 187554, 187555, 187556]), array([111165, 111166, 111167, ..., 121187, 121188, 121189])), (array([     0,      1,      2, ..., 187554, 187555, 187556]), array([121190, 121191, 121192, ..., 130559, 130560, 130561])), (array([     0,      1,      2, ..., 187554, 187555, 187556]), array([130562, 130563, 130564, ..., 136600, 136601, 136602])), (array([     0,      1,      2, ..., 187554, 187555, 187556]), array([136603, 136604, 136605, ..., 143805, 143806, 143807])), (array([     0,      1,      2, ..., 187554, 187555, 187556]), array([143808, 143809, 143810, ..., 153667, 153668, 153669])), (array([     0,      1,      2, ..., 187554, 187555, 187556]), array([153670, 153671, 153672, ..., 161235, 161236, 161237])), (array([     0,      1,      2, ..., 187554, 187555, 187556]), array([161238, 161239, 161240, ..., 171026, 171027, 171028])), (array([     0,      1,      2, ..., 187554, 187555, 187556]), array([171029, 171030, 171031, ..., 177648, 177649, 177650])), (array([     0,      1,      2, ..., 177648, 177649, 177650]), array([177651, 177652, 177653, ..., 187554, 187555, 187556]))]\n"
     ]
    }
   ],
   "source": [
    "X = combined_features[['StoS', 'StoR', 'StoL', 'RtoS', 'RtoR', 'RtoL', 'LtoS', 'LtoR', 'LtoL', 'std', 'cov', 'range', 'rrInt_var', 'rmean_var', 'rmssd', 'mad', 'iqr']]\n",
    "y = combined_features['mappedLabel'].map({\"Non-Afib\": 0, \"Afib\": 1})\n",
    "groups = combined_features['subjectID'].astype('int64')\n",
    "\n",
    "logo = LeaveOneGroupOut()\n",
    "splits = list(logo.split(X, y, groups=groups))\n",
    "print(splits)"
   ]
  },
  {
   "cell_type": "code",
   "execution_count": 6,
   "metadata": {},
   "outputs": [
    {
     "name": "stderr",
     "output_type": "stream",
     "text": [
      "  4%|▍         | 1/23 [00:37<13:53, 37.88s/it]"
     ]
    },
    {
     "name": "stdout",
     "output_type": "stream",
     "text": [
      "Optimal number of features: 11\n",
      "The features are: ['StoS' 'StoR' 'StoL' 'RtoL' 'LtoS' 'LtoR' 'LtoL' 'cov' 'rrInt_var' 'mad'\n",
      " 'iqr']\n"
     ]
    },
    {
     "name": "stderr",
     "output_type": "stream",
     "text": [
      "  9%|▊         | 2/23 [01:14<12:58, 37.09s/it]"
     ]
    },
    {
     "name": "stdout",
     "output_type": "stream",
     "text": [
      "Optimal number of features: 12\n",
      "The features are: ['StoS' 'StoR' 'StoL' 'RtoL' 'LtoS' 'LtoR' 'LtoL' 'cov' 'range'\n",
      " 'rrInt_var' 'mad' 'iqr']\n"
     ]
    },
    {
     "name": "stderr",
     "output_type": "stream",
     "text": [
      " 13%|█▎        | 3/23 [01:50<12:16, 36.85s/it]"
     ]
    },
    {
     "name": "stdout",
     "output_type": "stream",
     "text": [
      "Optimal number of features: 11\n",
      "The features are: ['StoS' 'StoR' 'StoL' 'RtoL' 'LtoS' 'LtoR' 'LtoL' 'cov' 'range' 'mad'\n",
      " 'iqr']\n"
     ]
    },
    {
     "name": "stderr",
     "output_type": "stream",
     "text": [
      " 17%|█▋        | 4/23 [02:27<11:37, 36.71s/it]"
     ]
    },
    {
     "name": "stdout",
     "output_type": "stream",
     "text": [
      "Optimal number of features: 13\n",
      "The features are: ['StoS' 'StoR' 'StoL' 'RtoL' 'LtoS' 'LtoR' 'LtoL' 'std' 'cov' 'range'\n",
      " 'rrInt_var' 'mad' 'iqr']\n"
     ]
    },
    {
     "name": "stderr",
     "output_type": "stream",
     "text": [
      " 22%|██▏       | 5/23 [03:03<10:57, 36.51s/it]"
     ]
    },
    {
     "name": "stdout",
     "output_type": "stream",
     "text": [
      "Optimal number of features: 16\n",
      "The features are: ['StoS' 'StoR' 'StoL' 'RtoS' 'RtoR' 'RtoL' 'LtoS' 'LtoR' 'LtoL' 'std'\n",
      " 'cov' 'range' 'rrInt_var' 'rmean_var' 'mad' 'iqr']\n"
     ]
    },
    {
     "name": "stderr",
     "output_type": "stream",
     "text": [
      " 26%|██▌       | 6/23 [03:39<10:16, 36.24s/it]"
     ]
    },
    {
     "name": "stdout",
     "output_type": "stream",
     "text": [
      "Optimal number of features: 14\n",
      "The features are: ['StoS' 'StoR' 'StoL' 'RtoR' 'RtoL' 'LtoS' 'LtoR' 'LtoL' 'std' 'cov'\n",
      " 'range' 'rrInt_var' 'mad' 'iqr']\n"
     ]
    },
    {
     "name": "stderr",
     "output_type": "stream",
     "text": [
      " 30%|███       | 7/23 [04:16<09:42, 36.38s/it]"
     ]
    },
    {
     "name": "stdout",
     "output_type": "stream",
     "text": [
      "Optimal number of features: 11\n",
      "The features are: ['StoS' 'StoR' 'StoL' 'RtoL' 'LtoS' 'LtoR' 'cov' 'range' 'rrInt_var' 'mad'\n",
      " 'iqr']\n"
     ]
    },
    {
     "name": "stderr",
     "output_type": "stream",
     "text": [
      " 35%|███▍      | 8/23 [04:52<09:04, 36.27s/it]"
     ]
    },
    {
     "name": "stdout",
     "output_type": "stream",
     "text": [
      "Optimal number of features: 17\n",
      "The features are: ['StoS' 'StoR' 'StoL' 'RtoS' 'RtoR' 'RtoL' 'LtoS' 'LtoR' 'LtoL' 'std'\n",
      " 'cov' 'range' 'rrInt_var' 'rmean_var' 'rmssd' 'mad' 'iqr']\n"
     ]
    },
    {
     "name": "stderr",
     "output_type": "stream",
     "text": [
      " 39%|███▉      | 9/23 [05:28<08:28, 36.30s/it]"
     ]
    },
    {
     "name": "stdout",
     "output_type": "stream",
     "text": [
      "Optimal number of features: 11\n",
      "The features are: ['StoS' 'StoR' 'StoL' 'RtoL' 'LtoS' 'LtoR' 'LtoL' 'cov' 'range' 'mad'\n",
      " 'iqr']\n"
     ]
    },
    {
     "name": "stderr",
     "output_type": "stream",
     "text": [
      " 43%|████▎     | 10/23 [06:04<07:52, 36.34s/it]"
     ]
    },
    {
     "name": "stdout",
     "output_type": "stream",
     "text": [
      "Optimal number of features: 9\n",
      "The features are: ['StoS' 'StoR' 'RtoL' 'LtoS' 'LtoR' 'cov' 'rrInt_var' 'mad' 'iqr']\n"
     ]
    },
    {
     "name": "stderr",
     "output_type": "stream",
     "text": [
      " 48%|████▊     | 11/23 [06:41<07:17, 36.46s/it]"
     ]
    },
    {
     "name": "stdout",
     "output_type": "stream",
     "text": [
      "Optimal number of features: 8\n",
      "The features are: ['StoS' 'StoR' 'RtoL' 'LtoS' 'LtoR' 'LtoL' 'cov' 'mad']\n"
     ]
    },
    {
     "name": "stderr",
     "output_type": "stream",
     "text": [
      " 52%|█████▏    | 12/23 [07:17<06:37, 36.16s/it]"
     ]
    },
    {
     "name": "stdout",
     "output_type": "stream",
     "text": [
      "Optimal number of features: 11\n",
      "The features are: ['StoS' 'StoR' 'StoL' 'RtoL' 'LtoS' 'LtoR' 'cov' 'range' 'rrInt_var' 'mad'\n",
      " 'iqr']\n"
     ]
    },
    {
     "name": "stderr",
     "output_type": "stream",
     "text": [
      " 57%|█████▋    | 13/23 [07:52<05:59, 35.97s/it]"
     ]
    },
    {
     "name": "stdout",
     "output_type": "stream",
     "text": [
      "Optimal number of features: 11\n",
      "The features are: ['StoS' 'StoR' 'StoL' 'RtoL' 'LtoS' 'LtoR' 'LtoL' 'cov' 'rrInt_var' 'mad'\n",
      " 'iqr']\n"
     ]
    },
    {
     "name": "stderr",
     "output_type": "stream",
     "text": [
      " 61%|██████    | 14/23 [08:28<05:22, 35.82s/it]"
     ]
    },
    {
     "name": "stdout",
     "output_type": "stream",
     "text": [
      "Optimal number of features: 8\n",
      "The features are: ['StoS' 'StoR' 'RtoL' 'LtoS' 'LtoR' 'cov' 'mad' 'iqr']\n"
     ]
    },
    {
     "name": "stderr",
     "output_type": "stream",
     "text": [
      " 65%|██████▌   | 15/23 [09:02<04:44, 35.52s/it]"
     ]
    },
    {
     "name": "stdout",
     "output_type": "stream",
     "text": [
      "Optimal number of features: 14\n",
      "The features are: ['StoS' 'StoR' 'StoL' 'RtoR' 'RtoL' 'LtoS' 'LtoR' 'LtoL' 'std' 'cov'\n",
      " 'range' 'rrInt_var' 'mad' 'iqr']\n"
     ]
    },
    {
     "name": "stderr",
     "output_type": "stream",
     "text": [
      " 70%|██████▉   | 16/23 [09:37<04:07, 35.38s/it]"
     ]
    },
    {
     "name": "stdout",
     "output_type": "stream",
     "text": [
      "Optimal number of features: 13\n",
      "The features are: ['StoS' 'StoR' 'StoL' 'RtoR' 'RtoL' 'LtoS' 'LtoR' 'LtoL' 'cov' 'range'\n",
      " 'rrInt_var' 'mad' 'iqr']\n"
     ]
    },
    {
     "name": "stderr",
     "output_type": "stream",
     "text": [
      " 74%|███████▍  | 17/23 [10:13<03:32, 35.39s/it]"
     ]
    },
    {
     "name": "stdout",
     "output_type": "stream",
     "text": [
      "Optimal number of features: 11\n",
      "The features are: ['StoS' 'StoR' 'StoL' 'RtoL' 'LtoS' 'LtoR' 'LtoL' 'cov' 'range' 'mad'\n",
      " 'iqr']\n"
     ]
    },
    {
     "name": "stderr",
     "output_type": "stream",
     "text": [
      " 78%|███████▊  | 18/23 [10:48<02:56, 35.25s/it]"
     ]
    },
    {
     "name": "stdout",
     "output_type": "stream",
     "text": [
      "Optimal number of features: 16\n",
      "The features are: ['StoS' 'StoR' 'StoL' 'RtoS' 'RtoR' 'RtoL' 'LtoS' 'LtoR' 'LtoL' 'std'\n",
      " 'cov' 'range' 'rrInt_var' 'rmean_var' 'mad' 'iqr']\n"
     ]
    },
    {
     "name": "stderr",
     "output_type": "stream",
     "text": [
      " 83%|████████▎ | 19/23 [11:23<02:20, 35.17s/it]"
     ]
    },
    {
     "name": "stdout",
     "output_type": "stream",
     "text": [
      "Optimal number of features: 15\n",
      "The features are: ['StoS' 'StoR' 'StoL' 'RtoR' 'RtoL' 'LtoS' 'LtoR' 'LtoL' 'std' 'cov'\n",
      " 'range' 'rrInt_var' 'rmean_var' 'mad' 'iqr']\n"
     ]
    },
    {
     "name": "stderr",
     "output_type": "stream",
     "text": [
      " 87%|████████▋ | 20/23 [11:58<01:45, 35.14s/it]"
     ]
    },
    {
     "name": "stdout",
     "output_type": "stream",
     "text": [
      "Optimal number of features: 11\n",
      "The features are: ['StoS' 'StoR' 'StoL' 'RtoL' 'LtoS' 'LtoR' 'LtoL' 'cov' 'range' 'mad'\n",
      " 'iqr']\n"
     ]
    },
    {
     "name": "stderr",
     "output_type": "stream",
     "text": [
      " 91%|█████████▏| 21/23 [12:33<01:10, 35.20s/it]"
     ]
    },
    {
     "name": "stdout",
     "output_type": "stream",
     "text": [
      "Optimal number of features: 12\n",
      "The features are: ['StoS' 'StoR' 'StoL' 'RtoL' 'LtoS' 'LtoR' 'LtoL' 'cov' 'range'\n",
      " 'rrInt_var' 'mad' 'iqr']\n"
     ]
    },
    {
     "name": "stderr",
     "output_type": "stream",
     "text": [
      " 96%|█████████▌| 22/23 [13:09<00:35, 35.26s/it]"
     ]
    },
    {
     "name": "stdout",
     "output_type": "stream",
     "text": [
      "Optimal number of features: 10\n",
      "The features are: ['StoS' 'StoR' 'StoL' 'RtoL' 'LtoS' 'LtoR' 'LtoL' 'cov' 'mad' 'iqr']\n"
     ]
    },
    {
     "name": "stderr",
     "output_type": "stream",
     "text": [
      "100%|██████████| 23/23 [13:44<00:00, 35.85s/it]"
     ]
    },
    {
     "name": "stdout",
     "output_type": "stream",
     "text": [
      "Optimal number of features: 11\n",
      "The features are: ['StoS' 'StoR' 'StoL' 'RtoL' 'LtoS' 'LtoR' 'LtoL' 'cov' 'rrInt_var' 'mad'\n",
      " 'iqr']\n"
     ]
    },
    {
     "name": "stderr",
     "output_type": "stream",
     "text": [
      "\n"
     ]
    }
   ],
   "source": [
    "selected_splits = []\n",
    "\n",
    "for train, test in tqdm(splits):\n",
    "    X_train = X.iloc[train]\n",
    "    y_train = y.iloc[train]\n",
    "\n",
    "    X_test = X.iloc[test]\n",
    "    y_test = y.iloc[test]\n",
    "\n",
    "    feature_selection_groups = combined_features.iloc[train]['subjectID'].astype('int64')\n",
    "\n",
    "    cv = LeaveOneGroupOut()\n",
    "    feature_selection_splits = list(cv.split(X_train, y_train, groups=feature_selection_groups))\n",
    "\n",
    "    clf = XGBClassifier(n_estimators=50, learning_rate = 0.1, verbose=None,\n",
    "                max_depth = 3, eval_metric='logloss', tree_method='gpu_hist')\n",
    "\n",
    "    rfecv = RFECV(\n",
    "        estimator=clf,\n",
    "        step=1,\n",
    "        cv=feature_selection_splits,\n",
    "        scoring=\"accuracy\",\n",
    "        n_jobs=6\n",
    "    )\n",
    "    rfecv.fit(X_train, y_train)\n",
    "\n",
    "    tqdm.write(f\"Optimal number of features: {rfecv.n_features_}\")\n",
    "    tqdm.write(f\"The features are: {rfecv.get_feature_names_out()}\")\n",
    "\n",
    "    selected_splits.append((X_train[rfecv.get_feature_names_out()], y_train, X_test[rfecv.get_feature_names_out()], y_test))"
   ]
  },
  {
   "cell_type": "code",
   "execution_count": 7,
   "metadata": {},
   "outputs": [
    {
     "name": "stderr",
     "output_type": "stream",
     "text": [
      "  0%|          | 0/23 [00:00<?, ?it/s]Warning: less than 75% gpu memory available for training. Free: 5786.375 Total: 7979.3125\n",
      "  4%|▍         | 1/23 [00:05<02:06,  5.76s/it]Warning: less than 75% gpu memory available for training. Free: 5786.375 Total: 7979.3125\n",
      "  9%|▊         | 2/23 [00:11<01:59,  5.69s/it]Warning: less than 75% gpu memory available for training. Free: 5786.375 Total: 7979.3125\n",
      " 13%|█▎        | 3/23 [00:16<01:52,  5.65s/it]Warning: less than 75% gpu memory available for training. Free: 5786.375 Total: 7979.3125\n",
      " 17%|█▋        | 4/23 [00:22<01:47,  5.65s/it]Warning: less than 75% gpu memory available for training. Free: 5786.375 Total: 7979.3125\n",
      " 22%|██▏       | 5/23 [00:28<01:41,  5.66s/it]Warning: less than 75% gpu memory available for training. Free: 5786.375 Total: 7979.3125\n",
      " 26%|██▌       | 6/23 [00:33<01:36,  5.66s/it]Warning: less than 75% gpu memory available for training. Free: 5786.375 Total: 7979.3125\n",
      " 30%|███       | 7/23 [00:39<01:30,  5.64s/it]Warning: less than 75% gpu memory available for training. Free: 5786.375 Total: 7979.3125\n",
      " 35%|███▍      | 8/23 [00:45<01:24,  5.65s/it]Warning: less than 75% gpu memory available for training. Free: 5786.375 Total: 7979.3125\n",
      " 39%|███▉      | 9/23 [00:50<01:18,  5.62s/it]Warning: less than 75% gpu memory available for training. Free: 5786.375 Total: 7979.3125\n",
      " 43%|████▎     | 10/23 [00:56<01:12,  5.57s/it]Warning: less than 75% gpu memory available for training. Free: 5786.375 Total: 7979.3125\n",
      " 48%|████▊     | 11/23 [01:01<01:06,  5.54s/it]Warning: less than 75% gpu memory available for training. Free: 5786.375 Total: 7979.3125\n",
      " 52%|█████▏    | 12/23 [01:07<01:01,  5.55s/it]Warning: less than 75% gpu memory available for training. Free: 5786.375 Total: 7979.3125\n",
      " 57%|█████▋    | 13/23 [01:12<00:55,  5.57s/it]Warning: less than 75% gpu memory available for training. Free: 5786.375 Total: 7979.3125\n",
      " 61%|██████    | 14/23 [01:18<00:49,  5.55s/it]Warning: less than 75% gpu memory available for training. Free: 5786.375 Total: 7979.3125\n",
      " 65%|██████▌   | 15/23 [01:24<00:44,  5.60s/it]Warning: less than 75% gpu memory available for training. Free: 5786.375 Total: 7979.3125\n",
      " 70%|██████▉   | 16/23 [01:29<00:39,  5.62s/it]Warning: less than 75% gpu memory available for training. Free: 5786.375 Total: 7979.3125\n",
      " 74%|███████▍  | 17/23 [01:35<00:33,  5.62s/it]Warning: less than 75% gpu memory available for training. Free: 5786.375 Total: 7979.3125\n",
      " 78%|███████▊  | 18/23 [01:41<00:28,  5.65s/it]Warning: less than 75% gpu memory available for training. Free: 5786.375 Total: 7979.3125\n",
      " 83%|████████▎ | 19/23 [01:46<00:22,  5.66s/it]Warning: less than 75% gpu memory available for training. Free: 5786.375 Total: 7979.3125\n",
      " 87%|████████▋ | 20/23 [01:52<00:16,  5.65s/it]Warning: less than 75% gpu memory available for training. Free: 5786.375 Total: 7979.3125\n",
      " 91%|█████████▏| 21/23 [01:58<00:11,  5.64s/it]Warning: less than 75% gpu memory available for training. Free: 5786.375 Total: 7979.3125\n",
      " 96%|█████████▌| 22/23 [02:03<00:05,  5.63s/it]Warning: less than 75% gpu memory available for training. Free: 5786.375 Total: 7979.3125\n",
      "100%|██████████| 23/23 [02:09<00:00,  5.62s/it]\n"
     ]
    },
    {
     "name": "stdout",
     "output_type": "stream",
     "text": [
      "---Run time is 129.29741582599854 seconds ---\n",
      "\n",
      "Accuracy of each fold: \n",
      " [0.9171565276828435, 0.9235025725657703, 0.9933634992458522, 0.9483436271757439, 0.9968596909935937, 0.9671046228710463, 0.9113427482627213, 0.9939433622524144, 0.9471971066907776, 0.9287884793235566, 0.9707774506596881, 0.9887679281147399, 0.8760348583877996, 0.907906834201655, 0.719501246882793, 0.9842082799829279, 0.9854328753517629, 0.9834836918806384, 0.7694179679578179, 0.9820295983086681, 0.991012154018997, 0.9785563273935367, 0.9949525540076721]\n",
      "\n",
      "Avg accuracy : \n",
      "0.9417253914875224\n",
      "\n",
      "Std of accuracy : \n",
      "0.06992808633824256\n",
      "[[96528  6357]\n",
      " [ 5546 79126]]\n",
      "classification report: \n",
      "              precision    recall  f1-score   support\n",
      "\n",
      "           0       0.95      0.94      0.94    102885\n",
      "           1       0.93      0.93      0.93     84672\n",
      "\n",
      "    accuracy                           0.94    187557\n",
      "   macro avg       0.94      0.94      0.94    187557\n",
      "weighted avg       0.94      0.94      0.94    187557\n",
      "\n",
      "0.9382125674296544\n",
      "0.9345001889644747\n",
      "0.9456668691341575\n",
      "0.9419249703599255\n"
     ]
    }
   ],
   "source": [
    "# CatBoost\n",
    "start_time = timeit.default_timer() #defines start time so computational time can be calculated\n",
    "\n",
    "acc_score = []\n",
    "Truth = []\n",
    "Output = []\n",
    " \n",
    "for X_train, y_train, X_test, y_test in tqdm(selected_splits):\n",
    "    # Create CatBoost model\n",
    "    model = CatBoostClassifier(iterations=500,\n",
    "                           depth=10,\n",
    "                           learning_rate=0.1,\n",
    "                           loss_function='Logloss',\n",
    "                           task_type=\"GPU\")\n",
    "    # train the model\n",
    "    model.fit(X_train, y_train, verbose=False)\n",
    "    \n",
    "    # make the prediction using the resulting model\n",
    "    pred_values = model.predict(X_test)\n",
    "    #preds_proba = model.predict_proba(test_data)\n",
    "    #print(\"class = \", preds_class)\n",
    "    #print(\"proba = \", preds_proba)\n",
    "     \n",
    "    acc = accuracy_score(y_test, pred_values)\n",
    "    acc_score.append(acc)\n",
    "    \n",
    "    Truth.extend(y_test.values.reshape(y_test.shape[0])); ## it is a list\n",
    "    Output.extend(pred_values); ## it is a list  \n",
    "    \n",
    "    \"\"\"\n",
    "    #print(model.feature_importances_)\n",
    "    Importance = pd.DataFrame({'Importance':(model.feature_importances_*100)[0:10]}, \n",
    "                          index = (X_train.columns)[0:10])\n",
    "    Importance.sort_values(by = 'Importance', \n",
    "                       axis = 0, \n",
    "                       ascending = True).plot(kind = 'barh', \n",
    "                                              color = 'r')\n",
    "    plt.xlabel('Variable Importance')\n",
    "    plt.gca().legend_ = None\n",
    "    \"\"\"\n",
    "    #plt.savefig('plot1.png')\n",
    "\n",
    "\n",
    "elapsed = timeit.default_timer() - start_time #gives total computation time\n",
    "print(\"---Run time is %s seconds ---\" % elapsed) #prints computation time\n",
    "print()\n",
    "\n",
    "print('Accuracy of each fold: \\n {}'.format(acc_score))\n",
    "print()\n",
    "print('Avg accuracy : \\n{}'.format(np.mean(acc_score))); \n",
    "print()\n",
    "print('Std of accuracy : \\n{}'.format(np.std(acc_score)))\n",
    "\n",
    "cm = confusion_matrix(Truth, Output)\n",
    "print(cm)\n",
    "print(\"classification report: \")\n",
    "print(classification_report(Truth, Output))\n",
    "\n",
    "sensitivity = cm[0][0]/(cm[0][0]+cm[0][1])\n",
    "specificity = cm[1][1]/(cm[1][0]+cm[1][1])\n",
    "precision = (cm[0][0])/(cm[0][0]+cm[1][0])\n",
    "f1_score = (2*precision*sensitivity)/(precision+sensitivity)\n",
    "\n",
    "print(sensitivity)\n",
    "print(specificity)\n",
    "print(precision)\n",
    "print(f1_score)\n",
    "\n",
    "performance_dict['Avg Accuracy'].append(np.mean(acc_score))\n",
    "performance_dict['Std Accuracy'].append(np.std(acc_score))\n",
    "performance_dict['Sensitivity'].append(sensitivity)\n",
    "performance_dict['Specificity'].append(specificity)\n",
    "performance_dict['Precision'].append(precision)\n",
    "performance_dict['F1 score'].append(f1_score)\n",
    "performance_dict['Run time'].append(elapsed)"
   ]
  },
  {
   "cell_type": "code",
   "execution_count": 8,
   "metadata": {},
   "outputs": [
    {
     "name": "stderr",
     "output_type": "stream",
     "text": [
      "100%|██████████| 23/23 [03:38<00:00,  9.50s/it]\n"
     ]
    },
    {
     "name": "stdout",
     "output_type": "stream",
     "text": [
      "---Run time is 218.56001792999996 seconds ---\n",
      "\n",
      "Accuracy of each fold: \n",
      " [0.9167464114832536, 0.9197165323754976, 0.9935143288084465, 0.9467995508141493, 0.9971109157141063, 0.9658394160583942, 0.9067473660614213, 0.9949255197249959, 0.9497287522603979, 0.924164354604307, 0.9712136081125287, 0.9899775358562295, 0.8794117647058823, 0.9879428083653435, 0.9867571594106936, 0.9834836918806384, 0.7824984790103428, 0.985068710359408, 0.9917270963129404, 0.9793113862881305, 0.9963658388855239]\n",
      "\n",
      "Avg accuracy : \n",
      "0.954716725099649\n",
      "\n",
      "Std of accuracy : \n",
      "0.051392930615198076\n",
      "[[96689  6196]\n",
      " [ 2143 65978]]\n",
      "classification report: \n",
      "              precision    recall  f1-score   support\n",
      "\n",
      "           0       0.98      0.94      0.96    102885\n",
      "           1       0.91      0.97      0.94     68121\n",
      "\n",
      "    accuracy                           0.95    171006\n",
      "   macro avg       0.95      0.95      0.95    171006\n",
      "weighted avg       0.95      0.95      0.95    171006\n",
      "\n",
      "0.9397774213928172\n",
      "0.9685412721480894\n",
      "0.9783167395175651\n",
      "0.9586599047179959\n"
     ]
    }
   ],
   "source": [
    "# XGBoost\n",
    "\n",
    "start_time = timeit.default_timer() #defines start time so computational time can be calculated\n",
    "\n",
    "acc_score = []\n",
    "Truth = []\n",
    "Output = []\n",
    " \n",
    "for X_train, y_train, X_test, y_test in tqdm(selected_splits):\n",
    "    a = y_test.to_numpy() # s.values (pandas<0.24)\n",
    "    if (a[0] == a).all():\n",
    "        continue\n",
    "\n",
    "    model = XGBClassifier(n_estimators=200, learning_rate = 0.1, verbose=None,\n",
    "                max_depth = 6, eval_metric='logloss', tree_method=\"exact\")\n",
    "    \n",
    "    model.fit(X_train,y_train)\n",
    "\n",
    "    pred_values = model.predict(X_test)\n",
    "    pred_prob = model.predict_proba(X_test)[:, 1]\n",
    "     \n",
    "    acc = accuracy_score(y_test, pred_values)\n",
    "    acc_score.append(acc)\n",
    "    \n",
    "    Truth.extend(y_test.values.reshape(y_test.shape[0])); ## it is a list\n",
    "    Output.extend(pred_values); ## it is a list \n",
    "    \n",
    "    \"\"\"\n",
    "    #print(model.feature_importances_)\n",
    "    Importance = pd.DataFrame({'Importance':(model.feature_importances_*100)[0:10]}, \n",
    "                          index = (X_train.columns)[0:10])\n",
    "    Importance.sort_values(by = 'Importance', \n",
    "                       axis = 0, \n",
    "                       ascending = True).plot(kind = 'barh', \n",
    "                                              color = 'r')\n",
    "    plt.xlabel('Variable Importance')\n",
    "    plt.gca().legend_ = None\n",
    "    plt.show()\n",
    "    #plt.savefig('plot1.png')\n",
    "    \n",
    "    ##################################################\n",
    "    #https://scikit-learn.org/stable/modules/generated/sklearn.metrics.roc_auc_score.html\n",
    "    #Compute Area Under the Receiver Operating Characteristic Curve (ROC AUC) from prediction scores.\n",
    "    print(\"roc_auc_score\", roc_auc_score(y_test, pred_prob))\n",
    "    \n",
    "    # calculate the fpr and tpr for all thresholds of the classification\n",
    "    #fpr, tpr, threshold = metrics.roc_curve(y_test, pred_prob)\n",
    "    #roc_auc = metrics.auc(fpr, tpr)\n",
    "    # method I: plt\n",
    "    #import matplotlib.pyplot as plt\n",
    "    #plt.title('Receiver Operating Characteristic')\n",
    "    #plt.plot(fpr, tpr, 'b', label = 'AUC = %0.2f' % roc_auc)\n",
    "    #plt.legend(loc = 'lower right')\n",
    "    #plt.plot([0, 1], [0, 1],'r--')\n",
    "    #plt.xlim([-0.05, 1])\n",
    "    #plt.ylim([0, 1.05])\n",
    "    #plt.ylabel('True Positive Rate')\n",
    "    #plt.xlabel('False Positive Rate')\n",
    "    #plt.show()\n",
    "    ##################################################\n",
    "    \"\"\"\n",
    "    \n",
    "elapsed = timeit.default_timer() - start_time #gives total computation time\n",
    "print(\"---Run time is %s seconds ---\" % elapsed) #prints computation time\n",
    "print()\n",
    "\n",
    "print('Accuracy of each fold: \\n {}'.format(acc_score))\n",
    "print()\n",
    "print('Avg accuracy : \\n{}'.format(np.mean(acc_score))); \n",
    "print()\n",
    "print('Std of accuracy : \\n{}'.format(np.std(acc_score)))\n",
    "\n",
    "cm = confusion_matrix(Truth, Output)\n",
    "print(cm)\n",
    "print(\"classification report: \")\n",
    "print(classification_report(Truth, Output))\n",
    "\n",
    "sensitivity = cm[0][0]/(cm[0][0]+cm[0][1])\n",
    "specificity = cm[1][1]/(cm[1][0]+cm[1][1])\n",
    "precision = (cm[0][0])/(cm[0][0]+cm[1][0])\n",
    "f1_score = (2*precision*sensitivity)/(precision+sensitivity)\n",
    "\n",
    "print(sensitivity)\n",
    "print(specificity)\n",
    "print(precision)\n",
    "print(f1_score)\n",
    "\n",
    "performance_dict['Avg Accuracy'].append(np.mean(acc_score))\n",
    "performance_dict['Std Accuracy'].append(np.std(acc_score))\n",
    "performance_dict['Sensitivity'].append(sensitivity)\n",
    "performance_dict['Specificity'].append(specificity)\n",
    "performance_dict['Precision'].append(precision)\n",
    "performance_dict['F1 score'].append(f1_score)\n",
    "performance_dict['Run time'].append(elapsed)"
   ]
  },
  {
   "cell_type": "code",
   "execution_count": 9,
   "metadata": {},
   "outputs": [
    {
     "name": "stderr",
     "output_type": "stream",
     "text": [
      "100%|██████████| 23/23 [04:26<00:00, 11.61s/it]\n"
     ]
    },
    {
     "name": "stdout",
     "output_type": "stream",
     "text": [
      "---Run time is 266.9603945710005 seconds ---\n",
      "\n",
      "Accuracy of each fold: \n",
      " [0.9167464114832536, 0.9197165323754976, 0.9935143288084465, 0.9467995508141493, 0.9971109157141063, 0.9658394160583942, 0.9067473660614213, 0.9949255197249959, 0.9497287522603979, 0.924164354604307, 0.9712136081125287, 0.9899775358562295, 0.8794117647058823, 0.9037695372356727, 0.7396508728179552, 0.9879428083653435, 0.9867571594106936, 0.9834836918806384, 0.7824984790103428, 0.985068710359408, 0.9917270963129404, 0.9793113862881305, 0.9963658388855239]\n",
      "\n",
      "Avg accuracy : \n",
      "0.9431509407454896\n",
      "\n",
      "Std of accuracy : \n",
      "0.06634500963270624\n",
      "[[96689  6196]\n",
      " [ 5381 79291]]\n",
      "classification report: \n",
      "              precision    recall  f1-score   support\n",
      "\n",
      "           0       0.95      0.94      0.94    102885\n",
      "           1       0.93      0.94      0.93     84672\n",
      "\n",
      "    accuracy                           0.94    187557\n",
      "   macro avg       0.94      0.94      0.94    187557\n",
      "weighted avg       0.94      0.94      0.94    187557\n",
      "\n",
      "0.9397774213928172\n",
      "0.9364488851095994\n",
      "0.9472812775546193\n",
      "0.9435144299968286\n"
     ]
    }
   ],
   "source": [
    "# LightGBM\n",
    "start_time = timeit.default_timer() #defines start time so computational time can be calculated\n",
    "\n",
    "acc_score = []\n",
    "Truth = []\n",
    "Output = []\n",
    " \n",
    "for X_train, y_train, X_test, y_test in tqdm(selected_splits):\n",
    "    lgbm = lightgbm.LGBMClassifier(learning_rate=0.09,max_depth=-5,random_state=42)\n",
    "    \n",
    "    # Create the LightGBM data containers\n",
    "    model.fit(X_train,y_train,eval_set=[(X_test,y_test),(X_train,y_train)], verbose=None)\n",
    "\n",
    "    pred_values = model.predict(X_test)\n",
    "     \n",
    "    acc = accuracy_score(y_test, pred_values)\n",
    "    acc_score.append(acc)\n",
    "    \n",
    "    Truth.extend(y_test.values.reshape(y_test.shape[0])); ## it is a list\n",
    "    Output.extend(pred_values); ## it is a list  \n",
    "    \n",
    "    \"\"\"\n",
    "    #print(model.feature_importances_)\n",
    "    Importance = pd.DataFrame({'Importance':(model.feature_importances_*100)[0:10]}, \n",
    "                          index = (X_train.columns)[0:10])\n",
    "    Importance.sort_values(by = 'Importance', \n",
    "                       axis = 0, \n",
    "                       ascending = True).plot(kind = 'barh', \n",
    "                                              color = 'r')\n",
    "    plt.xlabel('Variable Importance')\n",
    "    plt.gca().legend_ = None\n",
    "    #plt.savefig('plot1.png')\n",
    "    \"\"\"\n",
    "\n",
    "\n",
    "elapsed = timeit.default_timer() - start_time #gives total computation time\n",
    "print(\"---Run time is %s seconds ---\" % elapsed) #prints computation time\n",
    "print()\n",
    "\n",
    "print('Accuracy of each fold: \\n {}'.format(acc_score))\n",
    "print()\n",
    "print('Avg accuracy : \\n{}'.format(np.mean(acc_score))); \n",
    "print()\n",
    "print('Std of accuracy : \\n{}'.format(np.std(acc_score)))\n",
    "\n",
    "cm = confusion_matrix(Truth, Output)\n",
    "print(cm)\n",
    "print(\"classification report: \")\n",
    "print(classification_report(Truth, Output))\n",
    "\n",
    "sensitivity = cm[0][0]/(cm[0][0]+cm[0][1])\n",
    "specificity = cm[1][1]/(cm[1][0]+cm[1][1])\n",
    "precision = (cm[0][0])/(cm[0][0]+cm[1][0])\n",
    "f1_score = (2*precision*sensitivity)/(precision+sensitivity)\n",
    "\n",
    "print(sensitivity)\n",
    "print(specificity)\n",
    "print(precision)\n",
    "print(f1_score)\n",
    "\n",
    "performance_dict['Avg Accuracy'].append(np.mean(acc_score))\n",
    "performance_dict['Std Accuracy'].append(np.std(acc_score))\n",
    "performance_dict['Sensitivity'].append(sensitivity)\n",
    "performance_dict['Specificity'].append(specificity)\n",
    "performance_dict['Precision'].append(precision)\n",
    "performance_dict['F1 score'].append(f1_score)\n",
    "performance_dict['Run time'].append(elapsed)"
   ]
  }
 ],
 "metadata": {
  "kernelspec": {
   "display_name": "afib",
   "language": "python",
   "name": "python3"
  },
  "language_info": {
   "codemirror_mode": {
    "name": "ipython",
    "version": 3
   },
   "file_extension": ".py",
   "mimetype": "text/x-python",
   "name": "python",
   "nbconvert_exporter": "python",
   "pygments_lexer": "ipython3",
   "version": "3.9.15"
  },
  "orig_nbformat": 4,
  "vscode": {
   "interpreter": {
    "hash": "ada57d62bdba33f60f3d98aec0dc1db90359aaf5574901473d57c7ef0e255730"
   }
  }
 },
 "nbformat": 4,
 "nbformat_minor": 2
}
