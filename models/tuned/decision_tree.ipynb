{
 "cells": [
  {
   "cell_type": "code",
   "execution_count": 37,
   "id": "198cd38c",
   "metadata": {},
   "outputs": [],
   "source": [
    "import numpy as np\n",
    "from matplotlib import pyplot as plt\n",
    "from sklearn import preprocessing\n",
    "import wfdb\n",
    "import copy as cp\n",
    "import scipy.signal as signal\n",
    "import scipy.stats as stats\n",
    "from sklearn import preprocessing\n",
    "from tqdm.notebook import tqdm\n",
    "import os\n",
    "import pathlib\n",
    "import re\n",
    "import pandas as pd\n",
    "import pickle\n",
    "import csv\n",
    "import statistics"
   ]
  },
  {
   "cell_type": "code",
   "execution_count": 28,
   "id": "2c512ff2",
   "metadata": {},
   "outputs": [],
   "source": [
    "import timeit\n",
    "\n",
    "import matplotlib_inline.backend_inline\n",
    "matplotlib_inline.backend_inline.set_matplotlib_formats(\"retina\")\n",
    "\n",
    "from sklearn.preprocessing import PolynomialFeatures\n",
    "\n",
    "import sklearn.linear_model as skl_lm\n",
    "from sklearn.linear_model import LinearRegression\n",
    "from sklearn.linear_model import LogisticRegression\n",
    "from sklearn.linear_model import LogisticRegressionCV\n",
    "from sklearn import neighbors\n",
    "from sklearn.discriminant_analysis import LinearDiscriminantAnalysis \n",
    "from sklearn.discriminant_analysis import QuadraticDiscriminantAnalysis\n",
    "from sklearn.tree import DecisionTreeRegressor \n",
    "from sklearn.tree import DecisionTreeClassifier \n",
    "from sklearn.tree import export_graphviz\n",
    "from sklearn.svm import SVC\n",
    "\n",
    "from sklearn.model_selection import cross_val_score\n",
    "from sklearn.model_selection import cross_validate\n",
    "from sklearn.model_selection import KFold\n",
    "from sklearn.model_selection import LeaveOneGroupOut\n",
    "from sklearn.model_selection import train_test_split\n",
    "from sklearn.model_selection import GridSearchCV\n",
    "from sklearn.model_selection import RandomizedSearchCV\n",
    "\n",
    "from sklearn.metrics import confusion_matrix\n",
    "from sklearn.metrics import classification_report\n",
    "from sklearn.metrics import accuracy_score\n",
    "from sklearn.metrics import precision_score\n",
    "from sklearn.metrics import mean_squared_error\n",
    "\n",
    "from sklearn.ensemble import RandomForestRegressor\n",
    "from sklearn.ensemble import GradientBoostingRegressor\n",
    "from sklearn.ensemble import RandomForestClassifier\n",
    "from sklearn.ensemble import AdaBoostClassifier\n",
    "from sklearn.ensemble import GradientBoostingClassifier\n",
    "\n",
    "import xgboost as xgb\n",
    "from xgboost import XGBClassifier\n",
    "from sklearn import metrics\n",
    "from lightgbm import LGBMClassifier\n",
    "from sklearn.metrics import roc_auc_score\n",
    "from sklearn.metrics import roc_curve, auc\n",
    "\n",
    "import lightgbm\n",
    "import lightgbm as lgb\n",
    "from sklearn.preprocessing import LabelBinarizer\n",
    "\n",
    "import catboost as cb\n",
    "from catboost import CatBoostClassifier"
   ]
  },
  {
   "cell_type": "code",
   "execution_count": 29,
   "id": "24e708a6",
   "metadata": {},
   "outputs": [],
   "source": [
    "#parent_path = str(pathlib.Path(os.path.normpath('C:\\\\Users\\\\lms-puvvalat\\\\Documents\\\\GitHub\\\\2022-svsm-afib-group1\\\\')))\n",
    "parent_path = str(pathlib.Path(os.getcwd()).parent.parent)\n",
    "\n",
    "rlist = []\n",
    "records = os.path.normpath(parent_path + '/mit-bih-dataframes/subject_list.csv')\n",
    "with open(records) as rfile:\n",
    "    recordreader = csv.reader(rfile, delimiter=' ', quotechar='|')\n",
    "    for row in recordreader:\n",
    "        rlist.append(row[0])"
   ]
  },
  {
   "cell_type": "code",
   "execution_count": 30,
   "id": "2d4d4d5c",
   "metadata": {},
   "outputs": [],
   "source": [
    "moving_accuracy = {}"
   ]
  },
  {
   "cell_type": "code",
   "execution_count": 31,
   "id": "e74f0fc8",
   "metadata": {},
   "outputs": [],
   "source": [
    "def score_reporter(initial_results):\n",
    "    initial_columns = initial_results.axes[0].tolist()\n",
    "    results = initial_results.dropna()\n",
    "    changed_columns = results.axes[0].tolist()\n",
    "    \n",
    "    dropped_cols = list(set(initial_columns).difference(changed_columns))\n",
    "    \n",
    "    print(dropped_cols)\n",
    "\n",
    "    acc_scores = []\n",
    "    for x in range(len(rlist)):\n",
    "        col_name = 'split'+str(x)+'_test_accuracy'\n",
    "        if col_name not in dropped_cols:\n",
    "            acc_scores.append(results[col_name])\n",
    "\n",
    "    spec_scores = []\n",
    "    for x in range(len(rlist)):\n",
    "        col_name = 'split'+str(x)+'_test_specificity'\n",
    "        if col_name not in dropped_cols:\n",
    "            spec_scores.append(results[col_name])\n",
    "\n",
    "    sens_scores = []\n",
    "    for x in range(len(rlist)):\n",
    "        col_name = 'split'+str(x)+'_test_sensitivity'\n",
    "        if col_name not in dropped_cols:\n",
    "            sens_scores.append(results[col_name])\n",
    "\n",
    "\n",
    "    prec_scores = []\n",
    "    for x in range(len(rlist)):\n",
    "        col_name = 'split'+str(x)+'_test_precision'\n",
    "        if col_name not in dropped_cols:\n",
    "            prec_scores.append(results[col_name])\n",
    "\n",
    "    f1_scores = []\n",
    "    for x in range(len(rlist)):\n",
    "        col_name = 'split'+str(x)+'_test_f1_score'\n",
    "        if col_name not in dropped_cols:\n",
    "            f1_scores.append(results[col_name])\n",
    "        \n",
    "    elapsed_times = []\n",
    "    for x in range(len(rlist)):\n",
    "        col_name = 'split'+str(x)+'_test_elapsed'\n",
    "        if col_name not in dropped_cols:\n",
    "            elapsed_times.append(results[col_name])\n",
    "\n",
    "    eps_times = []\n",
    "    for x in range(len(rlist)):\n",
    "        col_name = 'split'+str(x)+'_test_eps'\n",
    "        if col_name not in dropped_cols:\n",
    "            eps_times.append(results[col_name])\n",
    "\n",
    "    print('---Run time of each fold: \\n {}'.format(elapsed_times))\n",
    "    print(\"Avg run time: {}\".format(np.mean(elapsed_times)))\n",
    "    print('---Run time per subset of each fold is: \\n {}'.format(eps_times))\n",
    "    print(\"Avg run time per subset: {}\".format(np.mean(eps_times)))\n",
    "    print()\n",
    "    print('Accuracy of each fold: \\n {}'.format(acc_scores))\n",
    "    print(\"Avg accuracy: {}\".format(np.mean(acc_scores)))\n",
    "    print('Std of accuracy : \\n{}'.format(np.std(acc_scores)))\n",
    "    print()\n",
    "    print('Specificity of each fold: \\n {}'.format(spec_scores))\n",
    "    print(\"Avg specificity: {}\".format(np.mean(spec_scores)))\n",
    "    print('Std of specificity: \\n{}'.format(np.std(spec_scores)))\n",
    "    print()\n",
    "    print('Sensitivity of each fold: \\n {}'.format(sens_scores))\n",
    "    print(\"Avg sensitivity: {}\".format(np.mean(sens_scores)))\n",
    "    print('Std of sensitivity: \\n{}'.format(np.std(sens_scores)))\n",
    "    print()\n",
    "    print('Precision of each fold: \\n {}'.format(prec_scores))\n",
    "    print(\"Avg precision: {}\".format(np.mean(prec_scores)))\n",
    "    print('Std of precision : \\n{}'.format(np.std(prec_scores)))\n",
    "    print()\n",
    "    print('F1-scores of each fold: \\n {}'.format(f1_scores))\n",
    "    print(\"Avg F1-scores: {}\".format(np.mean(f1_scores)))\n",
    "    print('Std of F1-scores : \\n{}'.format(np.std(f1_scores)))"
   ]
  },
  {
   "cell_type": "code",
   "execution_count": 32,
   "id": "390a174f",
   "metadata": {},
   "outputs": [],
   "source": [
    "def scorer(clf, X, y):\n",
    "    global moving_acc\n",
    "\n",
    "    start_time = timeit.default_timer()\n",
    "    y_pred = clf.predict(X)\n",
    "    elapsed = timeit.default_timer() - start_time\n",
    "\n",
    "    total_seen = 0\n",
    "    total_correct = 0\n",
    "    subject_acc = []\n",
    "    for idx, pred in enumerate(y_pred):\n",
    "        total_seen+=1\n",
    "        if pred==y.iloc[idx]:\n",
    "            total_correct+=1\n",
    "        subject_acc.append(total_correct/total_seen)\n",
    "    moving_acc.append(subject_acc)\n",
    "\n",
    "    fold_size = len(X)\n",
    "\n",
    "    cm = confusion_matrix(y, y_pred)\n",
    "\n",
    "    sensitivity = cm[0][0]/(cm[0][0]+cm[0][1])\n",
    "    specificity = cm[1][1]/(cm[1][0]+cm[1][1])\n",
    "    precision = (cm[0][0])/(cm[0][0]+cm[1][0])\n",
    "    f1_score = (2*precision*sensitivity)/(precision+sensitivity)\n",
    "\n",
    "    return {'sensitivity': sensitivity, 'specificity': specificity,\n",
    "            'precision': precision, 'f1_score': f1_score,\n",
    "            'accuracy': accuracy_score(y, y_pred), \n",
    "            'elapsed': elapsed, 'eps': elapsed/fold_size}"
   ]
  },
  {
   "cell_type": "code",
   "execution_count": 38,
   "id": "2021f307",
   "metadata": {},
   "outputs": [
    {
     "data": {
      "application/vnd.jupyter.widget-view+json": {
       "model_id": "c435102e1fa94fd7aef8c88f47de5e2f",
       "version_major": 2,
       "version_minor": 0
      },
      "text/plain": [
       "  0%|          | 0/8 [00:00<?, ?it/s]"
      ]
     },
     "metadata": {},
     "output_type": "display_data"
    },
    {
     "name": "stdout",
     "output_type": "stream",
     "text": [
      "/Users/arisingh/Documents/GitHub/2022-svsm-afib-group1/mit-bih-time-features-experiment/0.55\n",
      "model fit started\n"
     ]
    },
    {
     "name": "stderr",
     "output_type": "stream",
     "text": [
      "[Parallel(n_jobs=1)]: Using backend SequentialBackend with 1 concurrent workers.\n"
     ]
    },
    {
     "name": "stdout",
     "output_type": "stream",
     "text": [
      "[CV] END .................................................... total time=   2.2s\n"
     ]
    },
    {
     "name": "stderr",
     "output_type": "stream",
     "text": [
      "[Parallel(n_jobs=1)]: Done   1 out of   1 | elapsed:    2.2s remaining:    0.0s\n"
     ]
    },
    {
     "name": "stdout",
     "output_type": "stream",
     "text": [
      "[CV] END .................................................... total time=   1.9s\n",
      "[CV] END .................................................... total time=   1.9s\n",
      "[CV] END .................................................... total time=   1.9s\n",
      "[CV] END .................................................... total time=   1.8s\n",
      "[CV] END .................................................... total time=   2.2s\n",
      "[CV] END .................................................... total time=   2.2s\n",
      "[CV] END .................................................... total time=   1.9s\n",
      "[CV] END .................................................... total time=   2.0s\n",
      "[CV] END .................................................... total time=   2.2s\n",
      "[CV] END .................................................... total time=   2.2s\n",
      "[CV] END .................................................... total time=   2.2s\n",
      "[CV] END .................................................... total time=   2.2s\n"
     ]
    },
    {
     "name": "stderr",
     "output_type": "stream",
     "text": [
      "/var/folders/15/psv1y74j5nbdx6lvs_xw8jgm0000gn/T/ipykernel_1283/1056965083.py:22: RuntimeWarning: invalid value encountered in long_scalars\n",
      "  sensitivity = cm[0][0]/(cm[0][0]+cm[0][1])\n"
     ]
    },
    {
     "name": "stdout",
     "output_type": "stream",
     "text": [
      "[CV] END .................................................... total time=   2.0s\n"
     ]
    },
    {
     "name": "stderr",
     "output_type": "stream",
     "text": [
      "/var/folders/15/psv1y74j5nbdx6lvs_xw8jgm0000gn/T/ipykernel_1283/1056965083.py:22: RuntimeWarning: invalid value encountered in long_scalars\n",
      "  sensitivity = cm[0][0]/(cm[0][0]+cm[0][1])\n"
     ]
    },
    {
     "name": "stdout",
     "output_type": "stream",
     "text": [
      "[CV] END .................................................... total time=   2.1s\n",
      "[CV] END .................................................... total time=   2.0s\n",
      "[CV] END .................................................... total time=   2.3s\n",
      "[CV] END .................................................... total time=   2.0s\n",
      "[CV] END .................................................... total time=   2.0s\n",
      "[CV] END .................................................... total time=   1.9s\n",
      "[CV] END .................................................... total time=   2.1s\n",
      "[CV] END .................................................... total time=   2.1s\n",
      "[CV] END .................................................... total time=   2.1s\n",
      "model fit completed\n",
      "-------/Users/arisingh/Documents/GitHub/2022-svsm-afib-group1/mit-bih-time-features-experiment/0.55-------\n",
      "    fit_time  score_time  test_sensitivity  test_specificity  test_precision  \\\n",
      "0   2.164816    0.061020          0.898160          0.977273        0.999692   \n",
      "1   1.810924    0.068101          0.962812          0.846060        0.952501   \n",
      "2   1.885948    0.034226          0.991070          0.903704        0.997984   \n",
      "3   1.904958    0.038367          0.798663          0.983425        0.998291   \n",
      "4   1.781554    0.042607          0.994314          0.983486        0.970517   \n",
      "5   2.140603    0.054891          0.939495          0.950515        0.994539   \n",
      "6   2.106069    0.072999          0.860061          0.895333        0.740644   \n",
      "7   1.912654    0.033108          0.980447          0.695652        0.998828   \n",
      "8   1.912994    0.046808          0.896357          0.933949        0.865169   \n",
      "9   2.140316    0.046583          0.866397          0.981132        0.999533   \n",
      "10  2.164341    0.056476          0.478916          0.987216        0.584559   \n",
      "11  2.132200    0.031426          0.982146          0.648649        0.995388   \n",
      "12  2.134316    0.056292          0.549024          0.964333        0.939495   \n",
      "13  1.923367    0.043126               NaN          0.948207        0.000000   \n",
      "14  1.992059    0.060959               NaN          0.638105        0.000000   \n",
      "15  1.942502    0.058599          0.917221          0.963996        0.911830   \n",
      "16  2.232736    0.101045          0.969678          0.976930        0.994573   \n",
      "17  1.935693    0.042257          0.974511          0.967742        0.902305   \n",
      "18  1.902560    0.061382          0.548318          0.975105        0.985841   \n",
      "19  1.888971    0.046474          0.980548          0.914271        0.971273   \n",
      "20  2.071481    0.069054          0.992967          0.979910        0.937344   \n",
      "21  2.045067    0.034316          0.957031          0.979221        0.998662   \n",
      "22  2.089265    0.055250          0.996838          0.986307        0.961494   \n",
      "\n",
      "    test_f1_score  test_accuracy  test_elapsed      test_eps  \n",
      "0        0.946210       0.899111      0.001632  2.231161e-07  \n",
      "1        0.957629       0.935055      0.002061  2.000533e-07  \n",
      "2        0.994515       0.989291      0.001478  2.229499e-07  \n",
      "3        0.887388       0.812746      0.001718  2.411578e-07  \n",
      "4        0.982271       0.987313      0.001557  1.955898e-07  \n",
      "5        0.966234       0.940535      0.001996  1.942852e-07  \n",
      "6        0.795898       0.886236      0.001891  2.119733e-07  \n",
      "7        0.989552       0.979375      0.001728  2.829301e-07  \n",
      "8        0.880487       0.921881      0.001634  1.970017e-07  \n",
      "9        0.928215       0.868807      0.002441  3.225242e-07  \n",
      "10       0.526490       0.968815      0.002269  2.474448e-07  \n",
      "11       0.988722       0.977881      0.001429  2.469642e-07  \n",
      "12       0.693045       0.755773      0.002573  2.803253e-07  \n",
      "13            NaN       0.948207      0.001585  2.428126e-07  \n",
      "14            NaN       0.638105      0.002168  2.162396e-07  \n",
      "15       0.914517       0.950491      0.003137  3.347468e-07  \n",
      "16       0.981968       0.971031      0.001781  2.948191e-07  \n",
      "17       0.937019       0.969327      0.001588  2.203396e-07  \n",
      "18       0.704692       0.650882      0.002083  2.112282e-07  \n",
      "19       0.975889       0.963795      0.001526  2.016251e-07  \n",
      "20       0.964354       0.982944      0.001620  1.654750e-07  \n",
      "21       0.977403       0.958321      0.001454  2.195606e-07  \n",
      "22       0.978847       0.988997      0.001855  1.872429e-07  \n",
      "0.9106486290365929\n",
      "0.9165443154059296\n",
      "0.8826177886786182\n",
      "0.8565418243510916\n",
      "0.9033974392640357\n",
      "/Users/arisingh/Documents/GitHub/2022-svsm-afib-group1/mit-bih-time-features-experiment/0.65\n"
     ]
    },
    {
     "name": "stderr",
     "output_type": "stream",
     "text": [
      "[Parallel(n_jobs=1)]: Done  23 out of  23 | elapsed:   47.5s finished\n"
     ]
    },
    {
     "name": "stdout",
     "output_type": "stream",
     "text": [
      "model fit started\n"
     ]
    },
    {
     "name": "stderr",
     "output_type": "stream",
     "text": [
      "[Parallel(n_jobs=1)]: Using backend SequentialBackend with 1 concurrent workers.\n"
     ]
    },
    {
     "name": "stdout",
     "output_type": "stream",
     "text": [
      "[CV] END .................................................... total time=   2.2s\n"
     ]
    },
    {
     "name": "stderr",
     "output_type": "stream",
     "text": [
      "[Parallel(n_jobs=1)]: Done   1 out of   1 | elapsed:    2.2s remaining:    0.0s\n"
     ]
    },
    {
     "name": "stdout",
     "output_type": "stream",
     "text": [
      "[CV] END .................................................... total time=   2.0s\n",
      "[CV] END .................................................... total time=   2.2s\n",
      "[CV] END .................................................... total time=   1.9s\n",
      "[CV] END .................................................... total time=   1.8s\n",
      "[CV] END .................................................... total time=   1.8s\n",
      "[CV] END .................................................... total time=   1.8s\n",
      "[CV] END .................................................... total time=   1.8s\n",
      "[CV] END .................................................... total time=   2.1s\n",
      "[CV] END .................................................... total time=   2.0s\n",
      "[CV] END .................................................... total time=   1.8s\n",
      "[CV] END .................................................... total time=   1.9s\n",
      "[CV] END .................................................... total time=   1.9s\n"
     ]
    },
    {
     "name": "stderr",
     "output_type": "stream",
     "text": [
      "/var/folders/15/psv1y74j5nbdx6lvs_xw8jgm0000gn/T/ipykernel_1283/1056965083.py:22: RuntimeWarning: invalid value encountered in long_scalars\n",
      "  sensitivity = cm[0][0]/(cm[0][0]+cm[0][1])\n"
     ]
    },
    {
     "name": "stdout",
     "output_type": "stream",
     "text": [
      "[CV] END .................................................... total time=   2.3s\n"
     ]
    },
    {
     "name": "stderr",
     "output_type": "stream",
     "text": [
      "/var/folders/15/psv1y74j5nbdx6lvs_xw8jgm0000gn/T/ipykernel_1283/1056965083.py:22: RuntimeWarning: invalid value encountered in long_scalars\n",
      "  sensitivity = cm[0][0]/(cm[0][0]+cm[0][1])\n"
     ]
    },
    {
     "name": "stdout",
     "output_type": "stream",
     "text": [
      "[CV] END .................................................... total time=   2.3s\n",
      "[CV] END .................................................... total time=   2.2s\n",
      "[CV] END .................................................... total time=   2.0s\n",
      "[CV] END .................................................... total time=   2.0s\n",
      "[CV] END .................................................... total time=   1.9s\n",
      "[CV] END .................................................... total time=   2.1s\n",
      "[CV] END .................................................... total time=   2.2s\n",
      "[CV] END .................................................... total time=   2.1s\n",
      "[CV] END .................................................... total time=   2.2s\n",
      "model fit completed\n",
      "-------/Users/arisingh/Documents/GitHub/2022-svsm-afib-group1/mit-bih-time-features-experiment/0.65-------\n",
      "    fit_time  score_time  test_sensitivity  test_specificity  test_precision  \\\n",
      "0   2.105410    0.073469          0.897329          0.931818        0.999076   \n",
      "1   1.907369    0.056000          0.964595          0.852593        0.954505   \n",
      "2   2.125755    0.041048          0.989684          0.911111        0.998137   \n",
      "3   1.867373    0.040652          0.772983          0.965009        0.996279   \n",
      "4   1.721383    0.042463          0.992893          0.985234        0.973519   \n",
      "5   1.729895    0.053399          0.941967          0.964948        0.996136   \n",
      "6   1.727566    0.055324          0.848327          0.906661        0.759533   \n",
      "7   1.797180    0.034146          0.972889          0.782609        0.999156   \n",
      "8   1.997413    0.054232          0.884341          0.943714        0.881362   \n",
      "9   1.970231    0.047495          0.864103          0.987421        0.999688   \n",
      "10  1.750994    0.052259          0.557229          0.985745        0.594855   \n",
      "11  1.831391    0.032621          0.978470          0.756757        0.996790   \n",
      "12  1.831112    0.066443          0.559002          0.960175        0.934034   \n",
      "13  2.294514    0.045949               NaN          0.931045        0.000000   \n",
      "14  2.188978    0.080069               NaN          0.677805        0.000000   \n",
      "15  2.189257    0.055727          0.928677          0.963696        0.912160   \n",
      "16  1.997723    0.037586          0.968457          0.975155        0.994151   \n",
      "17  1.921600    0.044381          0.973918          0.979340        0.935117   \n",
      "18  1.878010    0.061343          0.510678          0.978903        0.987100   \n",
      "19  2.104217    0.045671          0.978780          0.913225        0.970882   \n",
      "20  2.168074    0.059068          0.988132          0.981107        0.940586   \n",
      "21  2.070711    0.043780          0.951259          0.976623        0.998485   \n",
      "22  2.124812    0.061317          0.994862          0.983053        0.952687   \n",
      "\n",
      "    test_f1_score  test_accuracy  test_elapsed      test_eps  \n",
      "0        0.945473       0.897744      0.002458  3.359714e-07  \n",
      "1        0.959524       0.937967      0.002042  1.982480e-07  \n",
      "2        0.993893       0.988084      0.001713  2.583560e-07  \n",
      "3        0.870540       0.787619      0.002252  3.161154e-07  \n",
      "4        0.983110       0.987941      0.001560  1.959250e-07  \n",
      "5        0.968294       0.944136      0.001844  1.795024e-07  \n",
      "6        0.801478       0.891616      0.002040  2.286227e-07  \n",
      "7        0.985847       0.972172      0.001814  2.969772e-07  \n",
      "8        0.882849       0.924653      0.002357  2.841046e-07  \n",
      "9        0.926963       0.866693      0.001773  2.342070e-07  \n",
      "10       0.575428       0.970232      0.001798  1.960725e-07  \n",
      "11       0.987545       0.975635      0.001751  3.025417e-07  \n",
      "12       0.699416       0.758715      0.003331  3.628814e-07  \n",
      "13            NaN       0.931045      0.002295  3.517145e-07  \n",
      "14            NaN       0.677805      0.003033  3.025214e-07  \n",
      "15       0.920344       0.953585      0.001818  1.940333e-07  \n",
      "16       0.981136       0.969707      0.001914  3.167924e-07  \n",
      "17       0.954123       0.978071      0.002045  2.838552e-07  \n",
      "18       0.673118       0.623200      0.003016  3.058601e-07  \n",
      "19       0.974815       0.962209      0.001503  1.985593e-07  \n",
      "20       0.963773       0.982739      0.001696  1.732558e-07  \n",
      "21       0.974300       0.952733      0.001652  2.495390e-07  \n",
      "22       0.973318       0.986069      0.002640  2.664640e-07  \n",
      "0.9095814855387035\n",
      "0.9258152278142942\n",
      "0.8818368543550325\n",
      "0.8597495111456425\n",
      "0.9045375336478226\n",
      "/Users/arisingh/Documents/GitHub/2022-svsm-afib-group1/mit-bih-time-features-experiment/0.25\n"
     ]
    },
    {
     "name": "stderr",
     "output_type": "stream",
     "text": [
      "[Parallel(n_jobs=1)]: Done  23 out of  23 | elapsed:   46.6s finished\n"
     ]
    },
    {
     "name": "stdout",
     "output_type": "stream",
     "text": [
      "model fit started\n"
     ]
    },
    {
     "name": "stderr",
     "output_type": "stream",
     "text": [
      "[Parallel(n_jobs=1)]: Using backend SequentialBackend with 1 concurrent workers.\n"
     ]
    },
    {
     "name": "stdout",
     "output_type": "stream",
     "text": [
      "[CV] END .................................................... total time=   2.5s\n"
     ]
    },
    {
     "name": "stderr",
     "output_type": "stream",
     "text": [
      "[Parallel(n_jobs=1)]: Done   1 out of   1 | elapsed:    2.5s remaining:    0.0s\n"
     ]
    },
    {
     "name": "stdout",
     "output_type": "stream",
     "text": [
      "[CV] END .................................................... total time=   2.4s\n",
      "[CV] END .................................................... total time=   2.4s\n",
      "[CV] END .................................................... total time=   2.4s\n",
      "[CV] END .................................................... total time=   2.4s\n",
      "[CV] END .................................................... total time=   2.4s\n",
      "[CV] END .................................................... total time=   2.4s\n",
      "[CV] END .................................................... total time=   2.4s\n",
      "[CV] END .................................................... total time=   2.4s\n",
      "[CV] END .................................................... total time=   2.4s\n",
      "[CV] END .................................................... total time=   2.3s\n",
      "[CV] END .................................................... total time=   2.4s\n",
      "[CV] END .................................................... total time=   2.4s\n"
     ]
    },
    {
     "name": "stderr",
     "output_type": "stream",
     "text": [
      "/var/folders/15/psv1y74j5nbdx6lvs_xw8jgm0000gn/T/ipykernel_1283/1056965083.py:22: RuntimeWarning: invalid value encountered in long_scalars\n",
      "  sensitivity = cm[0][0]/(cm[0][0]+cm[0][1])\n"
     ]
    },
    {
     "name": "stdout",
     "output_type": "stream",
     "text": [
      "[CV] END .................................................... total time=   2.4s\n"
     ]
    },
    {
     "name": "stderr",
     "output_type": "stream",
     "text": [
      "/var/folders/15/psv1y74j5nbdx6lvs_xw8jgm0000gn/T/ipykernel_1283/1056965083.py:22: RuntimeWarning: invalid value encountered in long_scalars\n",
      "  sensitivity = cm[0][0]/(cm[0][0]+cm[0][1])\n"
     ]
    },
    {
     "name": "stdout",
     "output_type": "stream",
     "text": [
      "[CV] END .................................................... total time=   2.3s\n",
      "[CV] END .................................................... total time=   2.3s\n",
      "[CV] END .................................................... total time=   2.4s\n",
      "[CV] END .................................................... total time=   2.4s\n",
      "[CV] END .................................................... total time=   2.3s\n",
      "[CV] END .................................................... total time=   2.4s\n",
      "[CV] END .................................................... total time=   2.3s\n",
      "[CV] END .................................................... total time=   2.4s\n",
      "[CV] END .................................................... total time=   2.3s\n",
      "model fit completed\n",
      "-------/Users/arisingh/Documents/GitHub/2022-svsm-afib-group1/mit-bih-time-features-experiment/0.25-------\n",
      "    fit_time  score_time  test_sensitivity  test_specificity  test_precision  \\\n",
      "0   2.502898    0.043863          0.899958          0.954545        0.999385   \n",
      "1   2.304674    0.061624          0.945110          0.772969        0.930300   \n",
      "2   2.362449    0.040335          0.992302          0.837037        0.996598   \n",
      "3   2.332433    0.042498          0.863547          0.966851        0.996843   \n",
      "4   2.320653    0.047416          0.994670          0.990480        0.982795   \n",
      "5   2.330941    0.061136          0.946051          0.941237        0.993567   \n",
      "6   2.306331    0.054253          0.883963          0.905754        0.765237   \n",
      "7   2.377586    0.036969          0.978475          0.652174        0.998658   \n",
      "8   2.311581    0.050686          0.906496          0.965732        0.925969   \n",
      "9   2.336579    0.046058          0.893117          0.893082        0.997438   \n",
      "10  2.269804    0.054468          0.331325          0.991854        0.604396   \n",
      "11  2.363494    0.035592          0.987047          0.500000        0.993481   \n",
      "12  2.315358    0.054583          0.631670          0.964770        0.947608   \n",
      "13  2.343670    0.041822               NaN          0.934723        0.000000   \n",
      "14  2.277822    0.062309               NaN          0.583441        0.000000   \n",
      "15  2.280224    0.055174          0.937546          0.968347        0.923217   \n",
      "16  2.349570    0.035667          0.975376          0.979592        0.995224   \n",
      "17  2.312611    0.042850          0.975697          0.981696        0.942187   \n",
      "18  2.289527    0.058704          0.610117          0.978481        0.988966   \n",
      "19  2.326729    0.046443          0.981609          0.920544        0.973347   \n",
      "20  2.255417    0.057751          0.985055          0.986030        0.955243   \n",
      "21  2.338280    0.039971          0.968895          0.981818        0.998843   \n",
      "22  2.253206    0.055621          0.995257          0.991052        0.974458   \n",
      "\n",
      "    test_f1_score  test_accuracy  test_elapsed      test_eps  \n",
      "0        0.947070       0.900615      0.001846  2.523833e-07  \n",
      "1        0.937646       0.904184      0.001728  1.677441e-07  \n",
      "2        0.994445       0.989140      0.001592  2.401630e-07  \n",
      "3        0.925419       0.871421      0.001685  2.365615e-07  \n",
      "4        0.988697       0.991961      0.001647  2.069446e-07  \n",
      "5        0.969227       0.945596      0.002337  2.274012e-07  \n",
      "6        0.820327       0.900134      0.001965  2.202814e-07  \n",
      "7        0.988464       0.977247      0.001436  2.349820e-07  \n",
      "8        0.916129       0.946715      0.001725  2.079097e-07  \n",
      "9        0.942399       0.893117      0.001527  2.016964e-07  \n",
      "10       0.428016       0.967942      0.002087  2.275521e-07  \n",
      "11       0.990254       0.980819      0.001627  2.811647e-07  \n",
      "12       0.758037       0.797495      0.001861  2.027614e-07  \n",
      "13            NaN       0.934723      0.001509  2.312063e-07  \n",
      "14            NaN       0.583441      0.003013  3.005146e-07  \n",
      "15       0.930326       0.959454      0.001695  1.808334e-07  \n",
      "16       0.985200       0.976163      0.001454  2.406800e-07  \n",
      "17       0.958649       0.980291      0.001702  2.361684e-07  \n",
      "18       0.754664       0.698641      0.002016  2.043998e-07  \n",
      "19       0.977461       0.966173      0.001424  1.881513e-07  \n",
      "20       0.969920       0.985803      0.001880  1.920323e-07  \n",
      "21       0.983641       0.969647      0.001561  2.357085e-07  \n",
      "22       0.984748       0.992126      0.001795  1.811890e-07  \n",
      "0.9179499289587065\n",
      "0.8974873357325805\n",
      "0.889680217273797\n",
      "0.8645112728975439\n",
      "0.9119399124070601\n",
      "/Users/arisingh/Documents/GitHub/2022-svsm-afib-group1/mit-bih-time-features-experiment/0.85\n"
     ]
    },
    {
     "name": "stderr",
     "output_type": "stream",
     "text": [
      "[Parallel(n_jobs=1)]: Done  23 out of  23 | elapsed:   54.6s finished\n"
     ]
    },
    {
     "name": "stdout",
     "output_type": "stream",
     "text": [
      "model fit started\n"
     ]
    },
    {
     "name": "stderr",
     "output_type": "stream",
     "text": [
      "[Parallel(n_jobs=1)]: Using backend SequentialBackend with 1 concurrent workers.\n"
     ]
    },
    {
     "name": "stdout",
     "output_type": "stream",
     "text": [
      "[CV] END .................................................... total time=   1.7s\n"
     ]
    },
    {
     "name": "stderr",
     "output_type": "stream",
     "text": [
      "[Parallel(n_jobs=1)]: Done   1 out of   1 | elapsed:    1.7s remaining:    0.0s\n"
     ]
    },
    {
     "name": "stdout",
     "output_type": "stream",
     "text": [
      "[CV] END .................................................... total time=   1.7s\n",
      "[CV] END .................................................... total time=   1.7s\n",
      "[CV] END .................................................... total time=   1.6s\n",
      "[CV] END .................................................... total time=   1.6s\n",
      "[CV] END .................................................... total time=   1.6s\n",
      "[CV] END .................................................... total time=   1.6s\n",
      "[CV] END .................................................... total time=   1.7s\n",
      "[CV] END .................................................... total time=   1.6s\n",
      "[CV] END .................................................... total time=   1.7s\n",
      "[CV] END .................................................... total time=   1.6s\n",
      "[CV] END .................................................... total time=   1.7s\n",
      "[CV] END .................................................... total time=   1.6s\n"
     ]
    },
    {
     "name": "stderr",
     "output_type": "stream",
     "text": [
      "/var/folders/15/psv1y74j5nbdx6lvs_xw8jgm0000gn/T/ipykernel_1283/1056965083.py:22: RuntimeWarning: invalid value encountered in long_scalars\n",
      "  sensitivity = cm[0][0]/(cm[0][0]+cm[0][1])\n"
     ]
    },
    {
     "name": "stdout",
     "output_type": "stream",
     "text": [
      "[CV] END .................................................... total time=   1.6s\n"
     ]
    },
    {
     "name": "stderr",
     "output_type": "stream",
     "text": [
      "/var/folders/15/psv1y74j5nbdx6lvs_xw8jgm0000gn/T/ipykernel_1283/1056965083.py:22: RuntimeWarning: invalid value encountered in long_scalars\n",
      "  sensitivity = cm[0][0]/(cm[0][0]+cm[0][1])\n"
     ]
    },
    {
     "name": "stdout",
     "output_type": "stream",
     "text": [
      "[CV] END .................................................... total time=   1.6s\n",
      "[CV] END .................................................... total time=   1.6s\n",
      "[CV] END .................................................... total time=   1.6s\n",
      "[CV] END .................................................... total time=   1.7s\n",
      "[CV] END .................................................... total time=   1.6s\n",
      "[CV] END .................................................... total time=   1.7s\n",
      "[CV] END .................................................... total time=   1.6s\n",
      "[CV] END .................................................... total time=   1.7s\n",
      "[CV] END .................................................... total time=   1.6s\n",
      "model fit completed\n",
      "-------/Users/arisingh/Documents/GitHub/2022-svsm-afib-group1/mit-bih-time-features-experiment/0.85-------\n",
      "    fit_time  score_time  test_sensitivity  test_specificity  test_precision  \\\n",
      "0   1.623217    0.042337          0.897468          0.931818        0.999076   \n",
      "1   1.594058    0.062795          0.968161          0.880359        0.962888   \n",
      "2   1.702264    0.040089          0.993072          0.948148        0.998916   \n",
      "3   1.582575    0.041905          0.779517          0.968692        0.996697   \n",
      "4   1.575601    0.050790          0.993248          0.977074        0.959492   \n",
      "5   1.589720    0.059360          0.941214          0.951546        0.994662   \n",
      "6   1.579124    0.052915          0.811386          0.888385        0.716424   \n",
      "7   1.618755    0.037701          0.982583          0.695652        0.998831   \n",
      "8   1.560729    0.050958          0.873827          0.936967        0.867636   \n",
      "9   1.606757    0.044101          0.859649          0.987421        0.999686   \n",
      "10  1.542183    0.054113          0.596386          0.978957        0.515625   \n",
      "11  1.627986    0.034456          0.977070          0.756757        0.996786   \n",
      "12  1.585191    0.054266          0.508243          0.963020        0.932723   \n",
      "13  1.597255    0.039625               NaN          0.940699        0.000000   \n",
      "14  1.570479    0.060685               NaN          0.748329        0.000000   \n",
      "15  1.582603    0.056818          0.920916          0.959346        0.901918   \n",
      "16  1.612213    0.037153          0.965201          0.977817        0.994757   \n",
      "17  1.620468    0.044837          0.975697          0.963211        0.890211   \n",
      "18  1.582293    0.057429          0.528297          0.969620        0.982134   \n",
      "19  1.621826    0.044276          0.982847          0.911134        0.970321   \n",
      "20  1.577752    0.058525          0.987692          0.979510        0.935860   \n",
      "21  1.637608    0.040554          0.950778          0.979221        0.998653   \n",
      "22  1.576160    0.059447          0.995257          0.978579        0.940957   \n",
      "\n",
      "    test_f1_score  test_accuracy  test_elapsed      test_eps  \n",
      "0        0.945550       0.897881      0.001626  2.223487e-07  \n",
      "1        0.965517       0.947287      0.002282  2.215153e-07  \n",
      "2        0.995985       0.992157      0.002155  3.250279e-07  \n",
      "3        0.874829       0.793936      0.001755  2.463791e-07  \n",
      "4        0.976078       0.982791      0.001732  2.175936e-07  \n",
      "5        0.967200       0.942190      0.002526  2.458802e-07  \n",
      "6        0.760954       0.868527      0.002177  2.440073e-07  \n",
      "7        0.990640       0.981503      0.001861  3.046381e-07  \n",
      "8        0.870720       0.916697      0.001886  2.273781e-07  \n",
      "9        0.924394       0.862333      0.001673  2.210772e-07  \n",
      "10       0.553073       0.965107      0.001773  1.933462e-07  \n",
      "11       0.986829       0.974253      0.001680  2.902487e-07  \n",
      "12       0.657961       0.734641      0.002950  3.213554e-07  \n",
      "13            NaN       0.940699      0.001608  2.463858e-07  \n",
      "14            NaN       0.748329      0.002715  2.708697e-07  \n",
      "15       0.911318       0.948250      0.001914  2.042733e-07  \n",
      "16       0.979756       0.967555      0.001884  3.118845e-07  \n",
      "17       0.930995       0.966135      0.001685  2.338923e-07  \n",
      "18       0.687034       0.634354      0.002012  2.040002e-07  \n",
      "19       0.976544       0.964720      0.001498  1.979626e-07  \n",
      "20       0.961078       0.981412      0.002175  2.220934e-07  \n",
      "21       0.974127       0.952431      0.002173  3.281629e-07  \n",
      "22       0.967345       0.982839      0.002067  2.086547e-07  \n",
      "0.9106967440865151\n",
      "0.9248811089484673\n",
      "0.8804051483777628\n",
      "0.8501848512047087\n",
      "0.8979966767103209\n",
      "/Users/arisingh/Documents/GitHub/2022-svsm-afib-group1/mit-bih-time-features-experiment/0.15\n"
     ]
    },
    {
     "name": "stderr",
     "output_type": "stream",
     "text": [
      "[Parallel(n_jobs=1)]: Done  23 out of  23 | elapsed:   38.0s finished\n"
     ]
    },
    {
     "name": "stdout",
     "output_type": "stream",
     "text": [
      "model fit started\n"
     ]
    },
    {
     "name": "stderr",
     "output_type": "stream",
     "text": [
      "[Parallel(n_jobs=1)]: Using backend SequentialBackend with 1 concurrent workers.\n"
     ]
    },
    {
     "name": "stdout",
     "output_type": "stream",
     "text": [
      "[CV] END .................................................... total time=   2.5s\n"
     ]
    },
    {
     "name": "stderr",
     "output_type": "stream",
     "text": [
      "[Parallel(n_jobs=1)]: Done   1 out of   1 | elapsed:    2.5s remaining:    0.0s\n"
     ]
    },
    {
     "name": "stdout",
     "output_type": "stream",
     "text": [
      "[CV] END .................................................... total time=   2.5s\n",
      "[CV] END .................................................... total time=   2.5s\n",
      "[CV] END .................................................... total time=   2.5s\n",
      "[CV] END .................................................... total time=   2.5s\n",
      "[CV] END .................................................... total time=   2.5s\n",
      "[CV] END .................................................... total time=   2.5s\n",
      "[CV] END .................................................... total time=   2.5s\n",
      "[CV] END .................................................... total time=   2.5s\n",
      "[CV] END .................................................... total time=   2.5s\n",
      "[CV] END .................................................... total time=   2.4s\n",
      "[CV] END .................................................... total time=   2.5s\n",
      "[CV] END .................................................... total time=   2.5s\n"
     ]
    },
    {
     "name": "stderr",
     "output_type": "stream",
     "text": [
      "/var/folders/15/psv1y74j5nbdx6lvs_xw8jgm0000gn/T/ipykernel_1283/1056965083.py:22: RuntimeWarning: invalid value encountered in long_scalars\n",
      "  sensitivity = cm[0][0]/(cm[0][0]+cm[0][1])\n"
     ]
    },
    {
     "name": "stdout",
     "output_type": "stream",
     "text": [
      "[CV] END .................................................... total time=   2.5s\n"
     ]
    },
    {
     "name": "stderr",
     "output_type": "stream",
     "text": [
      "/var/folders/15/psv1y74j5nbdx6lvs_xw8jgm0000gn/T/ipykernel_1283/1056965083.py:22: RuntimeWarning: invalid value encountered in long_scalars\n",
      "  sensitivity = cm[0][0]/(cm[0][0]+cm[0][1])\n"
     ]
    },
    {
     "name": "stdout",
     "output_type": "stream",
     "text": [
      "[CV] END .................................................... total time=   2.5s\n",
      "[CV] END .................................................... total time=   2.4s\n",
      "[CV] END .................................................... total time=   2.5s\n",
      "[CV] END .................................................... total time=   2.5s\n",
      "[CV] END .................................................... total time=   2.5s\n",
      "[CV] END .................................................... total time=   2.5s\n",
      "[CV] END .................................................... total time=   2.4s\n",
      "[CV] END .................................................... total time=   2.5s\n",
      "[CV] END .................................................... total time=   2.4s\n",
      "model fit completed\n",
      "-------/Users/arisingh/Documents/GitHub/2022-svsm-afib-group1/mit-bih-time-features-experiment/0.15-------\n",
      "    fit_time  score_time  test_sensitivity  test_specificity  test_precision  \\\n",
      "0   2.446717    0.044746          0.901204          0.931818        0.999080   \n",
      "1   2.394662    0.061137          0.932883          0.727236        0.916427   \n",
      "2   2.453371    0.040382          0.992764          0.800000        0.995830   \n",
      "3   2.432505    0.042971          0.885580          0.963168        0.996580   \n",
      "4   2.402116    0.048534          0.990760          0.993588        0.988302   \n",
      "5   2.412728    0.062306          0.963138          0.920619        0.991481   \n",
      "6   2.403901    0.054148          0.850500          0.900770        0.748661   \n",
      "7   2.471039    0.037269          0.976011          0.347826        0.997481   \n",
      "8   2.442993    0.050117          0.913256          0.956676        0.908819   \n",
      "9   2.439651    0.046014          0.892578          0.911950        0.997888   \n",
      "10  2.392869    0.053916          0.274096          0.992307        0.572327   \n",
      "11  2.456195    0.034984          0.984246          0.418919        0.992411   \n",
      "12  2.403739    0.054355          0.646855          0.972210        0.959151   \n",
      "13  2.435016    0.039220               NaN          0.894422        0.000000   \n",
      "14  2.393169    0.060055               NaN          0.558105        0.000000   \n",
      "15  2.385666    0.056703          0.917960          0.965347        0.914917   \n",
      "16  2.452863    0.038570          0.973952          0.974268        0.993977   \n",
      "17  2.417795    0.044545          0.972733          0.971548        0.912681   \n",
      "18  2.414111    0.058716          0.653764          0.978903        0.989895   \n",
      "19  2.439208    0.045851          0.981963          0.934135        0.977813   \n",
      "20  2.375083    0.057653          0.982857          0.985631        0.953925   \n",
      "21  2.458669    0.039054          0.963604          0.989610        0.999335   \n",
      "22  2.384070    0.059676          0.993281          0.993492        0.981257   \n",
      "\n",
      "    test_f1_score  test_accuracy  test_elapsed      test_eps  \n",
      "0        0.947621       0.901572      0.002036  2.782723e-07  \n",
      "1        0.924582       0.883992      0.001700  1.650648e-07  \n",
      "2        0.994295       0.988839      0.001611  2.429511e-07  \n",
      "3        0.937807       0.891494      0.001730  2.427711e-07  \n",
      "4        0.989530       0.992589      0.001642  2.062296e-07  \n",
      "5        0.977104       0.959124      0.001867  1.817378e-07  \n",
      "6        0.796338       0.887805      0.001754  1.965564e-07  \n",
      "7        0.986629       0.973645      0.001891  3.095541e-07  \n",
      "8        0.911032       0.942737      0.001721  2.074280e-07  \n",
      "9        0.942299       0.892985      0.001482  1.958152e-07  \n",
      "10       0.370672       0.966307      0.001782  1.942633e-07  \n",
      "11       0.988312       0.977017      0.002081  3.595461e-07  \n",
      "12       0.772639       0.808824      0.002137  2.328387e-07  \n",
      "13            NaN       0.894422      0.001646  2.522318e-07  \n",
      "14            NaN       0.558105      0.002054  2.049092e-07  \n",
      "15       0.916436       0.951665      0.001734  1.849836e-07  \n",
      "16       0.983863       0.974011      0.002377  3.934248e-07  \n",
      "17       0.941750       0.971825      0.002206  3.062093e-07  \n",
      "18       0.787460       0.731900      0.001740  1.764064e-07  \n",
      "19       0.979884       0.969873      0.001411  1.864404e-07  \n",
      "20       0.968175       0.984986      0.001605  1.638763e-07  \n",
      "21       0.981144       0.965116      0.001617  2.442232e-07  \n",
      "22       0.987232       0.993438      0.001740  1.756013e-07  \n",
      "0.9157508999740174\n",
      "0.8731542134130821\n",
      "0.8878087575879311\n",
      "0.860358168931882\n",
      "0.9088001666384165\n",
      "/Users/arisingh/Documents/GitHub/2022-svsm-afib-group1/mit-bih-time-features-experiment/0.35\n"
     ]
    },
    {
     "name": "stderr",
     "output_type": "stream",
     "text": [
      "[Parallel(n_jobs=1)]: Done  23 out of  23 | elapsed:   56.9s finished\n"
     ]
    },
    {
     "name": "stdout",
     "output_type": "stream",
     "text": [
      "model fit started\n"
     ]
    },
    {
     "name": "stderr",
     "output_type": "stream",
     "text": [
      "[Parallel(n_jobs=1)]: Using backend SequentialBackend with 1 concurrent workers.\n"
     ]
    },
    {
     "name": "stdout",
     "output_type": "stream",
     "text": [
      "[CV] END .................................................... total time=   2.3s\n"
     ]
    },
    {
     "name": "stderr",
     "output_type": "stream",
     "text": [
      "[Parallel(n_jobs=1)]: Done   1 out of   1 | elapsed:    2.3s remaining:    0.0s\n"
     ]
    },
    {
     "name": "stdout",
     "output_type": "stream",
     "text": [
      "[CV] END .................................................... total time=   2.2s\n",
      "[CV] END .................................................... total time=   2.3s\n",
      "[CV] END .................................................... total time=   2.3s\n",
      "[CV] END .................................................... total time=   2.2s\n",
      "[CV] END .................................................... total time=   2.2s\n",
      "[CV] END .................................................... total time=   2.3s\n",
      "[CV] END .................................................... total time=   2.2s\n",
      "[CV] END .................................................... total time=   2.2s\n",
      "[CV] END .................................................... total time=   2.3s\n",
      "[CV] END .................................................... total time=   2.2s\n",
      "[CV] END .................................................... total time=   2.3s\n",
      "[CV] END .................................................... total time=   2.2s\n"
     ]
    },
    {
     "name": "stderr",
     "output_type": "stream",
     "text": [
      "/var/folders/15/psv1y74j5nbdx6lvs_xw8jgm0000gn/T/ipykernel_1283/1056965083.py:22: RuntimeWarning: invalid value encountered in long_scalars\n",
      "  sensitivity = cm[0][0]/(cm[0][0]+cm[0][1])\n"
     ]
    },
    {
     "name": "stdout",
     "output_type": "stream",
     "text": [
      "[CV] END .................................................... total time=   2.2s\n"
     ]
    },
    {
     "name": "stderr",
     "output_type": "stream",
     "text": [
      "/var/folders/15/psv1y74j5nbdx6lvs_xw8jgm0000gn/T/ipykernel_1283/1056965083.py:22: RuntimeWarning: invalid value encountered in long_scalars\n",
      "  sensitivity = cm[0][0]/(cm[0][0]+cm[0][1])\n"
     ]
    },
    {
     "name": "stdout",
     "output_type": "stream",
     "text": [
      "[CV] END .................................................... total time=   2.2s\n",
      "[CV] END .................................................... total time=   2.2s\n",
      "[CV] END .................................................... total time=   2.3s\n",
      "[CV] END .................................................... total time=   2.2s\n",
      "[CV] END .................................................... total time=   2.2s\n",
      "[CV] END .................................................... total time=   2.2s\n",
      "[CV] END .................................................... total time=   2.2s\n",
      "[CV] END .................................................... total time=   2.2s\n",
      "[CV] END .................................................... total time=   2.2s\n",
      "model fit completed\n",
      "-------/Users/arisingh/Documents/GitHub/2022-svsm-afib-group1/mit-bih-time-features-experiment/0.35-------\n",
      "    fit_time  score_time  test_sensitivity  test_specificity  test_precision  \\\n",
      "0   2.218549    0.043790          0.894285          0.988636        0.999845   \n",
      "1   2.125282    0.063483          0.957718          0.779094        0.932887   \n",
      "2   2.251075    0.039470          0.991994          0.874074        0.997368   \n",
      "3   2.237871    0.044069          0.848959          0.970534        0.997144   \n",
      "4   2.182147    0.048650          0.995380          0.981348        0.966862   \n",
      "5   2.161348    0.063123          0.942397          0.941237        0.993542   \n",
      "6   2.208573    0.054490          0.894828          0.905603        0.767139   \n",
      "7   2.210078    0.037145          0.978311          0.478261        0.997989   \n",
      "8   2.188099    0.049566          0.904243          0.959517        0.913505   \n",
      "9   2.214073    0.045714          0.884615          0.924528        0.998173   \n",
      "10  2.140364    0.054427          0.409639          0.990610        0.621005   \n",
      "11  2.262040    0.035343          0.985997          0.581081        0.994527   \n",
      "12  2.173716    0.054133          0.577007          0.953392        0.925861   \n",
      "13  2.190339    0.039330               NaN          0.953111        0.000000   \n",
      "14  2.139918    0.061748               NaN          0.610175        0.000000   \n",
      "15  2.152889    0.054871          0.944937          0.970447        0.928468   \n",
      "16  2.234470    0.037471          0.967440          0.972493        0.993521   \n",
      "17  2.174608    0.043915          0.981624          0.973904        0.920000   \n",
      "18  2.127314    0.059455          0.589429          0.973840        0.986155   \n",
      "19  2.192293    0.045308          0.978603          0.913225        0.970877   \n",
      "20  2.123667    0.057987          0.986813          0.985365        0.953291   \n",
      "21  2.188868    0.040136          0.958634          0.987013        0.999164   \n",
      "22  2.131609    0.059640          0.997628          0.992272        0.977916   \n",
      "\n",
      "    test_f1_score  test_accuracy  test_elapsed      test_eps  \n",
      "0        0.944124       0.895420      0.001619  2.212957e-07  \n",
      "1        0.945139       0.915251      0.001690  1.640246e-07  \n",
      "2        0.994674       0.989593      0.001660  2.504050e-07  \n",
      "3        0.917104       0.858226      0.001680  2.357682e-07  \n",
      "4        0.980914       0.986308      0.002459  3.089312e-07  \n",
      "5        0.967294       0.942287      0.001899  1.848455e-07  \n",
      "6        0.826078       0.902824      0.001697  1.901955e-07  \n",
      "7        0.988052       0.976428      0.001801  2.948350e-07  \n",
      "8        0.908851       0.941772      0.001787  2.153913e-07  \n",
      "9        0.937970       0.885454      0.001531  2.023047e-07  \n",
      "10       0.493648       0.969578      0.001685  1.837837e-07  \n",
      "11       0.990243       0.980819      0.001682  2.906174e-07  \n",
      "12       0.710945       0.764379      0.001864  2.029988e-07  \n",
      "13            NaN       0.953111      0.001573  2.410832e-07  \n",
      "14            NaN       0.610175      0.002077  2.072139e-07  \n",
      "15       0.936630       0.963082      0.001719  1.833720e-07  \n",
      "16       0.980307       0.968383      0.002228  3.687446e-07  \n",
      "17       0.949814       0.975711      0.002189  3.038605e-07  \n",
      "18       0.737845       0.681809      0.001820  1.845825e-07  \n",
      "19       0.974725       0.962077      0.001405  1.856261e-07  \n",
      "20       0.969762       0.985701      0.002932  2.994639e-07  \n",
      "21       0.978480       0.960284      0.002113  3.191256e-07  \n",
      "22       0.987674       0.993640      0.001817  1.834526e-07  \n",
      "0.9157527024874249\n",
      "0.8982504159344574\n",
      "0.8890705415726237\n",
      "0.8624016810717627\n",
      "0.9104891150764081\n",
      "/Users/arisingh/Documents/GitHub/2022-svsm-afib-group1/mit-bih-time-features-experiment/0.75\n"
     ]
    },
    {
     "name": "stderr",
     "output_type": "stream",
     "text": [
      "[Parallel(n_jobs=1)]: Done  23 out of  23 | elapsed:   51.4s finished\n"
     ]
    },
    {
     "name": "stdout",
     "output_type": "stream",
     "text": [
      "model fit started\n"
     ]
    },
    {
     "name": "stderr",
     "output_type": "stream",
     "text": [
      "[Parallel(n_jobs=1)]: Using backend SequentialBackend with 1 concurrent workers.\n"
     ]
    },
    {
     "name": "stdout",
     "output_type": "stream",
     "text": [
      "[CV] END .................................................... total time=   1.8s\n"
     ]
    },
    {
     "name": "stderr",
     "output_type": "stream",
     "text": [
      "[Parallel(n_jobs=1)]: Done   1 out of   1 | elapsed:    1.8s remaining:    0.0s\n"
     ]
    },
    {
     "name": "stdout",
     "output_type": "stream",
     "text": [
      "[CV] END .................................................... total time=   1.8s\n",
      "[CV] END .................................................... total time=   1.8s\n",
      "[CV] END .................................................... total time=   1.8s\n",
      "[CV] END .................................................... total time=   1.8s\n",
      "[CV] END .................................................... total time=   1.8s\n",
      "[CV] END .................................................... total time=   1.8s\n",
      "[CV] END .................................................... total time=   1.8s\n",
      "[CV] END .................................................... total time=   1.8s\n",
      "[CV] END .................................................... total time=   1.8s\n",
      "[CV] END .................................................... total time=   1.8s\n",
      "[CV] END .................................................... total time=   1.8s\n",
      "[CV] END .................................................... total time=   1.8s\n"
     ]
    },
    {
     "name": "stderr",
     "output_type": "stream",
     "text": [
      "/var/folders/15/psv1y74j5nbdx6lvs_xw8jgm0000gn/T/ipykernel_1283/1056965083.py:22: RuntimeWarning: invalid value encountered in long_scalars\n",
      "  sensitivity = cm[0][0]/(cm[0][0]+cm[0][1])\n"
     ]
    },
    {
     "name": "stdout",
     "output_type": "stream",
     "text": [
      "[CV] END .................................................... total time=   1.8s\n"
     ]
    },
    {
     "name": "stderr",
     "output_type": "stream",
     "text": [
      "/var/folders/15/psv1y74j5nbdx6lvs_xw8jgm0000gn/T/ipykernel_1283/1056965083.py:22: RuntimeWarning: invalid value encountered in long_scalars\n",
      "  sensitivity = cm[0][0]/(cm[0][0]+cm[0][1])\n"
     ]
    },
    {
     "name": "stdout",
     "output_type": "stream",
     "text": [
      "[CV] END .................................................... total time=   1.8s\n",
      "[CV] END .................................................... total time=   1.9s\n",
      "[CV] END .................................................... total time=   1.8s\n",
      "[CV] END .................................................... total time=   1.8s\n",
      "[CV] END .................................................... total time=   1.8s\n",
      "[CV] END .................................................... total time=   1.8s\n",
      "[CV] END .................................................... total time=   1.8s\n",
      "[CV] END .................................................... total time=   1.8s\n",
      "[CV] END .................................................... total time=   1.8s\n",
      "model fit completed\n",
      "-------/Users/arisingh/Documents/GitHub/2022-svsm-afib-group1/mit-bih-time-features-experiment/0.75-------\n",
      "    fit_time  score_time  test_sensitivity  test_specificity  test_precision  \\\n",
      "0   1.779686    0.040642          0.894977          0.954545        0.999382   \n",
      "1   1.719819    0.061452          0.964595          0.871376        0.960071   \n",
      "2   1.788758    0.041118          0.991070          0.933333        0.998604   \n",
      "3   1.764511    0.043463          0.763866          0.968692        0.996630   \n",
      "4   1.726818    0.049435          0.992537          0.979211        0.963103   \n",
      "5   1.735546    0.060991          0.938743          0.953608        0.994875   \n",
      "6   1.745996    0.051551          0.824424          0.896239        0.734133   \n",
      "7   1.801655    0.036175          0.980611          0.652174        0.998661   \n",
      "8   1.736253    0.048937          0.886219          0.938210        0.871492   \n",
      "9   1.756278    0.045257          0.866397          0.968553        0.999222   \n",
      "10  1.700547    0.052798          0.542169          0.983143        0.547112   \n",
      "11  1.810073    0.034051          0.971469          0.743243        0.996588   \n",
      "12  1.739557    0.055486          0.543384          0.968490        0.945640   \n",
      "13  1.754474    0.038373               NaN          0.949280        0.000000   \n",
      "14  1.713277    0.060721               NaN          0.709027        0.000000   \n",
      "15  1.802030    0.054703          0.921286          0.961896        0.907535   \n",
      "16  1.805970    0.036294          0.969678          0.975155        0.994158   \n",
      "17  1.755274    0.043269          0.973325          0.962124        0.887088   \n",
      "18  1.747480    0.060764          0.523358          0.974262        0.984681   \n",
      "19  1.786273    0.047161          0.978249          0.917407        0.972232   \n",
      "20  1.728801    0.056981          0.983736          0.979643        0.936010   \n",
      "21  1.794807    0.039758          0.948693          0.979221        0.998650   \n",
      "22  1.739611    0.058525          0.994862          0.985493        0.959223   \n",
      "\n",
      "    test_f1_score  test_accuracy  test_elapsed      test_eps  \n",
      "0        0.944303       0.895694      0.001631  2.229806e-07  \n",
      "1        0.962328       0.942433      0.001818  1.764427e-07  \n",
      "2        0.994823       0.989894      0.001673  2.523635e-07  \n",
      "3        0.864860       0.779478      0.001901  2.667878e-07  \n",
      "4        0.977599       0.983922      0.001689  2.121642e-07  \n",
      "5        0.965994       0.940146      0.002604  2.533933e-07  \n",
      "6        0.776663       0.877718      0.001757  1.969338e-07  \n",
      "7        0.989554       0.979375      0.001635  2.676844e-07  \n",
      "8        0.878794       0.921519      0.002209  2.663320e-07  \n",
      "9        0.928081       0.868543      0.001817  2.400345e-07  \n",
      "10       0.544629       0.967179      0.001869  2.037846e-07  \n",
      "11       0.983868       0.968550      0.001711  2.956803e-07  \n",
      "12       0.690178       0.755011      0.001860  2.025963e-07  \n",
      "13            NaN       0.949280      0.001619  2.480486e-07  \n",
      "14            NaN       0.709027      0.002079  2.073460e-07  \n",
      "15       0.914359       0.950171      0.001775  1.894358e-07  \n",
      "16       0.981766       0.970700      0.001534  2.539965e-07  \n",
      "17       0.928208       0.964747      0.001916  2.659065e-07  \n",
      "18       0.683458       0.631718      0.001910  1.936796e-07  \n",
      "19       0.975231       0.962870      0.001472  1.945237e-07  \n",
      "20       0.959280       0.980594      0.001671  1.706253e-07  \n",
      "21       0.973031       0.950468      0.001533  2.315279e-07  \n",
      "22       0.976717       0.987886      0.001892  1.910322e-07  \n",
      "0.9098661874048652\n",
      "0.9219273500057745\n",
      "0.8787451651587688\n",
      "0.8541343640176692\n",
      "0.8997010927507254\n",
      "/Users/arisingh/Documents/GitHub/2022-svsm-afib-group1/mit-bih-time-features-experiment/0.45\n"
     ]
    },
    {
     "name": "stderr",
     "output_type": "stream",
     "text": [
      "[Parallel(n_jobs=1)]: Done  23 out of  23 | elapsed:   41.6s finished\n"
     ]
    },
    {
     "name": "stdout",
     "output_type": "stream",
     "text": [
      "model fit started\n"
     ]
    },
    {
     "name": "stderr",
     "output_type": "stream",
     "text": [
      "[Parallel(n_jobs=1)]: Using backend SequentialBackend with 1 concurrent workers.\n"
     ]
    },
    {
     "name": "stdout",
     "output_type": "stream",
     "text": [
      "[CV] END .................................................... total time=   2.2s\n"
     ]
    },
    {
     "name": "stderr",
     "output_type": "stream",
     "text": [
      "[Parallel(n_jobs=1)]: Done   1 out of   1 | elapsed:    2.2s remaining:    0.0s\n"
     ]
    },
    {
     "name": "stdout",
     "output_type": "stream",
     "text": [
      "[CV] END .................................................... total time=   2.1s\n",
      "[CV] END .................................................... total time=   2.2s\n",
      "[CV] END .................................................... total time=   2.1s\n",
      "[CV] END .................................................... total time=   2.1s\n",
      "[CV] END .................................................... total time=   2.2s\n",
      "[CV] END .................................................... total time=   2.2s\n",
      "[CV] END .................................................... total time=   2.2s\n",
      "[CV] END .................................................... total time=   2.1s\n",
      "[CV] END .................................................... total time=   2.2s\n",
      "[CV] END .................................................... total time=   2.1s\n",
      "[CV] END .................................................... total time=   2.2s\n",
      "[CV] END .................................................... total time=   2.1s\n"
     ]
    },
    {
     "name": "stderr",
     "output_type": "stream",
     "text": [
      "/var/folders/15/psv1y74j5nbdx6lvs_xw8jgm0000gn/T/ipykernel_1283/1056965083.py:22: RuntimeWarning: invalid value encountered in long_scalars\n",
      "  sensitivity = cm[0][0]/(cm[0][0]+cm[0][1])\n"
     ]
    },
    {
     "name": "stdout",
     "output_type": "stream",
     "text": [
      "[CV] END .................................................... total time=   2.1s\n"
     ]
    },
    {
     "name": "stderr",
     "output_type": "stream",
     "text": [
      "/var/folders/15/psv1y74j5nbdx6lvs_xw8jgm0000gn/T/ipykernel_1283/1056965083.py:22: RuntimeWarning: invalid value encountered in long_scalars\n",
      "  sensitivity = cm[0][0]/(cm[0][0]+cm[0][1])\n"
     ]
    },
    {
     "name": "stdout",
     "output_type": "stream",
     "text": [
      "[CV] END .................................................... total time=   2.1s\n",
      "[CV] END .................................................... total time=   2.1s\n",
      "[CV] END .................................................... total time=   2.2s\n",
      "[CV] END .................................................... total time=   2.1s\n",
      "[CV] END .................................................... total time=   2.2s\n",
      "[CV] END .................................................... total time=   2.2s\n",
      "[CV] END .................................................... total time=   2.1s\n",
      "[CV] END .................................................... total time=   2.2s\n",
      "[CV] END .................................................... total time=   2.1s\n",
      "model fit completed\n",
      "-------/Users/arisingh/Documents/GitHub/2022-svsm-afib-group1/mit-bih-time-features-experiment/0.45-------\n",
      "    fit_time  score_time  test_sensitivity  test_specificity  test_precision  \\\n",
      "0   2.156209    0.043390          0.893593          0.988636        0.999845   \n",
      "1   2.052358    0.060662          0.960265          0.810127        0.941911   \n",
      "2   2.126724    0.041190          0.992456          0.888889        0.997678   \n",
      "3   2.084556    0.043609          0.820696          0.976059        0.997599   \n",
      "4   2.016717    0.046059          0.993959          0.983097        0.969834   \n",
      "5   2.108195    0.061289          0.940140          0.941237        0.993526   \n",
      "6   2.106569    0.054751          0.876141          0.894578        0.742815   \n",
      "7   2.129716    0.037625          0.979790          0.565217        0.998326   \n",
      "8   2.061102    0.050972          0.897860          0.950994        0.896513   \n",
      "9   2.129725    0.046114          0.874629          0.930818        0.998306   \n",
      "10  2.024105    0.055117          0.454819          0.988687        0.601594   \n",
      "11  2.125619    0.036060          0.981096          0.527027        0.993794   \n",
      "12  2.034019    0.056480          0.563124          0.967615        0.946064   \n",
      "13  2.053693    0.040178               NaN          0.936102        0.000000   \n",
      "14  2.026222    0.061835               NaN          0.626434        0.000000   \n",
      "15  2.040727    0.058102          0.933481          0.961146        0.907002   \n",
      "16  2.142310    0.037954          0.970899          0.979592        0.995202   \n",
      "17  2.059788    0.043835          0.979253          0.972273        0.915235   \n",
      "18  2.114817    0.059189          0.581420          0.970886        0.984407   \n",
      "19  2.132337    0.044902          0.981079          0.889702        0.963362   \n",
      "20  2.027159    0.057637          0.992088          0.981772        0.942774   \n",
      "21  2.150792    0.041055          0.951259          0.992208        0.999495   \n",
      "22  2.057346    0.058353          0.996443          0.987120        0.963685   \n",
      "\n",
      "    test_f1_score  test_accuracy  test_elapsed      test_eps  \n",
      "0        0.943738       0.894737      0.001658  2.266831e-07  \n",
      "1        0.951000       0.924570      0.001708  1.658534e-07  \n",
      "2        0.995060       0.990347      0.001476  2.226906e-07  \n",
      "3        0.900542       0.832538      0.001761  2.471625e-07  \n",
      "4        0.981748       0.986936      0.001612  2.024537e-07  \n",
      "5        0.966096       0.940243      0.002290  2.228914e-07  \n",
      "6        0.803988       0.889823      0.001733  1.942015e-07  \n",
      "7        0.988971       0.978229      0.001698  2.779933e-07  \n",
      "8        0.897186       0.933936      0.001805  2.176346e-07  \n",
      "9        0.932384       0.875809      0.001645  2.172879e-07  \n",
      "10       0.518010       0.969360      0.002080  2.267819e-07  \n",
      "11       0.987404       0.975289      0.001919  3.315860e-07  \n",
      "12       0.706010       0.764488      0.002094  2.281442e-07  \n",
      "13            NaN       0.936102      0.001671  2.560656e-07  \n",
      "14            NaN       0.626434      0.002039  2.033908e-07  \n",
      "15       0.920051       0.953158      0.001710  1.825037e-07  \n",
      "16       0.982901       0.972521      0.001946  3.221030e-07  \n",
      "17       0.946163       0.973907      0.002090  2.901201e-07  \n",
      "18       0.731056       0.675015      0.001873  1.898734e-07  \n",
      "19       0.972139       0.957981      0.001672  2.209918e-07  \n",
      "20       0.966802       0.984169      0.001562  1.595175e-07  \n",
      "21       0.974780       0.953639      0.001569  2.368988e-07  \n",
      "22       0.979790       0.989501      0.001835  1.852343e-07  \n",
      "0.9121188833324141\n",
      "0.9004441352086658\n",
      "0.8864041883772169\n",
      "0.8586507132052281\n",
      "0.9069438178010313\n"
     ]
    },
    {
     "name": "stderr",
     "output_type": "stream",
     "text": [
      "[Parallel(n_jobs=1)]: Done  23 out of  23 | elapsed:   49.2s finished\n"
     ]
    }
   ],
   "source": [
    "feature_experiment_path = pathlib.Path(os.getcwd()).parent.parent /  'mit-bih-time-features-experiment'\n",
    "\n",
    "dirs = [str(x) for x in feature_experiment_path.iterdir() if x.is_dir()]\n",
    "\n",
    "for dir in tqdm(dirs):\n",
    "    print(dir)\n",
    "    feature_dfs = {}\n",
    "    for record in rlist:\n",
    "        feature_dfs[record] = pd.read_csv(os.path.normpath(dir+'/'+record+'.csv'), index_col=0, dtype={'subjectID': str})\n",
    "\n",
    "    combined_features = pd.concat([feature_dfs[key][1:] for key in feature_dfs])\n",
    "\n",
    "    X = combined_features[['StoS', 'StoR', 'StoL', 'RtoS', 'RtoR', 'RtoL', 'LtoS', 'LtoR', 'LtoL', 'rmssd', 'iqr', 'mad', 'cov']]\n",
    "    y = combined_features['mappedLabel'].map({\"Non-Afib\": 0, \"Afib\": 1})\n",
    "    groups = combined_features['subjectID'].astype('int64')\n",
    "\n",
    "    logo = LeaveOneGroupOut()\n",
    "    splits = list(logo.split(X, y, groups=groups))\n",
    "\n",
    "    # Decision tree\n",
    "    moving_accuracy['decision_tree'] = []\n",
    "\n",
    "    moving_acc = []\n",
    "\n",
    "    print(\"model fit started\")\n",
    "    decision_tree = DecisionTreeClassifier(max_depth=10, random_state=2)\n",
    "    cv_results = cross_validate(decision_tree, X, y, scoring=scorer, cv=splits, verbose=2)\n",
    "    print(\"model fit completed\")\n",
    "\n",
    "    moving_accuracy['decision_tree'] = moving_acc\n",
    "\n",
    "    '''\n",
    "    print(decision_tree.feature_importances_)\n",
    "    Importance = pd.DataFrame({'Importance':(decision_tree.feature_importances_*100)[0:12]}, \n",
    "                        index = (X.columns)[0:12])\n",
    "    Importance.sort_values(by = 'Importance', \n",
    "                    axis = 0, \n",
    "                    ascending = True).plot(kind = 'barh', \n",
    "                                            color = 'r')\n",
    "    plt.xlabel('Variable Importance')\n",
    "    plt.gca().legend_ = \n",
    "    '''\n",
    "\n",
    "    results = pd.DataFrame(cv_results)\n",
    "    #os.mkdir(os.path.normpath(parent_path + '/models/subsets/results/'))\n",
    "    #results.to_csv(os.path.normpath(parent_path + '/models/subsets/results/decision_tree_results.csv'))\n",
    "    print('-------'+dir+'-------')\n",
    "    print(results)\n",
    "\n",
    "    #score_reporter(results.iloc[randomsearch.best_index_])\n",
    "\n",
    "    print(np.mean(results['test_accuracy']))\n",
    "    print(np.mean(results['test_specificity']))\n",
    "    print(np.mean(results['test_sensitivity']))\n",
    "    print(np.mean(results['test_precision']))\n",
    "    print(np.mean(results['test_f1_score']))"
   ]
  },
  {
   "cell_type": "code",
   "execution_count": 19,
   "id": "40cb91a0",
   "metadata": {},
   "outputs": [
    {
     "name": "stdout",
     "output_type": "stream",
     "text": [
      "0.9179499289587065\n"
     ]
    }
   ],
   "source": [
    "print(np.mean(results['test_accuracy']))"
   ]
  },
  {
   "cell_type": "code",
   "execution_count": 16,
   "id": "dab85209",
   "metadata": {},
   "outputs": [
    {
     "data": {
      "image/png": "[encoded data removed]",
      "text/plain": [
       "<Figure size 432x288 with 1 Axes>"
      ]
     },
     "metadata": {
      "image/png": {
       "height": 248,
       "width": 387
      },
      "needs_background": "light"
     },
     "output_type": "display_data"
    }
   ],
   "source": [
    "for classifier in moving_accuracy:\n",
    "    minLen = len(moving_accuracy[classifier][0])\n",
    "    for list in moving_accuracy[classifier]:\n",
    "        if len(list)<minLen:\n",
    "            minLen = len(list)\n",
    "\n",
    "    for list in moving_accuracy[classifier]:\n",
    "        list = list[:minLen]\n",
    "\n",
    "    avg_list = [sum(sub_list) / len(sub_list) for sub_list in zip(*moving_accuracy[classifier])]\n",
    "    plt.plot(avg_list, label = classifier)\n",
    "    plt.legend()"
   ]
  }
 ],
 "metadata": {
  "kernelspec": {
   "display_name": "Python 3.9.12 ('base')",
   "language": "python",
   "name": "python3"
  },
  "language_info": {
   "codemirror_mode": {
    "name": "ipython",
    "version": 3
   },
   "file_extension": ".py",
   "mimetype": "text/x-python",
   "name": "python",
   "nbconvert_exporter": "python",
   "pygments_lexer": "ipython3",
   "version": "3.9.12"
  },
  "vscode": {
   "interpreter": {
    "hash": "a3560a926ee3167b1a96ca2f03ae2c0aec270a04a88da0e3251f5a98878200fd"
   }
  }
 },
 "nbformat": 4,
 "nbformat_minor": 5
}
