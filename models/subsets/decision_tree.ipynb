{
 "cells": [
  {
   "cell_type": "code",
   "execution_count": 1,
   "id": "198cd38c",
   "metadata": {},
   "outputs": [],
   "source": [
    "import numpy as np\n",
    "from matplotlib import pyplot as plt\n",
    "from sklearn import preprocessing\n",
    "import wfdb\n",
    "import copy as cp\n",
    "import scipy.signal as signal\n",
    "import scipy.stats as stats\n",
    "from sklearn import preprocessing\n",
    "from tqdm import tqdm\n",
    "import os\n",
    "import pathlib\n",
    "import re\n",
    "import pandas as pd\n",
    "import pickle\n",
    "import csv\n",
    "import statistics"
   ]
  },
  {
   "cell_type": "code",
   "execution_count": 2,
   "id": "2c512ff2",
   "metadata": {},
   "outputs": [
    {
     "name": "stderr",
     "output_type": "stream",
     "text": [
      "C:\\Users\\lms-puvvalat\\.conda\\envs\\afib\\lib\\site-packages\\xgboost\\compat.py:36: FutureWarning: pandas.Int64Index is deprecated and will be removed from pandas in a future version. Use pandas.Index with the appropriate dtype instead.\n",
      "  from pandas import MultiIndex, Int64Index\n"
     ]
    }
   ],
   "source": [
    "import timeit\n",
    "\n",
    "import matplotlib_inline.backend_inline\n",
    "matplotlib_inline.backend_inline.set_matplotlib_formats(\"retina\")\n",
    "\n",
    "from sklearn.preprocessing import PolynomialFeatures\n",
    "\n",
    "import sklearn.linear_model as skl_lm\n",
    "from sklearn.linear_model import LinearRegression\n",
    "from sklearn.linear_model import LogisticRegression\n",
    "from sklearn.linear_model import LogisticRegressionCV\n",
    "from sklearn import neighbors\n",
    "from sklearn.discriminant_analysis import LinearDiscriminantAnalysis \n",
    "from sklearn.discriminant_analysis import QuadraticDiscriminantAnalysis\n",
    "from sklearn.tree import DecisionTreeRegressor \n",
    "from sklearn.tree import DecisionTreeClassifier \n",
    "from sklearn.tree import export_graphviz\n",
    "from sklearn.svm import SVC\n",
    "\n",
    "from sklearn.model_selection import cross_val_score\n",
    "from sklearn.model_selection import KFold\n",
    "from sklearn.model_selection import LeaveOneGroupOut\n",
    "from sklearn.model_selection import train_test_split\n",
    "from sklearn.model_selection import GridSearchCV\n",
    "from sklearn.model_selection import RandomizedSearchCV\n",
    "\n",
    "from sklearn.metrics import confusion_matrix\n",
    "from sklearn.metrics import classification_report\n",
    "from sklearn.metrics import accuracy_score\n",
    "from sklearn.metrics import precision_score\n",
    "from sklearn.metrics import mean_squared_error\n",
    "\n",
    "from sklearn.ensemble import RandomForestRegressor\n",
    "from sklearn.ensemble import GradientBoostingRegressor\n",
    "from sklearn.ensemble import RandomForestClassifier\n",
    "from sklearn.ensemble import AdaBoostClassifier\n",
    "from sklearn.ensemble import GradientBoostingClassifier\n",
    "\n",
    "import xgboost as xgb\n",
    "from xgboost import XGBClassifier\n",
    "from sklearn import metrics\n",
    "from lightgbm import LGBMClassifier\n",
    "from sklearn.metrics import roc_auc_score\n",
    "from sklearn.metrics import roc_curve, auc\n",
    "\n",
    "import lightgbm\n",
    "import lightgbm as lgb\n",
    "from sklearn.preprocessing import LabelBinarizer\n",
    "\n",
    "import catboost as cb\n",
    "from catboost import CatBoostClassifier"
   ]
  },
  {
   "cell_type": "code",
   "execution_count": 3,
   "id": "24e708a6",
   "metadata": {},
   "outputs": [],
   "source": [
    "parent_path = str(pathlib.Path(os.path.normpath('C:\\\\Users\\\\lms-puvvalat\\\\Documents\\\\GitHub\\\\2022-svsm-afib-group1\\\\')))\n",
    "\n",
    "rlist = []\n",
    "records = os.path.normpath(parent_path + '/mit-bih-dataframes/subject_list.csv')\n",
    "with open(records) as rfile:\n",
    "    recordreader = csv.reader(rfile, delimiter=' ', quotechar='|')\n",
    "    for row in recordreader:\n",
    "        rlist.append(row[0])"
   ]
  },
  {
   "cell_type": "code",
   "execution_count": 4,
   "id": "2d4d4d5c",
   "metadata": {},
   "outputs": [],
   "source": [
    "performance_dict = {\n",
    "    \"Model name\": [],\n",
    "    \"Avg Accuracy\": [],\n",
    "    \"Std Accuracy\": [],\n",
    "    \"Sensitivity\": [],\n",
    "    \"Specificity\": [],\n",
    "    \"Precision\": [],\n",
    "    \"F1 score\": [],\n",
    "    \"Run time\": [],\n",
    "    \"TPS\": []\n",
    "}\n",
    "\n",
    "moving_accuracy = {}"
   ]
  },
  {
   "cell_type": "code",
   "execution_count": 8,
   "id": "e74f0fc8",
   "metadata": {},
   "outputs": [],
   "source": [
    "def score_reporter(initial_results):\n",
    "    initial_columns = initial_results.axes[0].tolist()\n",
    "    results = initial_results.dropna()\n",
    "    changed_columns = results.axes[0].tolist()\n",
    "    \n",
    "    dropped_cols = list(set(initial_columns).difference(changed_columns))\n",
    "    \n",
    "    print(dropped_cols)\n",
    "\n",
    "    acc_scores = []\n",
    "    for x in range(len(rlist)):\n",
    "        col_name = 'split'+str(x)+'_test_accuracy'\n",
    "        if col_name not in dropped_cols:\n",
    "            acc_scores.append(results[col_name])\n",
    "\n",
    "    spec_scores = []\n",
    "    for x in range(len(rlist)):\n",
    "        col_name = 'split'+str(x)+'_test_specificity'\n",
    "        if col_name not in dropped_cols:\n",
    "            spec_scores.append(results[col_name])\n",
    "\n",
    "    sens_scores = []\n",
    "    for x in range(len(rlist)):\n",
    "        col_name = 'split'+str(x)+'_test_sensitivity'\n",
    "        if col_name not in dropped_cols:\n",
    "            sens_scores.append(results[col_name])\n",
    "\n",
    "\n",
    "    prec_scores = []\n",
    "    for x in range(len(rlist)):\n",
    "        col_name = 'split'+str(x)+'_test_precision'\n",
    "        if col_name not in dropped_cols:\n",
    "            prec_scores.append(results[col_name])\n",
    "\n",
    "    f1_scores = []\n",
    "    for x in range(len(rlist)):\n",
    "        col_name = 'split'+str(x)+'_test_f1_score'\n",
    "        if col_name not in dropped_cols:\n",
    "            f1_scores.append(results[col_name])\n",
    "        \n",
    "    elapsed_times = []\n",
    "    for x in range(len(rlist)):\n",
    "        col_name = 'split'+str(x)+'_test_elapsed'\n",
    "        if col_name not in dropped_cols:\n",
    "            elapsed_times.append(results[col_name])\n",
    "\n",
    "    eps_times = []\n",
    "    for x in range(len(rlist)):\n",
    "        col_name = 'split'+str(x)+'_test_eps'\n",
    "        if col_name not in dropped_cols:\n",
    "            eps_times.append(results[col_name])\n",
    "\n",
    "    print('---Run time of each fold: \\n {}'.format(elapsed_times))\n",
    "    print(\"Avg run time: {}\".format(np.mean(elapsed_times)))\n",
    "    print('---Run time per subset of each fold is: \\n {}'.format(eps_times))\n",
    "    print(\"Avg run time per subset: {}\".format(np.mean(eps_times)))\n",
    "    print()\n",
    "    print('Accuracy of each fold: \\n {}'.format(acc_scores))\n",
    "    print(\"Avg accuracy: {}\".format(np.mean(acc_scores)))\n",
    "    print('Std of accuracy : \\n{}'.format(np.std(acc_scores)))\n",
    "    print()\n",
    "    print('Specificity of each fold: \\n {}'.format(spec_scores))\n",
    "    print(\"Avg specificity: {}\".format(np.mean(spec_scores)))\n",
    "    print('Std of specificity: \\n{}'.format(np.std(spec_scores)))\n",
    "    print()\n",
    "    print('Sensitivity of each fold: \\n {}'.format(sens_scores))\n",
    "    print(\"Avg sensitivity: {}\".format(np.mean(sens_scores)))\n",
    "    print('Std of sensitivity: \\n{}'.format(np.std(sens_scores)))\n",
    "    print()\n",
    "    print('Precision of each fold: \\n {}'.format(prec_scores))\n",
    "    print(\"Avg precision: {}\".format(np.mean(prec_scores)))\n",
    "    print('Std of precision : \\n{}'.format(np.std(prec_scores)))\n",
    "    print()\n",
    "    print('F1-scores of each fold: \\n {}'.format(f1_scores))\n",
    "    print(\"Avg F1-scores: {}\".format(np.mean(f1_scores)))\n",
    "    print('Std of F1-scores : \\n{}'.format(np.std(f1_scores)))"
   ]
  },
  {
   "cell_type": "code",
   "execution_count": 9,
   "id": "390a174f",
   "metadata": {},
   "outputs": [],
   "source": [
    "def scorer(clf, X, y):\n",
    "    global moving_acc\n",
    "\n",
    "    start_time = timeit.default_timer()\n",
    "    y_pred = clf.predict(X)\n",
    "    elapsed = timeit.default_timer() - start_time\n",
    "\n",
    "    total_seen = 0\n",
    "    total_correct = 0\n",
    "    subject_acc = []\n",
    "    for idx, pred in enumerate(y_pred):\n",
    "        total_seen+=1\n",
    "        if pred==y.iloc[idx]:\n",
    "            total_correct+=1\n",
    "        subject_acc.append(total_correct/total_seen)\n",
    "    moving_acc.append(subject_acc)\n",
    "\n",
    "    fold_size = len(X)\n",
    "\n",
    "    cm = confusion_matrix(y, y_pred)\n",
    "\n",
    "    sensitivity = cm[0][0]/(cm[0][0]+cm[0][1])\n",
    "    specificity = cm[1][1]/(cm[1][0]+cm[1][1])\n",
    "    precision = (cm[0][0])/(cm[0][0]+cm[1][0])\n",
    "    f1_score = (2*precision*sensitivity)/(precision+sensitivity)\n",
    "\n",
    "    return {'sensitivity': sensitivity, 'specificity': specificity,\n",
    "            'precision': precision, 'f1_score': f1_score,\n",
    "            'accuracy': accuracy_score(y, y_pred), \n",
    "            'elapsed': elapsed, 'eps': elapsed/fold_size}"
   ]
  },
  {
   "cell_type": "code",
   "execution_count": 6,
   "id": "5fe20408",
   "metadata": {},
   "outputs": [
    {
     "name": "stderr",
     "output_type": "stream",
     "text": [
      "100%|██████████████████████████████████████████████████████████████████████████████████| 23/23 [00:00<00:00, 43.20it/s]\n"
     ]
    }
   ],
   "source": [
    "feature_dfs = {}\n",
    "for record in tqdm(rlist):\n",
    "    feature_dfs[record] = pd.read_csv(os.path.normpath(parent_path + '/mit-bih-time-features/'+record+'.csv'), index_col=0, dtype={'subjectID': str})\n",
    "\n",
    "combined_features = pd.concat([feature_dfs[key][1:] for key in feature_dfs])"
   ]
  },
  {
   "cell_type": "code",
   "execution_count": 7,
   "id": "847e5b15",
   "metadata": {},
   "outputs": [],
   "source": [
    "X = combined_features[['StoS', 'StoR', 'StoL', 'RtoS', 'RtoR', 'RtoL', 'LtoS', 'LtoR', 'LtoL', 'rmssd', 'iqr', 'mad', 'cov']]\n",
    "y = combined_features['mappedLabel'].map({\"Non-Afib\": 0, \"Afib\": 1})\n",
    "groups = combined_features['subjectID'].astype('int64')\n",
    "\n",
    "logo = LeaveOneGroupOut()\n",
    "splits = list(logo.split(X, y, groups=groups))"
   ]
  },
  {
   "cell_type": "code",
   "execution_count": 11,
   "id": "2021f307",
   "metadata": {},
   "outputs": [
    {
     "name": "stdout",
     "output_type": "stream",
     "text": [
      "random search started\n",
      "Fitting 23 folds for each of 10 candidates, totalling 230 fits\n",
      "[CV] END ........................................max_depth=6; total time=   1.0s\n",
      "[CV] END ........................................max_depth=6; total time=   1.0s\n",
      "[CV] END ........................................max_depth=6; total time=   1.0s\n",
      "[CV] END ........................................max_depth=6; total time=   1.0s\n",
      "[CV] END ........................................max_depth=6; total time=   1.0s\n",
      "[CV] END ........................................max_depth=6; total time=   1.0s\n",
      "[CV] END ........................................max_depth=6; total time=   1.0s\n",
      "[CV] END ........................................max_depth=6; total time=   1.0s\n",
      "[CV] END ........................................max_depth=6; total time=   1.0s\n",
      "[CV] END ........................................max_depth=6; total time=   1.0s\n",
      "[CV] END ........................................max_depth=6; total time=   1.0s\n",
      "[CV] END ........................................max_depth=6; total time=   1.0s\n",
      "[CV] END ........................................max_depth=6; total time=   1.0s\n"
     ]
    },
    {
     "name": "stderr",
     "output_type": "stream",
     "text": [
      "C:\\Users\\lms-puvvalat\\AppData\\Local\\Temp\\ipykernel_7596\\1056965083.py:22: RuntimeWarning: invalid value encountered in longlong_scalars\n",
      "  sensitivity = cm[0][0]/(cm[0][0]+cm[0][1])\n"
     ]
    },
    {
     "name": "stdout",
     "output_type": "stream",
     "text": [
      "[CV] END ........................................max_depth=6; total time=   1.0s\n"
     ]
    },
    {
     "name": "stderr",
     "output_type": "stream",
     "text": [
      "C:\\Users\\lms-puvvalat\\AppData\\Local\\Temp\\ipykernel_7596\\1056965083.py:22: RuntimeWarning: invalid value encountered in longlong_scalars\n",
      "  sensitivity = cm[0][0]/(cm[0][0]+cm[0][1])\n"
     ]
    },
    {
     "name": "stdout",
     "output_type": "stream",
     "text": [
      "[CV] END ........................................max_depth=6; total time=   1.0s\n",
      "[CV] END ........................................max_depth=6; total time=   1.0s\n",
      "[CV] END ........................................max_depth=6; total time=   1.0s\n",
      "[CV] END ........................................max_depth=6; total time=   1.0s\n",
      "[CV] END ........................................max_depth=6; total time=   1.0s\n",
      "[CV] END ........................................max_depth=6; total time=   1.0s\n",
      "[CV] END ........................................max_depth=6; total time=   1.0s\n",
      "[CV] END ........................................max_depth=6; total time=   1.0s\n",
      "[CV] END ........................................max_depth=6; total time=   1.0s\n",
      "[CV] END ........................................max_depth=7; total time=   1.2s\n",
      "[CV] END ........................................max_depth=7; total time=   1.2s\n",
      "[CV] END ........................................max_depth=7; total time=   1.2s\n",
      "[CV] END ........................................max_depth=7; total time=   1.2s\n",
      "[CV] END ........................................max_depth=7; total time=   1.2s\n",
      "[CV] END ........................................max_depth=7; total time=   1.2s\n",
      "[CV] END ........................................max_depth=7; total time=   1.2s\n",
      "[CV] END ........................................max_depth=7; total time=   1.2s\n",
      "[CV] END ........................................max_depth=7; total time=   1.2s\n",
      "[CV] END ........................................max_depth=7; total time=   1.2s\n",
      "[CV] END ........................................max_depth=7; total time=   1.2s\n",
      "[CV] END ........................................max_depth=7; total time=   1.2s\n",
      "[CV] END ........................................max_depth=7; total time=   1.2s\n"
     ]
    },
    {
     "name": "stderr",
     "output_type": "stream",
     "text": [
      "C:\\Users\\lms-puvvalat\\AppData\\Local\\Temp\\ipykernel_7596\\1056965083.py:22: RuntimeWarning: invalid value encountered in longlong_scalars\n",
      "  sensitivity = cm[0][0]/(cm[0][0]+cm[0][1])\n"
     ]
    },
    {
     "name": "stdout",
     "output_type": "stream",
     "text": [
      "[CV] END ........................................max_depth=7; total time=   1.2s\n"
     ]
    },
    {
     "name": "stderr",
     "output_type": "stream",
     "text": [
      "C:\\Users\\lms-puvvalat\\AppData\\Local\\Temp\\ipykernel_7596\\1056965083.py:22: RuntimeWarning: invalid value encountered in longlong_scalars\n",
      "  sensitivity = cm[0][0]/(cm[0][0]+cm[0][1])\n"
     ]
    },
    {
     "name": "stdout",
     "output_type": "stream",
     "text": [
      "[CV] END ........................................max_depth=7; total time=   1.2s\n",
      "[CV] END ........................................max_depth=7; total time=   1.2s\n",
      "[CV] END ........................................max_depth=7; total time=   1.2s\n",
      "[CV] END ........................................max_depth=7; total time=   1.2s\n",
      "[CV] END ........................................max_depth=7; total time=   1.2s\n",
      "[CV] END ........................................max_depth=7; total time=   1.2s\n",
      "[CV] END ........................................max_depth=7; total time=   1.2s\n",
      "[CV] END ........................................max_depth=7; total time=   1.2s\n",
      "[CV] END ........................................max_depth=7; total time=   1.2s\n",
      "[CV] END ........................................max_depth=9; total time=   1.5s\n",
      "[CV] END ........................................max_depth=9; total time=   1.5s\n",
      "[CV] END ........................................max_depth=9; total time=   1.5s\n",
      "[CV] END ........................................max_depth=9; total time=   1.5s\n",
      "[CV] END ........................................max_depth=9; total time=   1.5s\n",
      "[CV] END ........................................max_depth=9; total time=   1.5s\n",
      "[CV] END ........................................max_depth=9; total time=   1.5s\n",
      "[CV] END ........................................max_depth=9; total time=   1.5s\n",
      "[CV] END ........................................max_depth=9; total time=   1.5s\n",
      "[CV] END ........................................max_depth=9; total time=   1.5s\n",
      "[CV] END ........................................max_depth=9; total time=   1.5s\n",
      "[CV] END ........................................max_depth=9; total time=   1.5s\n",
      "[CV] END ........................................max_depth=9; total time=   1.5s\n"
     ]
    },
    {
     "name": "stderr",
     "output_type": "stream",
     "text": [
      "C:\\Users\\lms-puvvalat\\AppData\\Local\\Temp\\ipykernel_7596\\1056965083.py:22: RuntimeWarning: invalid value encountered in longlong_scalars\n",
      "  sensitivity = cm[0][0]/(cm[0][0]+cm[0][1])\n"
     ]
    },
    {
     "name": "stdout",
     "output_type": "stream",
     "text": [
      "[CV] END ........................................max_depth=9; total time=   1.5s\n"
     ]
    },
    {
     "name": "stderr",
     "output_type": "stream",
     "text": [
      "C:\\Users\\lms-puvvalat\\AppData\\Local\\Temp\\ipykernel_7596\\1056965083.py:22: RuntimeWarning: invalid value encountered in longlong_scalars\n",
      "  sensitivity = cm[0][0]/(cm[0][0]+cm[0][1])\n"
     ]
    },
    {
     "name": "stdout",
     "output_type": "stream",
     "text": [
      "[CV] END ........................................max_depth=9; total time=   1.5s\n",
      "[CV] END ........................................max_depth=9; total time=   1.5s\n",
      "[CV] END ........................................max_depth=9; total time=   1.5s\n",
      "[CV] END ........................................max_depth=9; total time=   1.5s\n",
      "[CV] END ........................................max_depth=9; total time=   1.5s\n",
      "[CV] END ........................................max_depth=9; total time=   1.5s\n",
      "[CV] END ........................................max_depth=9; total time=   1.5s\n",
      "[CV] END ........................................max_depth=9; total time=   1.5s\n",
      "[CV] END ........................................max_depth=9; total time=   1.5s\n",
      "[CV] END ........................................max_depth=4; total time=   0.7s\n",
      "[CV] END ........................................max_depth=4; total time=   0.7s\n",
      "[CV] END ........................................max_depth=4; total time=   0.7s\n",
      "[CV] END ........................................max_depth=4; total time=   0.7s\n",
      "[CV] END ........................................max_depth=4; total time=   0.7s\n",
      "[CV] END ........................................max_depth=4; total time=   0.7s\n",
      "[CV] END ........................................max_depth=4; total time=   0.7s\n",
      "[CV] END ........................................max_depth=4; total time=   0.7s\n",
      "[CV] END ........................................max_depth=4; total time=   0.7s\n",
      "[CV] END ........................................max_depth=4; total time=   0.7s\n",
      "[CV] END ........................................max_depth=4; total time=   0.7s\n",
      "[CV] END ........................................max_depth=4; total time=   0.7s\n",
      "[CV] END ........................................max_depth=4; total time=   0.7s\n"
     ]
    },
    {
     "name": "stderr",
     "output_type": "stream",
     "text": [
      "C:\\Users\\lms-puvvalat\\AppData\\Local\\Temp\\ipykernel_7596\\1056965083.py:22: RuntimeWarning: invalid value encountered in longlong_scalars\n",
      "  sensitivity = cm[0][0]/(cm[0][0]+cm[0][1])\n"
     ]
    },
    {
     "name": "stdout",
     "output_type": "stream",
     "text": [
      "[CV] END ........................................max_depth=4; total time=   0.6s\n"
     ]
    },
    {
     "name": "stderr",
     "output_type": "stream",
     "text": [
      "C:\\Users\\lms-puvvalat\\AppData\\Local\\Temp\\ipykernel_7596\\1056965083.py:22: RuntimeWarning: invalid value encountered in longlong_scalars\n",
      "  sensitivity = cm[0][0]/(cm[0][0]+cm[0][1])\n"
     ]
    },
    {
     "name": "stdout",
     "output_type": "stream",
     "text": [
      "[CV] END ........................................max_depth=4; total time=   0.7s\n",
      "[CV] END ........................................max_depth=4; total time=   0.7s\n",
      "[CV] END ........................................max_depth=4; total time=   0.7s\n",
      "[CV] END ........................................max_depth=4; total time=   0.7s\n",
      "[CV] END ........................................max_depth=4; total time=   0.7s\n",
      "[CV] END ........................................max_depth=4; total time=   0.7s\n",
      "[CV] END ........................................max_depth=4; total time=   0.7s\n",
      "[CV] END ........................................max_depth=4; total time=   0.7s\n",
      "[CV] END ........................................max_depth=4; total time=   0.7s\n",
      "[CV] END ........................................max_depth=5; total time=   0.9s\n",
      "[CV] END ........................................max_depth=5; total time=   0.9s\n",
      "[CV] END ........................................max_depth=5; total time=   0.9s\n",
      "[CV] END ........................................max_depth=5; total time=   0.8s\n",
      "[CV] END ........................................max_depth=5; total time=   0.9s\n",
      "[CV] END ........................................max_depth=5; total time=   0.9s\n",
      "[CV] END ........................................max_depth=5; total time=   0.8s\n",
      "[CV] END ........................................max_depth=5; total time=   0.9s\n",
      "[CV] END ........................................max_depth=5; total time=   0.8s\n",
      "[CV] END ........................................max_depth=5; total time=   0.9s\n",
      "[CV] END ........................................max_depth=5; total time=   0.8s\n",
      "[CV] END ........................................max_depth=5; total time=   0.9s\n",
      "[CV] END ........................................max_depth=5; total time=   0.8s\n"
     ]
    },
    {
     "name": "stderr",
     "output_type": "stream",
     "text": [
      "C:\\Users\\lms-puvvalat\\AppData\\Local\\Temp\\ipykernel_7596\\1056965083.py:22: RuntimeWarning: invalid value encountered in longlong_scalars\n",
      "  sensitivity = cm[0][0]/(cm[0][0]+cm[0][1])\n"
     ]
    },
    {
     "name": "stdout",
     "output_type": "stream",
     "text": [
      "[CV] END ........................................max_depth=5; total time=   0.8s\n"
     ]
    },
    {
     "name": "stderr",
     "output_type": "stream",
     "text": [
      "C:\\Users\\lms-puvvalat\\AppData\\Local\\Temp\\ipykernel_7596\\1056965083.py:22: RuntimeWarning: invalid value encountered in longlong_scalars\n",
      "  sensitivity = cm[0][0]/(cm[0][0]+cm[0][1])\n"
     ]
    },
    {
     "name": "stdout",
     "output_type": "stream",
     "text": [
      "[CV] END ........................................max_depth=5; total time=   0.8s\n",
      "[CV] END ........................................max_depth=5; total time=   0.8s\n",
      "[CV] END ........................................max_depth=5; total time=   0.9s\n",
      "[CV] END ........................................max_depth=5; total time=   0.8s\n",
      "[CV] END ........................................max_depth=5; total time=   0.8s\n",
      "[CV] END ........................................max_depth=5; total time=   0.9s\n",
      "[CV] END ........................................max_depth=5; total time=   0.8s\n",
      "[CV] END ........................................max_depth=5; total time=   0.9s\n",
      "[CV] END ........................................max_depth=5; total time=   0.8s\n",
      "[CV] END .......................................max_depth=14; total time=   2.2s\n",
      "[CV] END .......................................max_depth=14; total time=   2.0s\n",
      "[CV] END .......................................max_depth=14; total time=   2.2s\n",
      "[CV] END .......................................max_depth=14; total time=   2.2s\n",
      "[CV] END .......................................max_depth=14; total time=   2.1s\n",
      "[CV] END .......................................max_depth=14; total time=   2.2s\n",
      "[CV] END .......................................max_depth=14; total time=   2.2s\n",
      "[CV] END .......................................max_depth=14; total time=   2.3s\n",
      "[CV] END .......................................max_depth=14; total time=   2.2s\n",
      "[CV] END .......................................max_depth=14; total time=   2.2s\n",
      "[CV] END .......................................max_depth=14; total time=   2.1s\n",
      "[CV] END .......................................max_depth=14; total time=   2.2s\n",
      "[CV] END .......................................max_depth=14; total time=   2.2s\n"
     ]
    },
    {
     "name": "stderr",
     "output_type": "stream",
     "text": [
      "C:\\Users\\lms-puvvalat\\AppData\\Local\\Temp\\ipykernel_7596\\1056965083.py:22: RuntimeWarning: invalid value encountered in longlong_scalars\n",
      "  sensitivity = cm[0][0]/(cm[0][0]+cm[0][1])\n"
     ]
    },
    {
     "name": "stdout",
     "output_type": "stream",
     "text": [
      "[CV] END .......................................max_depth=14; total time=   2.2s\n"
     ]
    },
    {
     "name": "stderr",
     "output_type": "stream",
     "text": [
      "C:\\Users\\lms-puvvalat\\AppData\\Local\\Temp\\ipykernel_7596\\1056965083.py:22: RuntimeWarning: invalid value encountered in longlong_scalars\n",
      "  sensitivity = cm[0][0]/(cm[0][0]+cm[0][1])\n"
     ]
    },
    {
     "name": "stdout",
     "output_type": "stream",
     "text": [
      "[CV] END .......................................max_depth=14; total time=   2.2s\n",
      "[CV] END .......................................max_depth=14; total time=   2.2s\n",
      "[CV] END .......................................max_depth=14; total time=   2.1s\n",
      "[CV] END .......................................max_depth=14; total time=   2.1s\n",
      "[CV] END .......................................max_depth=14; total time=   2.2s\n",
      "[CV] END .......................................max_depth=14; total time=   2.1s\n",
      "[CV] END .......................................max_depth=14; total time=   2.2s\n",
      "[CV] END .......................................max_depth=14; total time=   2.2s\n",
      "[CV] END .......................................max_depth=14; total time=   2.2s\n",
      "[CV] END .......................................max_depth=12; total time=   1.9s\n",
      "[CV] END .......................................max_depth=12; total time=   1.8s\n",
      "[CV] END .......................................max_depth=12; total time=   1.9s\n",
      "[CV] END .......................................max_depth=12; total time=   1.9s\n",
      "[CV] END .......................................max_depth=12; total time=   1.9s\n",
      "[CV] END .......................................max_depth=12; total time=   1.9s\n",
      "[CV] END .......................................max_depth=12; total time=   1.9s\n",
      "[CV] END .......................................max_depth=12; total time=   2.0s\n",
      "[CV] END .......................................max_depth=12; total time=   1.9s\n",
      "[CV] END .......................................max_depth=12; total time=   2.0s\n",
      "[CV] END .......................................max_depth=12; total time=   1.9s\n",
      "[CV] END .......................................max_depth=12; total time=   2.0s\n",
      "[CV] END .......................................max_depth=12; total time=   1.9s\n"
     ]
    },
    {
     "name": "stderr",
     "output_type": "stream",
     "text": [
      "C:\\Users\\lms-puvvalat\\AppData\\Local\\Temp\\ipykernel_7596\\1056965083.py:22: RuntimeWarning: invalid value encountered in longlong_scalars\n",
      "  sensitivity = cm[0][0]/(cm[0][0]+cm[0][1])\n"
     ]
    },
    {
     "name": "stdout",
     "output_type": "stream",
     "text": [
      "[CV] END .......................................max_depth=12; total time=   1.9s\n"
     ]
    },
    {
     "name": "stderr",
     "output_type": "stream",
     "text": [
      "C:\\Users\\lms-puvvalat\\AppData\\Local\\Temp\\ipykernel_7596\\1056965083.py:22: RuntimeWarning: invalid value encountered in longlong_scalars\n",
      "  sensitivity = cm[0][0]/(cm[0][0]+cm[0][1])\n"
     ]
    },
    {
     "name": "stdout",
     "output_type": "stream",
     "text": [
      "[CV] END .......................................max_depth=12; total time=   1.9s\n",
      "[CV] END .......................................max_depth=12; total time=   1.9s\n",
      "[CV] END .......................................max_depth=12; total time=   1.9s\n",
      "[CV] END .......................................max_depth=12; total time=   1.9s\n",
      "[CV] END .......................................max_depth=12; total time=   1.9s\n",
      "[CV] END .......................................max_depth=12; total time=   1.9s\n",
      "[CV] END .......................................max_depth=12; total time=   1.9s\n",
      "[CV] END .......................................max_depth=12; total time=   2.0s\n",
      "[CV] END .......................................max_depth=12; total time=   1.9s\n",
      "[CV] END .......................................max_depth=15; total time=   2.3s\n",
      "[CV] END .......................................max_depth=15; total time=   2.1s\n",
      "[CV] END .......................................max_depth=15; total time=   2.3s\n",
      "[CV] END .......................................max_depth=15; total time=   2.3s\n",
      "[CV] END .......................................max_depth=15; total time=   2.3s\n",
      "[CV] END .......................................max_depth=15; total time=   2.3s\n",
      "[CV] END .......................................max_depth=15; total time=   2.3s\n",
      "[CV] END .......................................max_depth=15; total time=   2.4s\n",
      "[CV] END .......................................max_depth=15; total time=   2.2s\n",
      "[CV] END .......................................max_depth=15; total time=   2.3s\n",
      "[CV] END .......................................max_depth=15; total time=   2.2s\n",
      "[CV] END .......................................max_depth=15; total time=   2.3s\n",
      "[CV] END .......................................max_depth=15; total time=   2.2s\n"
     ]
    },
    {
     "name": "stderr",
     "output_type": "stream",
     "text": [
      "C:\\Users\\lms-puvvalat\\AppData\\Local\\Temp\\ipykernel_7596\\1056965083.py:22: RuntimeWarning: invalid value encountered in longlong_scalars\n",
      "  sensitivity = cm[0][0]/(cm[0][0]+cm[0][1])\n"
     ]
    },
    {
     "name": "stdout",
     "output_type": "stream",
     "text": [
      "[CV] END .......................................max_depth=15; total time=   2.3s\n"
     ]
    },
    {
     "name": "stderr",
     "output_type": "stream",
     "text": [
      "C:\\Users\\lms-puvvalat\\AppData\\Local\\Temp\\ipykernel_7596\\1056965083.py:22: RuntimeWarning: invalid value encountered in longlong_scalars\n",
      "  sensitivity = cm[0][0]/(cm[0][0]+cm[0][1])\n"
     ]
    },
    {
     "name": "stdout",
     "output_type": "stream",
     "text": [
      "[CV] END .......................................max_depth=15; total time=   2.3s\n",
      "[CV] END .......................................max_depth=15; total time=   2.2s\n",
      "[CV] END .......................................max_depth=15; total time=   2.2s\n",
      "[CV] END .......................................max_depth=15; total time=   2.2s\n",
      "[CV] END .......................................max_depth=15; total time=   2.3s\n",
      "[CV] END .......................................max_depth=15; total time=   2.2s\n",
      "[CV] END .......................................max_depth=15; total time=   2.3s\n",
      "[CV] END .......................................max_depth=15; total time=   2.3s\n",
      "[CV] END .......................................max_depth=15; total time=   2.3s\n",
      "[CV] END .......................................max_depth=10; total time=   1.7s\n",
      "[CV] END .......................................max_depth=10; total time=   1.6s\n",
      "[CV] END .......................................max_depth=10; total time=   1.6s\n",
      "[CV] END .......................................max_depth=10; total time=   1.6s\n",
      "[CV] END .......................................max_depth=10; total time=   1.6s\n",
      "[CV] END .......................................max_depth=10; total time=   1.6s\n",
      "[CV] END .......................................max_depth=10; total time=   1.7s\n",
      "[CV] END .......................................max_depth=10; total time=   1.7s\n",
      "[CV] END .......................................max_depth=10; total time=   1.7s\n",
      "[CV] END .......................................max_depth=10; total time=   1.7s\n",
      "[CV] END .......................................max_depth=10; total time=   1.6s\n",
      "[CV] END .......................................max_depth=10; total time=   1.7s\n",
      "[CV] END .......................................max_depth=10; total time=   1.6s\n"
     ]
    },
    {
     "name": "stderr",
     "output_type": "stream",
     "text": [
      "C:\\Users\\lms-puvvalat\\AppData\\Local\\Temp\\ipykernel_7596\\1056965083.py:22: RuntimeWarning: invalid value encountered in longlong_scalars\n",
      "  sensitivity = cm[0][0]/(cm[0][0]+cm[0][1])\n"
     ]
    },
    {
     "name": "stdout",
     "output_type": "stream",
     "text": [
      "[CV] END .......................................max_depth=10; total time=   1.6s\n"
     ]
    },
    {
     "name": "stderr",
     "output_type": "stream",
     "text": [
      "C:\\Users\\lms-puvvalat\\AppData\\Local\\Temp\\ipykernel_7596\\1056965083.py:22: RuntimeWarning: invalid value encountered in longlong_scalars\n",
      "  sensitivity = cm[0][0]/(cm[0][0]+cm[0][1])\n"
     ]
    },
    {
     "name": "stdout",
     "output_type": "stream",
     "text": [
      "[CV] END .......................................max_depth=10; total time=   1.6s\n",
      "[CV] END .......................................max_depth=10; total time=   1.6s\n",
      "[CV] END .......................................max_depth=10; total time=   1.7s\n",
      "[CV] END .......................................max_depth=10; total time=   1.6s\n",
      "[CV] END .......................................max_depth=10; total time=   1.6s\n",
      "[CV] END .......................................max_depth=10; total time=   1.7s\n",
      "[CV] END .......................................max_depth=10; total time=   1.6s\n",
      "[CV] END .......................................max_depth=10; total time=   1.7s\n",
      "[CV] END .......................................max_depth=10; total time=   1.6s\n",
      "[CV] END ........................................max_depth=8; total time=   1.3s\n",
      "[CV] END ........................................max_depth=8; total time=   1.3s\n",
      "[CV] END ........................................max_depth=8; total time=   1.4s\n",
      "[CV] END ........................................max_depth=8; total time=   1.3s\n",
      "[CV] END ........................................max_depth=8; total time=   1.3s\n",
      "[CV] END ........................................max_depth=8; total time=   1.3s\n",
      "[CV] END ........................................max_depth=8; total time=   1.3s\n",
      "[CV] END ........................................max_depth=8; total time=   1.3s\n",
      "[CV] END ........................................max_depth=8; total time=   1.3s\n",
      "[CV] END ........................................max_depth=8; total time=   1.3s\n",
      "[CV] END ........................................max_depth=8; total time=   1.3s\n",
      "[CV] END ........................................max_depth=8; total time=   1.4s\n",
      "[CV] END ........................................max_depth=8; total time=   1.3s\n"
     ]
    },
    {
     "name": "stderr",
     "output_type": "stream",
     "text": [
      "C:\\Users\\lms-puvvalat\\AppData\\Local\\Temp\\ipykernel_7596\\1056965083.py:22: RuntimeWarning: invalid value encountered in longlong_scalars\n",
      "  sensitivity = cm[0][0]/(cm[0][0]+cm[0][1])\n"
     ]
    },
    {
     "name": "stdout",
     "output_type": "stream",
     "text": [
      "[CV] END ........................................max_depth=8; total time=   1.3s\n"
     ]
    },
    {
     "name": "stderr",
     "output_type": "stream",
     "text": [
      "C:\\Users\\lms-puvvalat\\AppData\\Local\\Temp\\ipykernel_7596\\1056965083.py:22: RuntimeWarning: invalid value encountered in longlong_scalars\n",
      "  sensitivity = cm[0][0]/(cm[0][0]+cm[0][1])\n"
     ]
    },
    {
     "name": "stdout",
     "output_type": "stream",
     "text": [
      "[CV] END ........................................max_depth=8; total time=   1.3s\n",
      "[CV] END ........................................max_depth=8; total time=   1.3s\n",
      "[CV] END ........................................max_depth=8; total time=   1.4s\n",
      "[CV] END ........................................max_depth=8; total time=   1.3s\n",
      "[CV] END ........................................max_depth=8; total time=   1.3s\n",
      "[CV] END ........................................max_depth=8; total time=   1.3s\n",
      "[CV] END ........................................max_depth=8; total time=   1.3s\n",
      "[CV] END ........................................max_depth=8; total time=   1.3s\n",
      "[CV] END ........................................max_depth=8; total time=   1.3s\n"
     ]
    },
    {
     "name": "stderr",
     "output_type": "stream",
     "text": [
      "C:\\Users\\lms-puvvalat\\.conda\\envs\\afib\\lib\\site-packages\\sklearn\\model_selection\\_search.py:953: UserWarning: One or more of the test scores are non-finite: [nan nan nan nan nan nan nan nan nan nan]\n",
      "  warnings.warn(\n"
     ]
    },
    {
     "name": "stdout",
     "output_type": "stream",
     "text": [
      "random search completed\n",
      "[0.07235827 0.02873763 0.02339891 0.00279879 0.00252776 0.03804027\n",
      " 0.00389071 0.01423963 0.01464121 0.01020212 0.00481495 0.00500845\n",
      " 0.7793413 ]\n",
      "   mean_fit_time  std_fit_time  mean_score_time  std_score_time  \\\n",
      "0       1.062796      0.014730         0.046187        0.011725   \n",
      "1       1.230137      0.016923         0.044827        0.010610   \n",
      "2       1.546929      0.021554         0.043906        0.010052   \n",
      "3       0.728325      0.013158         0.046917        0.011283   \n",
      "4       0.903703      0.014117         0.044524        0.010051   \n",
      "5       2.226252      0.054862         0.044255        0.010982   \n",
      "6       1.974654      0.036170         0.046918        0.012190   \n",
      "7       2.323997      0.054373         0.046864        0.009213   \n",
      "8       1.694039      0.025154         0.044825        0.009558   \n",
      "9       1.388456      0.021787         0.049580        0.010949   \n",
      "\n",
      "  param_max_depth             params  split0_test_sensitivity  \\\n",
      "0               6   {'max_depth': 6}                 0.890964   \n",
      "1               7   {'max_depth': 7}                 0.893732   \n",
      "2               9   {'max_depth': 9}                 0.898021   \n",
      "3               4   {'max_depth': 4}                 0.882662   \n",
      "4               5   {'max_depth': 5}                 0.896638   \n",
      "5              14  {'max_depth': 14}                 0.898021   \n",
      "6              12  {'max_depth': 12}                 0.897191   \n",
      "7              15  {'max_depth': 15}                 0.897606   \n",
      "8              10  {'max_depth': 10}                 0.898713   \n",
      "9               8   {'max_depth': 8}                 0.896222   \n",
      "\n",
      "   split1_test_sensitivity  split2_test_sensitivity  split3_test_sensitivity  \\\n",
      "0                 0.956317                 0.992764                 0.846984   \n",
      "1                 0.948803                 0.993687                 0.874183   \n",
      "2                 0.950713                 0.992302                 0.859444   \n",
      "3                 0.939124                 0.990916                 0.794712   \n",
      "4                 0.945619                 0.991686                 0.837867   \n",
      "5                 0.944600                 0.993380                 0.866282   \n",
      "6                 0.945874                 0.992610                 0.857013   \n",
      "7                 0.944727                 0.991532                 0.863699   \n",
      "8                 0.944345                 0.992302                 0.862331   \n",
      "9                 0.953515                 0.992918                 0.863091   \n",
      "\n",
      "   ...  split16_test_eps  split17_test_eps  split18_test_eps  \\\n",
      "0  ...      1.982784e-07      1.728938e-07      1.464814e-07   \n",
      "1  ...      2.022182e-07      1.804303e-07      1.520787e-07   \n",
      "2  ...      2.097335e-07      1.845385e-07      1.610525e-07   \n",
      "3  ...      1.910942e-07      1.681055e-07      1.357940e-07   \n",
      "4  ...      1.994703e-07      1.701874e-07      1.405699e-07   \n",
      "5  ...      2.290515e-07      2.027481e-07      1.850335e-07   \n",
      "6  ...      2.200960e-07      2.051770e-07      1.768607e-07   \n",
      "7  ...      2.267174e-07      2.088550e-07      1.901338e-07   \n",
      "8  ...      2.118027e-07      1.876752e-07      1.655141e-07   \n",
      "9  ...      2.083430e-07      1.824011e-07      1.553640e-07   \n",
      "\n",
      "   split19_test_eps  split20_test_eps  split21_test_eps  split22_test_eps  \\\n",
      "0      1.700714e-07      1.452150e-07      1.842646e-07      1.382697e-07   \n",
      "1      1.698071e-07      1.420897e-07      1.908638e-07      1.451040e-07   \n",
      "2      1.787394e-07      1.489123e-07      1.911356e-07      1.452756e-07   \n",
      "3      1.609540e-07      1.345930e-07      1.818182e-07      1.394306e-07   \n",
      "4      1.640460e-07      1.363803e-07      1.794322e-07      1.371189e-07   \n",
      "5      1.923229e-07      1.680217e-07      2.092721e-07      1.639612e-07   \n",
      "6      1.858483e-07      1.615770e-07      2.609031e-07      1.579548e-07   \n",
      "7      1.940539e-07      1.733224e-07      2.085775e-07      1.712497e-07   \n",
      "8      1.782373e-07      1.542641e-07      2.027031e-07      1.490410e-07   \n",
      "9      1.723044e-07      1.457563e-07      1.881003e-07      1.444579e-07   \n",
      "\n",
      "   mean_test_eps  std_test_eps  rank_test_eps  \n",
      "0   1.653726e-07  2.036645e-08              8  \n",
      "1   1.686850e-07  2.097262e-08              7  \n",
      "2   1.743425e-07  2.019736e-08              6  \n",
      "3   1.577746e-07  2.149142e-08             10  \n",
      "4   1.615879e-07  2.175019e-08              9  \n",
      "5   1.948207e-07  2.142718e-08              2  \n",
      "6   1.901804e-07  2.558851e-08              3  \n",
      "7   1.999554e-07  2.092888e-08              1  \n",
      "8   1.794220e-07  1.952828e-08              4  \n",
      "9   1.743714e-07  2.101350e-08              5  \n",
      "\n",
      "[10 rows x 188 columns]\n",
      "['split14_test_sensitivity', 'split14_test_f1_score', 'std_test_f1_score', 'split13_test_f1_score', 'mean_test_sensitivity', 'mean_test_f1_score', 'split13_test_sensitivity', 'std_test_sensitivity']\n",
      "---Run time of each fold: \n",
      " [0.001357300003292039, 0.0017803999944590032, 0.0012716999917756766, 0.0014190999791026115, 0.001381399983074516, 0.0015017999976407737, 0.0014706999936606735, 0.0012562999909278005, 0.0014497999800369143, 0.001405200018780306, 0.0014965999871492386, 0.0012501000019256026, 0.0015451999788638204, 0.0013056000170763582, 0.0017097000090871006, 0.001493299991125241, 0.001279499992961064, 0.0013521999935619533, 0.001632300001801923, 0.0013488999975379556, 0.0015104000049177557, 0.0013423000054899603, 0.0014763999788556248]\n",
      "Avg run time: 0.0014363565170914744\n",
      "---Run time per subset of each fold is: \n",
      " [1.8555023968448927e-07, 1.7283758804572402e-07, 1.9180995351066013e-07, 1.9919988477015884e-07, 1.7352091233193268e-07, 1.4616058371199742e-07, 1.6483972132489056e-07, 2.056474039822885e-07, 1.7477998553790407e-07, 1.856520040666278e-07, 1.6318830957902503e-07, 2.1601866285218636e-07, 1.683224377847299e-07, 2.000612959050503e-07, 1.7054364180419957e-07, 1.5933632000909527e-07, 2.118026805100255e-07, 1.8767522464426833e-07, 1.6551409468687112e-07, 1.7823731468524784e-07, 1.5426412061257846e-07, 2.027031116716944e-07, 1.4904098312695587e-07]\n",
      "Avg run time per subset: 1.7942202064515656e-07\n",
      "\n",
      "Accuracy of each fold: \n",
      " [0.8993848257006152, 0.9040869818464227, 0.9889894419306184, 0.8702975856260527, 0.9915839718628313, 0.9457907542579076, 0.9003586639766868, 0.972172204943526, 0.9470765521398433, 0.893380895759017, 0.9676153091265947, 0.9809918783480214, 0.7980392156862746, 0.9351823475329452, 0.5813466334164589, 0.9584933845497225, 0.9758318159245158, 0.9800138792505205, 0.6974244575136889, 0.9655126849894292, 0.9855990195077111, 0.9697976442162489, 0.9921259842519685]\n",
      "Avg accuracy: 0.9174389622764182\n",
      "Std of accuracy : \n",
      "0.09905453663286345\n",
      "\n",
      "Specificity of each fold: \n",
      " [0.9545454545454546, 0.7750102082482646, 0.8296296296296296, 0.9668508287292817, 0.9904798911987566, 0.9412371134020618, 0.9057544177616674, 0.6521739130434783, 0.9662642045454546, 0.8930817610062893, 0.9916280122185768, 0.5540540540540541, 0.9649890590809628, 0.9351823475329452, 0.5813466334164589, 0.9683468346834684, 0.9795918367346939, 0.9815150416817687, 0.9789029535864979, 0.9184526921066388, 0.9860298030867483, 0.9818181818181818, 0.9910520607375272]\n",
      "Avg specificity: 0.8994755188195155\n",
      "Std of specificity: \n",
      "0.12945834202339662\n",
      "\n",
      "Sensitivity of each fold: \n",
      " [0.8987131589871316, 0.9443453897096281, 0.9923017705927637, 0.8623309527427443, 0.9936034115138592, 0.9462654486835035, 0.884832681442851, 0.9733815313835031, 0.9064964325948178, 0.893387314439946, 0.32831325301204817, 0.9865219674426746, 0.6325379609544468, 0.934220251293422, 0.974969474969475, 0.975103734439834, 0.6083822744260544, 0.9814323607427056, 0.9841758241758242, 0.9690556357223024, 0.9952569169960475]\n",
      "Avg sensitivity: 0.8888394164888372\n",
      "Std of sensitivity: \n",
      "0.16282826725986677\n",
      "\n",
      "Precision of each fold: \n",
      " [0.9993845206954917, 0.9308310318855134, 0.9964440321583179, 0.9968382223783594, 0.9827768014059753, 0.9935680433310765, 0.7654135338345864, 0.9986513823331086, 0.9270353302611367, 0.9974386017779117, 0.5956284153005464, 0.9941788675251367, 0.9479843953185956, 0.0, 0.0, 0.922964585615188, 0.9952222683838804, 0.9416141957641672, 0.9891493055555556, 0.9726603575184016, 0.9552047781569966, 0.9988431664187738, 0.9744582043343654]\n",
      "Avg precision: 0.864186523476221\n",
      "Std of precision : \n",
      "0.2813333236533717\n",
      "\n",
      "F1-scores of each fold: \n",
      " [0.9463791344892905, 0.9375395119484131, 0.9943685875183215, 0.9247189180381294, 0.988160452376745, 0.9693400121098696, 0.8208022576093531, 0.9858545515060743, 0.9166508448832351, 0.9425500106784367, 0.42330097087378643, 0.9903356176418907, 0.7587822014051522, 0.9285583103764921, 0.9849917763157895, 0.9580663948747815, 0.7533884297520662, 0.9770266701874835, 0.9694739121021866, 0.9837239583333334, 0.9847477512710209]\n",
      "Avg F1-scores: 0.9113695368710405\n",
      "Std of F1-scores : \n",
      "0.12944494164750156\n",
      "{'max_depth': 10}\n"
     ]
    },
    {
     "data": {
      "image/png": "[encoded data removed]",
      "text/plain": [
       "<Figure size 432x288 with 1 Axes>"
      ]
     },
     "metadata": {
      "image/png": {
       "height": 261,
       "width": 386
      },
      "needs_background": "light"
     },
     "output_type": "display_data"
    }
   ],
   "source": [
    "# Decision tree\n",
    "moving_accuracy['decision_tree'] = []\n",
    "params = {\n",
    "    \"max_depth\": list(range(1, 16))\n",
    "}\n",
    "\n",
    "moving_acc = []\n",
    "\n",
    "print(\"random search started\")\n",
    "randomsearch = RandomizedSearchCV(DecisionTreeClassifier(), param_distributions=params, refit='accuracy', scoring=scorer, verbose=2, cv=splits)\n",
    "randomsearch.fit(X, y)\n",
    "print(\"random search completed\")\n",
    "\n",
    "moving_accuracy['decision_tree'] = moving_acc[(randomsearch.best_index_)*23:(randomsearch.best_index_*23)+23]\n",
    "\n",
    "print(randomsearch.best_estimator_.feature_importances_)\n",
    "Importance = pd.DataFrame({'Importance':(randomsearch.best_estimator_.feature_importances_*100)[0:12]}, \n",
    "                      index = (X.columns)[0:12])\n",
    "Importance.sort_values(by = 'Importance', \n",
    "                   axis = 0, \n",
    "                   ascending = True).plot(kind = 'barh', \n",
    "                                          color = 'r')\n",
    "plt.xlabel('Variable Importance')\n",
    "plt.gca().legend_ = None\n",
    "\n",
    "results = pd.DataFrame(randomsearch.cv_results_)\n",
    "os.mkdir(os.path.normpath(parent_path + '/models/subsets/results/'))\n",
    "results.to_csv(os.path.normpath(parent_path + '/models/subsets/results/decision_tree_results.csv'))\n",
    "print(results)\n",
    "\n",
    "score_reporter(results.iloc[randomsearch.best_index_])\n",
    "\n",
    "print(randomsearch.best_params_)"
   ]
  },
  {
   "cell_type": "code",
   "execution_count": 9,
   "id": "dab85209",
   "metadata": {},
   "outputs": [
    {
     "data": {
      "image/png": "[encoded data removed]",
      "text/plain": [
       "<Figure size 432x288 with 1 Axes>"
      ]
     },
     "metadata": {
      "image/png": {
       "height": 248,
       "width": 387
      },
      "needs_background": "light"
     },
     "output_type": "display_data"
    }
   ],
   "source": [
    "for classifier in moving_accuracy:\n",
    "    minLen = len(moving_accuracy[classifier][0])\n",
    "    for list in moving_accuracy[classifier]:\n",
    "        if len(list)<minLen:\n",
    "            minLen = len(list)\n",
    "\n",
    "    for list in moving_accuracy[classifier]:\n",
    "        list = list[:minLen]\n",
    "\n",
    "    avg_list = [sum(sub_list) / len(sub_list) for sub_list in zip(*moving_accuracy[classifier])]\n",
    "    plt.plot(avg_list, label = classifier)\n",
    "    plt.legend()"
   ]
  }
 ],
 "metadata": {
  "kernelspec": {
   "display_name": "afib",
   "language": "python",
   "name": "afib"
  },
  "language_info": {
   "codemirror_mode": {
    "name": "ipython",
    "version": 3
   },
   "file_extension": ".py",
   "mimetype": "text/x-python",
   "name": "python",
   "nbconvert_exporter": "python",
   "pygments_lexer": "ipython3",
   "version": "3.10.5"
  },
  "vscode": {
   "interpreter": {
    "hash": "aee8b7b246df8f9039afb4144a1f6fd8d2ca17a180786b69acc140d282b71a49"
   }
  }
 },
 "nbformat": 4,
 "nbformat_minor": 5
}
