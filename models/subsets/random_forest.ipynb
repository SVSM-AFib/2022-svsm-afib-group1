{
 "cells": [
  {
   "cell_type": "code",
   "execution_count": 1,
   "id": "198cd38c",
   "metadata": {},
   "outputs": [],
   "source": [
    "import numpy as np\n",
    "from matplotlib import pyplot as plt\n",
    "from sklearn import preprocessing\n",
    "import wfdb\n",
    "import copy as cp\n",
    "import scipy.signal as signal\n",
    "import scipy.stats as stats\n",
    "from sklearn import preprocessing\n",
    "from tqdm import tqdm\n",
    "import os\n",
    "import pathlib\n",
    "import re\n",
    "import pandas as pd\n",
    "import pickle\n",
    "import csv\n",
    "import statistics"
   ]
  },
  {
   "cell_type": "code",
   "execution_count": 2,
   "id": "2c512ff2",
   "metadata": {},
   "outputs": [
    {
     "name": "stderr",
     "output_type": "stream",
     "text": [
      "C:\\Users\\lms-puvvalat\\.conda\\envs\\afib\\lib\\site-packages\\xgboost\\compat.py:36: FutureWarning: pandas.Int64Index is deprecated and will be removed from pandas in a future version. Use pandas.Index with the appropriate dtype instead.\n",
      "  from pandas import MultiIndex, Int64Index\n"
     ]
    }
   ],
   "source": [
    "import timeit\n",
    "\n",
    "import matplotlib_inline.backend_inline\n",
    "matplotlib_inline.backend_inline.set_matplotlib_formats(\"retina\")\n",
    "\n",
    "from sklearn.preprocessing import PolynomialFeatures\n",
    "\n",
    "import sklearn.linear_model as skl_lm\n",
    "from sklearn.linear_model import LinearRegression\n",
    "from sklearn.linear_model import LogisticRegression\n",
    "from sklearn.linear_model import LogisticRegressionCV\n",
    "from sklearn import neighbors\n",
    "from sklearn.discriminant_analysis import LinearDiscriminantAnalysis \n",
    "from sklearn.discriminant_analysis import QuadraticDiscriminantAnalysis\n",
    "from sklearn.tree import DecisionTreeRegressor \n",
    "from sklearn.tree import DecisionTreeClassifier \n",
    "from sklearn.tree import export_graphviz\n",
    "from sklearn.svm import SVC\n",
    "\n",
    "from sklearn.model_selection import cross_val_score\n",
    "from sklearn.model_selection import KFold\n",
    "from sklearn.model_selection import LeaveOneGroupOut\n",
    "from sklearn.model_selection import train_test_split\n",
    "from sklearn.model_selection import GridSearchCV\n",
    "from sklearn.model_selection import RandomizedSearchCV\n",
    "\n",
    "from sklearn.metrics import confusion_matrix\n",
    "from sklearn.metrics import classification_report\n",
    "from sklearn.metrics import accuracy_score\n",
    "from sklearn.metrics import precision_score\n",
    "from sklearn.metrics import mean_squared_error\n",
    "\n",
    "from sklearn.ensemble import RandomForestRegressor\n",
    "from sklearn.ensemble import GradientBoostingRegressor\n",
    "from sklearn.ensemble import RandomForestClassifier\n",
    "from sklearn.ensemble import AdaBoostClassifier\n",
    "from sklearn.ensemble import GradientBoostingClassifier\n",
    "\n",
    "import xgboost as xgb\n",
    "from xgboost import XGBClassifier\n",
    "from sklearn import metrics\n",
    "from lightgbm import LGBMClassifier\n",
    "from sklearn.metrics import roc_auc_score\n",
    "from sklearn.metrics import roc_curve, auc\n",
    "\n",
    "import lightgbm\n",
    "import lightgbm as lgb\n",
    "from sklearn.preprocessing import LabelBinarizer\n",
    "\n",
    "import catboost as cb\n",
    "from catboost import CatBoostClassifier"
   ]
  },
  {
   "cell_type": "code",
   "execution_count": 3,
   "id": "24e708a6",
   "metadata": {},
   "outputs": [],
   "source": [
    "parent_path = str(pathlib.Path(os.path.normpath('C:\\\\Users\\\\lms-puvvalat\\\\Documents\\\\GitHub\\\\2022-svsm-afib-group1\\\\')))\n",
    "\n",
    "rlist = []\n",
    "records = os.path.normpath(parent_path + '/mit-bih-dataframes/subject_list.csv')\n",
    "with open(records) as rfile:\n",
    "    recordreader = csv.reader(rfile, delimiter=' ', quotechar='|')\n",
    "    for row in recordreader:\n",
    "        rlist.append(row[0])"
   ]
  },
  {
   "cell_type": "code",
   "execution_count": 4,
   "id": "2d4d4d5c",
   "metadata": {},
   "outputs": [],
   "source": [
    "performance_dict = {\n",
    "    \"Model name\": [],\n",
    "    \"Avg Accuracy\": [],\n",
    "    \"Std Accuracy\": [],\n",
    "    \"Sensitivity\": [],\n",
    "    \"Specificity\": [],\n",
    "    \"Precision\": [],\n",
    "    \"F1 score\": [],\n",
    "    \"Run time\": [],\n",
    "    \"TPS\": []\n",
    "}\n",
    "\n",
    "moving_accuracy = {}"
   ]
  },
  {
   "cell_type": "code",
   "execution_count": 5,
   "id": "1195fd05",
   "metadata": {},
   "outputs": [],
   "source": [
    "def score_reporter(initial_results):\n",
    "    initial_columns = initial_results.axes[0].tolist()\n",
    "    results = initial_results.dropna()\n",
    "    changed_columns = results.axes[0].tolist()\n",
    "    \n",
    "    dropped_cols = list(set(initial_columns).difference(changed_columns))\n",
    "    \n",
    "    print(dropped_cols)\n",
    "\n",
    "    acc_scores = []\n",
    "    for x in range(len(rlist)):\n",
    "        col_name = 'split'+str(x)+'_test_accuracy'\n",
    "        if col_name not in dropped_cols:\n",
    "            acc_scores.append(results[col_name])\n",
    "\n",
    "    spec_scores = []\n",
    "    for x in range(len(rlist)):\n",
    "        col_name = 'split'+str(x)+'_test_specificity'\n",
    "        if col_name not in dropped_cols:\n",
    "            spec_scores.append(results[col_name])\n",
    "\n",
    "    sens_scores = []\n",
    "    for x in range(len(rlist)):\n",
    "        col_name = 'split'+str(x)+'_test_sensitivity'\n",
    "        if col_name not in dropped_cols:\n",
    "            sens_scores.append(results[col_name])\n",
    "\n",
    "\n",
    "    prec_scores = []\n",
    "    for x in range(len(rlist)):\n",
    "        col_name = 'split'+str(x)+'_test_precision'\n",
    "        if col_name not in dropped_cols:\n",
    "            prec_scores.append(results[col_name])\n",
    "\n",
    "    f1_scores = []\n",
    "    for x in range(len(rlist)):\n",
    "        col_name = 'split'+str(x)+'_test_f1_score'\n",
    "        if col_name not in dropped_cols:\n",
    "            f1_scores.append(results[col_name])\n",
    "        \n",
    "    elapsed_times = []\n",
    "    for x in range(len(rlist)):\n",
    "        col_name = 'split'+str(x)+'_test_elapsed'\n",
    "        if col_name not in dropped_cols:\n",
    "            elapsed_times.append(results[col_name])\n",
    "\n",
    "    eps_times = []\n",
    "    for x in range(len(rlist)):\n",
    "        col_name = 'split'+str(x)+'_test_eps'\n",
    "        if col_name not in dropped_cols:\n",
    "            eps_times.append(results[col_name])\n",
    "\n",
    "    print('---Run time of each fold: \\n {}'.format(elapsed_times))\n",
    "    print(\"Avg run time: {}\".format(np.mean(elapsed_times)))\n",
    "    print('---Run time per subset of each fold is: \\n {}'.format(eps_times))\n",
    "    print(\"Avg run time per subset: {}\".format(np.mean(eps_times)))\n",
    "    print()\n",
    "    print('Accuracy of each fold: \\n {}'.format(acc_scores))\n",
    "    print(\"Avg accuracy: {}\".format(np.mean(acc_scores)))\n",
    "    print('Std of accuracy : \\n{}'.format(np.std(acc_scores)))\n",
    "    print()\n",
    "    print('Specificity of each fold: \\n {}'.format(spec_scores))\n",
    "    print(\"Avg specificity: {}\".format(np.mean(spec_scores)))\n",
    "    print('Std of specificity: \\n{}'.format(np.std(spec_scores)))\n",
    "    print()\n",
    "    print('Sensitivity of each fold: \\n {}'.format(sens_scores))\n",
    "    print(\"Avg sensitivity: {}\".format(np.mean(sens_scores)))\n",
    "    print('Std of sensitivity: \\n{}'.format(np.std(sens_scores)))\n",
    "    print()\n",
    "    print('Precision of each fold: \\n {}'.format(prec_scores))\n",
    "    print(\"Avg precision: {}\".format(np.mean(prec_scores)))\n",
    "    print('Std of precision : \\n{}'.format(np.std(prec_scores)))\n",
    "    print()\n",
    "    print('F1-scores of each fold: \\n {}'.format(f1_scores))\n",
    "    print(\"Avg F1-scores: {}\".format(np.mean(f1_scores)))\n",
    "    print('Std of F1-scores : \\n{}'.format(np.std(f1_scores)))"
   ]
  },
  {
   "cell_type": "code",
   "execution_count": 6,
   "id": "dbb897af",
   "metadata": {},
   "outputs": [],
   "source": [
    "def scorer(clf, X, y):\n",
    "    global moving_acc\n",
    "\n",
    "    start_time = timeit.default_timer()\n",
    "    y_pred = clf.predict(X)\n",
    "    elapsed = timeit.default_timer() - start_time\n",
    "\n",
    "    total_seen = 0\n",
    "    total_correct = 0\n",
    "    subject_acc = []\n",
    "    for idx, pred in enumerate(y_pred):\n",
    "        total_seen+=1\n",
    "        if pred==y.iloc[idx]:\n",
    "            total_correct+=1\n",
    "        subject_acc.append(total_correct/total_seen)\n",
    "    moving_acc.append(subject_acc)\n",
    "\n",
    "    fold_size = len(X)\n",
    "\n",
    "    cm = confusion_matrix(y, y_pred)\n",
    "\n",
    "    sensitivity = cm[0][0]/(cm[0][0]+cm[0][1])\n",
    "    specificity = cm[1][1]/(cm[1][0]+cm[1][1])\n",
    "    precision = (cm[0][0])/(cm[0][0]+cm[1][0])\n",
    "    f1_score = (2*precision*sensitivity)/(precision+sensitivity)\n",
    "\n",
    "    return {'sensitivity': sensitivity, 'specificity': specificity,\n",
    "            'precision': precision, 'f1_score': f1_score,\n",
    "            'accuracy': accuracy_score(y, y_pred), \n",
    "            'elapsed': elapsed, 'eps': elapsed/fold_size}"
   ]
  },
  {
   "cell_type": "code",
   "execution_count": 7,
   "id": "5fe20408",
   "metadata": {},
   "outputs": [
    {
     "name": "stderr",
     "output_type": "stream",
     "text": [
      "100%|██████████████████████████████████████████████████████████████████████████████████| 23/23 [00:00<00:00, 32.97it/s]\n"
     ]
    }
   ],
   "source": [
    "feature_dfs = {}\n",
    "for record in tqdm(rlist):\n",
    "    feature_dfs[record] = pd.read_csv(os.path.normpath(parent_path + '/mit-bih-time-features/'+record+'.csv'), index_col=0, dtype={'subjectID': str})\n",
    "\n",
    "combined_features = pd.concat([feature_dfs[key][1:] for key in feature_dfs])"
   ]
  },
  {
   "cell_type": "code",
   "execution_count": 8,
   "id": "847e5b15",
   "metadata": {},
   "outputs": [],
   "source": [
    "X = combined_features[['StoS', 'StoR', 'StoL', 'RtoS', 'RtoR', 'RtoL', 'LtoS', 'LtoR', 'LtoL', 'rmssd', 'iqr', 'mad', 'cov']]\n",
    "y = combined_features['mappedLabel'].map({\"Non-Afib\": 0, \"Afib\": 1})\n",
    "groups = combined_features['subjectID'].astype('int64')\n",
    "\n",
    "logo = LeaveOneGroupOut()\n",
    "splits = list(logo.split(X, y, groups=groups))"
   ]
  },
  {
   "cell_type": "code",
   "execution_count": 9,
   "id": "da1b2d6a",
   "metadata": {
    "scrolled": false
   },
   "outputs": [
    {
     "name": "stdout",
     "output_type": "stream",
     "text": [
      "random search started\n",
      "Fitting 23 folds for each of 10 candidates, totalling 230 fits\n",
      "[CV] END .....................max_depth=14, n_estimators=100; total time=  32.6s\n",
      "[CV] END .....................max_depth=14, n_estimators=100; total time=  31.7s\n",
      "[CV] END .....................max_depth=14, n_estimators=100; total time=  33.0s\n",
      "[CV] END .....................max_depth=14, n_estimators=100; total time=  32.5s\n",
      "[CV] END .....................max_depth=14, n_estimators=100; total time=  31.9s\n",
      "[CV] END .....................max_depth=14, n_estimators=100; total time=  32.2s\n",
      "[CV] END .....................max_depth=14, n_estimators=100; total time=  31.5s\n",
      "[CV] END .....................max_depth=14, n_estimators=100; total time=  32.6s\n",
      "[CV] END .....................max_depth=14, n_estimators=100; total time=  31.7s\n",
      "[CV] END .....................max_depth=14, n_estimators=100; total time=  32.4s\n",
      "[CV] END .....................max_depth=14, n_estimators=100; total time=  32.2s\n",
      "[CV] END .....................max_depth=14, n_estimators=100; total time=  33.2s\n",
      "[CV] END .....................max_depth=14, n_estimators=100; total time=  32.4s\n"
     ]
    },
    {
     "name": "stderr",
     "output_type": "stream",
     "text": [
      "C:\\Users\\lms-puvvalat\\AppData\\Local\\Temp\\ipykernel_18840\\1056965083.py:22: RuntimeWarning: invalid value encountered in longlong_scalars\n",
      "  sensitivity = cm[0][0]/(cm[0][0]+cm[0][1])\n"
     ]
    },
    {
     "name": "stdout",
     "output_type": "stream",
     "text": [
      "[CV] END .....................max_depth=14, n_estimators=100; total time=  32.8s\n"
     ]
    },
    {
     "name": "stderr",
     "output_type": "stream",
     "text": [
      "C:\\Users\\lms-puvvalat\\AppData\\Local\\Temp\\ipykernel_18840\\1056965083.py:22: RuntimeWarning: invalid value encountered in longlong_scalars\n",
      "  sensitivity = cm[0][0]/(cm[0][0]+cm[0][1])\n"
     ]
    },
    {
     "name": "stdout",
     "output_type": "stream",
     "text": [
      "[CV] END .....................max_depth=14, n_estimators=100; total time=  32.5s\n",
      "[CV] END .....................max_depth=14, n_estimators=100; total time=  32.5s\n",
      "[CV] END .....................max_depth=14, n_estimators=100; total time=  33.3s\n",
      "[CV] END .....................max_depth=14, n_estimators=100; total time=  32.6s\n",
      "[CV] END .....................max_depth=14, n_estimators=100; total time=  32.7s\n",
      "[CV] END .....................max_depth=14, n_estimators=100; total time=  33.1s\n",
      "[CV] END .....................max_depth=14, n_estimators=100; total time=  32.2s\n",
      "[CV] END .....................max_depth=14, n_estimators=100; total time=  32.5s\n",
      "[CV] END .....................max_depth=14, n_estimators=100; total time=  31.4s\n",
      "[CV] END ......................max_depth=4, n_estimators=100; total time=  11.8s\n",
      "[CV] END ......................max_depth=4, n_estimators=100; total time=  11.7s\n",
      "[CV] END ......................max_depth=4, n_estimators=100; total time=  12.2s\n",
      "[CV] END ......................max_depth=4, n_estimators=100; total time=  11.8s\n",
      "[CV] END ......................max_depth=4, n_estimators=100; total time=  11.7s\n",
      "[CV] END ......................max_depth=4, n_estimators=100; total time=  11.7s\n",
      "[CV] END ......................max_depth=4, n_estimators=100; total time=  11.6s\n",
      "[CV] END ......................max_depth=4, n_estimators=100; total time=  12.0s\n",
      "[CV] END ......................max_depth=4, n_estimators=100; total time=  11.9s\n",
      "[CV] END ......................max_depth=4, n_estimators=100; total time=  11.9s\n",
      "[CV] END ......................max_depth=4, n_estimators=100; total time=  11.5s\n",
      "[CV] END ......................max_depth=4, n_estimators=100; total time=  11.9s\n",
      "[CV] END ......................max_depth=4, n_estimators=100; total time=  11.6s\n"
     ]
    },
    {
     "name": "stderr",
     "output_type": "stream",
     "text": [
      "C:\\Users\\lms-puvvalat\\AppData\\Local\\Temp\\ipykernel_18840\\1056965083.py:22: RuntimeWarning: invalid value encountered in longlong_scalars\n",
      "  sensitivity = cm[0][0]/(cm[0][0]+cm[0][1])\n"
     ]
    },
    {
     "name": "stdout",
     "output_type": "stream",
     "text": [
      "[CV] END ......................max_depth=4, n_estimators=100; total time=  11.7s\n"
     ]
    },
    {
     "name": "stderr",
     "output_type": "stream",
     "text": [
      "C:\\Users\\lms-puvvalat\\AppData\\Local\\Temp\\ipykernel_18840\\1056965083.py:22: RuntimeWarning: invalid value encountered in longlong_scalars\n",
      "  sensitivity = cm[0][0]/(cm[0][0]+cm[0][1])\n"
     ]
    },
    {
     "name": "stdout",
     "output_type": "stream",
     "text": [
      "[CV] END ......................max_depth=4, n_estimators=100; total time=  11.7s\n",
      "[CV] END ......................max_depth=4, n_estimators=100; total time=  11.9s\n",
      "[CV] END ......................max_depth=4, n_estimators=100; total time=  12.1s\n",
      "[CV] END ......................max_depth=4, n_estimators=100; total time=  12.0s\n",
      "[CV] END ......................max_depth=4, n_estimators=100; total time=  11.8s\n",
      "[CV] END ......................max_depth=4, n_estimators=100; total time=  11.8s\n",
      "[CV] END ......................max_depth=4, n_estimators=100; total time=  11.6s\n",
      "[CV] END ......................max_depth=4, n_estimators=100; total time=  11.9s\n",
      "[CV] END ......................max_depth=4, n_estimators=100; total time=  11.9s\n",
      "[CV] END ......................max_depth=8, n_estimators=100; total time=  21.9s\n",
      "[CV] END ......................max_depth=8, n_estimators=100; total time=  21.1s\n",
      "[CV] END ......................max_depth=8, n_estimators=100; total time=  21.5s\n",
      "[CV] END ......................max_depth=8, n_estimators=100; total time=  21.3s\n",
      "[CV] END ......................max_depth=8, n_estimators=100; total time=  21.2s\n",
      "[CV] END ......................max_depth=8, n_estimators=100; total time=  21.3s\n",
      "[CV] END ......................max_depth=8, n_estimators=100; total time=  21.4s\n",
      "[CV] END ......................max_depth=8, n_estimators=100; total time=  22.2s\n",
      "[CV] END ......................max_depth=8, n_estimators=100; total time=  21.6s\n",
      "[CV] END ......................max_depth=8, n_estimators=100; total time=  21.9s\n",
      "[CV] END ......................max_depth=8, n_estimators=100; total time=  21.4s\n",
      "[CV] END ......................max_depth=8, n_estimators=100; total time=  22.1s\n",
      "[CV] END ......................max_depth=8, n_estimators=100; total time=  21.1s\n"
     ]
    },
    {
     "name": "stderr",
     "output_type": "stream",
     "text": [
      "C:\\Users\\lms-puvvalat\\AppData\\Local\\Temp\\ipykernel_18840\\1056965083.py:22: RuntimeWarning: invalid value encountered in longlong_scalars\n",
      "  sensitivity = cm[0][0]/(cm[0][0]+cm[0][1])\n"
     ]
    },
    {
     "name": "stdout",
     "output_type": "stream",
     "text": [
      "[CV] END ......................max_depth=8, n_estimators=100; total time=  21.3s\n"
     ]
    },
    {
     "name": "stderr",
     "output_type": "stream",
     "text": [
      "C:\\Users\\lms-puvvalat\\AppData\\Local\\Temp\\ipykernel_18840\\1056965083.py:22: RuntimeWarning: invalid value encountered in longlong_scalars\n",
      "  sensitivity = cm[0][0]/(cm[0][0]+cm[0][1])\n"
     ]
    },
    {
     "name": "stdout",
     "output_type": "stream",
     "text": [
      "[CV] END ......................max_depth=8, n_estimators=100; total time=  21.0s\n",
      "[CV] END ......................max_depth=8, n_estimators=100; total time=  21.0s\n",
      "[CV] END ......................max_depth=8, n_estimators=100; total time=  22.0s\n",
      "[CV] END ......................max_depth=8, n_estimators=100; total time=  21.2s\n",
      "[CV] END ......................max_depth=8, n_estimators=100; total time=  21.0s\n",
      "[CV] END ......................max_depth=8, n_estimators=100; total time=  21.4s\n",
      "[CV] END ......................max_depth=8, n_estimators=100; total time=  21.3s\n",
      "[CV] END ......................max_depth=8, n_estimators=100; total time=  22.1s\n",
      "[CV] END ......................max_depth=8, n_estimators=100; total time=  21.5s\n",
      "[CV] END .....................max_depth=12, n_estimators=300; total time= 1.5min\n",
      "[CV] END .....................max_depth=12, n_estimators=300; total time= 1.5min\n",
      "[CV] END .....................max_depth=12, n_estimators=300; total time= 1.5min\n",
      "[CV] END .....................max_depth=12, n_estimators=300; total time= 1.5min\n",
      "[CV] END .....................max_depth=12, n_estimators=300; total time= 1.5min\n",
      "[CV] END .....................max_depth=12, n_estimators=300; total time= 1.5min\n",
      "[CV] END .....................max_depth=12, n_estimators=300; total time= 1.5min\n",
      "[CV] END .....................max_depth=12, n_estimators=300; total time= 1.5min\n",
      "[CV] END .....................max_depth=12, n_estimators=300; total time= 1.5min\n",
      "[CV] END .....................max_depth=12, n_estimators=300; total time= 1.5min\n",
      "[CV] END .....................max_depth=12, n_estimators=300; total time= 1.5min\n",
      "[CV] END .....................max_depth=12, n_estimators=300; total time= 1.5min\n",
      "[CV] END .....................max_depth=12, n_estimators=300; total time= 1.4min\n"
     ]
    },
    {
     "name": "stderr",
     "output_type": "stream",
     "text": [
      "C:\\Users\\lms-puvvalat\\AppData\\Local\\Temp\\ipykernel_18840\\1056965083.py:22: RuntimeWarning: invalid value encountered in longlong_scalars\n",
      "  sensitivity = cm[0][0]/(cm[0][0]+cm[0][1])\n"
     ]
    },
    {
     "name": "stdout",
     "output_type": "stream",
     "text": [
      "[CV] END .....................max_depth=12, n_estimators=300; total time= 1.5min\n"
     ]
    },
    {
     "name": "stderr",
     "output_type": "stream",
     "text": [
      "C:\\Users\\lms-puvvalat\\AppData\\Local\\Temp\\ipykernel_18840\\1056965083.py:22: RuntimeWarning: invalid value encountered in longlong_scalars\n",
      "  sensitivity = cm[0][0]/(cm[0][0]+cm[0][1])\n"
     ]
    },
    {
     "name": "stdout",
     "output_type": "stream",
     "text": [
      "[CV] END .....................max_depth=12, n_estimators=300; total time= 1.4min\n",
      "[CV] END .....................max_depth=12, n_estimators=300; total time= 1.5min\n",
      "[CV] END .....................max_depth=12, n_estimators=300; total time= 1.5min\n",
      "[CV] END .....................max_depth=12, n_estimators=300; total time= 1.5min\n",
      "[CV] END .....................max_depth=12, n_estimators=300; total time= 1.5min\n",
      "[CV] END .....................max_depth=12, n_estimators=300; total time= 1.5min\n",
      "[CV] END .....................max_depth=12, n_estimators=300; total time= 1.5min\n",
      "[CV] END .....................max_depth=12, n_estimators=300; total time= 1.5min\n",
      "[CV] END .....................max_depth=12, n_estimators=300; total time= 1.5min\n",
      "[CV] END .....................max_depth=13, n_estimators=200; total time= 1.0min\n",
      "[CV] END .....................max_depth=13, n_estimators=200; total time=  59.5s\n",
      "[CV] END .....................max_depth=13, n_estimators=200; total time= 1.0min\n",
      "[CV] END .....................max_depth=13, n_estimators=200; total time= 1.1min\n",
      "[CV] END .....................max_depth=13, n_estimators=200; total time= 1.0min\n",
      "[CV] END .....................max_depth=13, n_estimators=200; total time= 1.0min\n",
      "[CV] END .....................max_depth=13, n_estimators=200; total time= 1.0min\n",
      "[CV] END .....................max_depth=13, n_estimators=200; total time= 1.0min\n",
      "[CV] END .....................max_depth=13, n_estimators=200; total time= 1.0min\n",
      "[CV] END .....................max_depth=13, n_estimators=200; total time= 1.0min\n",
      "[CV] END .....................max_depth=13, n_estimators=200; total time= 1.0min\n",
      "[CV] END .....................max_depth=13, n_estimators=200; total time= 1.1min\n",
      "[CV] END .....................max_depth=13, n_estimators=200; total time= 1.0min\n"
     ]
    },
    {
     "name": "stderr",
     "output_type": "stream",
     "text": [
      "C:\\Users\\lms-puvvalat\\AppData\\Local\\Temp\\ipykernel_18840\\1056965083.py:22: RuntimeWarning: invalid value encountered in longlong_scalars\n",
      "  sensitivity = cm[0][0]/(cm[0][0]+cm[0][1])\n"
     ]
    },
    {
     "name": "stdout",
     "output_type": "stream",
     "text": [
      "[CV] END .....................max_depth=13, n_estimators=200; total time= 1.0min\n"
     ]
    },
    {
     "name": "stderr",
     "output_type": "stream",
     "text": [
      "C:\\Users\\lms-puvvalat\\AppData\\Local\\Temp\\ipykernel_18840\\1056965083.py:22: RuntimeWarning: invalid value encountered in longlong_scalars\n",
      "  sensitivity = cm[0][0]/(cm[0][0]+cm[0][1])\n"
     ]
    },
    {
     "name": "stdout",
     "output_type": "stream",
     "text": [
      "[CV] END .....................max_depth=13, n_estimators=200; total time= 1.0min\n",
      "[CV] END .....................max_depth=13, n_estimators=200; total time= 1.0min\n",
      "[CV] END .....................max_depth=13, n_estimators=200; total time= 1.0min\n",
      "[CV] END .....................max_depth=13, n_estimators=200; total time= 1.0min\n",
      "[CV] END .....................max_depth=13, n_estimators=200; total time= 1.0min\n",
      "[CV] END .....................max_depth=13, n_estimators=200; total time= 1.0min\n",
      "[CV] END .....................max_depth=13, n_estimators=200; total time= 1.0min\n",
      "[CV] END .....................max_depth=13, n_estimators=200; total time= 1.0min\n",
      "[CV] END .....................max_depth=13, n_estimators=200; total time= 1.0min\n",
      "[CV] END .....................max_depth=14, n_estimators=400; total time= 2.2min\n",
      "[CV] END .....................max_depth=14, n_estimators=400; total time= 2.1min\n",
      "[CV] END .....................max_depth=14, n_estimators=400; total time= 2.2min\n",
      "[CV] END .....................max_depth=14, n_estimators=400; total time= 2.2min\n",
      "[CV] END .....................max_depth=14, n_estimators=400; total time= 2.2min\n",
      "[CV] END .....................max_depth=14, n_estimators=400; total time= 2.2min\n",
      "[CV] END .....................max_depth=14, n_estimators=400; total time= 2.1min\n",
      "[CV] END .....................max_depth=14, n_estimators=400; total time= 2.2min\n",
      "[CV] END .....................max_depth=14, n_estimators=400; total time= 2.2min\n",
      "[CV] END .....................max_depth=14, n_estimators=400; total time= 2.2min\n",
      "[CV] END .....................max_depth=14, n_estimators=400; total time= 2.1min\n",
      "[CV] END .....................max_depth=14, n_estimators=400; total time= 2.2min\n",
      "[CV] END .....................max_depth=14, n_estimators=400; total time= 2.1min\n"
     ]
    },
    {
     "name": "stderr",
     "output_type": "stream",
     "text": [
      "C:\\Users\\lms-puvvalat\\AppData\\Local\\Temp\\ipykernel_18840\\1056965083.py:22: RuntimeWarning: invalid value encountered in longlong_scalars\n",
      "  sensitivity = cm[0][0]/(cm[0][0]+cm[0][1])\n"
     ]
    },
    {
     "name": "stdout",
     "output_type": "stream",
     "text": [
      "[CV] END .....................max_depth=14, n_estimators=400; total time= 2.1min\n"
     ]
    },
    {
     "name": "stderr",
     "output_type": "stream",
     "text": [
      "C:\\Users\\lms-puvvalat\\AppData\\Local\\Temp\\ipykernel_18840\\1056965083.py:22: RuntimeWarning: invalid value encountered in longlong_scalars\n",
      "  sensitivity = cm[0][0]/(cm[0][0]+cm[0][1])\n"
     ]
    },
    {
     "name": "stdout",
     "output_type": "stream",
     "text": [
      "[CV] END .....................max_depth=14, n_estimators=400; total time= 2.2min\n",
      "[CV] END .....................max_depth=14, n_estimators=400; total time= 2.1min\n",
      "[CV] END .....................max_depth=14, n_estimators=400; total time= 2.2min\n",
      "[CV] END .....................max_depth=14, n_estimators=400; total time= 2.2min\n",
      "[CV] END .....................max_depth=14, n_estimators=400; total time= 2.1min\n",
      "[CV] END .....................max_depth=14, n_estimators=400; total time= 2.2min\n",
      "[CV] END .....................max_depth=14, n_estimators=400; total time= 2.1min\n",
      "[CV] END .....................max_depth=14, n_estimators=400; total time= 2.2min\n",
      "[CV] END .....................max_depth=14, n_estimators=400; total time= 2.1min\n",
      "[CV] END .....................max_depth=13, n_estimators=400; total time= 2.1min\n",
      "[CV] END .....................max_depth=13, n_estimators=400; total time= 2.0min\n",
      "[CV] END .....................max_depth=13, n_estimators=400; total time= 2.1min\n",
      "[CV] END .....................max_depth=13, n_estimators=400; total time= 2.1min\n",
      "[CV] END .....................max_depth=13, n_estimators=400; total time= 2.0min\n",
      "[CV] END .....................max_depth=13, n_estimators=400; total time= 2.1min\n",
      "[CV] END .....................max_depth=13, n_estimators=400; total time= 2.1min\n",
      "[CV] END .....................max_depth=13, n_estimators=400; total time= 2.1min\n",
      "[CV] END .....................max_depth=13, n_estimators=400; total time= 2.1min\n",
      "[CV] END .....................max_depth=13, n_estimators=400; total time= 2.1min\n",
      "[CV] END .....................max_depth=13, n_estimators=400; total time= 2.0min\n",
      "[CV] END .....................max_depth=13, n_estimators=400; total time= 2.1min\n",
      "[CV] END .....................max_depth=13, n_estimators=400; total time= 2.1min\n"
     ]
    },
    {
     "name": "stderr",
     "output_type": "stream",
     "text": [
      "C:\\Users\\lms-puvvalat\\AppData\\Local\\Temp\\ipykernel_18840\\1056965083.py:22: RuntimeWarning: invalid value encountered in longlong_scalars\n",
      "  sensitivity = cm[0][0]/(cm[0][0]+cm[0][1])\n"
     ]
    },
    {
     "name": "stdout",
     "output_type": "stream",
     "text": [
      "[CV] END .....................max_depth=13, n_estimators=400; total time= 2.1min\n"
     ]
    },
    {
     "name": "stderr",
     "output_type": "stream",
     "text": [
      "C:\\Users\\lms-puvvalat\\AppData\\Local\\Temp\\ipykernel_18840\\1056965083.py:22: RuntimeWarning: invalid value encountered in longlong_scalars\n",
      "  sensitivity = cm[0][0]/(cm[0][0]+cm[0][1])\n"
     ]
    },
    {
     "name": "stdout",
     "output_type": "stream",
     "text": [
      "[CV] END .....................max_depth=13, n_estimators=400; total time= 2.0min\n",
      "[CV] END .....................max_depth=13, n_estimators=400; total time= 2.1min\n",
      "[CV] END .....................max_depth=13, n_estimators=400; total time= 2.1min\n",
      "[CV] END .....................max_depth=13, n_estimators=400; total time= 2.0min\n",
      "[CV] END .....................max_depth=13, n_estimators=400; total time= 2.1min\n",
      "[CV] END .....................max_depth=13, n_estimators=400; total time= 2.1min\n",
      "[CV] END .....................max_depth=13, n_estimators=400; total time= 2.0min\n",
      "[CV] END .....................max_depth=13, n_estimators=400; total time= 2.1min\n",
      "[CV] END .....................max_depth=13, n_estimators=400; total time= 2.1min\n",
      "[CV] END .....................max_depth=11, n_estimators=300; total time= 1.4min\n",
      "[CV] END .....................max_depth=11, n_estimators=300; total time= 1.3min\n",
      "[CV] END .....................max_depth=11, n_estimators=300; total time= 1.4min\n",
      "[CV] END .....................max_depth=11, n_estimators=300; total time= 1.4min\n",
      "[CV] END .....................max_depth=11, n_estimators=300; total time= 1.4min\n",
      "[CV] END .....................max_depth=11, n_estimators=300; total time= 1.4min\n",
      "[CV] END .....................max_depth=11, n_estimators=300; total time= 1.4min\n",
      "[CV] END .....................max_depth=11, n_estimators=300; total time= 1.4min\n",
      "[CV] END .....................max_depth=11, n_estimators=300; total time= 1.4min\n",
      "[CV] END .....................max_depth=11, n_estimators=300; total time= 1.4min\n",
      "[CV] END .....................max_depth=11, n_estimators=300; total time= 1.4min\n",
      "[CV] END .....................max_depth=11, n_estimators=300; total time= 1.4min\n",
      "[CV] END .....................max_depth=11, n_estimators=300; total time= 1.4min\n"
     ]
    },
    {
     "name": "stderr",
     "output_type": "stream",
     "text": [
      "C:\\Users\\lms-puvvalat\\AppData\\Local\\Temp\\ipykernel_18840\\1056965083.py:22: RuntimeWarning: invalid value encountered in longlong_scalars\n",
      "  sensitivity = cm[0][0]/(cm[0][0]+cm[0][1])\n"
     ]
    },
    {
     "name": "stdout",
     "output_type": "stream",
     "text": [
      "[CV] END .....................max_depth=11, n_estimators=300; total time= 1.4min\n"
     ]
    },
    {
     "name": "stderr",
     "output_type": "stream",
     "text": [
      "C:\\Users\\lms-puvvalat\\AppData\\Local\\Temp\\ipykernel_18840\\1056965083.py:22: RuntimeWarning: invalid value encountered in longlong_scalars\n",
      "  sensitivity = cm[0][0]/(cm[0][0]+cm[0][1])\n"
     ]
    },
    {
     "name": "stdout",
     "output_type": "stream",
     "text": [
      "[CV] END .....................max_depth=11, n_estimators=300; total time= 1.4min\n",
      "[CV] END .....................max_depth=11, n_estimators=300; total time= 1.4min\n",
      "[CV] END .....................max_depth=11, n_estimators=300; total time= 1.4min\n",
      "[CV] END .....................max_depth=11, n_estimators=300; total time= 1.4min\n",
      "[CV] END .....................max_depth=11, n_estimators=300; total time= 1.4min\n",
      "[CV] END .....................max_depth=11, n_estimators=300; total time= 1.4min\n",
      "[CV] END .....................max_depth=11, n_estimators=300; total time= 1.4min\n",
      "[CV] END .....................max_depth=11, n_estimators=300; total time= 1.4min\n",
      "[CV] END .....................max_depth=11, n_estimators=300; total time= 1.3min\n",
      "[CV] END .....................max_depth=13, n_estimators=100; total time=  30.9s\n",
      "[CV] END .....................max_depth=13, n_estimators=100; total time=  29.7s\n",
      "[CV] END .....................max_depth=13, n_estimators=100; total time=  31.6s\n",
      "[CV] END .....................max_depth=13, n_estimators=100; total time=  30.8s\n",
      "[CV] END .....................max_depth=13, n_estimators=100; total time=  30.4s\n",
      "[CV] END .....................max_depth=13, n_estimators=100; total time=  30.7s\n",
      "[CV] END .....................max_depth=13, n_estimators=100; total time=  30.1s\n",
      "[CV] END .....................max_depth=13, n_estimators=100; total time=  31.2s\n",
      "[CV] END .....................max_depth=13, n_estimators=100; total time=  30.3s\n",
      "[CV] END .....................max_depth=13, n_estimators=100; total time=  30.9s\n",
      "[CV] END .....................max_depth=13, n_estimators=100; total time=  30.5s\n",
      "[CV] END .....................max_depth=13, n_estimators=100; total time=  31.6s\n",
      "[CV] END .....................max_depth=13, n_estimators=100; total time=  30.7s\n"
     ]
    },
    {
     "name": "stderr",
     "output_type": "stream",
     "text": [
      "C:\\Users\\lms-puvvalat\\AppData\\Local\\Temp\\ipykernel_18840\\1056965083.py:22: RuntimeWarning: invalid value encountered in longlong_scalars\n",
      "  sensitivity = cm[0][0]/(cm[0][0]+cm[0][1])\n"
     ]
    },
    {
     "name": "stdout",
     "output_type": "stream",
     "text": [
      "[CV] END .....................max_depth=13, n_estimators=100; total time=  30.6s\n"
     ]
    },
    {
     "name": "stderr",
     "output_type": "stream",
     "text": [
      "C:\\Users\\lms-puvvalat\\AppData\\Local\\Temp\\ipykernel_18840\\1056965083.py:22: RuntimeWarning: invalid value encountered in longlong_scalars\n",
      "  sensitivity = cm[0][0]/(cm[0][0]+cm[0][1])\n"
     ]
    },
    {
     "name": "stdout",
     "output_type": "stream",
     "text": [
      "[CV] END .....................max_depth=13, n_estimators=100; total time=  30.4s\n",
      "[CV] END .....................max_depth=13, n_estimators=100; total time=  30.1s\n",
      "[CV] END .....................max_depth=13, n_estimators=100; total time=  31.0s\n",
      "[CV] END .....................max_depth=13, n_estimators=100; total time=  30.6s\n",
      "[CV] END .....................max_depth=13, n_estimators=100; total time=  31.1s\n",
      "[CV] END .....................max_depth=13, n_estimators=100; total time=  30.9s\n",
      "[CV] END .....................max_depth=13, n_estimators=100; total time=  30.0s\n",
      "[CV] END .....................max_depth=13, n_estimators=100; total time=  31.1s\n",
      "[CV] END .....................max_depth=13, n_estimators=100; total time=  29.9s\n",
      "[CV] END ......................max_depth=5, n_estimators=100; total time=  14.3s\n",
      "[CV] END ......................max_depth=5, n_estimators=100; total time=  14.2s\n",
      "[CV] END ......................max_depth=5, n_estimators=100; total time=  14.4s\n",
      "[CV] END ......................max_depth=5, n_estimators=100; total time=  14.2s\n",
      "[CV] END ......................max_depth=5, n_estimators=100; total time=  14.2s\n",
      "[CV] END ......................max_depth=5, n_estimators=100; total time=  14.2s\n",
      "[CV] END ......................max_depth=5, n_estimators=100; total time=  14.1s\n",
      "[CV] END ......................max_depth=5, n_estimators=100; total time=  14.5s\n",
      "[CV] END ......................max_depth=5, n_estimators=100; total time=  14.1s\n",
      "[CV] END ......................max_depth=5, n_estimators=100; total time=  14.2s\n",
      "[CV] END ......................max_depth=5, n_estimators=100; total time=  14.0s\n",
      "[CV] END ......................max_depth=5, n_estimators=100; total time=  14.4s\n",
      "[CV] END ......................max_depth=5, n_estimators=100; total time=  14.1s\n"
     ]
    },
    {
     "name": "stderr",
     "output_type": "stream",
     "text": [
      "C:\\Users\\lms-puvvalat\\AppData\\Local\\Temp\\ipykernel_18840\\1056965083.py:22: RuntimeWarning: invalid value encountered in longlong_scalars\n",
      "  sensitivity = cm[0][0]/(cm[0][0]+cm[0][1])\n"
     ]
    },
    {
     "name": "stdout",
     "output_type": "stream",
     "text": [
      "[CV] END ......................max_depth=5, n_estimators=100; total time=  14.4s\n"
     ]
    },
    {
     "name": "stderr",
     "output_type": "stream",
     "text": [
      "C:\\Users\\lms-puvvalat\\AppData\\Local\\Temp\\ipykernel_18840\\1056965083.py:22: RuntimeWarning: invalid value encountered in longlong_scalars\n",
      "  sensitivity = cm[0][0]/(cm[0][0]+cm[0][1])\n"
     ]
    },
    {
     "name": "stdout",
     "output_type": "stream",
     "text": [
      "[CV] END ......................max_depth=5, n_estimators=100; total time=  14.4s\n",
      "[CV] END ......................max_depth=5, n_estimators=100; total time=  14.4s\n",
      "[CV] END ......................max_depth=5, n_estimators=100; total time=  14.5s\n",
      "[CV] END ......................max_depth=5, n_estimators=100; total time=  14.2s\n",
      "[CV] END ......................max_depth=5, n_estimators=100; total time=  14.0s\n",
      "[CV] END ......................max_depth=5, n_estimators=100; total time=  14.3s\n",
      "[CV] END ......................max_depth=5, n_estimators=100; total time=  14.0s\n",
      "[CV] END ......................max_depth=5, n_estimators=100; total time=  14.4s\n",
      "[CV] END ......................max_depth=5, n_estimators=100; total time=  14.0s\n"
     ]
    },
    {
     "name": "stderr",
     "output_type": "stream",
     "text": [
      "C:\\Users\\lms-puvvalat\\.conda\\envs\\afib\\lib\\site-packages\\sklearn\\model_selection\\_search.py:953: UserWarning: One or more of the test scores are non-finite: [nan nan nan nan nan nan nan nan nan nan]\n",
      "  warnings.warn(\n"
     ]
    },
    {
     "name": "stdout",
     "output_type": "stream",
     "text": [
      "random search completed\n",
      "[0.08599157 0.07091212 0.02422574 0.01238582 0.10512486 0.17063498\n",
      " 0.01131181 0.03303301 0.01807821 0.0631933  0.11213437 0.07611449\n",
      " 0.21685973]\n",
      "   mean_fit_time  std_fit_time  mean_score_time  std_score_time  \\\n",
      "0      32.399236      0.524977         0.108231        0.021826   \n",
      "1      11.835089      0.172767         0.077184        0.012911   \n",
      "2      21.486367      0.390002         0.088067        0.015423   \n",
      "3      88.441758      1.300842         0.219819        0.044210   \n",
      "4      61.542630      0.970998         0.167818        0.034031   \n",
      "5     129.509571      2.447900         0.298975        0.069440   \n",
      "6     124.146816      1.881819         0.294919        0.062431   \n",
      "7      83.012169      1.439153         0.208510        0.042020   \n",
      "8      30.665439      0.494557         0.105370        0.020505   \n",
      "9      14.261113      0.170077         0.079786        0.012981   \n",
      "\n",
      "  param_n_estimators param_max_depth                                  params  \\\n",
      "0                100              14  {'n_estimators': 100, 'max_depth': 14}   \n",
      "1                100               4   {'n_estimators': 100, 'max_depth': 4}   \n",
      "2                100               8   {'n_estimators': 100, 'max_depth': 8}   \n",
      "3                300              12  {'n_estimators': 300, 'max_depth': 12}   \n",
      "4                200              13  {'n_estimators': 200, 'max_depth': 13}   \n",
      "5                400              14  {'n_estimators': 400, 'max_depth': 14}   \n",
      "6                400              13  {'n_estimators': 400, 'max_depth': 13}   \n",
      "7                300              11  {'n_estimators': 300, 'max_depth': 11}   \n",
      "8                100              13  {'n_estimators': 100, 'max_depth': 13}   \n",
      "9                100               5   {'n_estimators': 100, 'max_depth': 5}   \n",
      "\n",
      "   split0_test_sensitivity  split1_test_sensitivity  split2_test_sensitivity  \\\n",
      "0                 0.907292                 0.961411                 0.994457   \n",
      "1                 0.885291                 0.950458                 0.992456   \n",
      "2                 0.901619                 0.957972                 0.994457   \n",
      "3                 0.905078                 0.960520                 0.994765   \n",
      "4                 0.905770                 0.960392                 0.994611   \n",
      "5                 0.907154                 0.961411                 0.994765   \n",
      "6                 0.906185                 0.960902                 0.994611   \n",
      "7                 0.903971                 0.959628                 0.994611   \n",
      "8                 0.905908                 0.959755                 0.994611   \n",
      "9                 0.890273                 0.953133                 0.992764   \n",
      "\n",
      "   ...  split16_test_eps  split17_test_eps  split18_test_eps  \\\n",
      "0  ...          0.000008          0.000008          0.000009   \n",
      "1  ...          0.000004          0.000004          0.000004   \n",
      "2  ...          0.000006          0.000005          0.000006   \n",
      "3  ...          0.000022          0.000021          0.000024   \n",
      "4  ...          0.000015          0.000015          0.000017   \n",
      "5  ...          0.000032          0.000030          0.000037   \n",
      "6  ...          0.000031          0.000030          0.000035   \n",
      "7  ...          0.000021          0.000019          0.000023   \n",
      "8  ...          0.000008          0.000008          0.000009   \n",
      "9  ...          0.000005          0.000004          0.000004   \n",
      "\n",
      "   split19_test_eps  split20_test_eps  split21_test_eps  split22_test_eps  \\\n",
      "0          0.000007          0.000007          0.000007          0.000007   \n",
      "1          0.000004          0.000004          0.000004          0.000004   \n",
      "2          0.000005          0.000005          0.000005          0.000005   \n",
      "3          0.000020          0.000019          0.000021          0.000019   \n",
      "4          0.000014          0.000014          0.000014          0.000014   \n",
      "5          0.000029          0.000028          0.000028          0.000027   \n",
      "6          0.000028          0.000027          0.000028          0.000027   \n",
      "7          0.000019          0.000018          0.000019          0.000017   \n",
      "8          0.000007          0.000007          0.000007          0.000007   \n",
      "9          0.000004          0.000004          0.000004          0.000004   \n",
      "\n",
      "   mean_test_eps  std_test_eps  rank_test_eps  \n",
      "0       0.000008  9.726994e-07              6  \n",
      "1       0.000004  2.384734e-07             10  \n",
      "2       0.000005  4.703972e-07              8  \n",
      "3       0.000021  2.254634e-06              3  \n",
      "4       0.000015  1.688403e-06              5  \n",
      "5       0.000031  4.061953e-06              1  \n",
      "6       0.000031  3.315606e-06              2  \n",
      "7       0.000020  2.245089e-06              4  \n",
      "8       0.000008  8.792972e-07              7  \n",
      "9       0.000004  2.878609e-07              9  \n",
      "\n",
      "[10 rows x 189 columns]\n",
      "['mean_test_f1_score', 'mean_test_sensitivity', 'std_test_sensitivity', 'split13_test_sensitivity', 'split14_test_sensitivity', 'split13_test_f1_score', 'std_test_f1_score', 'split14_test_f1_score']\n",
      "---Run time of each fold: \n",
      " [0.20929499994963408, 0.3026310999994166, 0.17598509998060763, 0.27499409997835755, 0.22295409999787807, 0.27652460004901513, 0.2804092000005767, 0.16957140003796667, 0.2773867000360042, 0.25290960003621876, 0.25341649999609217, 0.17391810001572594, 0.33620660001179203, 0.2057298999861814, 0.42092760000377893, 0.2942341999732889, 0.19196409999858588, 0.219152900041081, 0.36616439995123073, 0.21648850000929087, 0.26934260001871735, 0.1851339999702759, 0.2691148999729194]\n",
      "Avg run time: 0.2541067478267233\n",
      "---Run time per subset of each fold is: \n",
      " [2.8611756657502948e-05, 2.93788078826732e-05, 2.6543755653183655e-05, 3.8601080850415154e-05, 2.8005790729541273e-05, 2.691236983445403e-05, 3.14289621161821e-05, 2.7757636280564195e-05, 3.3440229057987243e-05, 3.3413872378942895e-05, 2.7632373786510975e-05, 3.0053240023453592e-05, 3.6623812637450114e-05, 3.152465522313537e-05, 4.1987790524067725e-05, 3.139502773936075e-05, 3.1776874689386834e-05, 3.0416780019580988e-05, 3.712881767909458e-05, 2.8605774314124058e-05, 2.7509202330580875e-05, 2.7957414673856224e-05, 2.7166858466880614e-05]\n",
      "Avg run time per subset: 3.10379514586491e-05\n",
      "\n",
      "Accuracy of each fold: \n",
      " [0.9078605604921395, 0.9142801669740802, 0.9917043740573153, 0.9150758001122965, 0.9956035673910313, 0.9542579075425791, 0.9026003138309796, 0.9882141103290227, 0.9562386980108499, 0.9089708019553442, 0.9695780176643768, 0.9892863314325212, 0.8166666666666667, 0.9216978240882623, 0.5403491271820449, 0.9763124199743918, 0.9837775202780996, 0.9894517696044414, 0.7375785844656256, 0.9718551797040169, 0.994995403942396, 0.9658713379643612, 0.9967696345649102]\n",
      "Avg accuracy: 0.9256085268794677\n",
      "Std of accuracy : \n",
      "0.10249655414354107\n",
      "\n",
      "Specificity of each fold: \n",
      " [0.9659090909090909, 0.7631686402613311, 0.8444444444444444, 0.9779005524861878, 0.9953370895667379, 0.9422680412371134, 0.9036399335447818, 0.5652173913043478, 0.9754971590909091, 0.9119496855345912, 0.9937775766489422, 0.5, 0.9743982494529541, 0.9216978240882623, 0.5403491271820449, 0.981998199819982, 0.9875776397515528, 0.9916636462486408, 0.9852320675105485, 0.9252483010977522, 0.9936136242682277, 1.0, 0.9963394793926247]\n",
      "Avg specificity: 0.897270772340916\n",
      "Std of specificity: \n",
      "0.1509034924289287\n",
      "\n",
      "Sensitivity of each fold: \n",
      " [0.9071537290715372, 0.9614111054508405, 0.9947652040030793, 0.9098921136605379, 0.996090973702914, 0.9555077915099409, 0.8996088657105606, 0.9898126848504765, 0.9155088246338716, 0.9089068825910931, 0.3253012048192771, 0.9956240154034658, 0.6603036876355748, 0.9623059866962306, 0.9829059829059829, 0.98221695317131, 0.6592365189535504, 0.9876215738284704, 0.9995604395604396, 0.9637646304312971, 0.9980237154150198]\n",
      "Avg sensitivity: 0.9026439468574032\n",
      "Std of sensitivity: \n",
      "0.15992236400582335\n",
      "\n",
      "Precision of each fold: \n",
      " [0.9995426132032322, 0.9286505105178989, 0.9967602591792657, 0.998, 0.9915104350902016, 0.993740918743713, 0.7644017725258493, 0.998342724560822, 0.9464285714285714, 0.9979256186101645, 0.6625766871165644, 0.9935371179039302, 0.9629863967099019, 0.0, 0.0, 0.9559471365638766, 0.9971098265895953, 0.9729888432178508, 0.9929634097305992, 0.9750349162011173, 0.979328165374677, 1.0, 0.9894200626959248]\n",
      "Avg precision: 0.873791129824511\n",
      "Std of precision : \n",
      "0.28102278014203863\n",
      "\n",
      "F1-scores of each fold: \n",
      " [0.9511098215581023, 0.9447468869282274, 0.9957617322955998, 0.9519116127493841, 0.9937954263428471, 0.9742493973263204, 0.8265122778997803, 0.9940594059405939, 0.9307119679328115, 0.9513383713539093, 0.4363636363636363, 0.9945794719356532, 0.7834255565564276, 0.9591160220994475, 0.9899569583931133, 0.9775811209439528, 0.7923953152575004, 0.9812878854432048, 0.9893408744833587, 0.9815480078380143, 0.9937032664305392]\n",
      "Avg F1-scores: 0.9234997626701155\n",
      "Std of F1-scores : \n",
      "0.12606076318250783\n",
      "{'n_estimators': 400, 'max_depth': 14}\n"
     ]
    },
    {
     "data": {
      "image/png": "[encoded data removed]",
      "text/plain": [
       "<Figure size 432x288 with 1 Axes>"
      ]
     },
     "metadata": {
      "image/png": {
       "height": 261,
       "width": 386
      },
      "needs_background": "light"
     },
     "output_type": "display_data"
    }
   ],
   "source": [
    "# random forest\n",
    "moving_accuracy['random_forest'] = []\n",
    "params = {\n",
    "    \"max_depth\": list(range(1, 16)),\n",
    "    \"n_estimators\": np.linspace(100, 500, 5).astype(int)\n",
    "}\n",
    "\n",
    "moving_acc = []\n",
    "\n",
    "print(\"random search started\")\n",
    "randomsearch = RandomizedSearchCV(RandomForestClassifier(max_features='sqrt', random_state=2), \n",
    "                                    param_distributions=params, refit='accuracy', scoring=scorer, verbose=2, cv=splits)\n",
    "randomsearch.fit(X, y)\n",
    "print(\"random search completed\")\n",
    "\n",
    "moving_accuracy['random_forest'] = moving_acc[(randomsearch.best_index_)*23:(randomsearch.best_index_*23)+23]\n",
    "\n",
    "print(randomsearch.best_estimator_.feature_importances_)\n",
    "Importance = pd.DataFrame({'Importance':(randomsearch.best_estimator_.feature_importances_*100)[0:12]}, \n",
    "                      index = (X.columns)[0:12])\n",
    "Importance.sort_values(by = 'Importance', \n",
    "                   axis = 0, \n",
    "                   ascending = True).plot(kind = 'barh', \n",
    "                                          color = 'r')\n",
    "plt.xlabel('Variable Importance')\n",
    "plt.gca().legend_ = None\n",
    "\n",
    "results = pd.DataFrame(randomsearch.cv_results_)\n",
    "os.mkdir(os.path.normpath(parent_path + '/models/subsets/results/'))\n",
    "results.to_csv(os.path.normpath(parent_path + '/models/subsets/results/random_forest_results.csv'))\n",
    "print(results)\n",
    "\n",
    "score_reporter(results.iloc[randomsearch.best_index_])\n",
    "\n",
    "print(randomsearch.best_params_)"
   ]
  },
  {
   "cell_type": "code",
   "execution_count": 10,
   "id": "2d001cf6",
   "metadata": {},
   "outputs": [
    {
     "data": {
      "image/png": "[encoded data removed]",
      "text/plain": [
       "<Figure size 432x288 with 1 Axes>"
      ]
     },
     "metadata": {
      "image/png": {
       "height": 248,
       "width": 387
      },
      "needs_background": "light"
     },
     "output_type": "display_data"
    }
   ],
   "source": [
    "for classifier in moving_accuracy:\n",
    "    minLen = len(moving_accuracy[classifier][0])\n",
    "    for list in moving_accuracy[classifier]:\n",
    "        if len(list)<minLen:\n",
    "            minLen = len(list)\n",
    "\n",
    "    for list in moving_accuracy[classifier]:\n",
    "        list = list[:minLen]\n",
    "\n",
    "    avg_list = [sum(sub_list) / len(sub_list) for sub_list in zip(*moving_accuracy[classifier])]\n",
    "    plt.plot(avg_list, label = classifier)\n",
    "    plt.legend()"
   ]
  }
 ],
 "metadata": {
  "kernelspec": {
   "display_name": "afib",
   "language": "python",
   "name": "afib"
  },
  "language_info": {
   "codemirror_mode": {
    "name": "ipython",
    "version": 3
   },
   "file_extension": ".py",
   "mimetype": "text/x-python",
   "name": "python",
   "nbconvert_exporter": "python",
   "pygments_lexer": "ipython3",
   "version": "3.10.5"
  },
  "vscode": {
   "interpreter": {
    "hash": "aee8b7b246df8f9039afb4144a1f6fd8d2ca17a180786b69acc140d282b71a49"
   }
  }
 },
 "nbformat": 4,
 "nbformat_minor": 5
}
