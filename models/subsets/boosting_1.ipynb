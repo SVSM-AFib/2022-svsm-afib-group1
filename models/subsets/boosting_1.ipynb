{
 "cells": [
  {
   "cell_type": "code",
   "execution_count": 1,
   "id": "198cd38c",
   "metadata": {
    "vscode": {
     "languageId": "python"
    }
   },
   "outputs": [],
   "source": [
    "import numpy as np\n",
    "from matplotlib import pyplot as plt\n",
    "from sklearn import preprocessing\n",
    "import wfdb\n",
    "import copy as cp\n",
    "import scipy.signal as signal\n",
    "import scipy.stats as stats\n",
    "from sklearn import preprocessing\n",
    "from tqdm import tqdm\n",
    "import os\n",
    "import pathlib\n",
    "import re\n",
    "import pandas as pd\n",
    "import pickle\n",
    "import csv\n",
    "import statistics"
   ]
  },
  {
   "cell_type": "code",
   "execution_count": 2,
   "id": "2c512ff2",
   "metadata": {
    "vscode": {
     "languageId": "python"
    }
   },
   "outputs": [
    {
     "name": "stderr",
     "output_type": "stream",
     "text": [
      "C:\\Users\\lms-puvvalat\\.conda\\envs\\afib\\lib\\site-packages\\xgboost\\compat.py:36: FutureWarning: pandas.Int64Index is deprecated and will be removed from pandas in a future version. Use pandas.Index with the appropriate dtype instead.\n",
      "  from pandas import MultiIndex, Int64Index\n"
     ]
    }
   ],
   "source": [
    "import timeit\n",
    "\n",
    "import matplotlib_inline.backend_inline\n",
    "matplotlib_inline.backend_inline.set_matplotlib_formats(\"retina\")\n",
    "\n",
    "from sklearn.preprocessing import PolynomialFeatures\n",
    "\n",
    "import sklearn.linear_model as skl_lm\n",
    "from sklearn.linear_model import LinearRegression\n",
    "from sklearn.linear_model import LogisticRegression\n",
    "from sklearn.linear_model import LogisticRegressionCV\n",
    "from sklearn import neighbors\n",
    "from sklearn.discriminant_analysis import LinearDiscriminantAnalysis \n",
    "from sklearn.discriminant_analysis import QuadraticDiscriminantAnalysis\n",
    "from sklearn.tree import DecisionTreeRegressor \n",
    "from sklearn.tree import DecisionTreeClassifier \n",
    "from sklearn.tree import export_graphviz\n",
    "from sklearn.svm import SVC\n",
    "\n",
    "from sklearn.model_selection import cross_val_score\n",
    "from sklearn.model_selection import KFold\n",
    "from sklearn.model_selection import LeaveOneGroupOut\n",
    "from sklearn.model_selection import train_test_split\n",
    "from sklearn.model_selection import GridSearchCV\n",
    "from sklearn.model_selection import RandomizedSearchCV\n",
    "\n",
    "from sklearn.metrics import confusion_matrix\n",
    "from sklearn.metrics import classification_report\n",
    "from sklearn.metrics import accuracy_score\n",
    "from sklearn.metrics import precision_score\n",
    "from sklearn.metrics import mean_squared_error\n",
    "\n",
    "from sklearn.ensemble import RandomForestRegressor\n",
    "from sklearn.ensemble import GradientBoostingRegressor\n",
    "from sklearn.ensemble import RandomForestClassifier\n",
    "from sklearn.ensemble import AdaBoostClassifier\n",
    "from sklearn.ensemble import GradientBoostingClassifier\n",
    "\n",
    "import xgboost as xgb\n",
    "from xgboost import XGBClassifier\n",
    "from sklearn import metrics\n",
    "from lightgbm import LGBMClassifier\n",
    "from sklearn.metrics import roc_auc_score\n",
    "from sklearn.metrics import roc_curve, auc\n",
    "\n",
    "import lightgbm\n",
    "import lightgbm as lgb\n",
    "from sklearn.preprocessing import LabelBinarizer\n",
    "\n",
    "import catboost as cb\n",
    "from catboost import CatBoostClassifier"
   ]
  },
  {
   "cell_type": "code",
   "execution_count": 4,
   "id": "24e708a6",
   "metadata": {
    "vscode": {
     "languageId": "python"
    }
   },
   "outputs": [],
   "source": [
    "parent_path = str(pathlib.Path(os.path.normpath('C:\\\\Users\\\\lms-puvvalat\\\\Documents\\\\GitHub\\\\2022-svsm-afib-group1\\\\')))\n",
    "\n",
    "rlist = []\n",
    "records = os.path.normpath(parent_path + '/mit-bih-dataframes/subject_list.csv')\n",
    "with open(records) as rfile:\n",
    "    recordreader = csv.reader(rfile, delimiter=' ', quotechar='|')\n",
    "    for row in recordreader:\n",
    "        rlist.append(row[0])"
   ]
  },
  {
   "cell_type": "code",
   "execution_count": 3,
   "id": "2d4d4d5c",
   "metadata": {
    "vscode": {
     "languageId": "python"
    }
   },
   "outputs": [],
   "source": [
    "performance_dict = {\n",
    "    \"Model name\": [],\n",
    "    \"Avg Accuracy\": [],\n",
    "    \"Std Accuracy\": [],\n",
    "    \"Sensitivity\": [],\n",
    "    \"Specificity\": [],\n",
    "    \"Precision\": [],\n",
    "    \"F1 score\": [],\n",
    "    \"Run time\": [],\n",
    "    \"TPS\": []\n",
    "}\n",
    "\n",
    "moving_accuracy = {}"
   ]
  },
  {
   "cell_type": "code",
   "execution_count": 5,
   "id": "49785347",
   "metadata": {
    "vscode": {
     "languageId": "python"
    }
   },
   "outputs": [],
   "source": [
    "def score_reporter(initial_results):\n",
    "    initial_columns = initial_results.axes[0].tolist()\n",
    "    results = initial_results.dropna()\n",
    "    changed_columns = results.axes[0].tolist()\n",
    "    \n",
    "    dropped_cols = list(set(initial_columns).difference(changed_columns))\n",
    "    \n",
    "    print(dropped_cols)\n",
    "\n",
    "    acc_scores = []\n",
    "    for x in range(len(rlist)):\n",
    "        col_name = 'split'+str(x)+'_test_accuracy'\n",
    "        if col_name not in dropped_cols:\n",
    "            acc_scores.append(results[col_name])\n",
    "\n",
    "    spec_scores = []\n",
    "    for x in range(len(rlist)):\n",
    "        col_name = 'split'+str(x)+'_test_specificity'\n",
    "        if col_name not in dropped_cols:\n",
    "            spec_scores.append(results[col_name])\n",
    "\n",
    "    sens_scores = []\n",
    "    for x in range(len(rlist)):\n",
    "        col_name = 'split'+str(x)+'_test_sensitivity'\n",
    "        if col_name not in dropped_cols:\n",
    "            sens_scores.append(results[col_name])\n",
    "\n",
    "\n",
    "    prec_scores = []\n",
    "    for x in range(len(rlist)):\n",
    "        col_name = 'split'+str(x)+'_test_precision'\n",
    "        if col_name not in dropped_cols:\n",
    "            prec_scores.append(results[col_name])\n",
    "\n",
    "    f1_scores = []\n",
    "    for x in range(len(rlist)):\n",
    "        col_name = 'split'+str(x)+'_test_f1_score'\n",
    "        if col_name not in dropped_cols:\n",
    "            f1_scores.append(results[col_name])\n",
    "        \n",
    "    elapsed_times = []\n",
    "    for x in range(len(rlist)):\n",
    "        col_name = 'split'+str(x)+'_test_elapsed'\n",
    "        if col_name not in dropped_cols:\n",
    "            elapsed_times.append(results[col_name])\n",
    "\n",
    "    eps_times = []\n",
    "    for x in range(len(rlist)):\n",
    "        col_name = 'split'+str(x)+'_test_eps'\n",
    "        if col_name not in dropped_cols:\n",
    "            eps_times.append(results[col_name])\n",
    "\n",
    "    print('---Run time of each fold: \\n {}'.format(elapsed_times))\n",
    "    print(\"Avg run time: {}\".format(np.mean(elapsed_times)))\n",
    "    print('---Run time per subset of each fold is: \\n {}'.format(eps_times))\n",
    "    print(\"Avg run time per subset: {}\".format(np.mean(eps_times)))\n",
    "    print()\n",
    "    print('Accuracy of each fold: \\n {}'.format(acc_scores))\n",
    "    print(\"Avg accuracy: {}\".format(np.mean(acc_scores)))\n",
    "    print('Std of accuracy : \\n{}'.format(np.std(acc_scores)))\n",
    "    print()\n",
    "    print('Specificity of each fold: \\n {}'.format(spec_scores))\n",
    "    print(\"Avg specificity: {}\".format(np.mean(spec_scores)))\n",
    "    print('Std of specificity: \\n{}'.format(np.std(spec_scores)))\n",
    "    print()\n",
    "    print('Sensitivity of each fold: \\n {}'.format(sens_scores))\n",
    "    print(\"Avg sensitivity: {}\".format(np.mean(sens_scores)))\n",
    "    print('Std of sensitivity: \\n{}'.format(np.std(sens_scores)))\n",
    "    print()\n",
    "    print('Precision of each fold: \\n {}'.format(prec_scores))\n",
    "    print(\"Avg precision: {}\".format(np.mean(prec_scores)))\n",
    "    print('Std of precision : \\n{}'.format(np.std(prec_scores)))\n",
    "    print()\n",
    "    print('F1-scores of each fold: \\n {}'.format(f1_scores))\n",
    "    print(\"Avg F1-scores: {}\".format(np.mean(f1_scores)))\n",
    "    print('Std of F1-scores : \\n{}'.format(np.std(f1_scores)))"
   ]
  },
  {
   "cell_type": "code",
   "execution_count": 6,
   "id": "2673da16",
   "metadata": {
    "vscode": {
     "languageId": "python"
    }
   },
   "outputs": [],
   "source": [
    "def scorer(clf, X, y):\n",
    "    global moving_acc\n",
    "\n",
    "    start_time = timeit.default_timer()\n",
    "    y_pred = clf.predict(X)\n",
    "    elapsed = timeit.default_timer() - start_time\n",
    "\n",
    "    total_seen = 0\n",
    "    total_correct = 0\n",
    "    subject_acc = []\n",
    "    for idx, pred in enumerate(y_pred):\n",
    "        total_seen+=1\n",
    "        if pred==y.iloc[idx]:\n",
    "            total_correct+=1\n",
    "        subject_acc.append(total_correct/total_seen)\n",
    "    moving_acc.append(subject_acc)\n",
    "\n",
    "    fold_size = len(X)\n",
    "\n",
    "    cm = confusion_matrix(y, y_pred)\n",
    "\n",
    "    sensitivity = cm[0][0]/(cm[0][0]+cm[0][1])\n",
    "    specificity = cm[1][1]/(cm[1][0]+cm[1][1])\n",
    "    precision = (cm[0][0])/(cm[0][0]+cm[1][0])\n",
    "    f1_score = (2*precision*sensitivity)/(precision+sensitivity)\n",
    "\n",
    "    return {'sensitivity': sensitivity, 'specificity': specificity,\n",
    "            'precision': precision, 'f1_score': f1_score,\n",
    "            'accuracy': accuracy_score(y, y_pred), \n",
    "            'elapsed': elapsed, 'eps': elapsed/fold_size}"
   ]
  },
  {
   "cell_type": "code",
   "execution_count": 7,
   "id": "5fe20408",
   "metadata": {
    "vscode": {
     "languageId": "python"
    }
   },
   "outputs": [
    {
     "name": "stderr",
     "output_type": "stream",
     "text": [
      "100%|██████████████████████████████████████████████████████████████████████████████████| 23/23 [00:00<00:00, 35.91it/s]\n"
     ]
    }
   ],
   "source": [
    "feature_dfs = {}\n",
    "for record in tqdm(rlist):\n",
    "    feature_dfs[record] = pd.read_csv(os.path.normpath(parent_path + '/mit-bih-time-features/'+record+'.csv'), index_col=0, dtype={'subjectID': str})\n",
    "\n",
    "combined_features = pd.concat([feature_dfs[key][1:] for key in feature_dfs])"
   ]
  },
  {
   "cell_type": "code",
   "execution_count": 8,
   "id": "847e5b15",
   "metadata": {
    "vscode": {
     "languageId": "python"
    }
   },
   "outputs": [],
   "source": [
    "X = combined_features[['StoS', 'StoR', 'StoL', 'RtoS', 'RtoR', 'RtoL', 'LtoS', 'LtoR', 'LtoL', 'rmssd', 'iqr', 'mad', 'cov']]\n",
    "y = combined_features['mappedLabel'].map({\"Non-Afib\": 0, \"Afib\": 1})\n",
    "groups = combined_features['subjectID'].astype('int64')\n",
    "\n",
    "logo = LeaveOneGroupOut()\n",
    "splits = list(logo.split(X, y, groups=groups))"
   ]
  },
  {
   "cell_type": "code",
   "execution_count": 9,
   "id": "19ce7ada",
   "metadata": {
    "vscode": {
     "languageId": "python"
    }
   },
   "outputs": [
    {
     "name": "stdout",
     "output_type": "stream",
     "text": [
      "random search started\n",
      "Fitting 23 folds for each of 5 candidates, totalling 115 fits\n"
     ]
    },
    {
     "name": "stderr",
     "output_type": "stream",
     "text": [
      "C:\\Users\\lms-puvvalat\\.conda\\envs\\afib\\lib\\site-packages\\sklearn\\model_selection\\_search.py:306: UserWarning: The total space of parameters 5 is smaller than n_iter=10. Running 5 iterations. For exhaustive searches, use GridSearchCV.\n",
      "  warnings.warn(\n"
     ]
    },
    {
     "name": "stdout",
     "output_type": "stream",
     "text": [
      "[CV] END ...................................n_estimators=100; total time=  22.4s\n",
      "[CV] END ...................................n_estimators=100; total time=  21.9s\n",
      "[CV] END ...................................n_estimators=100; total time=  22.4s\n",
      "[CV] END ...................................n_estimators=100; total time=  22.2s\n",
      "[CV] END ...................................n_estimators=100; total time=  22.0s\n",
      "[CV] END ...................................n_estimators=100; total time=  22.1s\n",
      "[CV] END ...................................n_estimators=100; total time=  21.9s\n",
      "[CV] END ...................................n_estimators=100; total time=  22.5s\n",
      "[CV] END ...................................n_estimators=100; total time=  21.9s\n",
      "[CV] END ...................................n_estimators=100; total time=  22.1s\n",
      "[CV] END ...................................n_estimators=100; total time=  21.7s\n",
      "[CV] END ...................................n_estimators=100; total time=  22.4s\n",
      "[CV] END ...................................n_estimators=100; total time=  21.8s\n"
     ]
    },
    {
     "name": "stderr",
     "output_type": "stream",
     "text": [
      "C:\\Users\\lms-puvvalat\\AppData\\Local\\Temp\\ipykernel_8468\\1056965083.py:22: RuntimeWarning: invalid value encountered in longlong_scalars\n",
      "  sensitivity = cm[0][0]/(cm[0][0]+cm[0][1])\n"
     ]
    },
    {
     "name": "stdout",
     "output_type": "stream",
     "text": [
      "[CV] END ...................................n_estimators=100; total time=  22.1s\n"
     ]
    },
    {
     "name": "stderr",
     "output_type": "stream",
     "text": [
      "C:\\Users\\lms-puvvalat\\AppData\\Local\\Temp\\ipykernel_8468\\1056965083.py:22: RuntimeWarning: invalid value encountered in longlong_scalars\n",
      "  sensitivity = cm[0][0]/(cm[0][0]+cm[0][1])\n"
     ]
    },
    {
     "name": "stdout",
     "output_type": "stream",
     "text": [
      "[CV] END ...................................n_estimators=100; total time=  21.8s\n",
      "[CV] END ...................................n_estimators=100; total time=  21.8s\n",
      "[CV] END ...................................n_estimators=100; total time=  22.3s\n",
      "[CV] END ...................................n_estimators=100; total time=  22.1s\n",
      "[CV] END ...................................n_estimators=100; total time=  21.7s\n",
      "[CV] END ...................................n_estimators=100; total time=  22.2s\n",
      "[CV] END ...................................n_estimators=100; total time=  21.7s\n",
      "[CV] END ...................................n_estimators=100; total time=  22.3s\n",
      "[CV] END ...................................n_estimators=100; total time=  21.7s\n",
      "[CV] END ...................................n_estimators=200; total time=  44.5s\n",
      "[CV] END ...................................n_estimators=200; total time=  43.9s\n",
      "[CV] END ...................................n_estimators=200; total time=  44.9s\n",
      "[CV] END ...................................n_estimators=200; total time=  44.4s\n",
      "[CV] END ...................................n_estimators=200; total time=  44.1s\n",
      "[CV] END ...................................n_estimators=200; total time=  44.1s\n",
      "[CV] END ...................................n_estimators=200; total time=  43.7s\n",
      "[CV] END ...................................n_estimators=200; total time=  45.0s\n",
      "[CV] END ...................................n_estimators=200; total time=  43.8s\n",
      "[CV] END ...................................n_estimators=200; total time=  44.4s\n",
      "[CV] END ...................................n_estimators=200; total time=  44.1s\n",
      "[CV] END ...................................n_estimators=200; total time=  45.0s\n",
      "[CV] END ...................................n_estimators=200; total time=  43.9s\n"
     ]
    },
    {
     "name": "stderr",
     "output_type": "stream",
     "text": [
      "C:\\Users\\lms-puvvalat\\AppData\\Local\\Temp\\ipykernel_8468\\1056965083.py:22: RuntimeWarning: invalid value encountered in longlong_scalars\n",
      "  sensitivity = cm[0][0]/(cm[0][0]+cm[0][1])\n"
     ]
    },
    {
     "name": "stdout",
     "output_type": "stream",
     "text": [
      "[CV] END ...................................n_estimators=200; total time=  44.5s\n"
     ]
    },
    {
     "name": "stderr",
     "output_type": "stream",
     "text": [
      "C:\\Users\\lms-puvvalat\\AppData\\Local\\Temp\\ipykernel_8468\\1056965083.py:22: RuntimeWarning: invalid value encountered in longlong_scalars\n",
      "  sensitivity = cm[0][0]/(cm[0][0]+cm[0][1])\n"
     ]
    },
    {
     "name": "stdout",
     "output_type": "stream",
     "text": [
      "[CV] END ...................................n_estimators=200; total time=  43.8s\n",
      "[CV] END ...................................n_estimators=200; total time=  43.8s\n",
      "[CV] END ...................................n_estimators=200; total time=  44.9s\n",
      "[CV] END ...................................n_estimators=200; total time=  44.4s\n",
      "[CV] END ...................................n_estimators=200; total time=  43.4s\n",
      "[CV] END ...................................n_estimators=200; total time=  44.5s\n",
      "[CV] END ...................................n_estimators=200; total time=  43.5s\n",
      "[CV] END ...................................n_estimators=200; total time=  44.8s\n",
      "[CV] END ...................................n_estimators=200; total time=  43.5s\n",
      "[CV] END ...................................n_estimators=300; total time= 1.1min\n",
      "[CV] END ...................................n_estimators=300; total time= 1.1min\n",
      "[CV] END ...................................n_estimators=300; total time= 1.1min\n",
      "[CV] END ...................................n_estimators=300; total time= 1.1min\n",
      "[CV] END ...................................n_estimators=300; total time= 1.1min\n",
      "[CV] END ...................................n_estimators=300; total time= 1.1min\n",
      "[CV] END ...................................n_estimators=300; total time= 1.1min\n",
      "[CV] END ...................................n_estimators=300; total time= 1.1min\n",
      "[CV] END ...................................n_estimators=300; total time= 1.1min\n",
      "[CV] END ...................................n_estimators=300; total time= 1.1min\n",
      "[CV] END ...................................n_estimators=300; total time= 1.1min\n",
      "[CV] END ...................................n_estimators=300; total time= 1.1min\n",
      "[CV] END ...................................n_estimators=300; total time= 1.1min\n"
     ]
    },
    {
     "name": "stderr",
     "output_type": "stream",
     "text": [
      "C:\\Users\\lms-puvvalat\\AppData\\Local\\Temp\\ipykernel_8468\\1056965083.py:22: RuntimeWarning: invalid value encountered in longlong_scalars\n",
      "  sensitivity = cm[0][0]/(cm[0][0]+cm[0][1])\n"
     ]
    },
    {
     "name": "stdout",
     "output_type": "stream",
     "text": [
      "[CV] END ...................................n_estimators=300; total time= 1.1min\n"
     ]
    },
    {
     "name": "stderr",
     "output_type": "stream",
     "text": [
      "C:\\Users\\lms-puvvalat\\AppData\\Local\\Temp\\ipykernel_8468\\1056965083.py:22: RuntimeWarning: invalid value encountered in longlong_scalars\n",
      "  sensitivity = cm[0][0]/(cm[0][0]+cm[0][1])\n"
     ]
    },
    {
     "name": "stdout",
     "output_type": "stream",
     "text": [
      "[CV] END ...................................n_estimators=300; total time= 1.1min\n",
      "[CV] END ...................................n_estimators=300; total time= 1.1min\n",
      "[CV] END ...................................n_estimators=300; total time= 1.1min\n",
      "[CV] END ...................................n_estimators=300; total time= 1.1min\n",
      "[CV] END ...................................n_estimators=300; total time= 1.1min\n",
      "[CV] END ...................................n_estimators=300; total time= 1.1min\n",
      "[CV] END ...................................n_estimators=300; total time= 1.1min\n",
      "[CV] END ...................................n_estimators=300; total time= 1.1min\n",
      "[CV] END ...................................n_estimators=300; total time= 1.1min\n",
      "[CV] END ...................................n_estimators=400; total time= 1.5min\n",
      "[CV] END ...................................n_estimators=400; total time= 1.5min\n",
      "[CV] END ...................................n_estimators=400; total time= 1.5min\n",
      "[CV] END ...................................n_estimators=400; total time= 1.5min\n",
      "[CV] END ...................................n_estimators=400; total time= 1.5min\n",
      "[CV] END ...................................n_estimators=400; total time= 1.5min\n",
      "[CV] END ...................................n_estimators=400; total time= 1.5min\n",
      "[CV] END ...................................n_estimators=400; total time= 1.5min\n",
      "[CV] END ...................................n_estimators=400; total time= 1.5min\n",
      "[CV] END ...................................n_estimators=400; total time= 1.5min\n",
      "[CV] END ...................................n_estimators=400; total time= 1.4min\n",
      "[CV] END ...................................n_estimators=400; total time= 1.5min\n",
      "[CV] END ...................................n_estimators=400; total time= 1.5min\n"
     ]
    },
    {
     "name": "stderr",
     "output_type": "stream",
     "text": [
      "C:\\Users\\lms-puvvalat\\AppData\\Local\\Temp\\ipykernel_8468\\1056965083.py:22: RuntimeWarning: invalid value encountered in longlong_scalars\n",
      "  sensitivity = cm[0][0]/(cm[0][0]+cm[0][1])\n"
     ]
    },
    {
     "name": "stdout",
     "output_type": "stream",
     "text": [
      "[CV] END ...................................n_estimators=400; total time= 1.5min\n"
     ]
    },
    {
     "name": "stderr",
     "output_type": "stream",
     "text": [
      "C:\\Users\\lms-puvvalat\\AppData\\Local\\Temp\\ipykernel_8468\\1056965083.py:22: RuntimeWarning: invalid value encountered in longlong_scalars\n",
      "  sensitivity = cm[0][0]/(cm[0][0]+cm[0][1])\n"
     ]
    },
    {
     "name": "stdout",
     "output_type": "stream",
     "text": [
      "[CV] END ...................................n_estimators=400; total time= 1.5min\n",
      "[CV] END ...................................n_estimators=400; total time= 1.5min\n",
      "[CV] END ...................................n_estimators=400; total time= 1.5min\n",
      "[CV] END ...................................n_estimators=400; total time= 1.5min\n",
      "[CV] END ...................................n_estimators=400; total time= 1.4min\n",
      "[CV] END ...................................n_estimators=400; total time= 1.5min\n",
      "[CV] END ...................................n_estimators=400; total time= 1.4min\n",
      "[CV] END ...................................n_estimators=400; total time= 1.5min\n",
      "[CV] END ...................................n_estimators=400; total time= 1.4min\n",
      "[CV] END ...................................n_estimators=500; total time= 1.9min\n",
      "[CV] END ...................................n_estimators=500; total time= 1.8min\n",
      "[CV] END ...................................n_estimators=500; total time= 1.9min\n",
      "[CV] END ...................................n_estimators=500; total time= 1.8min\n",
      "[CV] END ...................................n_estimators=500; total time= 1.8min\n",
      "[CV] END ...................................n_estimators=500; total time= 1.8min\n",
      "[CV] END ...................................n_estimators=500; total time= 1.8min\n",
      "[CV] END ...................................n_estimators=500; total time= 1.9min\n",
      "[CV] END ...................................n_estimators=500; total time= 1.8min\n",
      "[CV] END ...................................n_estimators=500; total time= 1.8min\n",
      "[CV] END ...................................n_estimators=500; total time= 1.8min\n",
      "[CV] END ...................................n_estimators=500; total time= 1.9min\n",
      "[CV] END ...................................n_estimators=500; total time= 1.8min\n"
     ]
    },
    {
     "name": "stderr",
     "output_type": "stream",
     "text": [
      "C:\\Users\\lms-puvvalat\\AppData\\Local\\Temp\\ipykernel_8468\\1056965083.py:22: RuntimeWarning: invalid value encountered in longlong_scalars\n",
      "  sensitivity = cm[0][0]/(cm[0][0]+cm[0][1])\n"
     ]
    },
    {
     "name": "stdout",
     "output_type": "stream",
     "text": [
      "[CV] END ...................................n_estimators=500; total time= 1.9min\n"
     ]
    },
    {
     "name": "stderr",
     "output_type": "stream",
     "text": [
      "C:\\Users\\lms-puvvalat\\AppData\\Local\\Temp\\ipykernel_8468\\1056965083.py:22: RuntimeWarning: invalid value encountered in longlong_scalars\n",
      "  sensitivity = cm[0][0]/(cm[0][0]+cm[0][1])\n"
     ]
    },
    {
     "name": "stdout",
     "output_type": "stream",
     "text": [
      "[CV] END ...................................n_estimators=500; total time= 1.8min\n",
      "[CV] END ...................................n_estimators=500; total time= 1.8min\n",
      "[CV] END ...................................n_estimators=500; total time= 1.9min\n",
      "[CV] END ...................................n_estimators=500; total time= 1.8min\n",
      "[CV] END ...................................n_estimators=500; total time= 1.8min\n",
      "[CV] END ...................................n_estimators=500; total time= 1.8min\n",
      "[CV] END ...................................n_estimators=500; total time= 1.8min\n",
      "[CV] END ...................................n_estimators=500; total time= 1.9min\n",
      "[CV] END ...................................n_estimators=500; total time= 1.8min\n"
     ]
    },
    {
     "name": "stderr",
     "output_type": "stream",
     "text": [
      "C:\\Users\\lms-puvvalat\\.conda\\envs\\afib\\lib\\site-packages\\sklearn\\model_selection\\_search.py:953: UserWarning: One or more of the test scores are non-finite: [nan nan nan nan nan]\n",
      "  warnings.warn(\n"
     ]
    },
    {
     "name": "stdout",
     "output_type": "stream",
     "text": [
      "random search completed\n",
      "[0.066 0.044 0.086 0.012 0.046 0.108 0.028 0.028 0.118 0.172 0.032 0.084\n",
      " 0.176]\n",
      "   mean_fit_time  std_fit_time  mean_score_time  std_score_time  \\\n",
      "0      22.021293      0.262135         0.113218        0.018011   \n",
      "1      44.141200      0.509701         0.170993        0.028973   \n",
      "2      66.043480      0.801448         0.238184        0.037694   \n",
      "3      87.931499      1.102624         0.306799        0.045543   \n",
      "4     109.863679      1.342644         0.369512        0.058197   \n",
      "\n",
      "  param_n_estimators                 params  split0_test_sensitivity  \\\n",
      "0                100  {'n_estimators': 100}                 0.882109   \n",
      "1                200  {'n_estimators': 200}                 0.887920   \n",
      "2                300  {'n_estimators': 300}                 0.892763   \n",
      "3                400  {'n_estimators': 400}                 0.894700   \n",
      "4                500  {'n_estimators': 500}                 0.896361   \n",
      "\n",
      "   split1_test_sensitivity  split2_test_sensitivity  split3_test_sensitivity  \\\n",
      "0                 0.940652                 0.991994                 0.817353   \n",
      "1                 0.944473                 0.993226                 0.848959   \n",
      "2                 0.947911                 0.993687                 0.864762   \n",
      "3                 0.949440                 0.993841                 0.871904   \n",
      "4                 0.949567                 0.993841                 0.876463   \n",
      "\n",
      "   ...  split16_test_eps  split17_test_eps  split18_test_eps  \\\n",
      "0  ...          0.000009          0.000008          0.000008   \n",
      "1  ...          0.000017          0.000016          0.000015   \n",
      "2  ...          0.000026          0.000024          0.000024   \n",
      "3  ...          0.000034          0.000032          0.000031   \n",
      "4  ...          0.000042          0.000041          0.000038   \n",
      "\n",
      "   split19_test_eps  split20_test_eps  split21_test_eps  split22_test_eps  \\\n",
      "0          0.000008          0.000008          0.000008          0.000008   \n",
      "1          0.000016          0.000015          0.000016          0.000015   \n",
      "2          0.000024          0.000023          0.000025          0.000023   \n",
      "3          0.000033          0.000031          0.000033          0.000031   \n",
      "4          0.000040          0.000039          0.000042          0.000039   \n",
      "\n",
      "   mean_test_eps  std_test_eps  rank_test_eps  \n",
      "0       0.000008  2.895378e-07              5  \n",
      "1       0.000016  6.842411e-07              4  \n",
      "2       0.000024  8.128774e-07              3  \n",
      "3       0.000032  1.059940e-06              2  \n",
      "4       0.000040  1.444185e-06              1  \n",
      "\n",
      "[5 rows x 188 columns]\n",
      "['split13_test_sensitivity', 'mean_test_f1_score', 'split14_test_sensitivity', 'std_test_sensitivity', 'split13_test_f1_score', 'std_test_f1_score', 'mean_test_sensitivity', 'split14_test_f1_score']\n",
      "---Run time of each fold: \n",
      " [0.2982144000015978, 0.4070615999989968, 0.2720757000024605, 0.2912304999990738, 0.3201355999990483, 0.39424760000110837, 0.34981340000013006, 0.2637718000005407, 0.33199189999868395, 0.3060872999994899, 0.3615286999993259, 0.24839889999930165, 0.3657338000011805, 0.27737880000131554, 0.38822499999878346, 0.3718278999986069, 0.25647200000094017, 0.2955772999994224, 0.37950679999994463, 0.30575429999953485, 0.38126529999863124, 0.2806657999972231, 0.3824036000005435]\n",
      "Avg run time: 0.32736382608677755\n",
      "---Run time per subset of each fold is: \n",
      " [4.076751879721091e-05, 3.951670711571661e-05, 4.103705882390053e-05, 4.088019371126808e-05, 4.021298831793095e-05, 3.836959610716383e-05, 3.920795785699732e-05, 4.317757407113123e-05, 4.002313441816564e-05, 4.0439595719314295e-05, 3.942085923010859e-05, 4.292360463094896e-05, 3.9840283224529466e-05, 4.250364695086049e-05, 3.872568578541481e-05, 3.967433845482361e-05, 4.245522264541304e-05, 4.1023913948566605e-05, 3.8481727844245045e-05, 4.040093816061507e-05, 3.894038402600666e-05, 4.238384173923635e-05, 3.860323036548996e-05]\n",
      "Avg run time per subset: 4.0391739215002524e-05\n",
      "\n",
      "Accuracy of each fold: \n",
      " [0.8973342447026658, 0.9169012717211921, 0.9914027149321267, 0.8854576080853453, 0.99698530335385, 0.9395620437956205, 0.9051782111634162, 0.9837944017024063, 0.9504520795660036, 0.8787158145065398, 0.9707774506596881, 0.9882495247969587, 0.8008714596949891, 0.9025436714679742, 0.5025436408977556, 0.9714041826717883, 0.9841085912928323, 0.9851492019430951, 0.7118231596025147, 0.9635306553911205, 0.9938719231947707, 0.9776502567200241, 0.9961639410458308]\n",
      "Avg accuracy: 0.9171509283873267\n",
      "Std of accuracy : \n",
      "0.11164228342616296\n",
      "\n",
      "Specificity of each fold: \n",
      " [0.9772727272727273, 0.8121682319314005, 0.8740740740740741, 0.994475138121547, 0.9972799689139304, 0.9618556701030928, 0.9137592508684489, 0.6086956521739131, 0.9735440340909091, 0.9685534591194969, 0.9969453558094807, 0.5405405405405406, 0.9728665207877462, 0.9025436714679742, 0.5025436408977556, 0.9873987398739874, 0.9911268855368234, 0.9865893439652048, 0.9873417721518988, 0.9184526921066388, 0.9945449707291112, 1.0, 0.9956616052060737]\n",
      "Avg specificity: 0.906879736771425\n",
      "Std of specificity: \n",
      "0.14626306802523464\n",
      "\n",
      "Sensitivity of each fold: \n",
      " [0.8963608689636087, 0.9495669893020886, 0.993841416474211, 0.8764625436863699, 0.9964463397299218, 0.9372380440623321, 0.8804867448935245, 0.9852119618797239, 0.9016147202403304, 0.8767881241565452, 0.2740963855421687, 0.9940486609487135, 0.6303687635574837, 0.9320029563932003, 0.9824989824989825, 0.980438648488441, 0.6246663107314468, 0.9787798408488063, 0.9916483516483516, 0.9762706429373096, 0.9976284584980237]\n",
      "Avg sensitivity: 0.8884031312134087\n",
      "Std of sensitivity: \n",
      "0.1719970816702727\n",
      "\n",
      "Precision of each fold: \n",
      " [0.9996913580246913, 0.94188984335523, 0.9973733003708282, 0.9994801594177786, 0.9950319375443577, 0.9957752911623658, 0.7801309202926454, 0.9985012489592007, 0.9415686274509804, 0.9992310058443555, 0.7711864406779662, 0.9940486609487135, 0.9590759075907591, 0.0, 0.0, 0.967766692248657, 0.9979330301777594, 0.9571759259259259, 0.9936305732484076, 0.9725882973115445, 0.9821506312581628, 1.0, 0.9874804381846636]\n",
      "Avg precision: 0.8796395778258692\n",
      "Std of precision : \n",
      "0.2782088562519872\n",
      "\n",
      "F1-scores of each fold: \n",
      " [0.9452104763989202, 0.9457128361237951, 0.9956042261124393, 0.933937823834197, 0.9957386363636365, 0.9656203288490284, 0.8272764393630053, 0.9918120916384088, 0.9211586418568963, 0.9340138010350776, 0.4044444444444445, 0.9940486609487135, 0.7607329842931938, 0.9495481927710844, 0.9901558654634947, 0.9686676427525622, 0.7670873627274216, 0.9756742464304601, 0.9868766404199476, 0.987992860619828, 0.9925285096342903]\n",
      "Avg F1-scores: 0.9158972720038496\n",
      "Std of F1-scores : \n",
      "0.13350074245242635\n",
      "{'n_estimators': 500}\n"
     ]
    },
    {
     "data": {
      "image/png": "[encoded data removed]",
      "text/plain": [
       "<Figure size 432x288 with 1 Axes>"
      ]
     },
     "metadata": {
      "image/png": {
       "height": 261,
       "width": 387
      },
      "needs_background": "light"
     },
     "output_type": "display_data"
    }
   ],
   "source": [
    "# AdaBoost\n",
    "moving_accuracy['adaboost'] = []\n",
    "params = {\n",
    "    \"n_estimators\": np.linspace(100, 500, 5).astype(int)\n",
    "}\n",
    "\n",
    "moving_acc = []\n",
    "\n",
    "print(\"random search started\")\n",
    "randomsearch = RandomizedSearchCV(AdaBoostClassifier(learning_rate = 0.1, algorithm=\"SAMME.R\", random_state=2), \n",
    "                                    param_distributions=params, refit='accuracy', scoring=scorer, verbose=2, cv=splits)\n",
    "randomsearch.fit(X, y)\n",
    "print(\"random search completed\")\n",
    "\n",
    "moving_accuracy['adaboost'] = moving_acc[(randomsearch.best_index_)*23:(randomsearch.best_index_*23)+23]\n",
    "\n",
    "print(randomsearch.best_estimator_.feature_importances_)\n",
    "Importance = pd.DataFrame({'Importance':(randomsearch.best_estimator_.feature_importances_*100)[0:12]}, \n",
    "                      index = (X.columns)[0:12])\n",
    "Importance.sort_values(by = 'Importance', \n",
    "                   axis = 0, \n",
    "                   ascending = True).plot(kind = 'barh', \n",
    "                                          color = 'r')\n",
    "plt.xlabel('Variable Importance')\n",
    "plt.gca().legend_ = None\n",
    "\n",
    "results = pd.DataFrame(randomsearch.cv_results_)\n",
    "os.mkdir(os.path.normpath(parent_path + '/models/subsets/results/'))\n",
    "results.to_csv(os.path.normpath(parent_path + '/models/subsets/results/adaboost_results.csv'))\n",
    "print(results)\n",
    "\n",
    "score_reporter(results.iloc[randomsearch.best_index_])\n",
    "\n",
    "print(randomsearch.best_params_)"
   ]
  },
  {
   "cell_type": "code",
   "execution_count": 15,
   "id": "1047bee8",
   "metadata": {
    "vscode": {
     "languageId": "python"
    }
   },
   "outputs": [
    {
     "name": "stdout",
     "output_type": "stream",
     "text": [
      "random search started\n",
      "Fitting 23 folds for each of 1 candidates, totalling 23 fits\n"
     ]
    },
    {
     "name": "stderr",
     "output_type": "stream",
     "text": [
      "C:\\Users\\lms-puvvalat\\.conda\\envs\\afib\\lib\\site-packages\\sklearn\\model_selection\\_search.py:306: UserWarning: The total space of parameters 1 is smaller than n_iter=5. Running 1 iterations. For exhaustive searches, use GridSearchCV.\n",
      "  warnings.warn(\n"
     ]
    }
   ],
   "source": [
    "# Gradient boost (sklearn)\n",
    "moving_accuracy['gradboost'] = []\n",
    "params = {\n",
    "    #\"max_depth\": list(range(1, 11)),\n",
    "    #\"n_estimators\": np.linspace(100, 300, 5).astype(int)\n",
    "    \"max_depth\": [9],\n",
    "    \"n_estimators\": [450]\n",
    "}\n",
    "\n",
    "moving_acc = []\n",
    "\n",
    "print(\"random search started\")\n",
    "randomsearch = RandomizedSearchCV(GradientBoostingClassifier(learning_rate = 0.1, random_state = 2), \n",
    "                                    param_distributions=params, refit='accuracy', scoring=scorer, verbose=2, cv=splits, n_iter=5)\n",
    "randomsearch.fit(X, y)\n",
    "print(\"random search completed\")\n",
    "\n",
    "moving_accuracy['gradboost'] = moving_acc[(randomsearch.best_index_)*23:(randomsearch.best_index_*23)+23]\n",
    "\n",
    "print(randomsearch.best_estimator_.feature_importances_)\n",
    "Importance = pd.DataFrame({'Importance':(randomsearch.best_estimator_.feature_importances_*100)[0:12]}, \n",
    "                      index = (X.columns)[0:12])\n",
    "Importance.sort_values(by = 'Importance', \n",
    "                   axis = 0, \n",
    "                   ascending = True).plot(kind = 'barh', \n",
    "                                          color = 'r')\n",
    "plt.xlabel('Variable Importance')\n",
    "plt.gca().legend_ = None\n",
    "\n",
    "results = pd.DataFrame(randomsearch.cv_results_)\n",
    "os.mkdir(os.path.normpath(parent_path + '/models/subsets/results/'))\n",
    "results.to_csv(os.path.normpath(parent_path + '/models/subsets/results/gradboost_results.csv'))\n",
    "print(results)\n",
    "\n",
    "score_reporter(results.iloc[randomsearch.best_index_])\n",
    "\n",
    "print(randomsearch.best_params_)"
   ]
  },
  {
   "cell_type": "code",
   "execution_count": null,
   "id": "346a50b9",
   "metadata": {
    "vscode": {
     "languageId": "python"
    }
   },
   "outputs": [
    {
     "ename": "IndexError",
     "evalue": "list index out of range",
     "output_type": "error",
     "traceback": [
      "\u001b[1;31m---------------------------------------------------------------------------\u001b[0m",
      "\u001b[1;31mIndexError\u001b[0m                                Traceback (most recent call last)",
      "\u001b[1;32m/Users/arisingh/Documents/GitHub/2022-svsm-afib-group1/models/subsets/boosting_1.ipynb Cell 11\u001b[0m in \u001b[0;36m<cell line: 2>\u001b[1;34m()\u001b[0m\n\u001b[0;32m      <a href='vscode-notebook-cell:/Users/arisingh/Documents/GitHub/2022-svsm-afib-group1/models/subsets/boosting_1.ipynb#ch0000009?line=0'>1</a>\u001b[0m plt\u001b[39m.\u001b[39mfigure(figsize\u001b[39m=\u001b[39m(\u001b[39m28\u001b[39m, \u001b[39m8\u001b[39m))\n\u001b[0;32m      <a href='vscode-notebook-cell:/Users/arisingh/Documents/GitHub/2022-svsm-afib-group1/models/subsets/boosting_1.ipynb#ch0000009?line=1'>2</a>\u001b[0m \u001b[39mfor\u001b[39;00m classifier \u001b[39min\u001b[39;00m moving_accuracy:\n\u001b[1;32m----> <a href='vscode-notebook-cell:/Users/arisingh/Documents/GitHub/2022-svsm-afib-group1/models/subsets/boosting_1.ipynb#ch0000009?line=2'>3</a>\u001b[0m     minLen \u001b[39m=\u001b[39m \u001b[39mlen\u001b[39m(moving_accuracy[classifier][\u001b[39m0\u001b[39;49m])\n\u001b[0;32m      <a href='vscode-notebook-cell:/Users/arisingh/Documents/GitHub/2022-svsm-afib-group1/models/subsets/boosting_1.ipynb#ch0000009?line=3'>4</a>\u001b[0m     \u001b[39mfor\u001b[39;00m \u001b[39mlist\u001b[39m \u001b[39min\u001b[39;00m moving_accuracy[classifier]:\n\u001b[0;32m      <a href='vscode-notebook-cell:/Users/arisingh/Documents/GitHub/2022-svsm-afib-group1/models/subsets/boosting_1.ipynb#ch0000009?line=4'>5</a>\u001b[0m         \u001b[39mif\u001b[39;00m \u001b[39mlen\u001b[39m(\u001b[39mlist\u001b[39m)\u001b[39m<\u001b[39mminLen:\n",
      "\u001b[1;31mIndexError\u001b[0m: list index out of range"
     ]
    },
    {
     "data": {
      "image/png": "[encoded data removed]",
      "text/plain": [
       "<Figure size 2016x576 with 1 Axes>"
      ]
     },
     "metadata": {
      "image/png": {
       "height": 466,
       "width": 1606
      },
      "needs_background": "light"
     },
     "output_type": "display_data"
    }
   ],
   "source": [
    "plt.figure(figsize=(28, 8))\n",
    "for classifier in moving_accuracy:\n",
    "    minLen = len(moving_accuracy[classifier][0])\n",
    "    for list in moving_accuracy[classifier]:\n",
    "        if len(list)<minLen:\n",
    "            minLen = len(list)\n",
    "\n",
    "    for list in moving_accuracy[classifier]:\n",
    "        list = list[:minLen]\n",
    "\n",
    "    avg_list = [sum(sub_list) / len(sub_list) for sub_list in zip(*moving_accuracy[classifier])]\n",
    "    plt.plot(avg_list, label = classifier)\n",
    "    plt.legend()"
   ]
  }
 ],
 "metadata": {
  "kernelspec": {
   "display_name": "afib",
   "language": "python",
   "name": "afib"
  },
  "language_info": {
   "name": "",
   "version": ""
  },
  "vscode": {
   "interpreter": {
    "hash": "aee8b7b246df8f9039afb4144a1f6fd8d2ca17a180786b69acc140d282b71a49"
   }
  }
 },
 "nbformat": 4,
 "nbformat_minor": 5
}
