{
 "cells": [
  {
   "cell_type": "code",
   "execution_count": 15,
   "metadata": {},
   "outputs": [],
   "source": [
    "import numpy as np\n",
    "from matplotlib import pyplot as plt\n",
    "from matplotlib import patches as mpatches\n",
    "from sklearn import preprocessing\n",
    "import wfdb\n",
    "import copy as cp\n",
    "import scipy.signal as signal\n",
    "from scipy import stats\n",
    "from sklearn import preprocessing\n",
    "from tqdm import tqdm\n",
    "import os\n",
    "import re\n",
    "import pandas as pd\n",
    "import pickle\n",
    "import csv"
   ]
  },
  {
   "cell_type": "code",
   "execution_count": 16,
   "metadata": {},
   "outputs": [],
   "source": [
    "rlist = []\n",
    "records = os.path.normpath('mit-bih-dataframes/subject_list.csv')\n",
    "with open(records) as rfile:\n",
    "    recordreader = csv.reader(rfile, delimiter=' ', quotechar='|')\n",
    "    for row in recordreader:\n",
    "        rlist.append(row[0])"
   ]
  },
  {
   "cell_type": "code",
   "execution_count": 17,
   "metadata": {},
   "outputs": [
    {
     "name": "stderr",
     "output_type": "stream",
     "text": [
      "100%|███████████████████████████████████████████| 23/23 [00:00<00:00, 30.45it/s]\n"
     ]
    },
    {
     "data": {
      "text/html": [
       "<div>\n",
       "<style scoped>\n",
       "    .dataframe tbody tr th:only-of-type {\n",
       "        vertical-align: middle;\n",
       "    }\n",
       "\n",
       "    .dataframe tbody tr th {\n",
       "        vertical-align: top;\n",
       "    }\n",
       "\n",
       "    .dataframe thead th {\n",
       "        text-align: right;\n",
       "    }\n",
       "</style>\n",
       "<table border=\"1\" class=\"dataframe\">\n",
       "  <thead>\n",
       "    <tr style=\"text-align: right;\">\n",
       "      <th></th>\n",
       "      <th>rr_int</th>\n",
       "      <th>rr_int_seconds</th>\n",
       "      <th>rhythms</th>\n",
       "      <th>rmean</th>\n",
       "      <th>rmean_seconds</th>\n",
       "    </tr>\n",
       "  </thead>\n",
       "  <tbody>\n",
       "    <tr>\n",
       "      <th>59475</th>\n",
       "      <td>173</td>\n",
       "      <td>0.692</td>\n",
       "      <td>A</td>\n",
       "      <td>173.000000</td>\n",
       "      <td>0.692000</td>\n",
       "    </tr>\n",
       "    <tr>\n",
       "      <th>59476</th>\n",
       "      <td>157</td>\n",
       "      <td>0.628</td>\n",
       "      <td>A</td>\n",
       "      <td>169.000000</td>\n",
       "      <td>0.676000</td>\n",
       "    </tr>\n",
       "    <tr>\n",
       "      <th>59477</th>\n",
       "      <td>68</td>\n",
       "      <td>0.272</td>\n",
       "      <td>A</td>\n",
       "      <td>143.750000</td>\n",
       "      <td>0.575000</td>\n",
       "    </tr>\n",
       "    <tr>\n",
       "      <th>59478</th>\n",
       "      <td>69</td>\n",
       "      <td>0.276</td>\n",
       "      <td>A</td>\n",
       "      <td>125.062500</td>\n",
       "      <td>0.500250</td>\n",
       "    </tr>\n",
       "    <tr>\n",
       "      <th>59479</th>\n",
       "      <td>53</td>\n",
       "      <td>0.212</td>\n",
       "      <td>A</td>\n",
       "      <td>107.046875</td>\n",
       "      <td>0.428187</td>\n",
       "    </tr>\n",
       "  </tbody>\n",
       "</table>\n",
       "</div>"
      ],
      "text/plain": [
       "       rr_int  rr_int_seconds rhythms       rmean  rmean_seconds\n",
       "59475     173           0.692       A  173.000000       0.692000\n",
       "59476     157           0.628       A  169.000000       0.676000\n",
       "59477      68           0.272       A  143.750000       0.575000\n",
       "59478      69           0.276       A  125.062500       0.500250\n",
       "59479      53           0.212       A  107.046875       0.428187"
      ]
     },
     "execution_count": 17,
     "metadata": {},
     "output_type": "execute_result"
    }
   ],
   "source": [
    "rr_ints = []\n",
    "for x in tqdm(rlist):\n",
    "    rr_ints.append(pd.read_csv(os.path.normpath('mit-bih-extracted/'+x+'_rr_rhythms.csv'), index_col=0))\n",
    "\n",
    "rr_ints[22].tail()"
   ]
  },
  {
   "cell_type": "code",
   "execution_count": 20,
   "metadata": {},
   "outputs": [],
   "source": [
    "def plot_time_plot(data, selection, column, nrows, ncols, title):\n",
    "    plt.figure(figsize=(28, 12))\n",
    "    \n",
    "    for idx, x in enumerate(selection):\n",
    "        ax = plt.subplot(nrows, ncols, idx + 1)\n",
    "        ax.set_title('Subject '+str(x), fontsize=28)\n",
    "        ax.set_xlabel('RR-Intervals elapsed', fontsize=24)\n",
    "        ax.set_ylabel('Running mean length (seconds)', fontsize=24)\n",
    "        ax.tick_params(labelsize=22)\n",
    "\n",
    "        df = data[x-1]\n",
    "\n",
    "        current = df['rhythms'][0]\n",
    "        currentdata = []\n",
    "        lastidx = 0\n",
    "        counter = 0\n",
    "        print(\"Plot \"+str(idx+1)+\", Subject \"+str(x))\n",
    "        for index, row in tqdm(df.iterrows()):\n",
    "            if index == len(df)-1:\n",
    "                currentdata.append(row[column])\n",
    "                if current == 'N':\n",
    "                    ax.plot(list(range(lastidx, index+1)), currentdata, color='darkcyan')\n",
    "                elif current == 'A':\n",
    "                    ax.plot(list(range(lastidx, index+1)), currentdata, color='orange')\n",
    "                elif current == 'O':\n",
    "                    ax.plot(list(range(lastidx, index+1)), currentdata, color='salmon')\n",
    "            elif row['rhythms'] == current:\n",
    "                currentdata.append(row[column])\n",
    "            else:\n",
    "                if current == 'N':\n",
    "                    ax.plot(list(range(lastidx, index)), currentdata, color='darkcyan')\n",
    "                elif current == 'A':\n",
    "                    ax.plot(list(range(lastidx, index)), currentdata, color='orange')\n",
    "                elif current == 'O':\n",
    "                    ax.plot(list(range(lastidx, index)), currentdata, color='salmon')\n",
    "                lastidx = index\n",
    "                current = row['rhythms']\n",
    "                currentdata = [row[column]]\n",
    "\n",
    "        ax.axhline(y=df[df['rhythms'] == 'N'][column].mean(), color=\"darkslategray\", linestyle=\"--\", linewidth=5)\n",
    "        ax.axhline(y=df[df['rhythms'] == 'A'][column].mean(), color=\"purple\", linestyle=\"--\", linewidth=5)\n",
    "        ax.axhline(y=df[df['rhythms'] == 'O'][column].mean(), color=\"darkred\", linestyle=\"--\", linewidth=5)\n",
    "\n",
    "    plt.suptitle(title, fontsize=36)\n",
    "\n",
    "    normal_patch = mpatches.Patch(color='darkcyan', label='Normal')\n",
    "    afib_patch = mpatches.Patch(color='orange', label='Afib')\n",
    "    other_patch = mpatches.Patch(color='salmon', label='Other')\n",
    "    normal_mean_patch = mpatches.Patch(color='darkslategray', label='Normal mean')\n",
    "    afib_mean_patch = mpatches.Patch(color='purple', label='Afib mean')\n",
    "    other_mean_patch = mpatches.Patch(color='darkred', label='Other mean') \n",
    "    plt.figlegend(handles=[normal_patch, afib_patch, other_patch, normal_mean_patch, afib_mean_patch, other_mean_patch], \n",
    "                #['Normal', 'Afib', 'Other', 'Normal mean', 'Afib mean', 'Other mean'],\n",
    "                fontsize=28, \n",
    "                loc = \"upper right\",\n",
    "                ncol=2,\n",
    "                shadow = True)\n",
    "    plt.tight_layout()"
   ]
  },
  {
   "cell_type": "code",
   "execution_count": null,
   "metadata": {},
   "outputs": [
    {
     "ename": "",
     "evalue": "",
     "output_type": "error",
     "traceback": [
      "\u001b[1;31mRunning cells with 'Python 3.10.2 64-bit' requires ipykernel package.\n",
      "Run the following command to install 'ipykernel' into the Python environment. \n",
      "Command: '/usr/local/bin/python3 -m pip install ipykernel -U --user --force-reinstall'"
     ]
    }
   ],
   "source": [
    "plot_time_plot(rr_ints, [1], 'rr_int_seconds', 2, 1, 'Primarily Normal')\n",
    "plot_time_plot(rr_ints, [15], 'rr_int_seconds', 2, 1, 'Primarily Afib')\n",
    "#plot_time_plot(rr_ints, [2, 19], 'rr_int_seconds', 2, 1, 'Both Prevalent')\n",
    "plot_time_plot(rr_ints, [7], 'rr_int_seconds', 2, 1, 'Irregular')"
   ]
  }
 ],
 "metadata": {
  "kernelspec": {
   "display_name": "Python 3 (ipykernel)",
   "language": "python",
   "name": "python3"
  },
  "language_info": {
   "codemirror_mode": {
    "name": "ipython",
    "version": 3
   },
   "file_extension": ".py",
   "mimetype": "text/x-python",
   "name": "python",
   "nbconvert_exporter": "python",
   "pygments_lexer": "ipython3",
   "version": "3.10.2"
  },
  "vscode": {
   "interpreter": {
    "hash": "aee8b7b246df8f9039afb4144a1f6fd8d2ca17a180786b69acc140d282b71a49"
   }
  }
 },
 "nbformat": 4,
 "nbformat_minor": 2
}
