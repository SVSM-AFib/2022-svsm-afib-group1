{
 "cells": [
  {
   "cell_type": "code",
   "execution_count": 44,
   "metadata": {},
   "outputs": [],
   "source": [
    "import numpy as np\n",
    "import pandas as pd\n",
    "from tqdm.auto import tqdm\n",
    "import os\n",
    "from pathlib import Path, PurePath\n",
    "import csv\n",
    "from scipy import stats\n",
    "import math\n",
    "from collections import Counter"
   ]
  },
  {
   "cell_type": "code",
   "execution_count": 45,
   "metadata": {},
   "outputs": [],
   "source": [
    "rlist = []\n",
    "extractedpath = PurePath(Path(os.getcwd()).parents[0], 'mit-bih-extracted-nocalibration/')\n",
    "records = extractedpath / 'subject_list.csv'\n",
    "with open(records) as rfile: # reads in all of the subject IDs\n",
    "    recordreader = csv.reader(rfile, delimiter=' ', quotechar='|')\n",
    "    for row in recordreader:\n",
    "        rlist.append(row[0])"
   ]
  },
  {
   "cell_type": "code",
   "execution_count": 46,
   "metadata": {},
   "outputs": [],
   "source": [
    "def classify_rr_ints(df):\n",
    "    #list of types of rr_ints for each subject\n",
    "    subject_types = []\n",
    "    for row in df.itertuples():\n",
    "        if row.rrInt < 0.85*row.rmean: \n",
    "            #if rr_ints is less than 85% of runningmean\n",
    "            #label subject type as short\n",
    "            subject_types.append('short')\n",
    "        elif row.rrInt > 1.15*row.rmean: \n",
    "            #if rr_ints is greater than 115% of runningmean\n",
    "            #label subject type as long\n",
    "            subject_types.append('long')\n",
    "        else:\n",
    "            #label subject type as regular\n",
    "            subject_types.append('regular')\n",
    "    \n",
    "    return subject_types\n",
    "\n",
    "def find_proportions(int_types): # take the interval types and count the transitions/return the proportions\n",
    "    StoS = 0\n",
    "    StoR = 0\n",
    "    StoL = 0\n",
    "    RtoS = 0\n",
    "    RtoR = 0\n",
    "    RtoL = 0\n",
    "    LtoS = 0\n",
    "    LtoR = 0\n",
    "    LtoL = 0\n",
    "    for idx in range(len(int_types)-1):\n",
    "        if int_types[idx]=='short' and int_types[idx+1]=='short':\n",
    "            StoS+=1\n",
    "        elif int_types[idx]=='short' and int_types[idx+1]=='regular':\n",
    "            StoR+=1\n",
    "        elif int_types[idx]=='short' and int_types[idx+1]=='long':\n",
    "            StoL+=1\n",
    "        elif int_types[idx]=='regular' and int_types[idx+1]=='short':\n",
    "            RtoS+=1\n",
    "        elif int_types[idx]=='regular' and int_types[idx+1]=='regular':\n",
    "            RtoR+=1\n",
    "        elif int_types[idx]=='regular' and int_types[idx+1]=='long':\n",
    "            RtoL+=1\n",
    "        elif int_types[idx]=='long' and int_types[idx+1]=='short':\n",
    "            LtoS+=1\n",
    "        elif int_types[idx]=='long' and int_types[idx+1]=='regular':\n",
    "            LtoR+=1\n",
    "        elif int_types[idx]=='long' and int_types[idx+1]=='long':\n",
    "            LtoL+=1\n",
    "    \n",
    "    count = len(int_types)-1\n",
    "    print(int_types)\n",
    "    return [StoS/count, StoR/count, StoL/count, RtoS/count, RtoR/count, RtoL/count, LtoS/count, LtoR/count, LtoL/count]\n",
    "\n",
    "def extract_rmssd(subset): # calculate the RMSSD of a subset\n",
    "    rrInts = subset['rrInt'].to_numpy()\n",
    "    diffs = np.diff(rrInts)\n",
    "    sum_of_squares = np.sum(diffs**2)\n",
    "    return np.sqrt(sum_of_squares/len(diffs))\n",
    "\n",
    "def shannon_entropy(subset):\n",
    "    # Get the frequency of each rrint classification in the data\n",
    "    frequencies = Counter(subset)\n",
    "    \n",
    "    # Calculate the probability of each classification\n",
    "    probabilities = [float(frequency) / len(subset) for frequency in frequencies.values()]\n",
    "    \n",
    "    # Calculate the Shannon entropy\n",
    "    entropy = -sum(probability * math.log(probability, 2) for probability in probabilities)\n",
    "    \n",
    "    return entropy\n",
    "def approx_entropy(subset, m=2, r=None):\n",
    "    def _maxdist(x_i, x_j):\n",
    "        return max([abs(ua - va) for ua, va in zip(x_i, x_j)])\n",
    "\n",
    "    def _phi(m):\n",
    "        x = [[subset[j] for j in range(i, i + m - 1 + 1)] for i in range(N - m + 1)]\n",
    "        C = [len([1 for x_j in x if _maxdist(x_i, x_j) <= r]) / (N - m + 1.0) for x_i in x]\n",
    "        return (N - m + 1.0)**(-1) * sum(np.log(C))\n",
    "\n",
    "    # Ensure subset has a default integer index\n",
    "    subset = subset.reset_index(drop=True)\n",
    "\n",
    "    N = len(subset)\n",
    "\n",
    "    if r is None:\n",
    "        r = 0.2 * np.std(subset)\n",
    "\n",
    "    return abs(_phi(m+1) - _phi(m))\n",
    "\n",
    "# usage\n",
    "# subset is a list of RR intervals fr\n"
   ]
  },
  {
   "cell_type": "code",
   "execution_count": 47,
   "metadata": {},
   "outputs": [],
   "source": [
    "N = 800\n",
    "\n",
    "def subset_features(record, subsetpath, current_weight = 0.25, prev_weight = 0.75):\n",
    "    bigDataframe = pd.concat([pd.read_parquet(subsetpath / record / (record+\"-\"+str(idx)+\".parquet\")) for idx in range(N+1)])\n",
    "\n",
    "    feature_dict = {} \n",
    "    init_data = bigDataframe.iloc[:N]\n",
    "    props = find_proportions(classify_rr_ints(init_data))\n",
    "    feature_dict['StoS'] = [props[0]]\n",
    "    feature_dict['StoR'] = [props[1]]\n",
    "    feature_dict['StoL'] = [props[2]]\n",
    "    feature_dict['RtoS'] = [props[3]]\n",
    "    feature_dict['RtoR'] = [props[4]]\n",
    "    feature_dict['RtoL'] = [props[5]]\n",
    "    feature_dict['LtoS'] = [props[6]]\n",
    "    feature_dict['LtoR'] = [props[7]]\n",
    "    feature_dict['LtoL'] = [props[8]]\n",
    "\n",
    "    feature_dict['std'] = [np.std(init_data['rrInt'])]\n",
    "    feature_dict['cov'] = [feature_dict['std'][0]/np.mean(init_data['rrInt'])]\n",
    "    feature_dict['range'] = [np.max(init_data['rrInt'])-np.min(init_data['rrInt'])]\n",
    "    feature_dict['rrInt_var'] = [init_data['rrInt'].var()]\n",
    "    feature_dict['rmean_var'] = [init_data['rmean'].var()]\n",
    "    feature_dict['rmssd'] = [extract_rmssd(init_data)]\n",
    "    feature_dict['mad'] = [stats.median_abs_deviation(init_data['rrInt'])]\n",
    "    feature_dict['iqr'] = [stats.iqr(init_data['rrInt'])]\n",
    "    feature_dict['entropy'] = [shannon_entropy(init_data)]\n",
    "    feature_dict['approx_entropy'] = [approx_entropy(init_data['rrInt'])]\n",
    "\n",
    "    for idx in tqdm(range(N+4, len(bigDataframe)), desc=\"Calculating features for each window\"):\n",
    "        current_window = bigDataframe.iloc[[idx]]\n",
    "        previous_window = bigDataframe.iloc[idx - N: idx]\n",
    "\n",
    "\n",
    "        prev_props = find_proportions(classify_rr_ints(previous_window))\n",
    "        prev_std = np.std(previous_window['rrInt'])\n",
    "        prev_cov = prev_std/np.mean(previous_window['rrInt'])\n",
    "        prev_range = np.max(previous_window['rrInt'])-np.min(previous_window['rrInt'])\n",
    "        prev_rrInt_var = previous_window['rrInt'].var()\n",
    "        prev_rmean_var = previous_window['rmean'].var()\n",
    "        prev_rmssd = extract_rmssd(previous_window)\n",
    "        prev_mad = stats.median_abs_deviation(previous_window['rrInt'])\n",
    "        prev_iqr = stats.iqr(previous_window['rrInt'])\n",
    "        prev_entropy = shannon_entropy(previous_window)\n",
    "        prev_approx_entropy = approx_entropy(previous_window['rrInt'])\n",
    "\n",
    "\n",
    "        curr_props = find_proportions(classify_rr_ints(current_window))\n",
    "        curr_std = np.std(current_window['rrInt'])\n",
    "        curr_cov = curr_std/np.mean(current_window['rrInt'])\n",
    "        curr_range = np.max(current_window['rrInt'])-np.min(current_window['rrInt'])\n",
    "        curr_rrInt_var = current_window['rrInt'].var()\n",
    "        curr_rmean_var = current_window['rmean'].var()\n",
    "        curr_rmssd = extract_rmssd(current_window)\n",
    "        curr_mad = stats.median_abs_deviation(current_window['rrInt'])\n",
    "        curr_iqr = stats.iqr(current_window['rrInt'])\n",
    "        curr_entropy = shannon_entropy(current_window)\n",
    "        curr_approx_entropy = approx_entropy(current_window['rrInt'])\n",
    "\n",
    "        feature_dict['StoS'].append(curr_props[0]*current_weight + prev_props[0]*prev_weight)\n",
    "        feature_dict['StoR'].append(curr_props[1]*current_weight + prev_props[1]*prev_weight)\n",
    "        feature_dict['StoL'].append(curr_props[2]*current_weight + prev_props[2]*prev_weight)\n",
    "        feature_dict['RtoS'].append(curr_props[3]*current_weight + prev_props[3]*prev_weight)\n",
    "        feature_dict['RtoR'].append(curr_props[4]*current_weight + prev_props[4]*prev_weight)\n",
    "        feature_dict['RtoL'].append(curr_props[5]*current_weight + prev_props[5]*prev_weight)\n",
    "        feature_dict['LtoS'].append(curr_props[6]*current_weight + prev_props[6]*prev_weight)\n",
    "        feature_dict['LtoR'].append(curr_props[7]*current_weight + prev_props[7]*prev_weight)\n",
    "        feature_dict['LtoL'].append(curr_props[8]*current_weight + prev_props[8]*prev_weight)\n",
    "\n",
    "        feature_dict['std'].append(curr_std*current_weight + prev_std*prev_weight)\n",
    "        feature_dict['cov'].append(curr_cov*current_weight + prev_cov*prev_weight)\n",
    "        feature_dict['range'].append(curr_range*current_weight + prev_range*prev_weight)\n",
    "        feature_dict['rrInt_var'].append(curr_rrInt_var*current_weight + prev_rrInt_var*prev_weight)\n",
    "        feature_dict['rmean_var'].append(curr_rmean_var*current_weight + prev_rmean_var*prev_weight)\n",
    "        feature_dict['rmssd'].append(curr_rmssd*current_weight + prev_rmssd*prev_weight)\n",
    "        feature_dict['mad'].append(curr_mad*current_weight + prev_mad*prev_weight)\n",
    "        feature_dict['iqr'].append(curr_iqr*current_weight + prev_iqr*prev_weight)\n",
    "        feature_dict['entropy'].append(curr_entropy*current_weight + prev_entropy*prev_weight)\n",
    "        feature_dict['approx_entropy'].append(curr_approx_entropy*current_weight + prev_approx_entropy*prev_weight)\n",
    "\n",
    "    return feature_dict\n"
   ]
  },
  {
   "cell_type": "code",
   "execution_count": 48,
   "metadata": {},
   "outputs": [
    {
     "data": {
      "application/vnd.jupyter.widget-view+json": {
       "model_id": "d9294b59194d409795f332c45445fc82",
       "version_major": 2,
       "version_minor": 0
      },
      "text/plain": [
       "  0%|          | 0/23 [00:00<?, ?it/s]"
      ]
     },
     "metadata": {},
     "output_type": "display_data"
    },
    {
     "name": "stdout",
     "output_type": "stream",
     "text": [
      "['regular', 'regular', 'long', 'regular', 'regular', 'long', 'regular', 'regular', 'regular', 'regular', 'regular', 'regular', 'regular', 'regular', 'short', 'short', 'regular', 'short', 'regular', 'regular', 'regular', 'regular', 'short', 'short', 'regular', 'short', 'short', 'regular', 'regular', 'regular', 'regular', 'regular', 'regular', 'short', 'short', 'short', 'regular', 'long', 'regular', 'regular', 'regular', 'regular', 'long', 'regular', 'regular', 'long', 'long', 'regular', 'regular', 'long', 'long', 'regular', 'regular', 'long', 'long', 'regular', 'regular', 'long', 'regular', 'long', 'regular', 'regular', 'long', 'regular', 'regular', 'long', 'short', 'regular', 'regular', 'regular', 'regular', 'regular', 'regular', 'regular', 'regular', 'regular', 'regular', 'regular', 'regular', 'regular', 'regular', 'regular', 'regular', 'regular', 'regular', 'regular', 'regular', 'short', 'regular', 'regular', 'regular', 'regular', 'regular', 'regular', 'short', 'regular', 'regular', 'short', 'regular', 'regular', 'regular', 'long', 'long', 'regular', 'regular', 'long', 'regular', 'regular', 'regular', 'regular', 'long', 'long', 'regular', 'long', 'long', 'short', 'regular', 'long', 'short', 'regular', 'regular', 'short', 'short', 'short', 'regular', 'regular', 'regular', 'long', 'regular', 'short', 'short', 'regular', 'regular', 'regular', 'regular', 'regular', 'regular', 'short', 'short', 'short', 'regular', 'regular', 'long', 'regular', 'regular', 'long', 'regular', 'regular', 'regular', 'regular', 'long', 'regular', 'regular', 'short', 'long', 'long', 'regular', 'long', 'short', 'regular', 'regular', 'regular', 'regular', 'short', 'regular', 'long', 'short', 'regular', 'regular', 'short', 'short', 'regular', 'regular', 'regular', 'long', 'long', 'regular', 'regular', 'short', 'short', 'regular', 'short', 'short', 'regular', 'regular', 'long', 'long', 'long', 'regular', 'regular', 'long', 'regular', 'regular', 'long', 'long', 'short', 'regular', 'long', 'short', 'regular', 'regular', 'regular', 'short', 'short', 'regular', 'short', 'short', 'short', 'regular', 'regular', 'short', 'regular', 'regular', 'short', 'short', 'short', 'regular', 'long', 'regular', 'short', 'regular', 'short', 'short', 'regular', 'regular', 'regular', 'short', 'short', 'regular', 'short', 'regular', 'long', 'regular', 'regular', 'long', 'long', 'regular', 'regular', 'long', 'regular', 'regular', 'long', 'long', 'short', 'regular', 'long', 'long', 'short', 'regular', 'long', 'short', 'regular', 'regular', 'long', 'regular', 'regular', 'regular', 'regular', 'short', 'short', 'regular', 'regular', 'long', 'long', 'regular', 'regular', 'regular', 'regular', 'regular', 'regular', 'regular', 'regular', 'regular', 'long', 'long', 'long', 'regular', 'regular', 'regular', 'regular', 'regular', 'regular', 'regular', 'regular', 'regular', 'long', 'regular', 'regular', 'regular', 'short', 'short', 'regular', 'regular', 'long', 'regular', 'regular', 'regular', 'long', 'long', 'long', 'regular', 'regular', 'regular', 'regular', 'regular', 'regular', 'regular', 'regular', 'regular', 'regular', 'regular', 'regular', 'regular', 'regular', 'regular', 'regular', 'regular', 'regular', 'regular', 'regular', 'regular', 'regular', 'regular', 'regular', 'regular', 'regular', 'regular', 'regular', 'regular', 'regular', 'regular', 'regular', 'regular', 'short', 'regular', 'short', 'regular', 'long', 'short', 'regular', 'regular', 'regular', 'short', 'short', 'regular', 'regular', 'regular', 'regular', 'regular', 'regular', 'long', 'long', 'regular', 'regular', 'regular', 'regular', 'regular', 'regular', 'short', 'short', 'regular', 'regular', 'regular', 'regular', 'regular', 'long', 'long', 'long', 'regular', 'regular', 'regular', 'long', 'regular', 'short', 'short', 'long', 'regular', 'long', 'regular', 'regular', 'regular', 'short', 'short', 'short', 'regular', 'short', 'regular', 'regular', 'regular', 'regular', 'regular', 'short', 'regular', 'regular', 'regular', 'long', 'regular', 'short', 'short', 'long', 'regular', 'regular', 'regular', 'regular', 'regular', 'short', 'short', 'short', 'regular', 'long', 'short', 'regular', 'regular', 'short', 'regular', 'short', 'regular', 'short', 'regular', 'short', 'regular', 'short', 'regular', 'short', 'regular', 'long', 'regular', 'regular', 'regular', 'long', 'long', 'regular', 'regular', 'long', 'short', 'regular', 'regular', 'short', 'regular', 'regular', 'regular', 'regular', 'regular', 'long', 'regular', 'short', 'short', 'short', 'regular', 'long', 'short', 'regular', 'regular', 'long', 'regular', 'long', 'regular', 'long', 'regular', 'long', 'regular', 'short', 'short', 'short', 'regular', 'long', 'regular', 'short', 'regular', 'long', 'long', 'regular', 'regular', 'short', 'long', 'long', 'regular', 'long', 'regular', 'regular', 'regular', 'long', 'short', 'regular', 'regular', 'long', 'regular', 'regular', 'regular', 'short', 'regular', 'regular', 'regular', 'regular', 'short', 'long', 'regular', 'long', 'regular', 'regular', 'regular', 'long', 'long', 'regular', 'regular', 'long', 'short', 'regular', 'regular', 'long', 'long', 'short', 'regular', 'short', 'regular', 'short', 'regular', 'short', 'regular', 'long', 'regular', 'long', 'regular', 'long', 'regular', 'long', 'regular', 'regular', 'regular', 'regular', 'regular', 'regular', 'regular', 'regular', 'regular', 'regular', 'regular', 'regular', 'short', 'regular', 'regular', 'regular', 'regular', 'short', 'regular', 'regular', 'regular', 'regular', 'regular', 'regular', 'regular', 'regular', 'regular', 'regular', 'regular', 'regular', 'regular', 'long', 'regular', 'long', 'regular', 'regular', 'regular', 'regular', 'regular', 'regular', 'regular', 'regular', 'regular', 'long', 'long', 'long', 'regular', 'regular', 'regular', 'regular', 'regular', 'regular', 'regular', 'regular', 'regular', 'regular', 'regular', 'regular', 'regular', 'long', 'regular', 'long', 'regular', 'regular', 'regular', 'long', 'regular', 'long', 'long', 'regular', 'regular', 'regular', 'regular', 'regular', 'regular', 'short', 'regular', 'short', 'regular', 'regular', 'long', 'regular', 'regular', 'short', 'long', 'short', 'regular', 'regular', 'short', 'short', 'regular', 'long', 'long', 'regular', 'regular', 'long', 'regular', 'regular', 'regular', 'regular', 'short', 'regular', 'regular', 'regular', 'regular', 'long', 'regular', 'long', 'regular', 'long', 'regular', 'regular', 'regular', 'regular', 'regular', 'regular', 'regular', 'short', 'regular', 'short', 'short', 'short', 'regular', 'short', 'regular', 'regular', 'regular', 'long', 'regular', 'long', 'regular', 'short', 'regular', 'regular', 'regular', 'long', 'long', 'long', 'regular', 'regular', 'regular', 'short', 'regular', 'regular', 'regular', 'regular', 'regular', 'regular', 'regular', 'regular', 'regular', 'regular', 'long', 'regular', 'regular', 'regular', 'long', 'long', 'regular', 'short', 'short', 'regular', 'regular', 'short', 'regular', 'regular', 'regular', 'regular', 'regular', 'regular', 'regular', 'regular', 'regular', 'regular', 'regular', 'regular', 'regular', 'regular', 'regular', 'long', 'short', 'short', 'regular', 'long', 'regular', 'long', 'regular', 'regular', 'long', 'long', 'regular', 'long', 'short', 'short', 'regular', 'short', 'short', 'regular', 'regular', 'regular', 'short', 'long', 'regular', 'short', 'regular', 'short', 'regular', 'regular', 'regular', 'regular', 'regular', 'long', 'regular', 'short', 'regular', 'long', 'regular', 'regular', 'regular', 'regular', 'regular', 'regular', 'regular', 'regular', 'long', 'regular', 'regular', 'long', 'long', 'regular', 'regular', 'regular', 'long', 'regular', 'regular', 'regular', 'regular', 'regular', 'regular', 'regular', 'long', 'long', 'regular', 'long', 'long', 'regular', 'regular', 'long', 'long', 'regular', 'regular', 'long', 'long', 'short', 'regular', 'regular', 'long', 'regular', 'regular', 'short', 'short', 'short', 'regular', 'regular', 'long', 'short', 'regular', 'long', 'regular', 'regular', 'regular', 'long', 'regular', 'regular']\n"
     ]
    },
    {
     "data": {
      "application/vnd.jupyter.widget-view+json": {
       "model_id": "c9003695c6544a7eb1f3e260dfd8e8e2",
       "version_major": 2,
       "version_minor": 0
      },
      "text/plain": [
       "Calculating features for each window:   0%|          | 0/2400 [00:00<?, ?it/s]"
      ]
     },
     "metadata": {},
     "output_type": "display_data"
    },
    {
     "name": "stdout",
     "output_type": "stream",
     "text": [
      "['regular', 'long', 'regular', 'regular', 'regular', 'regular', 'regular', 'regular', 'regular', 'regular', 'short', 'short', 'regular', 'short', 'regular', 'regular', 'regular', 'regular', 'short', 'short', 'regular', 'short', 'short', 'regular', 'regular', 'regular', 'regular', 'regular', 'regular', 'short', 'short', 'short', 'regular', 'long', 'regular', 'regular', 'regular', 'regular', 'long', 'regular', 'regular', 'long', 'long', 'regular', 'regular', 'long', 'long', 'regular', 'regular', 'long', 'long', 'regular', 'regular', 'long', 'regular', 'long', 'regular', 'regular', 'long', 'regular', 'regular', 'long', 'short', 'regular', 'regular', 'regular', 'regular', 'regular', 'regular', 'regular', 'regular', 'regular', 'regular', 'regular', 'regular', 'regular', 'regular', 'regular', 'regular', 'regular', 'regular', 'regular', 'regular', 'short', 'regular', 'regular', 'regular', 'regular', 'regular', 'regular', 'short', 'regular', 'regular', 'short', 'regular', 'regular', 'regular', 'long', 'long', 'regular', 'regular', 'long', 'regular', 'regular', 'regular', 'regular', 'long', 'long', 'regular', 'long', 'long', 'short', 'regular', 'long', 'short', 'regular', 'regular', 'short', 'short', 'short', 'regular', 'regular', 'regular', 'long', 'regular', 'short', 'short', 'regular', 'regular', 'regular', 'regular', 'regular', 'regular', 'short', 'short', 'short', 'regular', 'regular', 'long', 'regular', 'regular', 'long', 'regular', 'regular', 'regular', 'regular', 'long', 'regular', 'regular', 'short', 'long', 'long', 'regular', 'long', 'short', 'regular', 'regular', 'regular', 'regular', 'short', 'regular', 'long', 'short', 'regular', 'regular', 'short', 'short', 'regular', 'regular', 'regular', 'long', 'long', 'regular', 'regular', 'short', 'short', 'regular', 'short', 'short', 'regular', 'regular', 'long', 'long', 'long', 'regular', 'regular', 'long', 'regular', 'regular', 'long', 'long', 'short', 'regular', 'long', 'short', 'regular', 'regular', 'regular', 'short', 'short', 'regular', 'short', 'short', 'short', 'regular', 'regular', 'short', 'regular', 'regular', 'short', 'short', 'short', 'regular', 'long', 'regular', 'short', 'regular', 'short', 'short', 'regular', 'regular', 'regular', 'short', 'short', 'regular', 'short', 'regular', 'long', 'regular', 'regular', 'long', 'long', 'regular', 'regular', 'long', 'regular', 'regular', 'long', 'long', 'short', 'regular', 'long', 'long', 'short', 'regular', 'long', 'short', 'regular', 'regular', 'long', 'regular', 'regular', 'regular', 'regular', 'short', 'short', 'regular', 'regular', 'long', 'long', 'regular', 'regular', 'regular', 'regular', 'regular', 'regular', 'regular', 'regular', 'regular', 'long', 'long', 'long', 'regular', 'regular', 'regular', 'regular', 'regular', 'regular', 'regular', 'regular', 'regular', 'long', 'regular', 'regular', 'regular', 'short', 'short', 'regular', 'regular', 'long', 'regular', 'regular', 'regular', 'long', 'long', 'long', 'regular', 'regular', 'regular', 'regular', 'regular', 'regular', 'regular', 'regular', 'regular', 'regular', 'regular', 'regular', 'regular', 'regular', 'regular', 'regular', 'regular', 'regular', 'regular', 'regular', 'regular', 'regular', 'regular', 'regular', 'regular', 'regular', 'regular', 'regular', 'regular', 'regular', 'regular', 'regular', 'regular', 'short', 'regular', 'short', 'regular', 'long', 'short', 'regular', 'regular', 'regular', 'short', 'short', 'regular', 'regular', 'regular', 'regular', 'regular', 'regular', 'long', 'long', 'regular', 'regular', 'regular', 'regular', 'regular', 'regular', 'short', 'short', 'regular', 'regular', 'regular', 'regular', 'regular', 'long', 'long', 'long', 'regular', 'regular', 'regular', 'long', 'regular', 'short', 'short', 'long', 'regular', 'long', 'regular', 'regular', 'regular', 'short', 'short', 'short', 'regular', 'short', 'regular', 'regular', 'regular', 'regular', 'regular', 'short', 'regular', 'regular', 'regular', 'long', 'regular', 'short', 'short', 'long', 'regular', 'regular', 'regular', 'regular', 'regular', 'short', 'short', 'short', 'regular', 'long', 'short', 'regular', 'regular', 'short', 'regular', 'short', 'regular', 'short', 'regular', 'short', 'regular', 'short', 'regular', 'short', 'regular', 'long', 'regular', 'regular', 'regular', 'long', 'long', 'regular', 'regular', 'long', 'short', 'regular', 'regular', 'short', 'regular', 'regular', 'regular', 'regular', 'regular', 'long', 'regular', 'short', 'short', 'short', 'regular', 'long', 'short', 'regular', 'regular', 'long', 'regular', 'long', 'regular', 'long', 'regular', 'long', 'regular', 'short', 'short', 'short', 'regular', 'long', 'regular', 'short', 'regular', 'long', 'long', 'regular', 'regular', 'short', 'long', 'long', 'regular', 'long', 'regular', 'regular', 'regular', 'long', 'short', 'regular', 'regular', 'long', 'regular', 'regular', 'regular', 'short', 'regular', 'regular', 'regular', 'regular', 'short', 'long', 'regular', 'long', 'regular', 'regular', 'regular', 'long', 'long', 'regular', 'regular', 'long', 'short', 'regular', 'regular', 'long', 'long', 'short', 'regular', 'short', 'regular', 'short', 'regular', 'short', 'regular', 'long', 'regular', 'long', 'regular', 'long', 'regular', 'long', 'regular', 'regular', 'regular', 'regular', 'regular', 'regular', 'regular', 'regular', 'regular', 'regular', 'regular', 'regular', 'short', 'regular', 'regular', 'regular', 'regular', 'short', 'regular', 'regular', 'regular', 'regular', 'regular', 'regular', 'regular', 'regular', 'regular', 'regular', 'regular', 'regular', 'regular', 'long', 'regular', 'long', 'regular', 'regular', 'regular', 'regular', 'regular', 'regular', 'regular', 'regular', 'regular', 'long', 'long', 'long', 'regular', 'regular', 'regular', 'regular', 'regular', 'regular', 'regular', 'regular', 'regular', 'regular', 'regular', 'regular', 'regular', 'long', 'regular', 'long', 'regular', 'regular', 'regular', 'long', 'regular', 'long', 'long', 'regular', 'regular', 'regular', 'regular', 'regular', 'regular', 'short', 'regular', 'short', 'regular', 'regular', 'long', 'regular', 'regular', 'short', 'long', 'short', 'regular', 'regular', 'short', 'short', 'regular', 'long', 'long', 'regular', 'regular', 'long', 'regular', 'regular', 'regular', 'regular', 'short', 'regular', 'regular', 'regular', 'regular', 'long', 'regular', 'long', 'regular', 'long', 'regular', 'regular', 'regular', 'regular', 'regular', 'regular', 'regular', 'short', 'regular', 'short', 'short', 'short', 'regular', 'short', 'regular', 'regular', 'regular', 'long', 'regular', 'long', 'regular', 'short', 'regular', 'regular', 'regular', 'long', 'long', 'long', 'regular', 'regular', 'regular', 'short', 'regular', 'regular', 'regular', 'regular', 'regular', 'regular', 'regular', 'regular', 'regular', 'regular', 'long', 'regular', 'regular', 'regular', 'long', 'long', 'regular', 'short', 'short', 'regular', 'regular', 'short', 'regular', 'regular', 'regular', 'regular', 'regular', 'regular', 'regular', 'regular', 'regular', 'regular', 'regular', 'regular', 'regular', 'regular', 'regular', 'long', 'short', 'short', 'regular', 'long', 'regular', 'long', 'regular', 'regular', 'long', 'long', 'regular', 'long', 'short', 'short', 'regular', 'short', 'short', 'regular', 'regular', 'regular', 'short', 'long', 'regular', 'short', 'regular', 'short', 'regular', 'regular', 'regular', 'regular', 'regular', 'long', 'regular', 'short', 'regular', 'long', 'regular', 'regular', 'regular', 'regular', 'regular', 'regular', 'regular', 'regular', 'long', 'regular', 'regular', 'long', 'long', 'regular', 'regular', 'regular', 'long', 'regular', 'regular', 'regular', 'regular', 'regular', 'regular', 'regular', 'long', 'long', 'regular', 'long', 'long', 'regular', 'regular', 'long', 'long', 'regular', 'regular', 'long', 'long', 'short', 'regular', 'regular', 'long', 'regular', 'regular', 'short', 'short', 'short', 'regular', 'regular', 'long', 'short', 'regular', 'long', 'regular', 'regular', 'regular', 'long', 'regular', 'regular', 'regular', 'long', 'regular', 'long']\n",
      "['regular']\n"
     ]
    },
    {
     "ename": "ZeroDivisionError",
     "evalue": "division by zero",
     "output_type": "error",
     "traceback": [
      "\u001b[0;31m---------------------------------------------------------------------------\u001b[0m",
      "\u001b[0;31mZeroDivisionError\u001b[0m                         Traceback (most recent call last)",
      "Cell \u001b[0;32mIn[48], line 7\u001b[0m\n\u001b[1;32m      4\u001b[0m     os\u001b[38;5;241m.\u001b[39mmkdir(featurespath)\n\u001b[1;32m      6\u001b[0m \u001b[38;5;28;01mfor\u001b[39;00m record \u001b[38;5;129;01min\u001b[39;00m tqdm(rlist): \u001b[38;5;66;03m# calculate the features for all of the subjects\u001b[39;00m\n\u001b[0;32m----> 7\u001b[0m     features \u001b[38;5;241m=\u001b[39m \u001b[43msubset_features\u001b[49m\u001b[43m(\u001b[49m\u001b[43mrecord\u001b[49m\u001b[43m,\u001b[49m\u001b[43m \u001b[49m\u001b[43msubsetpath\u001b[49m\u001b[43m)\u001b[49m\n\u001b[1;32m      8\u001b[0m     features\u001b[38;5;241m.\u001b[39mto_parquet(featurespath \u001b[38;5;241m/\u001b[39m (record\u001b[38;5;241m+\u001b[39m\u001b[38;5;124m\"\u001b[39m\u001b[38;5;124m.parquet\u001b[39m\u001b[38;5;124m\"\u001b[39m)) \u001b[38;5;66;03m# and then write them to disk\u001b[39;00m\n",
      "Cell \u001b[0;32mIn[47], line 48\u001b[0m, in \u001b[0;36msubset_features\u001b[0;34m(record, subsetpath, current_weight, prev_weight)\u001b[0m\n\u001b[1;32m     44\u001b[0m prev_entropy \u001b[38;5;241m=\u001b[39m shannon_entropy(previous_window)\n\u001b[1;32m     45\u001b[0m prev_approx_entropy \u001b[38;5;241m=\u001b[39m approx_entropy(previous_window[\u001b[38;5;124m'\u001b[39m\u001b[38;5;124mrrInt\u001b[39m\u001b[38;5;124m'\u001b[39m])\n\u001b[0;32m---> 48\u001b[0m curr_props \u001b[38;5;241m=\u001b[39m \u001b[43mfind_proportions\u001b[49m\u001b[43m(\u001b[49m\u001b[43mclassify_rr_ints\u001b[49m\u001b[43m(\u001b[49m\u001b[43mcurrent_window\u001b[49m\u001b[43m)\u001b[49m\u001b[43m)\u001b[49m\n\u001b[1;32m     49\u001b[0m curr_std \u001b[38;5;241m=\u001b[39m np\u001b[38;5;241m.\u001b[39mstd(current_window[\u001b[38;5;124m'\u001b[39m\u001b[38;5;124mrrInt\u001b[39m\u001b[38;5;124m'\u001b[39m])\n\u001b[1;32m     50\u001b[0m curr_cov \u001b[38;5;241m=\u001b[39m curr_std\u001b[38;5;241m/\u001b[39mnp\u001b[38;5;241m.\u001b[39mmean(current_window[\u001b[38;5;124m'\u001b[39m\u001b[38;5;124mrrInt\u001b[39m\u001b[38;5;124m'\u001b[39m])\n",
      "Cell \u001b[0;32mIn[46], line 51\u001b[0m, in \u001b[0;36mfind_proportions\u001b[0;34m(int_types)\u001b[0m\n\u001b[1;32m     49\u001b[0m count \u001b[38;5;241m=\u001b[39m \u001b[38;5;28mlen\u001b[39m(int_types)\u001b[38;5;241m-\u001b[39m\u001b[38;5;241m1\u001b[39m\n\u001b[1;32m     50\u001b[0m \u001b[38;5;28mprint\u001b[39m(int_types)\n\u001b[0;32m---> 51\u001b[0m \u001b[38;5;28;01mreturn\u001b[39;00m [\u001b[43mStoS\u001b[49m\u001b[38;5;241;43m/\u001b[39;49m\u001b[43mcount\u001b[49m, StoR\u001b[38;5;241m/\u001b[39mcount, StoL\u001b[38;5;241m/\u001b[39mcount, RtoS\u001b[38;5;241m/\u001b[39mcount, RtoR\u001b[38;5;241m/\u001b[39mcount, RtoL\u001b[38;5;241m/\u001b[39mcount, LtoS\u001b[38;5;241m/\u001b[39mcount, LtoR\u001b[38;5;241m/\u001b[39mcount, LtoL\u001b[38;5;241m/\u001b[39mcount]\n",
      "\u001b[0;31mZeroDivisionError\u001b[0m: division by zero"
     ]
    }
   ],
   "source": [
    "subsetpath = PurePath(Path(os.getcwd()).parents[0], 'mit-bih-time-subsets-nocalibration/')\n",
    "featurespath = PurePath(Path(os.getcwd()).parents[0], 'mit-bih-time-features-nocalibration/')\n",
    "if not os.path.exists(featurespath):\n",
    "    os.mkdir(featurespath)\n",
    "\n",
    "for record in tqdm(rlist): # calculate the features for all of the subjects\n",
    "    features = subset_features(record, subsetpath)\n",
    "    features.to_parquet(featurespath / (record+\".parquet\")) # and then write them to disk"
   ]
  },
  {
   "cell_type": "code",
   "execution_count": null,
   "metadata": {},
   "outputs": [],
   "source": []
  }
 ],
 "metadata": {
  "kernelspec": {
   "display_name": "Python [conda env:afib]",
   "language": "python",
   "name": "conda-env-afib-py"
  },
  "language_info": {
   "codemirror_mode": {
    "name": "ipython",
    "version": 3
   },
   "file_extension": ".py",
   "mimetype": "text/x-python",
   "name": "python",
   "nbconvert_exporter": "python",
   "pygments_lexer": "ipython3",
   "version": "3.11.3"
  }
 },
 "nbformat": 4,
 "nbformat_minor": 4
}
