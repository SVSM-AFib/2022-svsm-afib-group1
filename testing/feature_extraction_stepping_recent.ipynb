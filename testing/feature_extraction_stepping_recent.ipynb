{
 "cells": [
  {
   "cell_type": "code",
   "execution_count": 1,
   "metadata": {},
   "outputs": [],
   "source": [
    "import numpy as np\n",
    "import pandas as pd\n",
    "import antropy as ant\n",
    "from tqdm.auto import tqdm\n",
    "import os\n",
    "from pathlib import Path, PurePath\n",
    "import csv\n",
    "from scipy import stats\n",
    "from joblib import Parallel, delayed, dump, load"
   ]
  },
  {
   "cell_type": "code",
   "execution_count": 2,
   "metadata": {},
   "outputs": [],
   "source": [
    "rlist = []\n",
    "extractedpath = PurePath(Path(os.getcwd()).parents[0], 'mit-bih-extracted/')\n",
    "records = extractedpath / 'subject_list.csv'\n",
    "with open(records) as rfile: # reads in all of the subject IDs\n",
    "    recordreader = csv.reader(rfile, delimiter=' ', quotechar='|')\n",
    "    for row in recordreader:\n",
    "        rlist.append(row[0])"
   ]
  },
  {
   "cell_type": "code",
   "execution_count": 3,
   "metadata": {},
   "outputs": [],
   "source": [
    "def parallel_extract(data, idx, N, window_size, current_weight, prev_weight):\n",
    "    previous_window = data[idx - N*window_size:idx]\n",
    "    current_window = data[idx:idx + window_size]\n",
    "\n",
    "    return extract_all(current_window[:, 0], current_window[:, 1])*current_weight + extract_all(previous_window[:, 0], previous_window[:, 1])*prev_weight\n",
    "\n",
    "def extract_all(rrInts, rmeans):\n",
    "    conditions = [\n",
    "        rrInts < (0.85*rmeans),\n",
    "        rrInts > (1.15*rmeans)\n",
    "    ]\n",
    "    choices = [0, 2]\n",
    "\n",
    "    int_types = np.select(conditions, choices, default=1)\n",
    "\n",
    "    first = int_types[:-1]\n",
    "    second = int_types[1:]\n",
    "    count = len(int_types)-1\n",
    "    StoS = np.count_nonzero(np.logical_and(first == 0, second == 0)) / count\n",
    "    StoR = np.count_nonzero(np.logical_and(first == 0, second == 1)) / count\n",
    "    StoL = np.count_nonzero(np.logical_and(first == 0, second == 2)) / count\n",
    "    RtoS = np.count_nonzero(np.logical_and(first == 1, second == 0)) / count\n",
    "    RtoR = np.count_nonzero(np.logical_and(first == 1, second == 1)) / count\n",
    "    RtoL = np.count_nonzero(np.logical_and(first == 1, second == 2)) / count\n",
    "    LtoS = np.count_nonzero(np.logical_and(first == 2, second == 0)) / count\n",
    "    LtoR = np.count_nonzero(np.logical_and(first == 2, second == 1)) / count\n",
    "    LtoL = np.count_nonzero(np.logical_and(first == 2, second == 2)) / count\n",
    "\n",
    "    stdev = np.std(rrInts)\n",
    "    cov = stdev / np.mean(rrInts)\n",
    "    rr_range = np.max(rrInts) - np.min(rrInts)\n",
    "    rrInt_var = rrInts.var()\n",
    "    rmean_var = rmeans.var()\n",
    "    rmssd = extract_rmssd(rrInts)\n",
    "    mad = stats.median_abs_deviation(rrInts)\n",
    "    iqr = stats.iqr(rrInts)\n",
    "\n",
    "    shannon = shannon_entropy(int_types)\n",
    "    approx = ant.app_entropy(rrInts, order=2)\n",
    "\n",
    "    return np.array([StoS, StoR, StoL, RtoS, RtoR, RtoL, LtoS, LtoR, LtoL, stdev, cov, rr_range, rrInt_var, rmean_var, rmssd, mad, iqr, shannon, approx])\n",
    "\n",
    "def extract_rmssd(rrInts): # calculate the RMSSD of a subset\n",
    "    diffs = np.diff(rrInts)\n",
    "    sum_of_squares = np.sum(diffs**2)\n",
    "    return np.sqrt(sum_of_squares/len(diffs))\n",
    "\n",
    "def shannon_entropy(subset):\n",
    "    # Get the frequency of each rrint classification in the data\n",
    "    unique, frequencies = np.unique(subset, return_counts=True)\n",
    "    \n",
    "    # Calculate the probability of each classification\n",
    "    probabilities = frequencies / len(subset)\n",
    "    \n",
    "    # Calculate the Shannon entropy\n",
    "    entropy = -np.sum(probabilities*np.log2(probabilities))\n",
    "\n",
    "    return entropy"
   ]
  },
  {
   "cell_type": "code",
   "execution_count": 4,
   "metadata": {},
   "outputs": [],
   "source": [
    "def subset_features(all_memmap, N = 50, current_weight = 0.25, prev_weight = 0.75):\n",
    "    window_size = 4\n",
    "\n",
    "    rows = list(\n",
    "        tqdm(Parallel(n_jobs=12, return_as=\"generator\", max_nbytes=None, batch_size=\"auto\")(\n",
    "            delayed(parallel_extract)(all_memmap, idx, N, window_size, current_weight, prev_weight) \n",
    "            for idx in range(N*window_size, len(all_memmap) - window_size)),\n",
    "            desc=\"Calculating features for each window\", \n",
    "            total=(len(all_memmap)) - window_size - (N*window_size))\n",
    "    )\n",
    "    \n",
    "    feature_arr = np.vstack(rows)\n",
    "    columns = ['StoS', 'StoR', 'StoL', 'RtoS', 'RtoR', 'RtoL', 'LtoS', 'LtoR', 'LtoL', 'std', 'cov', 'range', 'rrInt_var', 'rmean_var', 'rmssd', 'mad', 'iqr','entropy','approx_entropy']\n",
    "    feature_df = pd.DataFrame(data=feature_arr, columns=columns) # make a DataFrame out of the feature dictionary\n",
    "    return feature_df # return the features DataFrame"
   ]
  },
  {
   "cell_type": "code",
   "execution_count": 5,
   "metadata": {},
   "outputs": [
    {
     "data": {
      "application/vnd.jupyter.widget-view+json": {
       "model_id": "9e35554722fd48c49ecb3f3a69524143",
       "version_major": 2,
       "version_minor": 0
      },
      "text/plain": [
       "  0%|          | 0/23 [00:00<?, ?it/s]"
      ]
     },
     "metadata": {},
     "output_type": "display_data"
    },
    {
     "data": {
      "application/vnd.jupyter.widget-view+json": {
       "model_id": "1697dbf372c34d448d1d4670a78e539a",
       "version_major": 2,
       "version_minor": 0
      },
      "text/plain": [
       "Calculating features for each recent value:   0%|          | 0/4 [00:00<?, ?it/s]"
      ]
     },
     "metadata": {},
     "output_type": "display_data"
    },
    {
     "data": {
      "application/vnd.jupyter.widget-view+json": {
       "model_id": "0dcddbda0b084a47b77bb0285b39fca4",
       "version_major": 2,
       "version_minor": 0
      },
      "text/plain": [
       "Calculating features for each window:   0%|          | 0/43796 [00:00<?, ?it/s]"
      ]
     },
     "metadata": {},
     "output_type": "display_data"
    },
    {
     "data": {
      "application/vnd.jupyter.widget-view+json": {
       "model_id": "4d452688a3b54afca6a260dd488ecdee",
       "version_major": 2,
       "version_minor": 0
      },
      "text/plain": [
       "Calculating features for each window:   0%|          | 0/43596 [00:00<?, ?it/s]"
      ]
     },
     "metadata": {},
     "output_type": "display_data"
    },
    {
     "data": {
      "application/vnd.jupyter.widget-view+json": {
       "model_id": "27dfc4d7201344779de763ab14a99a12",
       "version_major": 2,
       "version_minor": 0
      },
      "text/plain": [
       "Calculating features for each window:   0%|          | 0/43196 [00:00<?, ?it/s]"
      ]
     },
     "metadata": {},
     "output_type": "display_data"
    },
    {
     "data": {
      "application/vnd.jupyter.widget-view+json": {
       "model_id": "47e2ccf411964ea1abad4ddd68ce6444",
       "version_major": 2,
       "version_minor": 0
      },
      "text/plain": [
       "Calculating features for each window:   0%|          | 0/42396 [00:00<?, ?it/s]"
      ]
     },
     "metadata": {},
     "output_type": "display_data"
    },
    {
     "data": {
      "application/vnd.jupyter.widget-view+json": {
       "model_id": "c8b5c1d5e2bb47139d92a62ccf028b44",
       "version_major": 2,
       "version_minor": 0
      },
      "text/plain": [
       "Calculating features for each recent value:   0%|          | 0/4 [00:00<?, ?it/s]"
      ]
     },
     "metadata": {},
     "output_type": "display_data"
    },
    {
     "data": {
      "application/vnd.jupyter.widget-view+json": {
       "model_id": "9b8a4b5c773149bc9395a6122676a1db",
       "version_major": 2,
       "version_minor": 0
      },
      "text/plain": [
       "Calculating features for each window:   0%|          | 0/61708 [00:00<?, ?it/s]"
      ]
     },
     "metadata": {},
     "output_type": "display_data"
    },
    {
     "data": {
      "application/vnd.jupyter.widget-view+json": {
       "model_id": "e1a148df0ca84e14a6cfdbdd49e150fd",
       "version_major": 2,
       "version_minor": 0
      },
      "text/plain": [
       "Calculating features for each window:   0%|          | 0/61508 [00:00<?, ?it/s]"
      ]
     },
     "metadata": {},
     "output_type": "display_data"
    },
    {
     "data": {
      "application/vnd.jupyter.widget-view+json": {
       "model_id": "b66b2adda8434b6da9bc588180bb8f30",
       "version_major": 2,
       "version_minor": 0
      },
      "text/plain": [
       "Calculating features for each window:   0%|          | 0/61108 [00:00<?, ?it/s]"
      ]
     },
     "metadata": {},
     "output_type": "display_data"
    },
    {
     "data": {
      "application/vnd.jupyter.widget-view+json": {
       "model_id": "f469d45b50ae4ddba7c8170f55fb3004",
       "version_major": 2,
       "version_minor": 0
      },
      "text/plain": [
       "Calculating features for each window:   0%|          | 0/60308 [00:00<?, ?it/s]"
      ]
     },
     "metadata": {},
     "output_type": "display_data"
    },
    {
     "data": {
      "application/vnd.jupyter.widget-view+json": {
       "model_id": "5f7260a51e384881a147b60d686df074",
       "version_major": 2,
       "version_minor": 0
      },
      "text/plain": [
       "Calculating features for each recent value:   0%|          | 0/4 [00:00<?, ?it/s]"
      ]
     },
     "metadata": {},
     "output_type": "display_data"
    },
    {
     "data": {
      "application/vnd.jupyter.widget-view+json": {
       "model_id": "1334224bf72b4d308ed62dc7a8e65f2f",
       "version_major": 2,
       "version_minor": 0
      },
      "text/plain": [
       "Calculating features for each window:   0%|          | 0/39712 [00:00<?, ?it/s]"
      ]
     },
     "metadata": {},
     "output_type": "display_data"
    },
    {
     "data": {
      "application/vnd.jupyter.widget-view+json": {
       "model_id": "18af8bcd3b454c77a6f3a5bcde3a80d1",
       "version_major": 2,
       "version_minor": 0
      },
      "text/plain": [
       "Calculating features for each window:   0%|          | 0/39512 [00:00<?, ?it/s]"
      ]
     },
     "metadata": {},
     "output_type": "display_data"
    },
    {
     "data": {
      "application/vnd.jupyter.widget-view+json": {
       "model_id": "e290e996c65d45b9ad3d1decbc0531d9",
       "version_major": 2,
       "version_minor": 0
      },
      "text/plain": [
       "Calculating features for each window:   0%|          | 0/39112 [00:00<?, ?it/s]"
      ]
     },
     "metadata": {},
     "output_type": "display_data"
    },
    {
     "data": {
      "application/vnd.jupyter.widget-view+json": {
       "model_id": "18ca1b01e0f94c25af56fdf4083ab8f1",
       "version_major": 2,
       "version_minor": 0
      },
      "text/plain": [
       "Calculating features for each window:   0%|          | 0/38312 [00:00<?, ?it/s]"
      ]
     },
     "metadata": {},
     "output_type": "display_data"
    },
    {
     "data": {
      "application/vnd.jupyter.widget-view+json": {
       "model_id": "7fbf783a06e049bf9ee3357171742c7b",
       "version_major": 2,
       "version_minor": 0
      },
      "text/plain": [
       "Calculating features for each recent value:   0%|          | 0/4 [00:00<?, ?it/s]"
      ]
     },
     "metadata": {},
     "output_type": "display_data"
    },
    {
     "data": {
      "application/vnd.jupyter.widget-view+json": {
       "model_id": "8adf6340e2c94f18b61bc3ca30ab0b33",
       "version_major": 2,
       "version_minor": 0
      },
      "text/plain": [
       "Calculating features for each window:   0%|          | 0/42652 [00:00<?, ?it/s]"
      ]
     },
     "metadata": {},
     "output_type": "display_data"
    },
    {
     "data": {
      "application/vnd.jupyter.widget-view+json": {
       "model_id": "d2dae2a7c24e4b099fc43efde0dc626a",
       "version_major": 2,
       "version_minor": 0
      },
      "text/plain": [
       "Calculating features for each window:   0%|          | 0/42452 [00:00<?, ?it/s]"
      ]
     },
     "metadata": {},
     "output_type": "display_data"
    },
    {
     "data": {
      "application/vnd.jupyter.widget-view+json": {
       "model_id": "e3d78dbf3fcb4c6ebe81f8d61a10804c",
       "version_major": 2,
       "version_minor": 0
      },
      "text/plain": [
       "Calculating features for each window:   0%|          | 0/42052 [00:00<?, ?it/s]"
      ]
     },
     "metadata": {},
     "output_type": "display_data"
    },
    {
     "data": {
      "application/vnd.jupyter.widget-view+json": {
       "model_id": "41161ca2e47c425f9d596bb9fd4ed19f",
       "version_major": 2,
       "version_minor": 0
      },
      "text/plain": [
       "Calculating features for each window:   0%|          | 0/41252 [00:00<?, ?it/s]"
      ]
     },
     "metadata": {},
     "output_type": "display_data"
    },
    {
     "data": {
      "application/vnd.jupyter.widget-view+json": {
       "model_id": "e3148a319d15411c8ba4ea4312073da5",
       "version_major": 2,
       "version_minor": 0
      },
      "text/plain": [
       "Calculating features for each recent value:   0%|          | 0/4 [00:00<?, ?it/s]"
      ]
     },
     "metadata": {},
     "output_type": "display_data"
    },
    {
     "data": {
      "application/vnd.jupyter.widget-view+json": {
       "model_id": "0f5065cc60fe48c892c73fa4d3f25885",
       "version_major": 2,
       "version_minor": 0
      },
      "text/plain": [
       "Calculating features for each window:   0%|          | 0/47668 [00:00<?, ?it/s]"
      ]
     },
     "metadata": {},
     "output_type": "display_data"
    },
    {
     "data": {
      "application/vnd.jupyter.widget-view+json": {
       "model_id": "8876a814a61d4867a38f0302acfd98f3",
       "version_major": 2,
       "version_minor": 0
      },
      "text/plain": [
       "Calculating features for each window:   0%|          | 0/47468 [00:00<?, ?it/s]"
      ]
     },
     "metadata": {},
     "output_type": "display_data"
    },
    {
     "data": {
      "application/vnd.jupyter.widget-view+json": {
       "model_id": "48e55dcb5e2a43098aa0c6b716389b04",
       "version_major": 2,
       "version_minor": 0
      },
      "text/plain": [
       "Calculating features for each window:   0%|          | 0/47068 [00:00<?, ?it/s]"
      ]
     },
     "metadata": {},
     "output_type": "display_data"
    },
    {
     "data": {
      "application/vnd.jupyter.widget-view+json": {
       "model_id": "fb532d361ec54a4489fcee3c571f28f5",
       "version_major": 2,
       "version_minor": 0
      },
      "text/plain": [
       "Calculating features for each window:   0%|          | 0/46268 [00:00<?, ?it/s]"
      ]
     },
     "metadata": {},
     "output_type": "display_data"
    },
    {
     "data": {
      "application/vnd.jupyter.widget-view+json": {
       "model_id": "7eaeb5d7a6bd444684ed7926bc8fd706",
       "version_major": 2,
       "version_minor": 0
      },
      "text/plain": [
       "Calculating features for each recent value:   0%|          | 0/4 [00:00<?, ?it/s]"
      ]
     },
     "metadata": {},
     "output_type": "display_data"
    },
    {
     "data": {
      "application/vnd.jupyter.widget-view+json": {
       "model_id": "a7db20788a1c4c9fae964cf46bcd651c",
       "version_major": 2,
       "version_minor": 0
      },
      "text/plain": [
       "Calculating features for each window:   0%|          | 0/61552 [00:00<?, ?it/s]"
      ]
     },
     "metadata": {},
     "output_type": "display_data"
    },
    {
     "data": {
      "application/vnd.jupyter.widget-view+json": {
       "model_id": "70247a246a0240548ae070bc1305a5b1",
       "version_major": 2,
       "version_minor": 0
      },
      "text/plain": [
       "Calculating features for each window:   0%|          | 0/61352 [00:00<?, ?it/s]"
      ]
     },
     "metadata": {},
     "output_type": "display_data"
    },
    {
     "data": {
      "application/vnd.jupyter.widget-view+json": {
       "model_id": "0ec8c53b81274001a6bc9c565b35bb9f",
       "version_major": 2,
       "version_minor": 0
      },
      "text/plain": [
       "Calculating features for each window:   0%|          | 0/60952 [00:00<?, ?it/s]"
      ]
     },
     "metadata": {},
     "output_type": "display_data"
    },
    {
     "data": {
      "application/vnd.jupyter.widget-view+json": {
       "model_id": "69432894f04f445e9552ec95c15fc10e",
       "version_major": 2,
       "version_minor": 0
      },
      "text/plain": [
       "Calculating features for each window:   0%|          | 0/60152 [00:00<?, ?it/s]"
      ]
     },
     "metadata": {},
     "output_type": "display_data"
    },
    {
     "data": {
      "application/vnd.jupyter.widget-view+json": {
       "model_id": "27c7522464544f409e0c4ca0d4ef8b1b",
       "version_major": 2,
       "version_minor": 0
      },
      "text/plain": [
       "Calculating features for each recent value:   0%|          | 0/4 [00:00<?, ?it/s]"
      ]
     },
     "metadata": {},
     "output_type": "display_data"
    },
    {
     "data": {
      "application/vnd.jupyter.widget-view+json": {
       "model_id": "9d66c46db7814ff8a42d7bd51f38325f",
       "version_major": 2,
       "version_minor": 0
      },
      "text/plain": [
       "Calculating features for each window:   0%|          | 0/53436 [00:00<?, ?it/s]"
      ]
     },
     "metadata": {},
     "output_type": "display_data"
    },
    {
     "data": {
      "application/vnd.jupyter.widget-view+json": {
       "model_id": "7f43d7a0297a4859b6467a00e8f1ebc2",
       "version_major": 2,
       "version_minor": 0
      },
      "text/plain": [
       "Calculating features for each window:   0%|          | 0/53236 [00:00<?, ?it/s]"
      ]
     },
     "metadata": {},
     "output_type": "display_data"
    },
    {
     "data": {
      "application/vnd.jupyter.widget-view+json": {
       "model_id": "f10ac22e2d6a48de96bda56e32646a51",
       "version_major": 2,
       "version_minor": 0
      },
      "text/plain": [
       "Calculating features for each window:   0%|          | 0/52836 [00:00<?, ?it/s]"
      ]
     },
     "metadata": {},
     "output_type": "display_data"
    },
    {
     "data": {
      "application/vnd.jupyter.widget-view+json": {
       "model_id": "9cdcfac4920c465c8aad110cd173e046",
       "version_major": 2,
       "version_minor": 0
      },
      "text/plain": [
       "Calculating features for each window:   0%|          | 0/52036 [00:00<?, ?it/s]"
      ]
     },
     "metadata": {},
     "output_type": "display_data"
    },
    {
     "data": {
      "application/vnd.jupyter.widget-view+json": {
       "model_id": "7389800b015243049dd1c7cd86bc1dd8",
       "version_major": 2,
       "version_minor": 0
      },
      "text/plain": [
       "Calculating features for each recent value:   0%|          | 0/4 [00:00<?, ?it/s]"
      ]
     },
     "metadata": {},
     "output_type": "display_data"
    },
    {
     "data": {
      "application/vnd.jupyter.widget-view+json": {
       "model_id": "adb2be6bddd843589ce190e97ff899e2",
       "version_major": 2,
       "version_minor": 0
      },
      "text/plain": [
       "Calculating features for each window:   0%|          | 0/36576 [00:00<?, ?it/s]"
      ]
     },
     "metadata": {},
     "output_type": "display_data"
    },
    {
     "data": {
      "application/vnd.jupyter.widget-view+json": {
       "model_id": "8750e3b2a1a64e668b221fd6e3b634a1",
       "version_major": 2,
       "version_minor": 0
      },
      "text/plain": [
       "Calculating features for each window:   0%|          | 0/36376 [00:00<?, ?it/s]"
      ]
     },
     "metadata": {},
     "output_type": "display_data"
    },
    {
     "data": {
      "application/vnd.jupyter.widget-view+json": {
       "model_id": "908d93ed635048e79614f7d209072287",
       "version_major": 2,
       "version_minor": 0
      },
      "text/plain": [
       "Calculating features for each window:   0%|          | 0/35976 [00:00<?, ?it/s]"
      ]
     },
     "metadata": {},
     "output_type": "display_data"
    },
    {
     "data": {
      "application/vnd.jupyter.widget-view+json": {
       "model_id": "e740400c75aa4b71a19c7c38565b2cbd",
       "version_major": 2,
       "version_minor": 0
      },
      "text/plain": [
       "Calculating features for each window:   0%|          | 0/35176 [00:00<?, ?it/s]"
      ]
     },
     "metadata": {},
     "output_type": "display_data"
    },
    {
     "data": {
      "application/vnd.jupyter.widget-view+json": {
       "model_id": "b5c3b41e00cd4d529210527a181c3364",
       "version_major": 2,
       "version_minor": 0
      },
      "text/plain": [
       "Calculating features for each recent value:   0%|          | 0/4 [00:00<?, ?it/s]"
      ]
     },
     "metadata": {},
     "output_type": "display_data"
    },
    {
     "data": {
      "application/vnd.jupyter.widget-view+json": {
       "model_id": "93d8aa5704e649c795a27a60ea7391b5",
       "version_major": 2,
       "version_minor": 0
      },
      "text/plain": [
       "Calculating features for each window:   0%|          | 0/49672 [00:00<?, ?it/s]"
      ]
     },
     "metadata": {},
     "output_type": "display_data"
    },
    {
     "data": {
      "application/vnd.jupyter.widget-view+json": {
       "model_id": "aae1e7fd3bd3417797071f25955a9dbf",
       "version_major": 2,
       "version_minor": 0
      },
      "text/plain": [
       "Calculating features for each window:   0%|          | 0/49472 [00:00<?, ?it/s]"
      ]
     },
     "metadata": {},
     "output_type": "display_data"
    },
    {
     "data": {
      "application/vnd.jupyter.widget-view+json": {
       "model_id": "d88a184bf3c74143bbbf04494590a818",
       "version_major": 2,
       "version_minor": 0
      },
      "text/plain": [
       "Calculating features for each window:   0%|          | 0/49072 [00:00<?, ?it/s]"
      ]
     },
     "metadata": {},
     "output_type": "display_data"
    },
    {
     "data": {
      "application/vnd.jupyter.widget-view+json": {
       "model_id": "a5691d2a05814744b949ed4f2c527f6f",
       "version_major": 2,
       "version_minor": 0
      },
      "text/plain": [
       "Calculating features for each window:   0%|          | 0/48272 [00:00<?, ?it/s]"
      ]
     },
     "metadata": {},
     "output_type": "display_data"
    },
    {
     "data": {
      "application/vnd.jupyter.widget-view+json": {
       "model_id": "7f53561323624d22b9f6ff6fa419a728",
       "version_major": 2,
       "version_minor": 0
      },
      "text/plain": [
       "Calculating features for each recent value:   0%|          | 0/4 [00:00<?, ?it/s]"
      ]
     },
     "metadata": {},
     "output_type": "display_data"
    },
    {
     "data": {
      "application/vnd.jupyter.widget-view+json": {
       "model_id": "c7ff0a51ae754973a6388538062a02b5",
       "version_major": 2,
       "version_minor": 0
      },
      "text/plain": [
       "Calculating features for each window:   0%|          | 0/45324 [00:00<?, ?it/s]"
      ]
     },
     "metadata": {},
     "output_type": "display_data"
    },
    {
     "data": {
      "application/vnd.jupyter.widget-view+json": {
       "model_id": "fba62fe5ed8348879d9766a54391e985",
       "version_major": 2,
       "version_minor": 0
      },
      "text/plain": [
       "Calculating features for each window:   0%|          | 0/45124 [00:00<?, ?it/s]"
      ]
     },
     "metadata": {},
     "output_type": "display_data"
    },
    {
     "data": {
      "application/vnd.jupyter.widget-view+json": {
       "model_id": "737a49f079b04b9587623aaf3c0da482",
       "version_major": 2,
       "version_minor": 0
      },
      "text/plain": [
       "Calculating features for each window:   0%|          | 0/44724 [00:00<?, ?it/s]"
      ]
     },
     "metadata": {},
     "output_type": "display_data"
    },
    {
     "data": {
      "application/vnd.jupyter.widget-view+json": {
       "model_id": "e897aa406daf46eaa36b6d809ea25b2e",
       "version_major": 2,
       "version_minor": 0
      },
      "text/plain": [
       "Calculating features for each window:   0%|          | 0/43924 [00:00<?, ?it/s]"
      ]
     },
     "metadata": {},
     "output_type": "display_data"
    },
    {
     "data": {
      "application/vnd.jupyter.widget-view+json": {
       "model_id": "bf354223c68c4147b7504e977fd84999",
       "version_major": 2,
       "version_minor": 0
      },
      "text/plain": [
       "Calculating features for each recent value:   0%|          | 0/4 [00:00<?, ?it/s]"
      ]
     },
     "metadata": {},
     "output_type": "display_data"
    },
    {
     "data": {
      "application/vnd.jupyter.widget-view+json": {
       "model_id": "e638a8e6a6034a48bd404ce36713e30d",
       "version_major": 2,
       "version_minor": 0
      },
      "text/plain": [
       "Calculating features for each window:   0%|          | 0/54940 [00:00<?, ?it/s]"
      ]
     },
     "metadata": {},
     "output_type": "display_data"
    },
    {
     "data": {
      "application/vnd.jupyter.widget-view+json": {
       "model_id": "48f41ab4d8d0417a8a46e8e06743e3eb",
       "version_major": 2,
       "version_minor": 0
      },
      "text/plain": [
       "Calculating features for each window:   0%|          | 0/54740 [00:00<?, ?it/s]"
      ]
     },
     "metadata": {},
     "output_type": "display_data"
    },
    {
     "data": {
      "application/vnd.jupyter.widget-view+json": {
       "model_id": "a2e52ffb94634306b56eac20d5d37368",
       "version_major": 2,
       "version_minor": 0
      },
      "text/plain": [
       "Calculating features for each window:   0%|          | 0/54340 [00:00<?, ?it/s]"
      ]
     },
     "metadata": {},
     "output_type": "display_data"
    },
    {
     "data": {
      "application/vnd.jupyter.widget-view+json": {
       "model_id": "7c60aad3253b48308602939e4ae6c200",
       "version_major": 2,
       "version_minor": 0
      },
      "text/plain": [
       "Calculating features for each window:   0%|          | 0/53540 [00:00<?, ?it/s]"
      ]
     },
     "metadata": {},
     "output_type": "display_data"
    },
    {
     "data": {
      "application/vnd.jupyter.widget-view+json": {
       "model_id": "ba58c28df5ce4096a8c9f9bd552c58f0",
       "version_major": 2,
       "version_minor": 0
      },
      "text/plain": [
       "Calculating features for each recent value:   0%|          | 0/4 [00:00<?, ?it/s]"
      ]
     },
     "metadata": {},
     "output_type": "display_data"
    },
    {
     "data": {
      "application/vnd.jupyter.widget-view+json": {
       "model_id": "0b52bd8f0e6f4ad397125c6a6d76465a",
       "version_major": 2,
       "version_minor": 0
      },
      "text/plain": [
       "Calculating features for each window:   0%|          | 0/34628 [00:00<?, ?it/s]"
      ]
     },
     "metadata": {},
     "output_type": "display_data"
    },
    {
     "data": {
      "application/vnd.jupyter.widget-view+json": {
       "model_id": "ba573df293b34a16bb8a1cf54d7174d5",
       "version_major": 2,
       "version_minor": 0
      },
      "text/plain": [
       "Calculating features for each window:   0%|          | 0/34428 [00:00<?, ?it/s]"
      ]
     },
     "metadata": {},
     "output_type": "display_data"
    },
    {
     "data": {
      "application/vnd.jupyter.widget-view+json": {
       "model_id": "36d3123864dd4b3fbb5198aa71a63e04",
       "version_major": 2,
       "version_minor": 0
      },
      "text/plain": [
       "Calculating features for each window:   0%|          | 0/34028 [00:00<?, ?it/s]"
      ]
     },
     "metadata": {},
     "output_type": "display_data"
    },
    {
     "data": {
      "application/vnd.jupyter.widget-view+json": {
       "model_id": "beabdeba03f9475bb5374aaa53c2272c",
       "version_major": 2,
       "version_minor": 0
      },
      "text/plain": [
       "Calculating features for each window:   0%|          | 0/33228 [00:00<?, ?it/s]"
      ]
     },
     "metadata": {},
     "output_type": "display_data"
    },
    {
     "data": {
      "application/vnd.jupyter.widget-view+json": {
       "model_id": "63a2a27db7eb4c8cb6016366a1081685",
       "version_major": 2,
       "version_minor": 0
      },
      "text/plain": [
       "Calculating features for each recent value:   0%|          | 0/4 [00:00<?, ?it/s]"
      ]
     },
     "metadata": {},
     "output_type": "display_data"
    },
    {
     "data": {
      "application/vnd.jupyter.widget-view+json": {
       "model_id": "4b439e41a22e4e1f9637e77551ef5aa1",
       "version_major": 2,
       "version_minor": 0
      },
      "text/plain": [
       "Calculating features for each window:   0%|          | 0/54984 [00:00<?, ?it/s]"
      ]
     },
     "metadata": {},
     "output_type": "display_data"
    },
    {
     "data": {
      "application/vnd.jupyter.widget-view+json": {
       "model_id": "9f13dff4dcdd4a998e34cbecc01a6b47",
       "version_major": 2,
       "version_minor": 0
      },
      "text/plain": [
       "Calculating features for each window:   0%|          | 0/54784 [00:00<?, ?it/s]"
      ]
     },
     "metadata": {},
     "output_type": "display_data"
    },
    {
     "data": {
      "application/vnd.jupyter.widget-view+json": {
       "model_id": "7ef904a92110475fb40064f44d39f6d6",
       "version_major": 2,
       "version_minor": 0
      },
      "text/plain": [
       "Calculating features for each window:   0%|          | 0/54384 [00:00<?, ?it/s]"
      ]
     },
     "metadata": {},
     "output_type": "display_data"
    },
    {
     "data": {
      "application/vnd.jupyter.widget-view+json": {
       "model_id": "f92e9828fb0848109b8e8cf640c78179",
       "version_major": 2,
       "version_minor": 0
      },
      "text/plain": [
       "Calculating features for each window:   0%|          | 0/53584 [00:00<?, ?it/s]"
      ]
     },
     "metadata": {},
     "output_type": "display_data"
    },
    {
     "data": {
      "application/vnd.jupyter.widget-view+json": {
       "model_id": "96fa0c6a51ba441c95cca59c9525a3ea",
       "version_major": 2,
       "version_minor": 0
      },
      "text/plain": [
       "Calculating features for each recent value:   0%|          | 0/4 [00:00<?, ?it/s]"
      ]
     },
     "metadata": {},
     "output_type": "display_data"
    },
    {
     "data": {
      "application/vnd.jupyter.widget-view+json": {
       "model_id": "cd7d5e7a6d6145c0bafd526afb7295d2",
       "version_major": 2,
       "version_minor": 0
      },
      "text/plain": [
       "Calculating features for each window:   0%|          | 0/39076 [00:00<?, ?it/s]"
      ]
     },
     "metadata": {},
     "output_type": "display_data"
    },
    {
     "data": {
      "application/vnd.jupyter.widget-view+json": {
       "model_id": "ca261d2421b84c04b507450efdc5d191",
       "version_major": 2,
       "version_minor": 0
      },
      "text/plain": [
       "Calculating features for each window:   0%|          | 0/38876 [00:00<?, ?it/s]"
      ]
     },
     "metadata": {},
     "output_type": "display_data"
    },
    {
     "data": {
      "application/vnd.jupyter.widget-view+json": {
       "model_id": "b77ccaacc9a242c1a5d2a7caa4292554",
       "version_major": 2,
       "version_minor": 0
      },
      "text/plain": [
       "Calculating features for each window:   0%|          | 0/38476 [00:00<?, ?it/s]"
      ]
     },
     "metadata": {},
     "output_type": "display_data"
    },
    {
     "data": {
      "application/vnd.jupyter.widget-view+json": {
       "model_id": "ee71025929e64740b03befc970a735af",
       "version_major": 2,
       "version_minor": 0
      },
      "text/plain": [
       "Calculating features for each window:   0%|          | 0/37676 [00:00<?, ?it/s]"
      ]
     },
     "metadata": {},
     "output_type": "display_data"
    },
    {
     "data": {
      "application/vnd.jupyter.widget-view+json": {
       "model_id": "55e48bdaac194694aa66ad7153d82616",
       "version_major": 2,
       "version_minor": 0
      },
      "text/plain": [
       "Calculating features for each recent value:   0%|          | 0/4 [00:00<?, ?it/s]"
      ]
     },
     "metadata": {},
     "output_type": "display_data"
    },
    {
     "data": {
      "application/vnd.jupyter.widget-view+json": {
       "model_id": "fef8eddf855b46fea8e48abfd025d608",
       "version_major": 2,
       "version_minor": 0
      },
      "text/plain": [
       "Calculating features for each window:   0%|          | 0/60056 [00:00<?, ?it/s]"
      ]
     },
     "metadata": {},
     "output_type": "display_data"
    },
    {
     "data": {
      "application/vnd.jupyter.widget-view+json": {
       "model_id": "96a6443f72bf4b92a0e32eab84a9c37a",
       "version_major": 2,
       "version_minor": 0
      },
      "text/plain": [
       "Calculating features for each window:   0%|          | 0/59856 [00:00<?, ?it/s]"
      ]
     },
     "metadata": {},
     "output_type": "display_data"
    },
    {
     "data": {
      "application/vnd.jupyter.widget-view+json": {
       "model_id": "6fcd7a66369d4d94abe925542048d6e3",
       "version_major": 2,
       "version_minor": 0
      },
      "text/plain": [
       "Calculating features for each window:   0%|          | 0/59456 [00:00<?, ?it/s]"
      ]
     },
     "metadata": {},
     "output_type": "display_data"
    },
    {
     "data": {
      "application/vnd.jupyter.widget-view+json": {
       "model_id": "04eba96af53d4d8180f852c224a742be",
       "version_major": 2,
       "version_minor": 0
      },
      "text/plain": [
       "Calculating features for each window:   0%|          | 0/58656 [00:00<?, ?it/s]"
      ]
     },
     "metadata": {},
     "output_type": "display_data"
    },
    {
     "data": {
      "application/vnd.jupyter.widget-view+json": {
       "model_id": "d6193a67145b4bb3b638068f274ea529",
       "version_major": 2,
       "version_minor": 0
      },
      "text/plain": [
       "Calculating features for each recent value:   0%|          | 0/4 [00:00<?, ?it/s]"
      ]
     },
     "metadata": {},
     "output_type": "display_data"
    },
    {
     "data": {
      "application/vnd.jupyter.widget-view+json": {
       "model_id": "299bcea354a944f28b77a9af1870d43a",
       "version_major": 2,
       "version_minor": 0
      },
      "text/plain": [
       "Calculating features for each window:   0%|          | 0/56280 [00:00<?, ?it/s]"
      ]
     },
     "metadata": {},
     "output_type": "display_data"
    },
    {
     "data": {
      "application/vnd.jupyter.widget-view+json": {
       "model_id": "20e999c07b6a474a8b717d1773d582de",
       "version_major": 2,
       "version_minor": 0
      },
      "text/plain": [
       "Calculating features for each window:   0%|          | 0/56080 [00:00<?, ?it/s]"
      ]
     },
     "metadata": {},
     "output_type": "display_data"
    },
    {
     "data": {
      "application/vnd.jupyter.widget-view+json": {
       "model_id": "546240559d754a1bb0f2576981f71052",
       "version_major": 2,
       "version_minor": 0
      },
      "text/plain": [
       "Calculating features for each window:   0%|          | 0/55680 [00:00<?, ?it/s]"
      ]
     },
     "metadata": {},
     "output_type": "display_data"
    },
    {
     "data": {
      "application/vnd.jupyter.widget-view+json": {
       "model_id": "80556131b314416891378392e12fe7bc",
       "version_major": 2,
       "version_minor": 0
      },
      "text/plain": [
       "Calculating features for each window:   0%|          | 0/54880 [00:00<?, ?it/s]"
      ]
     },
     "metadata": {},
     "output_type": "display_data"
    },
    {
     "data": {
      "application/vnd.jupyter.widget-view+json": {
       "model_id": "4619a1bfd8a14c75bc32579828ae10ba",
       "version_major": 2,
       "version_minor": 0
      },
      "text/plain": [
       "Calculating features for each recent value:   0%|          | 0/4 [00:00<?, ?it/s]"
      ]
     },
     "metadata": {},
     "output_type": "display_data"
    },
    {
     "data": {
      "application/vnd.jupyter.widget-view+json": {
       "model_id": "0eb884c32bec4d2080fcc34f55e54085",
       "version_major": 2,
       "version_minor": 0
      },
      "text/plain": [
       "Calculating features for each window:   0%|          | 0/36284 [00:00<?, ?it/s]"
      ]
     },
     "metadata": {},
     "output_type": "display_data"
    },
    {
     "data": {
      "application/vnd.jupyter.widget-view+json": {
       "model_id": "95469d2660674e059080cfe63ac726c5",
       "version_major": 2,
       "version_minor": 0
      },
      "text/plain": [
       "Calculating features for each window:   0%|          | 0/36084 [00:00<?, ?it/s]"
      ]
     },
     "metadata": {},
     "output_type": "display_data"
    },
    {
     "data": {
      "application/vnd.jupyter.widget-view+json": {
       "model_id": "6e3023c12f6448e88082c876fd75bd41",
       "version_major": 2,
       "version_minor": 0
      },
      "text/plain": [
       "Calculating features for each window:   0%|          | 0/35684 [00:00<?, ?it/s]"
      ]
     },
     "metadata": {},
     "output_type": "display_data"
    },
    {
     "data": {
      "application/vnd.jupyter.widget-view+json": {
       "model_id": "2fa85d7aa0744414bb87376832dba2e9",
       "version_major": 2,
       "version_minor": 0
      },
      "text/plain": [
       "Calculating features for each window:   0%|          | 0/34884 [00:00<?, ?it/s]"
      ]
     },
     "metadata": {},
     "output_type": "display_data"
    },
    {
     "data": {
      "application/vnd.jupyter.widget-view+json": {
       "model_id": "668e46687bb5477c951894172e0f178c",
       "version_major": 2,
       "version_minor": 0
      },
      "text/plain": [
       "Calculating features for each recent value:   0%|          | 0/4 [00:00<?, ?it/s]"
      ]
     },
     "metadata": {},
     "output_type": "display_data"
    },
    {
     "data": {
      "application/vnd.jupyter.widget-view+json": {
       "model_id": "750c0538b9ab4e7ca2a20821264db936",
       "version_major": 2,
       "version_minor": 0
      },
      "text/plain": [
       "Calculating features for each window:   0%|          | 0/43144 [00:00<?, ?it/s]"
      ]
     },
     "metadata": {},
     "output_type": "display_data"
    },
    {
     "data": {
      "application/vnd.jupyter.widget-view+json": {
       "model_id": "1346dca85b5a4ec88c4f3870cbe243b1",
       "version_major": 2,
       "version_minor": 0
      },
      "text/plain": [
       "Calculating features for each window:   0%|          | 0/42944 [00:00<?, ?it/s]"
      ]
     },
     "metadata": {},
     "output_type": "display_data"
    },
    {
     "data": {
      "application/vnd.jupyter.widget-view+json": {
       "model_id": "b7bb24d548d343c09557ff1b4ef1d42c",
       "version_major": 2,
       "version_minor": 0
      },
      "text/plain": [
       "Calculating features for each window:   0%|          | 0/42544 [00:00<?, ?it/s]"
      ]
     },
     "metadata": {},
     "output_type": "display_data"
    },
    {
     "data": {
      "application/vnd.jupyter.widget-view+json": {
       "model_id": "f7c79c3d2db24bc5a79ccee5606adcd2",
       "version_major": 2,
       "version_minor": 0
      },
      "text/plain": [
       "Calculating features for each window:   0%|          | 0/41744 [00:00<?, ?it/s]"
      ]
     },
     "metadata": {},
     "output_type": "display_data"
    },
    {
     "data": {
      "application/vnd.jupyter.widget-view+json": {
       "model_id": "f4b174248a5d4135809b2dc8b297f51d",
       "version_major": 2,
       "version_minor": 0
      },
      "text/plain": [
       "Calculating features for each recent value:   0%|          | 0/4 [00:00<?, ?it/s]"
      ]
     },
     "metadata": {},
     "output_type": "display_data"
    },
    {
     "data": {
      "application/vnd.jupyter.widget-view+json": {
       "model_id": "2438ac771115412cb9607625e07dea32",
       "version_major": 2,
       "version_minor": 0
      },
      "text/plain": [
       "Calculating features for each window:   0%|          | 0/59084 [00:00<?, ?it/s]"
      ]
     },
     "metadata": {},
     "output_type": "display_data"
    },
    {
     "data": {
      "application/vnd.jupyter.widget-view+json": {
       "model_id": "0f669652d3f84e088effc43f6439ab4a",
       "version_major": 2,
       "version_minor": 0
      },
      "text/plain": [
       "Calculating features for each window:   0%|          | 0/58884 [00:00<?, ?it/s]"
      ]
     },
     "metadata": {},
     "output_type": "display_data"
    },
    {
     "data": {
      "application/vnd.jupyter.widget-view+json": {
       "model_id": "58ada4a61d784f9b89bb7525d0615236",
       "version_major": 2,
       "version_minor": 0
      },
      "text/plain": [
       "Calculating features for each window:   0%|          | 0/58484 [00:00<?, ?it/s]"
      ]
     },
     "metadata": {},
     "output_type": "display_data"
    },
    {
     "data": {
      "application/vnd.jupyter.widget-view+json": {
       "model_id": "6df1791569d74d4fb911d435c463c6c9",
       "version_major": 2,
       "version_minor": 0
      },
      "text/plain": [
       "Calculating features for each window:   0%|          | 0/57684 [00:00<?, ?it/s]"
      ]
     },
     "metadata": {},
     "output_type": "display_data"
    },
    {
     "data": {
      "application/vnd.jupyter.widget-view+json": {
       "model_id": "2212b058513c4209ad46e75a13fc73f6",
       "version_major": 2,
       "version_minor": 0
      },
      "text/plain": [
       "Calculating features for each recent value:   0%|          | 0/4 [00:00<?, ?it/s]"
      ]
     },
     "metadata": {},
     "output_type": "display_data"
    },
    {
     "data": {
      "application/vnd.jupyter.widget-view+json": {
       "model_id": "63fc443d9b3c48e8b18a370835b97476",
       "version_major": 2,
       "version_minor": 0
      },
      "text/plain": [
       "Calculating features for each window:   0%|          | 0/45308 [00:00<?, ?it/s]"
      ]
     },
     "metadata": {},
     "output_type": "display_data"
    },
    {
     "data": {
      "application/vnd.jupyter.widget-view+json": {
       "model_id": "86a82215015441dba3697e6e14190026",
       "version_major": 2,
       "version_minor": 0
      },
      "text/plain": [
       "Calculating features for each window:   0%|          | 0/45108 [00:00<?, ?it/s]"
      ]
     },
     "metadata": {},
     "output_type": "display_data"
    },
    {
     "data": {
      "application/vnd.jupyter.widget-view+json": {
       "model_id": "ddb6f39da0304e369cc0c8adf8cae413",
       "version_major": 2,
       "version_minor": 0
      },
      "text/plain": [
       "Calculating features for each window:   0%|          | 0/44708 [00:00<?, ?it/s]"
      ]
     },
     "metadata": {},
     "output_type": "display_data"
    },
    {
     "data": {
      "application/vnd.jupyter.widget-view+json": {
       "model_id": "32dd29a82644431faf29783d5fd9dbf1",
       "version_major": 2,
       "version_minor": 0
      },
      "text/plain": [
       "Calculating features for each window:   0%|          | 0/43908 [00:00<?, ?it/s]"
      ]
     },
     "metadata": {},
     "output_type": "display_data"
    },
    {
     "data": {
      "application/vnd.jupyter.widget-view+json": {
       "model_id": "d3063f17e6e342ae864da2a92e9ac30e",
       "version_major": 2,
       "version_minor": 0
      },
      "text/plain": [
       "Calculating features for each recent value:   0%|          | 0/4 [00:00<?, ?it/s]"
      ]
     },
     "metadata": {},
     "output_type": "display_data"
    },
    {
     "data": {
      "application/vnd.jupyter.widget-view+json": {
       "model_id": "62a3f77318cc49748cbc0842c893edfa",
       "version_major": 2,
       "version_minor": 0
      },
      "text/plain": [
       "Calculating features for each window:   0%|          | 0/58648 [00:00<?, ?it/s]"
      ]
     },
     "metadata": {},
     "output_type": "display_data"
    },
    {
     "data": {
      "application/vnd.jupyter.widget-view+json": {
       "model_id": "5ee6dbf0e41442389f8a62c716bd8c76",
       "version_major": 2,
       "version_minor": 0
      },
      "text/plain": [
       "Calculating features for each window:   0%|          | 0/58448 [00:00<?, ?it/s]"
      ]
     },
     "metadata": {},
     "output_type": "display_data"
    },
    {
     "data": {
      "application/vnd.jupyter.widget-view+json": {
       "model_id": "a744d57530a742ea923e9ffc91dd6e11",
       "version_major": 2,
       "version_minor": 0
      },
      "text/plain": [
       "Calculating features for each window:   0%|          | 0/58048 [00:00<?, ?it/s]"
      ]
     },
     "metadata": {},
     "output_type": "display_data"
    },
    {
     "data": {
      "application/vnd.jupyter.widget-view+json": {
       "model_id": "e124ce7229b44a0c97b6f5ad28dcec4e",
       "version_major": 2,
       "version_minor": 0
      },
      "text/plain": [
       "Calculating features for each window:   0%|          | 0/57248 [00:00<?, ?it/s]"
      ]
     },
     "metadata": {},
     "output_type": "display_data"
    },
    {
     "data": {
      "application/vnd.jupyter.widget-view+json": {
       "model_id": "e66581bfae414f878c0eb23781ae8b9a",
       "version_major": 2,
       "version_minor": 0
      },
      "text/plain": [
       "Calculating features for each recent value:   0%|          | 0/4 [00:00<?, ?it/s]"
      ]
     },
     "metadata": {},
     "output_type": "display_data"
    },
    {
     "data": {
      "application/vnd.jupyter.widget-view+json": {
       "model_id": "33077c554da24c2ebc0ed5dc7e82124a",
       "version_major": 2,
       "version_minor": 0
      },
      "text/plain": [
       "Calculating features for each window:   0%|          | 0/39640 [00:00<?, ?it/s]"
      ]
     },
     "metadata": {},
     "output_type": "display_data"
    },
    {
     "data": {
      "application/vnd.jupyter.widget-view+json": {
       "model_id": "586a2c059f084aed8d849a666ff4297c",
       "version_major": 2,
       "version_minor": 0
      },
      "text/plain": [
       "Calculating features for each window:   0%|          | 0/39440 [00:00<?, ?it/s]"
      ]
     },
     "metadata": {},
     "output_type": "display_data"
    },
    {
     "data": {
      "application/vnd.jupyter.widget-view+json": {
       "model_id": "7cb56893ab444a7f8d94d7e05b933bc2",
       "version_major": 2,
       "version_minor": 0
      },
      "text/plain": [
       "Calculating features for each window:   0%|          | 0/39040 [00:00<?, ?it/s]"
      ]
     },
     "metadata": {},
     "output_type": "display_data"
    },
    {
     "data": {
      "application/vnd.jupyter.widget-view+json": {
       "model_id": "055bda9c732641a68dc056f8b38beefe",
       "version_major": 2,
       "version_minor": 0
      },
      "text/plain": [
       "Calculating features for each window:   0%|          | 0/38240 [00:00<?, ?it/s]"
      ]
     },
     "metadata": {},
     "output_type": "display_data"
    },
    {
     "data": {
      "application/vnd.jupyter.widget-view+json": {
       "model_id": "f3ad08e9366747ffaea476de82a07ba7",
       "version_major": 2,
       "version_minor": 0
      },
      "text/plain": [
       "Calculating features for each recent value:   0%|          | 0/4 [00:00<?, ?it/s]"
      ]
     },
     "metadata": {},
     "output_type": "display_data"
    },
    {
     "data": {
      "application/vnd.jupyter.widget-view+json": {
       "model_id": "bfdb48a42c544abaa2229ecc420ed94d",
       "version_major": 2,
       "version_minor": 0
      },
      "text/plain": [
       "Calculating features for each window:   0%|          | 0/59344 [00:00<?, ?it/s]"
      ]
     },
     "metadata": {},
     "output_type": "display_data"
    },
    {
     "data": {
      "application/vnd.jupyter.widget-view+json": {
       "model_id": "249a9403691e470a804bc0cf532c1fda",
       "version_major": 2,
       "version_minor": 0
      },
      "text/plain": [
       "Calculating features for each window:   0%|          | 0/59144 [00:00<?, ?it/s]"
      ]
     },
     "metadata": {},
     "output_type": "display_data"
    },
    {
     "data": {
      "application/vnd.jupyter.widget-view+json": {
       "model_id": "b029dd483d4d447e8f5b5c34e4ce5897",
       "version_major": 2,
       "version_minor": 0
      },
      "text/plain": [
       "Calculating features for each window:   0%|          | 0/58744 [00:00<?, ?it/s]"
      ]
     },
     "metadata": {},
     "output_type": "display_data"
    },
    {
     "data": {
      "application/vnd.jupyter.widget-view+json": {
       "model_id": "9e05a74a769d481694f37cbf898e1701",
       "version_major": 2,
       "version_minor": 0
      },
      "text/plain": [
       "Calculating features for each window:   0%|          | 0/57944 [00:00<?, ?it/s]"
      ]
     },
     "metadata": {},
     "output_type": "display_data"
    }
   ],
   "source": [
    "subsetpath = PurePath(Path(os.getcwd()).parents[0], 'mit-bih-time-subsets-stepping/')\n",
    "featurespath = PurePath(Path(os.getcwd()).parents[0], 'mit-bih-time-features-stepping/')\n",
    "if not os.path.exists(featurespath):\n",
    "    os.mkdir(featurespath)\n",
    "\n",
    "recent_steps = [50, 100, 200, 400]\n",
    "\n",
    "for record in tqdm(rlist): # calculate the features for all of the subjects\n",
    "    subset_list = pd.read_parquet(subsetpath / (record+'_subset_list.parquet')) # read the subset list for that subject\n",
    "\n",
    "    all_intervals = pd.read_parquet(subsetpath / (record+'-all.parquet'))\n",
    "    \n",
    "    filename = Path(\"joblib_memmap\")\n",
    "    if not filename.exists():\n",
    "        filename.mkdir()\n",
    "    dump(all_intervals.drop([\"rhythmLabel\", \"mappedLabel\"], axis=1).to_numpy(), filename / \"all_intervals.memmap\")\n",
    "    all_memmap = load(filename / \"all_intervals.memmap\", mmap_mode=\"r\")\n",
    "\n",
    "    for recent in tqdm(recent_steps, desc=\"Calculating features for each recent value\"): # for each value of N\n",
    "        features = subset_features(all_memmap, N=recent).assign(\n",
    "            subjectID=record,\n",
    "            rhythmLabel=all_intervals[\"rhythmLabel\"],\n",
    "            mappedLabel=all_intervals[\"mappedLabel\"]\n",
    "        )\n",
    "        recentpath = featurespath / Path(str(recent))\n",
    "        if not os.path.exists(recentpath):\n",
    "            os.mkdir(recentpath)\n",
    "        features.to_parquet(recentpath / (record+\".parquet\")) # and then write them to disk"
   ]
  }
 ],
 "metadata": {
  "kernelspec": {
   "display_name": "afib",
   "language": "python",
   "name": "python3"
  },
  "language_info": {
   "codemirror_mode": {
    "name": "ipython",
    "version": 3
   },
   "file_extension": ".py",
   "mimetype": "text/x-python",
   "name": "python",
   "nbconvert_exporter": "python",
   "pygments_lexer": "ipython3",
   "version": "3.10.12"
  }
 },
 "nbformat": 4,
 "nbformat_minor": 4
}
