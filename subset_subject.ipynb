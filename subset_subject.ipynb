{
 "cells": [
  {
   "cell_type": "code",
   "execution_count": 1,
   "metadata": {},
   "outputs": [],
   "source": [
    "import numpy as np\n",
    "from matplotlib import pyplot as plt\n",
    "from matplotlib import patches as mpatches\n",
    "from sklearn import preprocessing\n",
    "import wfdb\n",
    "import copy as cp\n",
    "import scipy.signal as signal\n",
    "from scipy import stats\n",
    "from sklearn import preprocessing\n",
    "from tqdm import tqdm\n",
    "import os\n",
    "import re\n",
    "import pandas as pd\n",
    "import pickle\n",
    "import csv"
   ]
  },
  {
   "cell_type": "code",
   "execution_count": 2,
   "metadata": {},
   "outputs": [],
   "source": [
    "rlist = []\n",
    "records = os.path.normpath('mit-bih-dataframes/subject_list.csv')\n",
    "with open(records) as rfile:\n",
    "    recordreader = csv.reader(rfile, delimiter=' ', quotechar='|')\n",
    "    for row in recordreader:\n",
    "        rlist.append(row[0])"
   ]
  },
  {
   "cell_type": "code",
   "execution_count": 3,
   "metadata": {},
   "outputs": [
    {
     "name": "stderr",
     "output_type": "stream",
     "text": [
      "100%|███████████████████████████████████████████| 23/23 [00:01<00:00, 22.18it/s]\n"
     ]
    },
    {
     "data": {
      "text/html": [
       "<div>\n",
       "<style scoped>\n",
       "    .dataframe tbody tr th:only-of-type {\n",
       "        vertical-align: middle;\n",
       "    }\n",
       "\n",
       "    .dataframe tbody tr th {\n",
       "        vertical-align: top;\n",
       "    }\n",
       "\n",
       "    .dataframe thead th {\n",
       "        text-align: right;\n",
       "    }\n",
       "</style>\n",
       "<table border=\"1\" class=\"dataframe\">\n",
       "  <thead>\n",
       "    <tr style=\"text-align: right;\">\n",
       "      <th></th>\n",
       "      <th>rr_int</th>\n",
       "      <th>rr_int_seconds</th>\n",
       "      <th>rhythms</th>\n",
       "      <th>rmean</th>\n",
       "      <th>rmean_seconds</th>\n",
       "      <th>drmean</th>\n",
       "    </tr>\n",
       "  </thead>\n",
       "  <tbody>\n",
       "    <tr>\n",
       "      <th>59470</th>\n",
       "      <td>173</td>\n",
       "      <td>0.692</td>\n",
       "      <td>A</td>\n",
       "      <td>99.326854</td>\n",
       "      <td>0.397307</td>\n",
       "      <td>24.557715</td>\n",
       "    </tr>\n",
       "    <tr>\n",
       "      <th>59471</th>\n",
       "      <td>157</td>\n",
       "      <td>0.628</td>\n",
       "      <td>A</td>\n",
       "      <td>113.745140</td>\n",
       "      <td>0.454981</td>\n",
       "      <td>14.418287</td>\n",
       "    </tr>\n",
       "    <tr>\n",
       "      <th>59472</th>\n",
       "      <td>68</td>\n",
       "      <td>0.272</td>\n",
       "      <td>A</td>\n",
       "      <td>102.308855</td>\n",
       "      <td>0.409235</td>\n",
       "      <td>-11.436285</td>\n",
       "    </tr>\n",
       "    <tr>\n",
       "      <th>59473</th>\n",
       "      <td>69</td>\n",
       "      <td>0.276</td>\n",
       "      <td>A</td>\n",
       "      <td>93.981641</td>\n",
       "      <td>0.375927</td>\n",
       "      <td>-8.327214</td>\n",
       "    </tr>\n",
       "    <tr>\n",
       "      <th>59474</th>\n",
       "      <td>53</td>\n",
       "      <td>0.212</td>\n",
       "      <td>A</td>\n",
       "      <td>83.736231</td>\n",
       "      <td>0.334945</td>\n",
       "      <td>-10.245410</td>\n",
       "    </tr>\n",
       "  </tbody>\n",
       "</table>\n",
       "</div>"
      ],
      "text/plain": [
       "       rr_int  rr_int_seconds rhythms       rmean  rmean_seconds     drmean\n",
       "59470     173           0.692       A   99.326854       0.397307  24.557715\n",
       "59471     157           0.628       A  113.745140       0.454981  14.418287\n",
       "59472      68           0.272       A  102.308855       0.409235 -11.436285\n",
       "59473      69           0.276       A   93.981641       0.375927  -8.327214\n",
       "59474      53           0.212       A   83.736231       0.334945 -10.245410"
      ]
     },
     "execution_count": 3,
     "metadata": {},
     "output_type": "execute_result"
    }
   ],
   "source": [
    "rr_ints = []\n",
    "for x in tqdm(rlist):\n",
    "    rr_ints.append(pd.read_csv(os.path.normpath('mit-bih-extracted/'+x+'_rr_rhythms.csv'), index_col=0))\n",
    "\n",
    "rr_ints[22].tail()"
   ]
  },
  {
   "cell_type": "code",
   "execution_count": 5,
   "metadata": {},
   "outputs": [],
   "source": [
    "def subset_subject(subjdf, interval_length = 25):\n",
    "    if (len(subjdf) % interval_length != 0):\n",
    "        slices = len(subjdf) // interval_length + 1\n",
    "    else:\n",
    "        slices = int(len(subjdf) / interval_length)\n",
    "\n",
    "    subsetdf = []\n",
    "    for x in tqdm(range(slices)):\n",
    "        subsetdf.append(subjdf.iloc[interval_length*x:interval_length*x+interval_length])\n",
    "    return subsetdf"
   ]
  },
  {
   "cell_type": "code",
   "execution_count": 16,
   "metadata": {},
   "outputs": [
    {
     "name": "stderr",
     "output_type": "stream",
     "text": [
      "100%|████████████████████████████████████| 1713/1713 [00:00<00:00, 25406.36it/s]\n"
     ]
    },
    {
     "name": "stdout",
     "output_type": "stream",
     "text": [
      "      subsetID rhythmLabel\n",
      "0  04015-0.csv           N\n",
      "1  04015-1.csv           N\n",
      "2  04015-2.csv           N\n",
      "3  04015-3.csv           N\n",
      "4  04015-4.csv           N\n"
     ]
    },
    {
     "name": "stderr",
     "output_type": "stream",
     "text": [
      "100%|████████████████████████████████████| 2448/2448 [00:00<00:00, 12061.55it/s]\n"
     ]
    },
    {
     "name": "stdout",
     "output_type": "stream",
     "text": [
      "      subsetID rhythmLabel\n",
      "0  04043-0.csv           N\n",
      "1  04043-1.csv           N\n",
      "2  04043-2.csv           N\n",
      "3  04043-3.csv           N\n",
      "4  04043-4.csv           N\n"
     ]
    },
    {
     "name": "stderr",
     "output_type": "stream",
     "text": [
      "100%|████████████████████████████████████| 1562/1562 [00:00<00:00, 19691.15it/s]\n"
     ]
    },
    {
     "name": "stdout",
     "output_type": "stream",
     "text": [
      "      subsetID rhythmLabel\n",
      "0  04048-0.csv           N\n",
      "1  04048-1.csv           N\n",
      "2  04048-2.csv           N\n",
      "3  04048-3.csv           N\n",
      "4  04048-4.csv           N\n"
     ]
    },
    {
     "name": "stderr",
     "output_type": "stream",
     "text": [
      "100%|████████████████████████████████████| 1712/1712 [00:00<00:00, 27917.24it/s]\n"
     ]
    },
    {
     "name": "stdout",
     "output_type": "stream",
     "text": [
      "      subsetID rhythmLabel\n",
      "0  04126-0.csv           N\n",
      "1  04126-1.csv           N\n",
      "2  04126-2.csv           A\n",
      "3  04126-3.csv           A\n",
      "4  04126-4.csv           A\n"
     ]
    },
    {
     "name": "stderr",
     "output_type": "stream",
     "text": [
      "100%|████████████████████████████████████| 1915/1915 [00:00<00:00, 48241.37it/s]\n"
     ]
    },
    {
     "name": "stdout",
     "output_type": "stream",
     "text": [
      "      subsetID rhythmLabel\n",
      "0  04746-0.csv           N\n",
      "1  04746-1.csv           N\n",
      "2  04746-2.csv           N\n",
      "3  04746-3.csv           N\n",
      "4  04746-4.csv           N\n"
     ]
    },
    {
     "name": "stderr",
     "output_type": "stream",
     "text": [
      "100%|████████████████████████████████████| 2442/2442 [00:00<00:00, 48340.08it/s]\n"
     ]
    },
    {
     "name": "stdout",
     "output_type": "stream",
     "text": [
      "      subsetID rhythmLabel\n",
      "0  04908-0.csv           N\n",
      "1  04908-1.csv           N\n",
      "2  04908-2.csv           N\n",
      "3  04908-3.csv           N\n",
      "4  04908-4.csv           N\n"
     ]
    },
    {
     "name": "stderr",
     "output_type": "stream",
     "text": [
      "100%|████████████████████████████████████| 2144/2144 [00:00<00:00, 35302.57it/s]\n"
     ]
    },
    {
     "name": "stdout",
     "output_type": "stream",
     "text": [
      "      subsetID rhythmLabel\n",
      "0  04936-0.csv           N\n",
      "1  04936-1.csv           N\n",
      "2  04936-2.csv           N\n",
      "3  04936-3.csv           N\n",
      "4  04936-4.csv           N\n"
     ]
    },
    {
     "name": "stderr",
     "output_type": "stream",
     "text": [
      "100%|████████████████████████████████████| 1432/1432 [00:00<00:00, 16195.66it/s]\n"
     ]
    },
    {
     "name": "stdout",
     "output_type": "stream",
     "text": [
      "      subsetID rhythmLabel\n",
      "0  05091-0.csv           N\n",
      "1  05091-1.csv           N\n",
      "2  05091-2.csv           N\n",
      "3  05091-3.csv           N\n",
      "4  05091-4.csv           N\n"
     ]
    },
    {
     "name": "stderr",
     "output_type": "stream",
     "text": [
      "100%|████████████████████████████████████| 1989/1989 [00:00<00:00, 44407.20it/s]\n"
     ]
    },
    {
     "name": "stdout",
     "output_type": "stream",
     "text": [
      "      subsetID rhythmLabel\n",
      "0  05121-0.csv           N\n",
      "1  05121-1.csv           N\n",
      "2  05121-2.csv           N\n",
      "3  05121-3.csv           N\n",
      "4  05121-4.csv           N\n"
     ]
    },
    {
     "name": "stderr",
     "output_type": "stream",
     "text": [
      "100%|████████████████████████████████████| 1808/1808 [00:00<00:00, 24046.11it/s]\n"
     ]
    },
    {
     "name": "stdout",
     "output_type": "stream",
     "text": [
      "      subsetID rhythmLabel\n",
      "0  05261-0.csv           N\n",
      "1  05261-1.csv           N\n",
      "2  05261-2.csv           N\n",
      "3  05261-3.csv           N\n",
      "4  05261-4.csv           N\n"
     ]
    },
    {
     "name": "stderr",
     "output_type": "stream",
     "text": [
      "100%|████████████████████████████████████| 2202/2202 [00:00<00:00, 45818.69it/s]\n"
     ]
    },
    {
     "name": "stdout",
     "output_type": "stream",
     "text": [
      "      subsetID rhythmLabel\n",
      "0  06426-0.csv           A\n",
      "1  06426-1.csv           A\n",
      "2  06426-2.csv           A\n",
      "3  06426-3.csv           A\n",
      "4  06426-4.csv           A\n"
     ]
    },
    {
     "name": "stderr",
     "output_type": "stream",
     "text": [
      "100%|████████████████████████████████████| 1386/1386 [00:00<00:00, 37026.24it/s]\n"
     ]
    },
    {
     "name": "stdout",
     "output_type": "stream",
     "text": [
      "      subsetID rhythmLabel\n",
      "0  06453-0.csv           N\n",
      "1  06453-1.csv           N\n",
      "2  06453-2.csv           N\n",
      "3  06453-3.csv           N\n",
      "4  06453-4.csv           N\n"
     ]
    },
    {
     "name": "stderr",
     "output_type": "stream",
     "text": [
      "100%|█████████████████████████████████████| 2207/2207 [00:00<00:00, 7896.13it/s]\n"
     ]
    },
    {
     "name": "stdout",
     "output_type": "stream",
     "text": [
      "      subsetID rhythmLabel\n",
      "0  06995-0.csv           A\n",
      "1  06995-1.csv           A\n",
      "2  06995-2.csv           A\n",
      "3  06995-3.csv           A\n",
      "4  06995-4.csv           A\n"
     ]
    },
    {
     "name": "stderr",
     "output_type": "stream",
     "text": [
      "100%|████████████████████████████████████| 1571/1571 [00:00<00:00, 27294.63it/s]\n"
     ]
    },
    {
     "name": "stdout",
     "output_type": "stream",
     "text": [
      "      subsetID rhythmLabel\n",
      "0  07162-0.csv           A\n",
      "1  07162-1.csv           A\n",
      "2  07162-2.csv           A\n",
      "3  07162-3.csv           A\n",
      "4  07162-4.csv           A\n"
     ]
    },
    {
     "name": "stderr",
     "output_type": "stream",
     "text": [
      "100%|████████████████████████████████████| 2391/2391 [00:00<00:00, 12241.01it/s]\n"
     ]
    },
    {
     "name": "stdout",
     "output_type": "stream",
     "text": [
      "      subsetID rhythmLabel\n",
      "0  07859-0.csv           A\n",
      "1  07859-1.csv           A\n",
      "2  07859-2.csv           A\n",
      "3  07859-3.csv           A\n",
      "4  07859-4.csv           A\n"
     ]
    },
    {
     "name": "stderr",
     "output_type": "stream",
     "text": [
      "100%|████████████████████████████████████| 2251/2251 [00:00<00:00, 46648.05it/s]\n"
     ]
    },
    {
     "name": "stdout",
     "output_type": "stream",
     "text": [
      "      subsetID rhythmLabel\n",
      "0  07879-0.csv           N\n",
      "1  07879-1.csv           N\n",
      "2  07879-2.csv           N\n",
      "3  07879-3.csv           N\n",
      "4  07879-4.csv           N\n"
     ]
    },
    {
     "name": "stderr",
     "output_type": "stream",
     "text": [
      "100%|█████████████████████████████████████| 1460/1460 [00:00<00:00, 7634.87it/s]\n"
     ]
    },
    {
     "name": "stdout",
     "output_type": "stream",
     "text": [
      "      subsetID rhythmLabel\n",
      "0  07910-0.csv           N\n",
      "1  07910-1.csv           N\n",
      "2  07910-2.csv           N\n",
      "3  07910-3.csv           N\n",
      "4  07910-4.csv           N\n"
     ]
    },
    {
     "name": "stderr",
     "output_type": "stream",
     "text": [
      "100%|████████████████████████████████████| 1733/1733 [00:00<00:00, 23477.58it/s]\n"
     ]
    },
    {
     "name": "stdout",
     "output_type": "stream",
     "text": [
      "      subsetID rhythmLabel\n",
      "0  08215-0.csv           N\n",
      "1  08215-1.csv           N\n",
      "2  08215-2.csv           N\n",
      "3  08215-3.csv           N\n",
      "4  08215-4.csv           N\n"
     ]
    },
    {
     "name": "stderr",
     "output_type": "stream",
     "text": [
      "100%|████████████████████████████████████| 2362/2362 [00:00<00:00, 35819.85it/s]\n"
     ]
    },
    {
     "name": "stdout",
     "output_type": "stream",
     "text": [
      "      subsetID rhythmLabel\n",
      "0  08219-0.csv           N\n",
      "1  08219-1.csv           N\n",
      "2  08219-2.csv           N\n",
      "3  08219-3.csv           N\n",
      "4  08219-4.csv           N\n"
     ]
    },
    {
     "name": "stderr",
     "output_type": "stream",
     "text": [
      "100%|████████████████████████████████████| 1820/1820 [00:00<00:00, 22173.46it/s]\n"
     ]
    },
    {
     "name": "stdout",
     "output_type": "stream",
     "text": [
      "      subsetID rhythmLabel\n",
      "0  08378-0.csv           N\n",
      "1  08378-1.csv           N\n",
      "2  08378-2.csv           N\n",
      "3  08378-3.csv           N\n",
      "4  08378-4.csv           N\n"
     ]
    },
    {
     "name": "stderr",
     "output_type": "stream",
     "text": [
      "100%|████████████████████████████████████| 2351/2351 [00:00<00:00, 11420.22it/s]\n"
     ]
    },
    {
     "name": "stdout",
     "output_type": "stream",
     "text": [
      "      subsetID rhythmLabel\n",
      "0  08405-0.csv           N\n",
      "1  08405-1.csv           N\n",
      "2  08405-2.csv           N\n",
      "3  08405-3.csv           N\n",
      "4  08405-4.csv           N\n"
     ]
    },
    {
     "name": "stderr",
     "output_type": "stream",
     "text": [
      "100%|████████████████████████████████████| 1593/1593 [00:00<00:00, 43388.22it/s]\n"
     ]
    },
    {
     "name": "stdout",
     "output_type": "stream",
     "text": [
      "      subsetID rhythmLabel\n",
      "0  08434-0.csv           N\n",
      "1  08434-1.csv           N\n",
      "2  08434-2.csv           N\n",
      "3  08434-3.csv           N\n",
      "4  08434-4.csv           N\n"
     ]
    },
    {
     "name": "stderr",
     "output_type": "stream",
     "text": [
      "100%|█████████████████████████████████████| 2379/2379 [00:00<00:00, 9505.13it/s]\n"
     ]
    },
    {
     "name": "stdout",
     "output_type": "stream",
     "text": [
      "      subsetID rhythmLabel\n",
      "0  08455-0.csv           N\n",
      "1  08455-1.csv           N\n",
      "2  08455-2.csv           N\n",
      "3  08455-3.csv           N\n",
      "4  08455-4.csv           N\n"
     ]
    }
   ],
   "source": [
    "for idx, subject in enumerate(rr_ints):\n",
    "    subsets = subset_subject(subject)\n",
    "    idx_list = list(range(len(subsets)))\n",
    "\n",
    "    data = {\n",
    "        \"subsetID\": [str(rlist[idx])+\"-\"+str(idx_list[x])+\".csv\" for x in idx_list],\n",
    "        \"rhythmLabel\": [subsets[x]['rhythms'].mode().iloc[0] for x in idx_list]\n",
    "    }\n",
    "    \n",
    "    subset_list = pd.DataFrame(data)\n",
    "    subset_list.to_csv(os.path.normpath('mit-bih-subsets/'+rlist[idx]+\"_subset_list.csv\"))\n",
    "    print(subset_list.head())\n",
    "    \n",
    "    os.makedirs('mit-bih-subsets/'+str(rlist[idx]), exist_ok=True)\n",
    "\n",
    "    for x, subset in enumerate(subsets):\n",
    "        subset.to_csv(os.path.normpath('mit-bih-subsets/'+str(rlist[idx])+'/'+str(rlist[idx])+\"-\"+str(idx_list[x])+\".csv\"))"
   ]
  }
 ],
 "metadata": {
  "kernelspec": {
   "display_name": "Python 3 (ipykernel)",
   "language": "python",
   "name": "python3"
  },
  "language_info": {
   "codemirror_mode": {
    "name": "ipython",
    "version": 3
   },
   "file_extension": ".py",
   "mimetype": "text/x-python",
   "name": "python",
   "nbconvert_exporter": "python",
   "pygments_lexer": "ipython3",
   "version": "3.9.12"
  },
  "orig_nbformat": 4
 },
 "nbformat": 4,
 "nbformat_minor": 2
}
