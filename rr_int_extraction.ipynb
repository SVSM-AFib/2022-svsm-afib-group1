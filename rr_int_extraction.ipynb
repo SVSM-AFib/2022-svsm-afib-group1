{
 "cells": [
  {
   "cell_type": "code",
   "execution_count": 1,
   "id": "9c661514",
   "metadata": {},
   "outputs": [],
   "source": [
    "import numpy as np\n",
    "from matplotlib import pyplot as plt\n",
    "from sklearn import preprocessing\n",
    "import wfdb\n",
    "import copy as cp\n",
    "import scipy.signal as signal\n",
    "from sklearn import preprocessing\n",
    "from tqdm import tqdm\n",
    "import os\n",
    "import re\n",
    "import pandas as pd\n",
    "import pickle\n",
    "import csv"
   ]
  },
  {
   "cell_type": "code",
   "execution_count": 2,
   "id": "680f15ba",
   "metadata": {},
   "outputs": [],
   "source": [
    "rlist = []\n",
    "records = 'mit-bih-dataframes/subject_list.csv' # Replace the _______ with the name of the records file in your MIT-BIH data folder\n",
    "with open(records) as rfile: #Then we open the file \n",
    "                             #The 'with' command only opens the file while we are in it. Automatically closes the file when we're not    \n",
    "    recordreader = csv.reader(rfile, delimiter=' ', quotechar='|')\n",
    "    for row in recordreader:\n",
    "        rlist.append(row[0])"
   ]
  },
  {
   "cell_type": "code",
   "execution_count": 3,
   "id": "dd098360",
   "metadata": {},
   "outputs": [
    {
     "name": "stderr",
     "output_type": "stream",
     "text": [
      "100%|███████████████████████████████████████████| 23/23 [01:19<00:00,  3.46s/it]\n"
     ]
    }
   ],
   "source": [
    "subject_dataframes = []\n",
    "for x in tqdm(rlist):\n",
    "    subject_dataframes.append(pd.read_csv('mit-bih-dataframes/'+x+'.csv', index_col=0))"
   ]
  },
  {
   "cell_type": "code",
   "execution_count": 4,
   "id": "24ce716b",
   "metadata": {},
   "outputs": [
    {
     "name": "stderr",
     "output_type": "stream",
     "text": [
      "100%|███████████████████████████████████████████| 23/23 [00:18<00:00,  1.21it/s]\n"
     ]
    }
   ],
   "source": [
    "# Now we get the indexes of the R-Peaks from our dataframes\n",
    "qrs = [] # Initialize the array that will hold our list of R-Peaks for each subject\n",
    "\n",
    "for subject in tqdm(subject_dataframes): # Load each subject\n",
    "    qrs.append([idx for idx, x in enumerate(subject['R-Peak']) if x]) # Then we use list comprehension to get our r peaks for each subject\n",
    "                                                                # Recall, the indices that the R-Peak column is true is where there is an r-peak\n",
    "                                                                # So, we iterate through and identify which indices that is for each subject"
   ]
  },
  {
   "cell_type": "code",
   "execution_count": 7,
   "id": "a63952ae",
   "metadata": {},
   "outputs": [
    {
     "name": "stderr",
     "output_type": "stream",
     "text": [
      "100%|███████████████████████████████████████████| 23/23 [00:00<00:00, 75.43it/s]\n"
     ]
    }
   ],
   "source": [
    "rr_ints = []\n",
    "\n",
    "for x in tqdm(range(len(subject_dataframes))):\n",
    "    subject_rrinterval = []\n",
    "    for y in range(1, len(qrs[x])):\n",
    "        subject_rrinterval.append(qrs[x][y]-qrs[x][y-1])\n",
    "    rr_ints.append(subject_rrinterval)"
   ]
  },
  {
   "cell_type": "code",
   "execution_count": 9,
   "id": "afa83238",
   "metadata": {},
   "outputs": [
    {
     "name": "stderr",
     "output_type": "stream",
     "text": [
      "100%|███████████████████████████████████████████| 23/23 [00:01<00:00, 14.17it/s]\n"
     ]
    }
   ],
   "source": [
    "for x in tqdm(range(len(rr_ints))):\n",
    "    np.savetxt('mit-bih-extracted/'+rlist[x]+'_rr_ints.csv', rr_ints[x], delimiter=\",\",  fmt='%s')"
   ]
  }
 ],
 "metadata": {
  "kernelspec": {
   "display_name": "Python 3 (ipykernel)",
   "language": "python",
   "name": "python3"
  },
  "language_info": {
   "codemirror_mode": {
    "name": "ipython",
    "version": 3
   },
   "file_extension": ".py",
   "mimetype": "text/x-python",
   "name": "python",
   "nbconvert_exporter": "python",
   "pygments_lexer": "ipython3",
   "version": "3.9.12"
  }
 },
 "nbformat": 4,
 "nbformat_minor": 5
}
