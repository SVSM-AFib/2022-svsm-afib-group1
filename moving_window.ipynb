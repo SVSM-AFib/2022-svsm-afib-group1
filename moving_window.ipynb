{
 "cells": [
  {
   "cell_type": "code",
   "execution_count": 107,
   "metadata": {},
   "outputs": [],
   "source": [
    "import numpy as np\n",
    "from matplotlib import pyplot as plt\n",
    "from sklearn import preprocessing\n",
    "import wfdb\n",
    "import copy as cp\n",
    "import scipy.signal as signal\n",
    "import scipy.stats as stats\n",
    "from sklearn import preprocessing\n",
    "from tqdm import tqdm\n",
    "import os\n",
    "import re\n",
    "import pandas as pd\n",
    "import pickle\n",
    "import csv\n",
    "import statistics"
   ]
  },
  {
   "cell_type": "code",
   "execution_count": 2,
   "metadata": {},
   "outputs": [],
   "source": [
    "rlist = []\n",
    "records = os.path.normpath('mit-bih-dataframes/subject_list.csv')\n",
    "with open(records) as rfile:\n",
    "    recordreader = csv.reader(rfile, delimiter=' ', quotechar='|')\n",
    "    for row in recordreader:\n",
    "        rlist.append(row[0])"
   ]
  },
  {
   "cell_type": "code",
   "execution_count": 96,
   "metadata": {},
   "outputs": [
    {
     "name": "stderr",
     "output_type": "stream",
     "text": [
      "100%|███████████████████████████████████████████| 23/23 [01:24<00:00,  3.66s/it]\n"
     ]
    }
   ],
   "source": [
    "full_dfs = {}\n",
    "for record in tqdm(rlist):\n",
    "    full_dfs[record] = pd.read_csv(os.path.normpath('mit-bih-dataframes/'+record+'.csv'), index_col=[0])"
   ]
  },
  {
   "cell_type": "code",
   "execution_count": 3,
   "metadata": {},
   "outputs": [
    {
     "name": "stderr",
     "output_type": "stream",
     "text": [
      "100%|███████████████████████████████████████████| 23/23 [00:01<00:00, 12.35it/s]\n"
     ]
    }
   ],
   "source": [
    "subject_dfs = {}\n",
    "for record in tqdm(rlist):\n",
    "    subject_dfs[record] = pd.read_csv(os.path.normpath('mit-bih-extracted/'+record+'_full.csv'), index_col=[0,1])"
   ]
  },
  {
   "cell_type": "code",
   "execution_count": 4,
   "metadata": {},
   "outputs": [
    {
     "data": {
      "text/html": [
       "<div>\n",
       "<style scoped>\n",
       "    .dataframe tbody tr th:only-of-type {\n",
       "        vertical-align: middle;\n",
       "    }\n",
       "\n",
       "    .dataframe tbody tr th {\n",
       "        vertical-align: top;\n",
       "    }\n",
       "\n",
       "    .dataframe thead th {\n",
       "        text-align: right;\n",
       "    }\n",
       "</style>\n",
       "<table border=\"1\" class=\"dataframe\">\n",
       "  <thead>\n",
       "    <tr style=\"text-align: right;\">\n",
       "      <th></th>\n",
       "      <th></th>\n",
       "      <th>rr_int</th>\n",
       "      <th>rr_int_seconds</th>\n",
       "      <th>rhythmLabel</th>\n",
       "      <th>rmean</th>\n",
       "      <th>rmean_seconds</th>\n",
       "      <th>drmean</th>\n",
       "      <th>rr_variance</th>\n",
       "    </tr>\n",
       "    <tr>\n",
       "      <th></th>\n",
       "      <th>timestamp</th>\n",
       "      <th></th>\n",
       "      <th></th>\n",
       "      <th></th>\n",
       "      <th></th>\n",
       "      <th></th>\n",
       "      <th></th>\n",
       "      <th></th>\n",
       "    </tr>\n",
       "  </thead>\n",
       "  <tbody>\n",
       "    <tr>\n",
       "      <th>0</th>\n",
       "      <th>0.000</th>\n",
       "      <td>139</td>\n",
       "      <td>0.556</td>\n",
       "      <td>N</td>\n",
       "      <td>139.000000</td>\n",
       "      <td>0.556000</td>\n",
       "      <td>0.000000</td>\n",
       "      <td>0.000000</td>\n",
       "    </tr>\n",
       "    <tr>\n",
       "      <th>1</th>\n",
       "      <th>0.632</th>\n",
       "      <td>158</td>\n",
       "      <td>0.632</td>\n",
       "      <td>N</td>\n",
       "      <td>143.750000</td>\n",
       "      <td>0.575000</td>\n",
       "      <td>4.750000</td>\n",
       "      <td>0.132174</td>\n",
       "    </tr>\n",
       "    <tr>\n",
       "      <th>2</th>\n",
       "      <th>1.536</th>\n",
       "      <td>226</td>\n",
       "      <td>0.904</td>\n",
       "      <td>N</td>\n",
       "      <td>164.312500</td>\n",
       "      <td>0.657250</td>\n",
       "      <td>20.562500</td>\n",
       "      <td>0.413846</td>\n",
       "    </tr>\n",
       "    <tr>\n",
       "      <th>3</th>\n",
       "      <th>2.116</th>\n",
       "      <td>145</td>\n",
       "      <td>0.580</td>\n",
       "      <td>N</td>\n",
       "      <td>159.484375</td>\n",
       "      <td>0.637938</td>\n",
       "      <td>-4.828125</td>\n",
       "      <td>0.507887</td>\n",
       "    </tr>\n",
       "    <tr>\n",
       "      <th>4</th>\n",
       "      <th>2.692</th>\n",
       "      <td>144</td>\n",
       "      <td>0.576</td>\n",
       "      <td>N</td>\n",
       "      <td>155.613281</td>\n",
       "      <td>0.622453</td>\n",
       "      <td>-3.871094</td>\n",
       "      <td>0.006426</td>\n",
       "    </tr>\n",
       "  </tbody>\n",
       "</table>\n",
       "</div>"
      ],
      "text/plain": [
       "             rr_int  rr_int_seconds rhythmLabel       rmean  rmean_seconds  \\\n",
       "  timestamp                                                                  \n",
       "0 0.000         139           0.556           N  139.000000       0.556000   \n",
       "1 0.632         158           0.632           N  143.750000       0.575000   \n",
       "2 1.536         226           0.904           N  164.312500       0.657250   \n",
       "3 2.116         145           0.580           N  159.484375       0.637938   \n",
       "4 2.692         144           0.576           N  155.613281       0.622453   \n",
       "\n",
       "                drmean  rr_variance  \n",
       "  timestamp                          \n",
       "0 0.000       0.000000     0.000000  \n",
       "1 0.632       4.750000     0.132174  \n",
       "2 1.536      20.562500     0.413846  \n",
       "3 2.116      -4.828125     0.507887  \n",
       "4 2.692      -3.871094     0.006426  "
      ]
     },
     "execution_count": 4,
     "metadata": {},
     "output_type": "execute_result"
    }
   ],
   "source": [
    "subject_dfs['04015'].iloc[:100].head()"
   ]
  },
  {
   "cell_type": "code",
   "execution_count": 179,
   "metadata": {},
   "outputs": [],
   "source": [
    "def classify_rr_ints(df):\n",
    "    #list of types of rr_ints for each subject\n",
    "    subject_types = []\n",
    "    for row in df.itertuples():\n",
    "        if row.rrInt < 0.85*row.rmean: \n",
    "            #if rr_ints is less than 85% of runningmean\n",
    "            #label subject type as short\n",
    "            subject_types.append('short')\n",
    "        elif row.rrInt > 1.15*row.rmean: \n",
    "            #if rr_ints is greater than 115% of runningmean\n",
    "            #label subject type as long\n",
    "            subject_types.append('long')\n",
    "        else:\n",
    "            #label subject type as regular\n",
    "            subject_types.append('regular')\n",
    "    \n",
    "    return subject_types"
   ]
  },
  {
   "cell_type": "code",
   "execution_count": 6,
   "metadata": {},
   "outputs": [
    {
     "name": "stdout",
     "output_type": "stream",
     "text": [
      "['regular', 'regular', 'long', 'regular', 'regular', 'long', 'regular', 'regular', 'long', 'regular', 'regular', 'regular', 'regular', 'regular', 'short', 'short', 'short', 'short', 'short', 'long', 'long', 'short', 'regular', 'long', 'short', 'regular', 'long', 'long', 'regular', 'regular', 'regular', 'regular', 'short', 'short', 'short', 'short', 'short', 'regular', 'regular', 'regular', 'regular', 'regular', 'regular', 'long', 'long', 'regular', 'short', 'long', 'short', 'long', 'regular', 'regular', 'long', 'regular', 'regular', 'long', 'short', 'regular', 'long', 'long', 'regular', 'regular', 'regular', 'regular', 'regular', 'regular', 'regular', 'regular', 'regular', 'regular', 'regular', 'regular', 'regular', 'regular', 'regular', 'regular', 'regular', 'short', 'short', 'short', 'short', 'regular', 'regular', 'regular', 'long', 'regular', 'regular', 'long', 'short', 'regular', 'long', 'short', 'short', 'long', 'short', 'short', 'short', 'long', 'long', 'short']\n"
     ]
    }
   ],
   "source": [
    "interval_types = classify_rr_ints(subject_dfs['04015'].iloc[:100])\n",
    "print(interval_types)"
   ]
  },
  {
   "cell_type": "code",
   "execution_count": 228,
   "metadata": {},
   "outputs": [],
   "source": [
    "def find_proportions(int_types):\n",
    "    StoS = 0\n",
    "    StoR = 0\n",
    "    StoL = 0\n",
    "    RtoS = 0\n",
    "    RtoR = 0\n",
    "    RtoL = 0\n",
    "    LtoS = 0\n",
    "    LtoR = 0\n",
    "    LtoL = 0\n",
    "    for idx in range(len(int_types)):\n",
    "        if idx<len(int_types)-1:\n",
    "            if int_types[idx]=='short' and int_types[idx+1]=='short':\n",
    "                StoS+=1\n",
    "            elif int_types[idx]=='short' and int_types[idx+1]=='regular':\n",
    "                StoR+=1\n",
    "            elif int_types[idx]=='short' and int_types[idx+1]=='long':\n",
    "                StoL+=1\n",
    "            elif int_types[idx]=='regular' and int_types[idx+1]=='short':\n",
    "                RtoS+=1\n",
    "            elif int_types[idx]=='regular' and int_types[idx+1]=='regular':\n",
    "                RtoR+=1\n",
    "            elif int_types[idx]=='regular' and int_types[idx+1]=='long':\n",
    "                RtoL+=1\n",
    "            elif int_types[idx]=='long' and int_types[idx+1]=='short':\n",
    "                LtoS+=1\n",
    "            elif int_types[idx]=='long' and int_types[idx+1]=='regular':\n",
    "                LtoR+=1\n",
    "            elif int_types[idx]=='long' and int_types[idx+1]=='long':\n",
    "                LtoL+=1\n",
    "    \n",
    "    count = len(int_types)-1\n",
    "    subject_transitions = [StoS/count, StoR/count, StoL/count, RtoS/count, RtoR/count, RtoL/count, LtoS/count, LtoR/count, LtoL/count]\n",
    "    \n",
    "    return subject_transitions"
   ]
  },
  {
   "cell_type": "code",
   "execution_count": 67,
   "metadata": {},
   "outputs": [
    {
     "name": "stderr",
     "output_type": "stream",
     "text": [
      "100%|███████████████████████████████████████████| 23/23 [00:00<00:00, 63.56it/s]\n"
     ]
    }
   ],
   "source": [
    "rpeak_dfs = {}\n",
    "for record in tqdm(rlist):\n",
    "    rpeak_dfs[record] = pd.read_csv(os.path.normpath('mit-bih-extracted/'+record+'_rpeaks.csv'), names=['rpeak'])"
   ]
  },
  {
   "cell_type": "code",
   "execution_count": 68,
   "metadata": {},
   "outputs": [
    {
     "data": {
      "text/html": [
       "<div>\n",
       "<style scoped>\n",
       "    .dataframe tbody tr th:only-of-type {\n",
       "        vertical-align: middle;\n",
       "    }\n",
       "\n",
       "    .dataframe tbody tr th {\n",
       "        vertical-align: top;\n",
       "    }\n",
       "\n",
       "    .dataframe thead th {\n",
       "        text-align: right;\n",
       "    }\n",
       "</style>\n",
       "<table border=\"1\" class=\"dataframe\">\n",
       "  <thead>\n",
       "    <tr style=\"text-align: right;\">\n",
       "      <th></th>\n",
       "      <th>rpeak</th>\n",
       "    </tr>\n",
       "  </thead>\n",
       "  <tbody>\n",
       "    <tr>\n",
       "      <th>0</th>\n",
       "      <td>61.0</td>\n",
       "    </tr>\n",
       "    <tr>\n",
       "      <th>1</th>\n",
       "      <td>200.0</td>\n",
       "    </tr>\n",
       "    <tr>\n",
       "      <th>2</th>\n",
       "      <td>358.0</td>\n",
       "    </tr>\n",
       "    <tr>\n",
       "      <th>3</th>\n",
       "      <td>584.0</td>\n",
       "    </tr>\n",
       "    <tr>\n",
       "      <th>4</th>\n",
       "      <td>729.0</td>\n",
       "    </tr>\n",
       "    <tr>\n",
       "      <th>...</th>\n",
       "      <td>...</td>\n",
       "    </tr>\n",
       "    <tr>\n",
       "      <th>44000</th>\n",
       "      <td>8999121.0</td>\n",
       "    </tr>\n",
       "    <tr>\n",
       "      <th>44001</th>\n",
       "      <td>8999327.0</td>\n",
       "    </tr>\n",
       "    <tr>\n",
       "      <th>44002</th>\n",
       "      <td>8999531.0</td>\n",
       "    </tr>\n",
       "    <tr>\n",
       "      <th>44003</th>\n",
       "      <td>8999734.0</td>\n",
       "    </tr>\n",
       "    <tr>\n",
       "      <th>44004</th>\n",
       "      <td>8999941.0</td>\n",
       "    </tr>\n",
       "  </tbody>\n",
       "</table>\n",
       "<p>44005 rows × 1 columns</p>\n",
       "</div>"
      ],
      "text/plain": [
       "           rpeak\n",
       "0           61.0\n",
       "1          200.0\n",
       "2          358.0\n",
       "3          584.0\n",
       "4          729.0\n",
       "...          ...\n",
       "44000  8999121.0\n",
       "44001  8999327.0\n",
       "44002  8999531.0\n",
       "44003  8999734.0\n",
       "44004  8999941.0\n",
       "\n",
       "[44005 rows x 1 columns]"
      ]
     },
     "execution_count": 68,
     "metadata": {},
     "output_type": "execute_result"
    }
   ],
   "source": [
    "rpeak_dfs['04015']"
   ]
  },
  {
   "cell_type": "code",
   "execution_count": 188,
   "metadata": {},
   "outputs": [],
   "source": [
    "def extract_rmean(rrInts):\n",
    "    rmeans = []\n",
    "    for index, value in enumerate(rrInts):\n",
    "        if index==0:\n",
    "            rmeans.append(value)\n",
    "        else:\n",
    "            rmeans.append(0.75*rmeans[index-1] + 0.25*value)\n",
    "    \n",
    "    return rmeans"
   ]
  },
  {
   "cell_type": "code",
   "execution_count": 220,
   "metadata": {},
   "outputs": [],
   "source": [
    "def extract_rmssd(subset):\n",
    "    rrInts = subset['rrInt'].tolist()\n",
    "    sum_of_squares = 0\n",
    "    for idx, rrInt in enumerate(rrInts):\n",
    "        if idx<len(rrInts)-1:\n",
    "            square_difference = (rrInt-rrInts[idx-1])**2\n",
    "            sum_of_squares+=square_difference\n",
    "    mean_sum = sum_of_squares/(len(rrInts)-1)\n",
    "    return np.sqrt(mean_sum)"
   ]
  },
  {
   "cell_type": "code",
   "execution_count": 262,
   "metadata": {},
   "outputs": [],
   "source": [
    "def subset_subject(full_df, rpeak_df, interval_length = 10):\n",
    "    rpeaks = rpeak_df['rpeak'].tolist()\n",
    "    cutoff = interval_length*250\n",
    "\n",
    "    current_subset = []\n",
    "    subsets = []\n",
    "    beginning_idx = 0\n",
    "    outlier_comp = 0\n",
    "    prev_peak = rpeaks[beginning_idx]\n",
    "    for idx, peak in enumerate(rpeaks):\n",
    "        if idx<len(rpeaks)-1:\n",
    "            if peak<=cutoff+rpeaks[beginning_idx]+outlier_comp:\n",
    "                if peak-prev_peak>500:\n",
    "                    outlier_comp+=(peak-prev_peak)\n",
    "                    prev_peak = peak\n",
    "                else:\n",
    "                    current_subset.append(peak)\n",
    "                    prev_peak = peak\n",
    "            else:\n",
    "                rr_int_column = [current_subset[x]-current_subset[x-1] for x in range(1, len(current_subset))]\n",
    "                rhythm_column = []\n",
    "                for x in range(1, len(current_subset)):\n",
    "                    if full_df['Normal'][current_subset[x]]:\n",
    "                        rhythm_column.append('N')\n",
    "                    elif full_df['AFIB'][current_subset[x]]:\n",
    "                        rhythm_column.append('A')\n",
    "                    elif full_df['Other'][current_subset[x]]:\n",
    "                        rhythm_column.append('O')\n",
    "                \n",
    "                rmean_column = extract_rmean(rr_int_column)\n",
    "\n",
    "                subsets.append(pd.DataFrame({'rhythmLabel': rhythm_column, 'rrInt': rr_int_column, 'rmean': rmean_column}, columns=['rhythmLabel', 'rrInt', 'rmean']))\n",
    "                beginning_idx = idx\n",
    "                current_subset = []\n",
    "                outlier_comp = 0\n",
    "                prev_peak = rpeaks[idx+1]\n",
    "\n",
    "    return subsets"
   ]
  },
  {
   "cell_type": "code",
   "execution_count": 263,
   "metadata": {},
   "outputs": [
    {
     "name": "stderr",
     "output_type": "stream",
     "text": [
      "100%|███████████████████████████████████████████| 23/23 [01:18<00:00,  3.41s/it]\n"
     ]
    }
   ],
   "source": [
    "subset_dfs = {}\n",
    "for record in tqdm(rlist):\n",
    "    subset_dfs[record] = subset_subject(full_dfs[record], rpeak_dfs[record])"
   ]
  },
  {
   "cell_type": "code",
   "execution_count": 264,
   "metadata": {},
   "outputs": [
    {
     "name": "stderr",
     "output_type": "stream",
     "text": [
      "100%|███████████████████████████████████████████| 23/23 [01:34<00:00,  4.10s/it]\n"
     ]
    }
   ],
   "source": [
    "for record in tqdm(rlist):\n",
    "    subsets = subset_dfs[record]\n",
    "    idx_list = list(range(len(subsets)))\n",
    "    \n",
    "    data = {\n",
    "        \"subjectID\": [record]*len(subsets),\n",
    "        \"subsetID\": idx_list,\n",
    "        \"rhythmLabel\": [subsets[x]['rhythmLabel'].mode()[0] for x in idx_list]\n",
    "    }\n",
    "    \n",
    "    subset_list = pd.DataFrame(data)\n",
    "    subset_list.to_csv(os.path.normpath('mit-bih-subsets/'+record+\"_subset_list.csv\"))\n",
    "    \n",
    "    os.makedirs('mit-bih-subsets/'+str(record), exist_ok=True)\n",
    "\n",
    "    for x, subset in enumerate(subsets):\n",
    "        subset.to_csv(os.path.normpath('mit-bih-subsets/'+str(record)+'/'+str(record)+\"-\"+str(idx_list[x])+\".csv\"))"
   ]
  },
  {
   "cell_type": "code",
   "execution_count": 8,
   "metadata": {},
   "outputs": [],
   "source": [
    "def find_rrv(df):\n",
    "    rrvs = [0]\n",
    "    prev_rr_int = 0\n",
    "    for idx, row in enumerate(df.itertuples()):\n",
    "        if idx==0:\n",
    "            prev_rr_int = row.rr_int\n",
    "        else:\n",
    "            rrvs.append(np.abs(row.rr_int-prev_rr_int)/row.rmean)\n",
    "    return rrvs"
   ]
  },
  {
   "cell_type": "code",
   "execution_count": 224,
   "metadata": {},
   "outputs": [],
   "source": [
    "def subset_features(subset_list):\n",
    "    subset_dfs = {}\n",
    "    for x, subset in enumerate(subset_list.itertuples()):\n",
    "        subset_dfs[x] = pd.read_csv(os.path.normpath('mit-bih-subsets/'+str(subset.subjectID)+'/'+str(subset.subjectID)+\"-\"+str(x)+\".csv\"), index_col=0)\n",
    "\n",
    "    feature_df = pd.DataFrame()\n",
    "\n",
    "    props = [find_proportions(classify_rr_ints(subset_dfs[key])) for key in subset_dfs]\n",
    "    feature_df['StoS'] = [x[0] for x in props]\n",
    "    feature_df['StoR'] = [x[1] for x in props]\n",
    "    feature_df['StoL'] = [x[2] for x in props]\n",
    "    feature_df['RtoS'] = [x[3] for x in props]\n",
    "    feature_df['RtoR'] = [x[4] for x in props]\n",
    "    feature_df['RtoL'] = [x[5] for x in props]\n",
    "    feature_df['LtoS'] = [x[6] for x in props]\n",
    "    feature_df['LtoR'] = [x[7] for x in props]\n",
    "    feature_df['LtoL'] = [x[8] for x in props]\n",
    "\n",
    "    feature_df['std'] = [np.std(subset_dfs[key]['rrInt']) for key in subset_dfs]\n",
    "    feature_df['cov'] = feature_df['std']/[np.mean(subset_dfs[key]['rrInt']) for key in subset_dfs]\n",
    "    feature_df['range'] = [np.max(subset_dfs[key]['rrInt'])-np.min(subset_dfs[key]['rrInt']) for key in subset_dfs]\n",
    "    #feature_df['rmean'] = df['rmean'].tolist()\n",
    "    #feature_df['rrv'] = df['rr_variance'].tolist()\n",
    "    feature_df['rrInt_var'] = [subset_dfs[key]['rrInt'].var() for key in subset_dfs]\n",
    "    feature_df['rmean_var'] = [subset_dfs[key]['rmean'].var() for key in subset_dfs]\n",
    "    feature_df['rmssd'] = [extract_rmssd(subset_dfs[key]) for key in subset_dfs]\n",
    "    feature_df['mad'] = [stats.median_abs_deviation(subset_dfs[key]['rrInt']) for key in subset_dfs]\n",
    "    feature_df['iqr'] = [stats.iqr(subset_dfs[key]['rrInt']) for key in subset_dfs]\n",
    "\n",
    "    return pd.concat([subset_list, feature_df], axis=1)"
   ]
  },
  {
   "cell_type": "code",
   "execution_count": 265,
   "metadata": {},
   "outputs": [
    {
     "name": "stderr",
     "output_type": "stream",
     "text": [
      "100%|███████████████████████████████████████████| 23/23 [03:27<00:00,  9.01s/it]\n"
     ]
    }
   ],
   "source": [
    "features_df = {}\n",
    "for record in tqdm(rlist):\n",
    "    subset_list = pd.read_csv('mit-bih-subsets/'+record+'_subset_list.csv', index_col=0, dtype={'subjectID': str})\n",
    "    features = subset_features(subset_list)\n",
    "\n",
    "    features.to_csv(os.path.normpath('mit-bih-features/'+record+\".csv\"))"
   ]
  }
 ],
 "metadata": {
  "kernelspec": {
   "display_name": "Python 3 (ipykernel)",
   "language": "python",
   "name": "python3"
  },
  "orig_nbformat": 4
 },
 "nbformat": 4,
 "nbformat_minor": 2
}
