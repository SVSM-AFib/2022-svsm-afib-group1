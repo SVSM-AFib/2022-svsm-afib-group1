{
 "cells": [
  {
   "cell_type": "code",
   "execution_count": 1,
   "metadata": {},
   "outputs": [],
   "source": [
    "import numpy as np\n",
    "from matplotlib import pyplot as plt\n",
    "from matplotlib import patches as mpatches\n",
    "from sklearn import preprocessing\n",
    "import wfdb\n",
    "import copy as cp\n",
    "import scipy.signal as signal\n",
    "from scipy import stats\n",
    "from sklearn import preprocessing\n",
    "from tqdm import tqdm\n",
    "import os\n",
    "import re\n",
    "import pandas as pd\n",
    "import pickle\n",
    "import csv"
   ]
  },
  {
   "cell_type": "code",
   "execution_count": 2,
   "metadata": {},
   "outputs": [],
   "source": [
    "rlist = []\n",
    "records = os.path.normpath('mit-bih-dataframes/subject_list.csv') # Replace the _______ with the name of the records file in your MIT-BIH data folder\n",
    "with open(records) as rfile: #Then we open the file \n",
    "                             #The 'with' command only opens the file while we are in it. Automatically closes the file when we're not    \n",
    "    recordreader = csv.reader(rfile, delimiter=' ', quotechar='|')\n",
    "    for row in recordreader:\n",
    "        rlist.append(row[0])"
   ]
  },
  {
   "cell_type": "code",
   "execution_count": 37,
   "metadata": {},
   "outputs": [
    {
     "name": "stderr",
     "output_type": "stream",
     "text": [
      "100%|███████████████████████████████████████████| 23/23 [00:01<00:00, 14.53it/s]\n"
     ]
    }
   ],
   "source": [
    "subject_dfs = {}\n",
    "for record in tqdm(rlist):\n",
    "    subject_dfs[record] = pd.read_csv(os.path.normpath('mit-bih-extracted/'+record+'_full.csv'), index_col=0)"
   ]
  },
  {
   "cell_type": "code",
   "execution_count": 5,
   "metadata": {},
   "outputs": [
    {
     "name": "stderr",
     "output_type": "stream",
     "text": [
      "100%|██████████████████████████████████████████| 23/23 [00:00<00:00, 173.92it/s]\n"
     ]
    },
    {
     "data": {
      "text/html": [
       "<div>\n",
       "<style scoped>\n",
       "    .dataframe tbody tr th:only-of-type {\n",
       "        vertical-align: middle;\n",
       "    }\n",
       "\n",
       "    .dataframe tbody tr th {\n",
       "        vertical-align: top;\n",
       "    }\n",
       "\n",
       "    .dataframe thead th {\n",
       "        text-align: right;\n",
       "    }\n",
       "</style>\n",
       "<table border=\"1\" class=\"dataframe\">\n",
       "  <thead>\n",
       "    <tr style=\"text-align: right;\">\n",
       "      <th></th>\n",
       "      <th>rr_int</th>\n",
       "      <th>rr_int_seconds</th>\n",
       "      <th>rhythms</th>\n",
       "      <th>rmean</th>\n",
       "      <th>rmean_seconds</th>\n",
       "      <th>drmean</th>\n",
       "    </tr>\n",
       "  </thead>\n",
       "  <tbody>\n",
       "    <tr>\n",
       "      <th>59470</th>\n",
       "      <td>173</td>\n",
       "      <td>0.692</td>\n",
       "      <td>A</td>\n",
       "      <td>99.326854</td>\n",
       "      <td>0.397307</td>\n",
       "      <td>24.557715</td>\n",
       "    </tr>\n",
       "    <tr>\n",
       "      <th>59471</th>\n",
       "      <td>157</td>\n",
       "      <td>0.628</td>\n",
       "      <td>A</td>\n",
       "      <td>113.745140</td>\n",
       "      <td>0.454981</td>\n",
       "      <td>14.418287</td>\n",
       "    </tr>\n",
       "    <tr>\n",
       "      <th>59472</th>\n",
       "      <td>68</td>\n",
       "      <td>0.272</td>\n",
       "      <td>A</td>\n",
       "      <td>102.308855</td>\n",
       "      <td>0.409235</td>\n",
       "      <td>-11.436285</td>\n",
       "    </tr>\n",
       "    <tr>\n",
       "      <th>59473</th>\n",
       "      <td>69</td>\n",
       "      <td>0.276</td>\n",
       "      <td>A</td>\n",
       "      <td>93.981641</td>\n",
       "      <td>0.375927</td>\n",
       "      <td>-8.327214</td>\n",
       "    </tr>\n",
       "    <tr>\n",
       "      <th>59474</th>\n",
       "      <td>53</td>\n",
       "      <td>0.212</td>\n",
       "      <td>A</td>\n",
       "      <td>83.736231</td>\n",
       "      <td>0.334945</td>\n",
       "      <td>-10.245410</td>\n",
       "    </tr>\n",
       "  </tbody>\n",
       "</table>\n",
       "</div>"
      ],
      "text/plain": [
       "       rr_int  rr_int_seconds rhythms       rmean  rmean_seconds     drmean\n",
       "59470     173           0.692       A   99.326854       0.397307  24.557715\n",
       "59471     157           0.628       A  113.745140       0.454981  14.418287\n",
       "59472      68           0.272       A  102.308855       0.409235 -11.436285\n",
       "59473      69           0.276       A   93.981641       0.375927  -8.327214\n",
       "59474      53           0.212       A   83.736231       0.334945 -10.245410"
      ]
     },
     "execution_count": 5,
     "metadata": {},
     "output_type": "execute_result"
    }
   ],
   "source": [
    "rr_ints = []\n",
    "\n",
    "for subject in tqdm(subject_rr_rhythms):\n",
    "    #subject_rr_ints = []\n",
    "    #with open('mit-bih-extracted/'+x+'_rr_ints.csv') as rfile:\n",
    "    #    recordreader = csv.reader(rfile, delimiter=' ', quotechar='|')\n",
    "    #    for row in recordreader:\n",
    "    #        subject_rr_ints.append(int(row[0])/250) #importing each row divided by 250 because they were measured at 250 samples per second (converting it to seconds)\n",
    "    #rr_ints.append(subject_rr_ints)\n",
    "    rr_ints.append(subject[(np.abs(stats.zscore(subject['rr_int'])) < 4)].reset_index(drop=True))\n",
    "\n",
    "rr_ints[22].tail()"
   ]
  },
  {
   "cell_type": "code",
   "execution_count": 49,
   "metadata": {},
   "outputs": [],
   "source": [
    "def plot_histogram(selection, nrows, ncols):\n",
    "    plt.figure(figsize=(10, 10), constrained_layout=True)\n",
    "\n",
    "    for idx, x in tqdm(enumerate(selection)):\n",
    "        ax = plt.subplot(nrows, ncols, idx + 1)\n",
    "        ax.set_title('Subject '+str(x), fontsize=28)\n",
    "        ax.set_xlabel('RR-Interval length (seconds)', fontsize=24)\n",
    "        ax.set_ylabel('Frequency', fontsize=24)\n",
    "        ax.tick_params(labelsize=22)\n",
    "\n",
    "        df = subject_dfs[x]\n",
    "\n",
    "        normal_data = df.loc[df['rhythmLabel']=='N']['rr_int_seconds']\n",
    "        afib_data = df.loc[df['rhythmLabel']=='A']['rr_int_seconds']\n",
    "        other_data = df.loc[df['rhythmLabel']=='O']['rr_int_seconds']\n",
    "        ax.hist([normal_data, afib_data, other_data], stacked=True, color=['darkcyan', 'orange', 'salmon'])\n",
    "\n",
    "    plt.suptitle('RR-Intervals classified by time', fontsize=36)#, y=0.98)\n",
    "\n",
    "    normal_patch = mpatches.Patch(color='darkcyan', label='Normal')\n",
    "    afib_patch = mpatches.Patch(color='orange', label='Afib')\n",
    "    other_patch = mpatches.Patch(color='salmon', label='Other')\n",
    "    plt.figlegend([normal_patch, afib_patch, other_patch], \n",
    "                ['Normal', 'Afib', 'Other'],\n",
    "                fontsize=28, \n",
    "                loc='upper right', \n",
    "                bbox_to_anchor=(1, 0.91),\n",
    "                shadow = True)"
   ]
  },
  {
   "cell_type": "code",
   "execution_count": 50,
   "metadata": {},
   "outputs": [
    {
     "name": "stderr",
     "output_type": "stream",
     "text": [
      "1it [00:00, 16.30it/s]\n"
     ]
    },
    {
     "data": {
      "image/png": "[encoded data removed]",
      "text/plain": [
       "<Figure size 720x720 with 1 Axes>"
      ]
     },
     "metadata": {
      "needs_background": "light"
     },
     "output_type": "display_data"
    }
   ],
   "source": [
    "plot_histogram(['04936'], 1, 1)"
   ]
  }
 ],
 "metadata": {
  "kernelspec": {
   "display_name": "Python 3 (ipykernel)",
   "language": "python",
   "name": "python3"
  },
  "language_info": {
   "codemirror_mode": {
    "name": "ipython",
    "version": 3
   },
   "file_extension": ".py",
   "mimetype": "text/x-python",
   "name": "python",
   "nbconvert_exporter": "python",
   "pygments_lexer": "ipython3",
   "version": "3.9.12"
  },
  "orig_nbformat": 4,
  "vscode": {
   "interpreter": {
    "hash": "aee8b7b246df8f9039afb4144a1f6fd8d2ca17a180786b69acc140d282b71a49"
   }
  }
 },
 "nbformat": 4,
 "nbformat_minor": 2
}
